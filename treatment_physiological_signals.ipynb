{
  "nbformat": 4,
  "nbformat_minor": 0,
  "metadata": {
    "colab": {
      "provenance": [],
      "toc_visible": true,
      "authorship_tag": "ABX9TyP3hNTaP80RZOLUKYzPr8G3",
      "include_colab_link": true
    },
    "kernelspec": {
      "name": "python3",
      "display_name": "Python 3"
    },
    "language_info": {
      "name": "python"
    }
  },
  "cells": [
    {
      "cell_type": "markdown",
      "metadata": {
        "id": "view-in-github",
        "colab_type": "text"
      },
      "source": [
        "<a href=\"https://colab.research.google.com/github/grenetercordovesdelgado/Ejercicios/blob/main/treatment_physiological_signals.ipynb\" target=\"_parent\"><img src=\"https://colab.research.google.com/assets/colab-badge.svg\" alt=\"Open In Colab\"/></a>"
      ]
    },
    {
      "cell_type": "markdown",
      "source": [
        "# **Tratamiento de Señales Fisiológicas** \n",
        "[*Greneter Cordoves Delgado*](mailto:greneter@cicese.edu.com)"
      ],
      "metadata": {
        "id": "J-dGT21wNtjB"
      }
    }
  ]
}