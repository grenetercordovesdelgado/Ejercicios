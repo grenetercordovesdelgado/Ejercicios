{
  "nbformat": 4,
  "nbformat_minor": 0,
  "metadata": {
    "colab": {
      "provenance": [],
      "collapsed_sections": [
        "FyT0tHjbtScD"
      ],
      "toc_visible": true,
      "authorship_tag": "ABX9TyM0Adp+Gg2qD+alq6h2+FcU",
      "include_colab_link": true
    },
    "kernelspec": {
      "name": "python3",
      "display_name": "Python 3"
    },
    "language_info": {
      "name": "python"
    },
    "widgets": {
      "application/vnd.jupyter.widget-state+json": {
        "4473369d07d84e8c98b48813a886b2e1": {
          "model_module": "@jupyter-widgets/controls",
          "model_name": "HBoxModel",
          "model_module_version": "1.5.0",
          "state": {
            "_dom_classes": [],
            "_model_module": "@jupyter-widgets/controls",
            "_model_module_version": "1.5.0",
            "_model_name": "HBoxModel",
            "_view_count": null,
            "_view_module": "@jupyter-widgets/controls",
            "_view_module_version": "1.5.0",
            "_view_name": "HBoxView",
            "box_style": "",
            "children": [
              "IPY_MODEL_dab15ea878444337a8d438c65fb58419",
              "IPY_MODEL_85b02b09458a442bb9327cb7b1505d8a",
              "IPY_MODEL_db2c13edcab849eda0cac2a7a6955a28"
            ],
            "layout": "IPY_MODEL_e219e2f53358415aa39e3b052b09533f"
          }
        },
        "dab15ea878444337a8d438c65fb58419": {
          "model_module": "@jupyter-widgets/controls",
          "model_name": "HTMLModel",
          "model_module_version": "1.5.0",
          "state": {
            "_dom_classes": [],
            "_model_module": "@jupyter-widgets/controls",
            "_model_module_version": "1.5.0",
            "_model_name": "HTMLModel",
            "_view_count": null,
            "_view_module": "@jupyter-widgets/controls",
            "_view_module_version": "1.5.0",
            "_view_name": "HTMLView",
            "description": "",
            "description_tooltip": null,
            "layout": "IPY_MODEL_bca3f47f6bb34204a1bbf41ba560463f",
            "placeholder": "​",
            "style": "IPY_MODEL_06c4ad2cf9f64ad9bd9db757997acb88",
            "value": "100%"
          }
        },
        "85b02b09458a442bb9327cb7b1505d8a": {
          "model_module": "@jupyter-widgets/controls",
          "model_name": "FloatProgressModel",
          "model_module_version": "1.5.0",
          "state": {
            "_dom_classes": [],
            "_model_module": "@jupyter-widgets/controls",
            "_model_module_version": "1.5.0",
            "_model_name": "FloatProgressModel",
            "_view_count": null,
            "_view_module": "@jupyter-widgets/controls",
            "_view_module_version": "1.5.0",
            "_view_name": "ProgressView",
            "bar_style": "success",
            "description": "",
            "description_tooltip": null,
            "layout": "IPY_MODEL_9b9a6a09d76249a99905407f6c6c9901",
            "max": 41,
            "min": 0,
            "orientation": "horizontal",
            "style": "IPY_MODEL_96e0d028bc5041aaaac15e72f291e730",
            "value": 41
          }
        },
        "db2c13edcab849eda0cac2a7a6955a28": {
          "model_module": "@jupyter-widgets/controls",
          "model_name": "HTMLModel",
          "model_module_version": "1.5.0",
          "state": {
            "_dom_classes": [],
            "_model_module": "@jupyter-widgets/controls",
            "_model_module_version": "1.5.0",
            "_model_name": "HTMLModel",
            "_view_count": null,
            "_view_module": "@jupyter-widgets/controls",
            "_view_module_version": "1.5.0",
            "_view_name": "HTMLView",
            "description": "",
            "description_tooltip": null,
            "layout": "IPY_MODEL_1100b21a4c084d538bad7f81a326110e",
            "placeholder": "​",
            "style": "IPY_MODEL_e8cc395e9e744204becae015cbac6745",
            "value": " 41/41 [00:00&lt;00:00, 1689.11it/s]"
          }
        },
        "e219e2f53358415aa39e3b052b09533f": {
          "model_module": "@jupyter-widgets/base",
          "model_name": "LayoutModel",
          "model_module_version": "1.2.0",
          "state": {
            "_model_module": "@jupyter-widgets/base",
            "_model_module_version": "1.2.0",
            "_model_name": "LayoutModel",
            "_view_count": null,
            "_view_module": "@jupyter-widgets/base",
            "_view_module_version": "1.2.0",
            "_view_name": "LayoutView",
            "align_content": null,
            "align_items": null,
            "align_self": null,
            "border": null,
            "bottom": null,
            "display": null,
            "flex": null,
            "flex_flow": null,
            "grid_area": null,
            "grid_auto_columns": null,
            "grid_auto_flow": null,
            "grid_auto_rows": null,
            "grid_column": null,
            "grid_gap": null,
            "grid_row": null,
            "grid_template_areas": null,
            "grid_template_columns": null,
            "grid_template_rows": null,
            "height": null,
            "justify_content": null,
            "justify_items": null,
            "left": null,
            "margin": null,
            "max_height": null,
            "max_width": null,
            "min_height": null,
            "min_width": null,
            "object_fit": null,
            "object_position": null,
            "order": null,
            "overflow": null,
            "overflow_x": null,
            "overflow_y": null,
            "padding": null,
            "right": null,
            "top": null,
            "visibility": null,
            "width": null
          }
        },
        "bca3f47f6bb34204a1bbf41ba560463f": {
          "model_module": "@jupyter-widgets/base",
          "model_name": "LayoutModel",
          "model_module_version": "1.2.0",
          "state": {
            "_model_module": "@jupyter-widgets/base",
            "_model_module_version": "1.2.0",
            "_model_name": "LayoutModel",
            "_view_count": null,
            "_view_module": "@jupyter-widgets/base",
            "_view_module_version": "1.2.0",
            "_view_name": "LayoutView",
            "align_content": null,
            "align_items": null,
            "align_self": null,
            "border": null,
            "bottom": null,
            "display": null,
            "flex": null,
            "flex_flow": null,
            "grid_area": null,
            "grid_auto_columns": null,
            "grid_auto_flow": null,
            "grid_auto_rows": null,
            "grid_column": null,
            "grid_gap": null,
            "grid_row": null,
            "grid_template_areas": null,
            "grid_template_columns": null,
            "grid_template_rows": null,
            "height": null,
            "justify_content": null,
            "justify_items": null,
            "left": null,
            "margin": null,
            "max_height": null,
            "max_width": null,
            "min_height": null,
            "min_width": null,
            "object_fit": null,
            "object_position": null,
            "order": null,
            "overflow": null,
            "overflow_x": null,
            "overflow_y": null,
            "padding": null,
            "right": null,
            "top": null,
            "visibility": null,
            "width": null
          }
        },
        "06c4ad2cf9f64ad9bd9db757997acb88": {
          "model_module": "@jupyter-widgets/controls",
          "model_name": "DescriptionStyleModel",
          "model_module_version": "1.5.0",
          "state": {
            "_model_module": "@jupyter-widgets/controls",
            "_model_module_version": "1.5.0",
            "_model_name": "DescriptionStyleModel",
            "_view_count": null,
            "_view_module": "@jupyter-widgets/base",
            "_view_module_version": "1.2.0",
            "_view_name": "StyleView",
            "description_width": ""
          }
        },
        "9b9a6a09d76249a99905407f6c6c9901": {
          "model_module": "@jupyter-widgets/base",
          "model_name": "LayoutModel",
          "model_module_version": "1.2.0",
          "state": {
            "_model_module": "@jupyter-widgets/base",
            "_model_module_version": "1.2.0",
            "_model_name": "LayoutModel",
            "_view_count": null,
            "_view_module": "@jupyter-widgets/base",
            "_view_module_version": "1.2.0",
            "_view_name": "LayoutView",
            "align_content": null,
            "align_items": null,
            "align_self": null,
            "border": null,
            "bottom": null,
            "display": null,
            "flex": null,
            "flex_flow": null,
            "grid_area": null,
            "grid_auto_columns": null,
            "grid_auto_flow": null,
            "grid_auto_rows": null,
            "grid_column": null,
            "grid_gap": null,
            "grid_row": null,
            "grid_template_areas": null,
            "grid_template_columns": null,
            "grid_template_rows": null,
            "height": null,
            "justify_content": null,
            "justify_items": null,
            "left": null,
            "margin": null,
            "max_height": null,
            "max_width": null,
            "min_height": null,
            "min_width": null,
            "object_fit": null,
            "object_position": null,
            "order": null,
            "overflow": null,
            "overflow_x": null,
            "overflow_y": null,
            "padding": null,
            "right": null,
            "top": null,
            "visibility": null,
            "width": null
          }
        },
        "96e0d028bc5041aaaac15e72f291e730": {
          "model_module": "@jupyter-widgets/controls",
          "model_name": "ProgressStyleModel",
          "model_module_version": "1.5.0",
          "state": {
            "_model_module": "@jupyter-widgets/controls",
            "_model_module_version": "1.5.0",
            "_model_name": "ProgressStyleModel",
            "_view_count": null,
            "_view_module": "@jupyter-widgets/base",
            "_view_module_version": "1.2.0",
            "_view_name": "StyleView",
            "bar_color": null,
            "description_width": ""
          }
        },
        "1100b21a4c084d538bad7f81a326110e": {
          "model_module": "@jupyter-widgets/base",
          "model_name": "LayoutModel",
          "model_module_version": "1.2.0",
          "state": {
            "_model_module": "@jupyter-widgets/base",
            "_model_module_version": "1.2.0",
            "_model_name": "LayoutModel",
            "_view_count": null,
            "_view_module": "@jupyter-widgets/base",
            "_view_module_version": "1.2.0",
            "_view_name": "LayoutView",
            "align_content": null,
            "align_items": null,
            "align_self": null,
            "border": null,
            "bottom": null,
            "display": null,
            "flex": null,
            "flex_flow": null,
            "grid_area": null,
            "grid_auto_columns": null,
            "grid_auto_flow": null,
            "grid_auto_rows": null,
            "grid_column": null,
            "grid_gap": null,
            "grid_row": null,
            "grid_template_areas": null,
            "grid_template_columns": null,
            "grid_template_rows": null,
            "height": null,
            "justify_content": null,
            "justify_items": null,
            "left": null,
            "margin": null,
            "max_height": null,
            "max_width": null,
            "min_height": null,
            "min_width": null,
            "object_fit": null,
            "object_position": null,
            "order": null,
            "overflow": null,
            "overflow_x": null,
            "overflow_y": null,
            "padding": null,
            "right": null,
            "top": null,
            "visibility": null,
            "width": null
          }
        },
        "e8cc395e9e744204becae015cbac6745": {
          "model_module": "@jupyter-widgets/controls",
          "model_name": "DescriptionStyleModel",
          "model_module_version": "1.5.0",
          "state": {
            "_model_module": "@jupyter-widgets/controls",
            "_model_module_version": "1.5.0",
            "_model_name": "DescriptionStyleModel",
            "_view_count": null,
            "_view_module": "@jupyter-widgets/base",
            "_view_module_version": "1.2.0",
            "_view_name": "StyleView",
            "description_width": ""
          }
        },
        "335855c503fe4b7398367e9da7c416a9": {
          "model_module": "@jupyter-widgets/controls",
          "model_name": "HBoxModel",
          "model_module_version": "1.5.0",
          "state": {
            "_dom_classes": [],
            "_model_module": "@jupyter-widgets/controls",
            "_model_module_version": "1.5.0",
            "_model_name": "HBoxModel",
            "_view_count": null,
            "_view_module": "@jupyter-widgets/controls",
            "_view_module_version": "1.5.0",
            "_view_name": "HBoxView",
            "box_style": "",
            "children": [
              "IPY_MODEL_88adff7bfb2d4fd9bd82cd06bdbe0248",
              "IPY_MODEL_367e5ad94bf94b2cbaa63d41722132e5",
              "IPY_MODEL_c2aa84cefc5c4d558d9b184a6e122a20"
            ],
            "layout": "IPY_MODEL_f829c4cecdfc418c852fd9bbb1c52503"
          }
        },
        "88adff7bfb2d4fd9bd82cd06bdbe0248": {
          "model_module": "@jupyter-widgets/controls",
          "model_name": "HTMLModel",
          "model_module_version": "1.5.0",
          "state": {
            "_dom_classes": [],
            "_model_module": "@jupyter-widgets/controls",
            "_model_module_version": "1.5.0",
            "_model_name": "HTMLModel",
            "_view_count": null,
            "_view_module": "@jupyter-widgets/controls",
            "_view_module_version": "1.5.0",
            "_view_name": "HTMLView",
            "description": "",
            "description_tooltip": null,
            "layout": "IPY_MODEL_edf39ad607a04af0a2d7e49ea60df59b",
            "placeholder": "​",
            "style": "IPY_MODEL_73d7b63378964b91b80aad4de104315a",
            "value": "100%"
          }
        },
        "367e5ad94bf94b2cbaa63d41722132e5": {
          "model_module": "@jupyter-widgets/controls",
          "model_name": "FloatProgressModel",
          "model_module_version": "1.5.0",
          "state": {
            "_dom_classes": [],
            "_model_module": "@jupyter-widgets/controls",
            "_model_module_version": "1.5.0",
            "_model_name": "FloatProgressModel",
            "_view_count": null,
            "_view_module": "@jupyter-widgets/controls",
            "_view_module_version": "1.5.0",
            "_view_name": "ProgressView",
            "bar_style": "success",
            "description": "",
            "description_tooltip": null,
            "layout": "IPY_MODEL_ef3c5e2365f24201883f92ee6d56c646",
            "max": 41,
            "min": 0,
            "orientation": "horizontal",
            "style": "IPY_MODEL_d7f1b5271fe844ef8a74676d85d56ee8",
            "value": 41
          }
        },
        "c2aa84cefc5c4d558d9b184a6e122a20": {
          "model_module": "@jupyter-widgets/controls",
          "model_name": "HTMLModel",
          "model_module_version": "1.5.0",
          "state": {
            "_dom_classes": [],
            "_model_module": "@jupyter-widgets/controls",
            "_model_module_version": "1.5.0",
            "_model_name": "HTMLModel",
            "_view_count": null,
            "_view_module": "@jupyter-widgets/controls",
            "_view_module_version": "1.5.0",
            "_view_name": "HTMLView",
            "description": "",
            "description_tooltip": null,
            "layout": "IPY_MODEL_45bdf39c462c4161a8ad16242b5bbc06",
            "placeholder": "​",
            "style": "IPY_MODEL_91c072238135401abaeeb55a93d0d452",
            "value": " 41/41 [00:00&lt;00:00, 51.33it/s]"
          }
        },
        "f829c4cecdfc418c852fd9bbb1c52503": {
          "model_module": "@jupyter-widgets/base",
          "model_name": "LayoutModel",
          "model_module_version": "1.2.0",
          "state": {
            "_model_module": "@jupyter-widgets/base",
            "_model_module_version": "1.2.0",
            "_model_name": "LayoutModel",
            "_view_count": null,
            "_view_module": "@jupyter-widgets/base",
            "_view_module_version": "1.2.0",
            "_view_name": "LayoutView",
            "align_content": null,
            "align_items": null,
            "align_self": null,
            "border": null,
            "bottom": null,
            "display": null,
            "flex": null,
            "flex_flow": null,
            "grid_area": null,
            "grid_auto_columns": null,
            "grid_auto_flow": null,
            "grid_auto_rows": null,
            "grid_column": null,
            "grid_gap": null,
            "grid_row": null,
            "grid_template_areas": null,
            "grid_template_columns": null,
            "grid_template_rows": null,
            "height": null,
            "justify_content": null,
            "justify_items": null,
            "left": null,
            "margin": null,
            "max_height": null,
            "max_width": null,
            "min_height": null,
            "min_width": null,
            "object_fit": null,
            "object_position": null,
            "order": null,
            "overflow": null,
            "overflow_x": null,
            "overflow_y": null,
            "padding": null,
            "right": null,
            "top": null,
            "visibility": null,
            "width": null
          }
        },
        "edf39ad607a04af0a2d7e49ea60df59b": {
          "model_module": "@jupyter-widgets/base",
          "model_name": "LayoutModel",
          "model_module_version": "1.2.0",
          "state": {
            "_model_module": "@jupyter-widgets/base",
            "_model_module_version": "1.2.0",
            "_model_name": "LayoutModel",
            "_view_count": null,
            "_view_module": "@jupyter-widgets/base",
            "_view_module_version": "1.2.0",
            "_view_name": "LayoutView",
            "align_content": null,
            "align_items": null,
            "align_self": null,
            "border": null,
            "bottom": null,
            "display": null,
            "flex": null,
            "flex_flow": null,
            "grid_area": null,
            "grid_auto_columns": null,
            "grid_auto_flow": null,
            "grid_auto_rows": null,
            "grid_column": null,
            "grid_gap": null,
            "grid_row": null,
            "grid_template_areas": null,
            "grid_template_columns": null,
            "grid_template_rows": null,
            "height": null,
            "justify_content": null,
            "justify_items": null,
            "left": null,
            "margin": null,
            "max_height": null,
            "max_width": null,
            "min_height": null,
            "min_width": null,
            "object_fit": null,
            "object_position": null,
            "order": null,
            "overflow": null,
            "overflow_x": null,
            "overflow_y": null,
            "padding": null,
            "right": null,
            "top": null,
            "visibility": null,
            "width": null
          }
        },
        "73d7b63378964b91b80aad4de104315a": {
          "model_module": "@jupyter-widgets/controls",
          "model_name": "DescriptionStyleModel",
          "model_module_version": "1.5.0",
          "state": {
            "_model_module": "@jupyter-widgets/controls",
            "_model_module_version": "1.5.0",
            "_model_name": "DescriptionStyleModel",
            "_view_count": null,
            "_view_module": "@jupyter-widgets/base",
            "_view_module_version": "1.2.0",
            "_view_name": "StyleView",
            "description_width": ""
          }
        },
        "ef3c5e2365f24201883f92ee6d56c646": {
          "model_module": "@jupyter-widgets/base",
          "model_name": "LayoutModel",
          "model_module_version": "1.2.0",
          "state": {
            "_model_module": "@jupyter-widgets/base",
            "_model_module_version": "1.2.0",
            "_model_name": "LayoutModel",
            "_view_count": null,
            "_view_module": "@jupyter-widgets/base",
            "_view_module_version": "1.2.0",
            "_view_name": "LayoutView",
            "align_content": null,
            "align_items": null,
            "align_self": null,
            "border": null,
            "bottom": null,
            "display": null,
            "flex": null,
            "flex_flow": null,
            "grid_area": null,
            "grid_auto_columns": null,
            "grid_auto_flow": null,
            "grid_auto_rows": null,
            "grid_column": null,
            "grid_gap": null,
            "grid_row": null,
            "grid_template_areas": null,
            "grid_template_columns": null,
            "grid_template_rows": null,
            "height": null,
            "justify_content": null,
            "justify_items": null,
            "left": null,
            "margin": null,
            "max_height": null,
            "max_width": null,
            "min_height": null,
            "min_width": null,
            "object_fit": null,
            "object_position": null,
            "order": null,
            "overflow": null,
            "overflow_x": null,
            "overflow_y": null,
            "padding": null,
            "right": null,
            "top": null,
            "visibility": null,
            "width": null
          }
        },
        "d7f1b5271fe844ef8a74676d85d56ee8": {
          "model_module": "@jupyter-widgets/controls",
          "model_name": "ProgressStyleModel",
          "model_module_version": "1.5.0",
          "state": {
            "_model_module": "@jupyter-widgets/controls",
            "_model_module_version": "1.5.0",
            "_model_name": "ProgressStyleModel",
            "_view_count": null,
            "_view_module": "@jupyter-widgets/base",
            "_view_module_version": "1.2.0",
            "_view_name": "StyleView",
            "bar_color": null,
            "description_width": ""
          }
        },
        "45bdf39c462c4161a8ad16242b5bbc06": {
          "model_module": "@jupyter-widgets/base",
          "model_name": "LayoutModel",
          "model_module_version": "1.2.0",
          "state": {
            "_model_module": "@jupyter-widgets/base",
            "_model_module_version": "1.2.0",
            "_model_name": "LayoutModel",
            "_view_count": null,
            "_view_module": "@jupyter-widgets/base",
            "_view_module_version": "1.2.0",
            "_view_name": "LayoutView",
            "align_content": null,
            "align_items": null,
            "align_self": null,
            "border": null,
            "bottom": null,
            "display": null,
            "flex": null,
            "flex_flow": null,
            "grid_area": null,
            "grid_auto_columns": null,
            "grid_auto_flow": null,
            "grid_auto_rows": null,
            "grid_column": null,
            "grid_gap": null,
            "grid_row": null,
            "grid_template_areas": null,
            "grid_template_columns": null,
            "grid_template_rows": null,
            "height": null,
            "justify_content": null,
            "justify_items": null,
            "left": null,
            "margin": null,
            "max_height": null,
            "max_width": null,
            "min_height": null,
            "min_width": null,
            "object_fit": null,
            "object_position": null,
            "order": null,
            "overflow": null,
            "overflow_x": null,
            "overflow_y": null,
            "padding": null,
            "right": null,
            "top": null,
            "visibility": null,
            "width": null
          }
        },
        "91c072238135401abaeeb55a93d0d452": {
          "model_module": "@jupyter-widgets/controls",
          "model_name": "DescriptionStyleModel",
          "model_module_version": "1.5.0",
          "state": {
            "_model_module": "@jupyter-widgets/controls",
            "_model_module_version": "1.5.0",
            "_model_name": "DescriptionStyleModel",
            "_view_count": null,
            "_view_module": "@jupyter-widgets/base",
            "_view_module_version": "1.2.0",
            "_view_name": "StyleView",
            "description_width": ""
          }
        },
        "787b875616484584a5e872310f3db0dd": {
          "model_module": "@jupyter-widgets/controls",
          "model_name": "HBoxModel",
          "model_module_version": "1.5.0",
          "state": {
            "_dom_classes": [],
            "_model_module": "@jupyter-widgets/controls",
            "_model_module_version": "1.5.0",
            "_model_name": "HBoxModel",
            "_view_count": null,
            "_view_module": "@jupyter-widgets/controls",
            "_view_module_version": "1.5.0",
            "_view_name": "HBoxView",
            "box_style": "",
            "children": [
              "IPY_MODEL_0ed736f5587041a9aa1e5a113a74acb1",
              "IPY_MODEL_d9caf6954c9f4c058d53f807d4e9b2f8",
              "IPY_MODEL_87f6a6e14b9b47ada4945fb7433aa533"
            ],
            "layout": "IPY_MODEL_3df83f6832e34dc3a9b2e892848c1e70"
          }
        },
        "0ed736f5587041a9aa1e5a113a74acb1": {
          "model_module": "@jupyter-widgets/controls",
          "model_name": "HTMLModel",
          "model_module_version": "1.5.0",
          "state": {
            "_dom_classes": [],
            "_model_module": "@jupyter-widgets/controls",
            "_model_module_version": "1.5.0",
            "_model_name": "HTMLModel",
            "_view_count": null,
            "_view_module": "@jupyter-widgets/controls",
            "_view_module_version": "1.5.0",
            "_view_name": "HTMLView",
            "description": "",
            "description_tooltip": null,
            "layout": "IPY_MODEL_9f43ca6fb6004396a05ced25a078dea1",
            "placeholder": "​",
            "style": "IPY_MODEL_ea1d1af5a35a470080d923b00c1dc958",
            "value": "100%"
          }
        },
        "d9caf6954c9f4c058d53f807d4e9b2f8": {
          "model_module": "@jupyter-widgets/controls",
          "model_name": "FloatProgressModel",
          "model_module_version": "1.5.0",
          "state": {
            "_dom_classes": [],
            "_model_module": "@jupyter-widgets/controls",
            "_model_module_version": "1.5.0",
            "_model_name": "FloatProgressModel",
            "_view_count": null,
            "_view_module": "@jupyter-widgets/controls",
            "_view_module_version": "1.5.0",
            "_view_name": "ProgressView",
            "bar_style": "success",
            "description": "",
            "description_tooltip": null,
            "layout": "IPY_MODEL_5b36cb3d87124a3681edfaa8c525e7a8",
            "max": 4,
            "min": 0,
            "orientation": "horizontal",
            "style": "IPY_MODEL_58de1b09b4284f438c0b70b8b0777c93",
            "value": 4
          }
        },
        "87f6a6e14b9b47ada4945fb7433aa533": {
          "model_module": "@jupyter-widgets/controls",
          "model_name": "HTMLModel",
          "model_module_version": "1.5.0",
          "state": {
            "_dom_classes": [],
            "_model_module": "@jupyter-widgets/controls",
            "_model_module_version": "1.5.0",
            "_model_name": "HTMLModel",
            "_view_count": null,
            "_view_module": "@jupyter-widgets/controls",
            "_view_module_version": "1.5.0",
            "_view_name": "HTMLView",
            "description": "",
            "description_tooltip": null,
            "layout": "IPY_MODEL_3a39a108eb5c4addb7f9669677916dbf",
            "placeholder": "​",
            "style": "IPY_MODEL_ea7c31d6e6664f2abe10295c3963fe13",
            "value": " 4/4 [00:00&lt;00:00, 159.45it/s]"
          }
        },
        "3df83f6832e34dc3a9b2e892848c1e70": {
          "model_module": "@jupyter-widgets/base",
          "model_name": "LayoutModel",
          "model_module_version": "1.2.0",
          "state": {
            "_model_module": "@jupyter-widgets/base",
            "_model_module_version": "1.2.0",
            "_model_name": "LayoutModel",
            "_view_count": null,
            "_view_module": "@jupyter-widgets/base",
            "_view_module_version": "1.2.0",
            "_view_name": "LayoutView",
            "align_content": null,
            "align_items": null,
            "align_self": null,
            "border": null,
            "bottom": null,
            "display": null,
            "flex": null,
            "flex_flow": null,
            "grid_area": null,
            "grid_auto_columns": null,
            "grid_auto_flow": null,
            "grid_auto_rows": null,
            "grid_column": null,
            "grid_gap": null,
            "grid_row": null,
            "grid_template_areas": null,
            "grid_template_columns": null,
            "grid_template_rows": null,
            "height": null,
            "justify_content": null,
            "justify_items": null,
            "left": null,
            "margin": null,
            "max_height": null,
            "max_width": null,
            "min_height": null,
            "min_width": null,
            "object_fit": null,
            "object_position": null,
            "order": null,
            "overflow": null,
            "overflow_x": null,
            "overflow_y": null,
            "padding": null,
            "right": null,
            "top": null,
            "visibility": null,
            "width": null
          }
        },
        "9f43ca6fb6004396a05ced25a078dea1": {
          "model_module": "@jupyter-widgets/base",
          "model_name": "LayoutModel",
          "model_module_version": "1.2.0",
          "state": {
            "_model_module": "@jupyter-widgets/base",
            "_model_module_version": "1.2.0",
            "_model_name": "LayoutModel",
            "_view_count": null,
            "_view_module": "@jupyter-widgets/base",
            "_view_module_version": "1.2.0",
            "_view_name": "LayoutView",
            "align_content": null,
            "align_items": null,
            "align_self": null,
            "border": null,
            "bottom": null,
            "display": null,
            "flex": null,
            "flex_flow": null,
            "grid_area": null,
            "grid_auto_columns": null,
            "grid_auto_flow": null,
            "grid_auto_rows": null,
            "grid_column": null,
            "grid_gap": null,
            "grid_row": null,
            "grid_template_areas": null,
            "grid_template_columns": null,
            "grid_template_rows": null,
            "height": null,
            "justify_content": null,
            "justify_items": null,
            "left": null,
            "margin": null,
            "max_height": null,
            "max_width": null,
            "min_height": null,
            "min_width": null,
            "object_fit": null,
            "object_position": null,
            "order": null,
            "overflow": null,
            "overflow_x": null,
            "overflow_y": null,
            "padding": null,
            "right": null,
            "top": null,
            "visibility": null,
            "width": null
          }
        },
        "ea1d1af5a35a470080d923b00c1dc958": {
          "model_module": "@jupyter-widgets/controls",
          "model_name": "DescriptionStyleModel",
          "model_module_version": "1.5.0",
          "state": {
            "_model_module": "@jupyter-widgets/controls",
            "_model_module_version": "1.5.0",
            "_model_name": "DescriptionStyleModel",
            "_view_count": null,
            "_view_module": "@jupyter-widgets/base",
            "_view_module_version": "1.2.0",
            "_view_name": "StyleView",
            "description_width": ""
          }
        },
        "5b36cb3d87124a3681edfaa8c525e7a8": {
          "model_module": "@jupyter-widgets/base",
          "model_name": "LayoutModel",
          "model_module_version": "1.2.0",
          "state": {
            "_model_module": "@jupyter-widgets/base",
            "_model_module_version": "1.2.0",
            "_model_name": "LayoutModel",
            "_view_count": null,
            "_view_module": "@jupyter-widgets/base",
            "_view_module_version": "1.2.0",
            "_view_name": "LayoutView",
            "align_content": null,
            "align_items": null,
            "align_self": null,
            "border": null,
            "bottom": null,
            "display": null,
            "flex": null,
            "flex_flow": null,
            "grid_area": null,
            "grid_auto_columns": null,
            "grid_auto_flow": null,
            "grid_auto_rows": null,
            "grid_column": null,
            "grid_gap": null,
            "grid_row": null,
            "grid_template_areas": null,
            "grid_template_columns": null,
            "grid_template_rows": null,
            "height": null,
            "justify_content": null,
            "justify_items": null,
            "left": null,
            "margin": null,
            "max_height": null,
            "max_width": null,
            "min_height": null,
            "min_width": null,
            "object_fit": null,
            "object_position": null,
            "order": null,
            "overflow": null,
            "overflow_x": null,
            "overflow_y": null,
            "padding": null,
            "right": null,
            "top": null,
            "visibility": null,
            "width": null
          }
        },
        "58de1b09b4284f438c0b70b8b0777c93": {
          "model_module": "@jupyter-widgets/controls",
          "model_name": "ProgressStyleModel",
          "model_module_version": "1.5.0",
          "state": {
            "_model_module": "@jupyter-widgets/controls",
            "_model_module_version": "1.5.0",
            "_model_name": "ProgressStyleModel",
            "_view_count": null,
            "_view_module": "@jupyter-widgets/base",
            "_view_module_version": "1.2.0",
            "_view_name": "StyleView",
            "bar_color": null,
            "description_width": ""
          }
        },
        "3a39a108eb5c4addb7f9669677916dbf": {
          "model_module": "@jupyter-widgets/base",
          "model_name": "LayoutModel",
          "model_module_version": "1.2.0",
          "state": {
            "_model_module": "@jupyter-widgets/base",
            "_model_module_version": "1.2.0",
            "_model_name": "LayoutModel",
            "_view_count": null,
            "_view_module": "@jupyter-widgets/base",
            "_view_module_version": "1.2.0",
            "_view_name": "LayoutView",
            "align_content": null,
            "align_items": null,
            "align_self": null,
            "border": null,
            "bottom": null,
            "display": null,
            "flex": null,
            "flex_flow": null,
            "grid_area": null,
            "grid_auto_columns": null,
            "grid_auto_flow": null,
            "grid_auto_rows": null,
            "grid_column": null,
            "grid_gap": null,
            "grid_row": null,
            "grid_template_areas": null,
            "grid_template_columns": null,
            "grid_template_rows": null,
            "height": null,
            "justify_content": null,
            "justify_items": null,
            "left": null,
            "margin": null,
            "max_height": null,
            "max_width": null,
            "min_height": null,
            "min_width": null,
            "object_fit": null,
            "object_position": null,
            "order": null,
            "overflow": null,
            "overflow_x": null,
            "overflow_y": null,
            "padding": null,
            "right": null,
            "top": null,
            "visibility": null,
            "width": null
          }
        },
        "ea7c31d6e6664f2abe10295c3963fe13": {
          "model_module": "@jupyter-widgets/controls",
          "model_name": "DescriptionStyleModel",
          "model_module_version": "1.5.0",
          "state": {
            "_model_module": "@jupyter-widgets/controls",
            "_model_module_version": "1.5.0",
            "_model_name": "DescriptionStyleModel",
            "_view_count": null,
            "_view_module": "@jupyter-widgets/base",
            "_view_module_version": "1.2.0",
            "_view_name": "StyleView",
            "description_width": ""
          }
        },
        "20c209361f1c41a3ab33149d445cb6c4": {
          "model_module": "@jupyter-widgets/controls",
          "model_name": "HBoxModel",
          "model_module_version": "1.5.0",
          "state": {
            "_dom_classes": [],
            "_model_module": "@jupyter-widgets/controls",
            "_model_module_version": "1.5.0",
            "_model_name": "HBoxModel",
            "_view_count": null,
            "_view_module": "@jupyter-widgets/controls",
            "_view_module_version": "1.5.0",
            "_view_name": "HBoxView",
            "box_style": "",
            "children": [
              "IPY_MODEL_e22f4f7752bd4caaad80368bea4560d6",
              "IPY_MODEL_b2effe06dbdd4039a6baaab7de6e4526",
              "IPY_MODEL_e22537c2aba846d68312a2607614a496"
            ],
            "layout": "IPY_MODEL_720f45f802214fb399b762419eef7d46"
          }
        },
        "e22f4f7752bd4caaad80368bea4560d6": {
          "model_module": "@jupyter-widgets/controls",
          "model_name": "HTMLModel",
          "model_module_version": "1.5.0",
          "state": {
            "_dom_classes": [],
            "_model_module": "@jupyter-widgets/controls",
            "_model_module_version": "1.5.0",
            "_model_name": "HTMLModel",
            "_view_count": null,
            "_view_module": "@jupyter-widgets/controls",
            "_view_module_version": "1.5.0",
            "_view_name": "HTMLView",
            "description": "",
            "description_tooltip": null,
            "layout": "IPY_MODEL_dd991151eb9344f0af930ddd2de36de2",
            "placeholder": "​",
            "style": "IPY_MODEL_d65e0b8f20ff47c49a599521934d12d1",
            "value": "100%"
          }
        },
        "b2effe06dbdd4039a6baaab7de6e4526": {
          "model_module": "@jupyter-widgets/controls",
          "model_name": "FloatProgressModel",
          "model_module_version": "1.5.0",
          "state": {
            "_dom_classes": [],
            "_model_module": "@jupyter-widgets/controls",
            "_model_module_version": "1.5.0",
            "_model_name": "FloatProgressModel",
            "_view_count": null,
            "_view_module": "@jupyter-widgets/controls",
            "_view_module_version": "1.5.0",
            "_view_name": "ProgressView",
            "bar_style": "success",
            "description": "",
            "description_tooltip": null,
            "layout": "IPY_MODEL_c5db30f0366541ec809eeb81c75b3e53",
            "max": 4,
            "min": 0,
            "orientation": "horizontal",
            "style": "IPY_MODEL_fd0a2c20f280454d9b9fc4b0c173fbb8",
            "value": 4
          }
        },
        "e22537c2aba846d68312a2607614a496": {
          "model_module": "@jupyter-widgets/controls",
          "model_name": "HTMLModel",
          "model_module_version": "1.5.0",
          "state": {
            "_dom_classes": [],
            "_model_module": "@jupyter-widgets/controls",
            "_model_module_version": "1.5.0",
            "_model_name": "HTMLModel",
            "_view_count": null,
            "_view_module": "@jupyter-widgets/controls",
            "_view_module_version": "1.5.0",
            "_view_name": "HTMLView",
            "description": "",
            "description_tooltip": null,
            "layout": "IPY_MODEL_debc14ae3ebe4d3ca3ff799fbf9acf04",
            "placeholder": "​",
            "style": "IPY_MODEL_aad5b758c1fe4522907f0615bcc0247f",
            "value": " 4/4 [00:00&lt;00:00, 41.93it/s]"
          }
        },
        "720f45f802214fb399b762419eef7d46": {
          "model_module": "@jupyter-widgets/base",
          "model_name": "LayoutModel",
          "model_module_version": "1.2.0",
          "state": {
            "_model_module": "@jupyter-widgets/base",
            "_model_module_version": "1.2.0",
            "_model_name": "LayoutModel",
            "_view_count": null,
            "_view_module": "@jupyter-widgets/base",
            "_view_module_version": "1.2.0",
            "_view_name": "LayoutView",
            "align_content": null,
            "align_items": null,
            "align_self": null,
            "border": null,
            "bottom": null,
            "display": null,
            "flex": null,
            "flex_flow": null,
            "grid_area": null,
            "grid_auto_columns": null,
            "grid_auto_flow": null,
            "grid_auto_rows": null,
            "grid_column": null,
            "grid_gap": null,
            "grid_row": null,
            "grid_template_areas": null,
            "grid_template_columns": null,
            "grid_template_rows": null,
            "height": null,
            "justify_content": null,
            "justify_items": null,
            "left": null,
            "margin": null,
            "max_height": null,
            "max_width": null,
            "min_height": null,
            "min_width": null,
            "object_fit": null,
            "object_position": null,
            "order": null,
            "overflow": null,
            "overflow_x": null,
            "overflow_y": null,
            "padding": null,
            "right": null,
            "top": null,
            "visibility": null,
            "width": null
          }
        },
        "dd991151eb9344f0af930ddd2de36de2": {
          "model_module": "@jupyter-widgets/base",
          "model_name": "LayoutModel",
          "model_module_version": "1.2.0",
          "state": {
            "_model_module": "@jupyter-widgets/base",
            "_model_module_version": "1.2.0",
            "_model_name": "LayoutModel",
            "_view_count": null,
            "_view_module": "@jupyter-widgets/base",
            "_view_module_version": "1.2.0",
            "_view_name": "LayoutView",
            "align_content": null,
            "align_items": null,
            "align_self": null,
            "border": null,
            "bottom": null,
            "display": null,
            "flex": null,
            "flex_flow": null,
            "grid_area": null,
            "grid_auto_columns": null,
            "grid_auto_flow": null,
            "grid_auto_rows": null,
            "grid_column": null,
            "grid_gap": null,
            "grid_row": null,
            "grid_template_areas": null,
            "grid_template_columns": null,
            "grid_template_rows": null,
            "height": null,
            "justify_content": null,
            "justify_items": null,
            "left": null,
            "margin": null,
            "max_height": null,
            "max_width": null,
            "min_height": null,
            "min_width": null,
            "object_fit": null,
            "object_position": null,
            "order": null,
            "overflow": null,
            "overflow_x": null,
            "overflow_y": null,
            "padding": null,
            "right": null,
            "top": null,
            "visibility": null,
            "width": null
          }
        },
        "d65e0b8f20ff47c49a599521934d12d1": {
          "model_module": "@jupyter-widgets/controls",
          "model_name": "DescriptionStyleModel",
          "model_module_version": "1.5.0",
          "state": {
            "_model_module": "@jupyter-widgets/controls",
            "_model_module_version": "1.5.0",
            "_model_name": "DescriptionStyleModel",
            "_view_count": null,
            "_view_module": "@jupyter-widgets/base",
            "_view_module_version": "1.2.0",
            "_view_name": "StyleView",
            "description_width": ""
          }
        },
        "c5db30f0366541ec809eeb81c75b3e53": {
          "model_module": "@jupyter-widgets/base",
          "model_name": "LayoutModel",
          "model_module_version": "1.2.0",
          "state": {
            "_model_module": "@jupyter-widgets/base",
            "_model_module_version": "1.2.0",
            "_model_name": "LayoutModel",
            "_view_count": null,
            "_view_module": "@jupyter-widgets/base",
            "_view_module_version": "1.2.0",
            "_view_name": "LayoutView",
            "align_content": null,
            "align_items": null,
            "align_self": null,
            "border": null,
            "bottom": null,
            "display": null,
            "flex": null,
            "flex_flow": null,
            "grid_area": null,
            "grid_auto_columns": null,
            "grid_auto_flow": null,
            "grid_auto_rows": null,
            "grid_column": null,
            "grid_gap": null,
            "grid_row": null,
            "grid_template_areas": null,
            "grid_template_columns": null,
            "grid_template_rows": null,
            "height": null,
            "justify_content": null,
            "justify_items": null,
            "left": null,
            "margin": null,
            "max_height": null,
            "max_width": null,
            "min_height": null,
            "min_width": null,
            "object_fit": null,
            "object_position": null,
            "order": null,
            "overflow": null,
            "overflow_x": null,
            "overflow_y": null,
            "padding": null,
            "right": null,
            "top": null,
            "visibility": null,
            "width": null
          }
        },
        "fd0a2c20f280454d9b9fc4b0c173fbb8": {
          "model_module": "@jupyter-widgets/controls",
          "model_name": "ProgressStyleModel",
          "model_module_version": "1.5.0",
          "state": {
            "_model_module": "@jupyter-widgets/controls",
            "_model_module_version": "1.5.0",
            "_model_name": "ProgressStyleModel",
            "_view_count": null,
            "_view_module": "@jupyter-widgets/base",
            "_view_module_version": "1.2.0",
            "_view_name": "StyleView",
            "bar_color": null,
            "description_width": ""
          }
        },
        "debc14ae3ebe4d3ca3ff799fbf9acf04": {
          "model_module": "@jupyter-widgets/base",
          "model_name": "LayoutModel",
          "model_module_version": "1.2.0",
          "state": {
            "_model_module": "@jupyter-widgets/base",
            "_model_module_version": "1.2.0",
            "_model_name": "LayoutModel",
            "_view_count": null,
            "_view_module": "@jupyter-widgets/base",
            "_view_module_version": "1.2.0",
            "_view_name": "LayoutView",
            "align_content": null,
            "align_items": null,
            "align_self": null,
            "border": null,
            "bottom": null,
            "display": null,
            "flex": null,
            "flex_flow": null,
            "grid_area": null,
            "grid_auto_columns": null,
            "grid_auto_flow": null,
            "grid_auto_rows": null,
            "grid_column": null,
            "grid_gap": null,
            "grid_row": null,
            "grid_template_areas": null,
            "grid_template_columns": null,
            "grid_template_rows": null,
            "height": null,
            "justify_content": null,
            "justify_items": null,
            "left": null,
            "margin": null,
            "max_height": null,
            "max_width": null,
            "min_height": null,
            "min_width": null,
            "object_fit": null,
            "object_position": null,
            "order": null,
            "overflow": null,
            "overflow_x": null,
            "overflow_y": null,
            "padding": null,
            "right": null,
            "top": null,
            "visibility": null,
            "width": null
          }
        },
        "aad5b758c1fe4522907f0615bcc0247f": {
          "model_module": "@jupyter-widgets/controls",
          "model_name": "DescriptionStyleModel",
          "model_module_version": "1.5.0",
          "state": {
            "_model_module": "@jupyter-widgets/controls",
            "_model_module_version": "1.5.0",
            "_model_name": "DescriptionStyleModel",
            "_view_count": null,
            "_view_module": "@jupyter-widgets/base",
            "_view_module_version": "1.2.0",
            "_view_name": "StyleView",
            "description_width": ""
          }
        }
      }
    }
  },
  "cells": [
    {
      "cell_type": "markdown",
      "metadata": {
        "id": "view-in-github",
        "colab_type": "text"
      },
      "source": [
        "<a href=\"https://colab.research.google.com/github/grenetercordovesdelgado/Ejercicios/blob/main/detection_deception_based_HRV_signals.ipynb\" target=\"_parent\"><img src=\"https://colab.research.google.com/assets/colab-badge.svg\" alt=\"Open In Colab\"/></a>"
      ]
    },
    {
      "cell_type": "markdown",
      "source": [
        "# Install libraries"
      ],
      "metadata": {
        "id": "FyT0tHjbtScD"
      }
    },
    {
      "cell_type": "code",
      "source": [
        "!pip install hrv-analysis\n",
        "!pip install pyhrv"
      ],
      "metadata": {
        "colab": {
          "base_uri": "https://localhost:8080/"
        },
        "id": "FR0Z5eVktJI1",
        "outputId": "96218895-c2a5-466a-f329-a133b6773d54"
      },
      "execution_count": 1,
      "outputs": [
        {
          "output_type": "stream",
          "name": "stdout",
          "text": [
            "Looking in indexes: https://pypi.org/simple, https://us-python.pkg.dev/colab-wheels/public/simple/\n",
            "Collecting hrv-analysis\n",
            "  Downloading hrv_analysis-1.0.4-py3-none-any.whl (28 kB)\n",
            "Requirement already satisfied: scipy>=1.1.0 in /usr/local/lib/python3.9/dist-packages (from hrv-analysis) (1.10.1)\n",
            "Collecting nolds>=0.4.1\n",
            "  Downloading nolds-0.5.2-py2.py3-none-any.whl (39 kB)\n",
            "Requirement already satisfied: numpy>=1.15.1 in /usr/local/lib/python3.9/dist-packages (from hrv-analysis) (1.22.4)\n",
            "Requirement already satisfied: astropy>=3.0.4 in /usr/local/lib/python3.9/dist-packages (from hrv-analysis) (4.3.1)\n",
            "Requirement already satisfied: matplotlib>=2.2.2 in /usr/local/lib/python3.9/dist-packages (from hrv-analysis) (3.5.3)\n",
            "Requirement already satisfied: pandas>=0.23.4 in /usr/local/lib/python3.9/dist-packages (from hrv-analysis) (1.3.5)\n",
            "Requirement already satisfied: pyerfa>=1.7.3 in /usr/local/lib/python3.9/dist-packages (from astropy>=3.0.4->hrv-analysis) (2.0.0.1)\n",
            "Requirement already satisfied: pillow>=6.2.0 in /usr/local/lib/python3.9/dist-packages (from matplotlib>=2.2.2->hrv-analysis) (8.4.0)\n",
            "Requirement already satisfied: kiwisolver>=1.0.1 in /usr/local/lib/python3.9/dist-packages (from matplotlib>=2.2.2->hrv-analysis) (1.4.4)\n",
            "Requirement already satisfied: cycler>=0.10 in /usr/local/lib/python3.9/dist-packages (from matplotlib>=2.2.2->hrv-analysis) (0.11.0)\n",
            "Requirement already satisfied: python-dateutil>=2.7 in /usr/local/lib/python3.9/dist-packages (from matplotlib>=2.2.2->hrv-analysis) (2.8.2)\n",
            "Requirement already satisfied: packaging>=20.0 in /usr/local/lib/python3.9/dist-packages (from matplotlib>=2.2.2->hrv-analysis) (23.0)\n",
            "Requirement already satisfied: fonttools>=4.22.0 in /usr/local/lib/python3.9/dist-packages (from matplotlib>=2.2.2->hrv-analysis) (4.39.0)\n",
            "Requirement already satisfied: pyparsing>=2.2.1 in /usr/local/lib/python3.9/dist-packages (from matplotlib>=2.2.2->hrv-analysis) (3.0.9)\n",
            "Requirement already satisfied: setuptools in /usr/local/lib/python3.9/dist-packages (from nolds>=0.4.1->hrv-analysis) (57.4.0)\n",
            "Requirement already satisfied: future in /usr/local/lib/python3.9/dist-packages (from nolds>=0.4.1->hrv-analysis) (0.16.0)\n",
            "Requirement already satisfied: pytz>=2017.3 in /usr/local/lib/python3.9/dist-packages (from pandas>=0.23.4->hrv-analysis) (2022.7.1)\n",
            "Requirement already satisfied: six>=1.5 in /usr/local/lib/python3.9/dist-packages (from python-dateutil>=2.7->matplotlib>=2.2.2->hrv-analysis) (1.15.0)\n",
            "Installing collected packages: nolds, hrv-analysis\n",
            "Successfully installed hrv-analysis-1.0.4 nolds-0.5.2\n",
            "Looking in indexes: https://pypi.org/simple, https://us-python.pkg.dev/colab-wheels/public/simple/\n",
            "Collecting pyhrv\n",
            "  Downloading pyhrv-0.4.1-py3-none-any.whl (3.2 MB)\n",
            "\u001b[2K     \u001b[90m━━━━━━━━━━━━━━━━━━━━━━━━━━━━━━━━━━━━━━━━\u001b[0m \u001b[32m3.2/3.2 MB\u001b[0m \u001b[31m7.7 MB/s\u001b[0m eta \u001b[36m0:00:00\u001b[0m\n",
            "\u001b[?25hRequirement already satisfied: scipy in /usr/local/lib/python3.9/dist-packages (from pyhrv) (1.10.1)\n",
            "Requirement already satisfied: nolds in /usr/local/lib/python3.9/dist-packages (from pyhrv) (0.5.2)\n",
            "Collecting spectrum\n",
            "  Downloading spectrum-0.8.1.tar.gz (230 kB)\n",
            "\u001b[2K     \u001b[90m━━━━━━━━━━━━━━━━━━━━━━━━━━━━━━━━━━━━━━\u001b[0m \u001b[32m230.8/230.8 KB\u001b[0m \u001b[31m14.5 MB/s\u001b[0m eta \u001b[36m0:00:00\u001b[0m\n",
            "\u001b[?25h  Preparing metadata (setup.py) ... \u001b[?25l\u001b[?25hdone\n",
            "Collecting biosppy\n",
            "  Downloading biosppy-1.0.0-py2.py3-none-any.whl (106 kB)\n",
            "\u001b[2K     \u001b[90m━━━━━━━━━━━━━━━━━━━━━━━━━━━━━━━━━━━━━━━\u001b[0m \u001b[32m107.0/107.0 KB\u001b[0m \u001b[31m4.6 MB/s\u001b[0m eta \u001b[36m0:00:00\u001b[0m\n",
            "\u001b[?25hRequirement already satisfied: matplotlib in /usr/local/lib/python3.9/dist-packages (from pyhrv) (3.5.3)\n",
            "Requirement already satisfied: numpy in /usr/local/lib/python3.9/dist-packages (from pyhrv) (1.22.4)\n",
            "Collecting bidict\n",
            "  Downloading bidict-0.22.1-py3-none-any.whl (35 kB)\n",
            "Requirement already satisfied: six in /usr/local/lib/python3.9/dist-packages (from biosppy->pyhrv) (1.15.0)\n",
            "Requirement already satisfied: joblib in /usr/local/lib/python3.9/dist-packages (from biosppy->pyhrv) (1.2.0)\n",
            "Collecting shortuuid\n",
            "  Downloading shortuuid-1.0.11-py3-none-any.whl (10 kB)\n",
            "Requirement already satisfied: opencv-python in /usr/local/lib/python3.9/dist-packages (from biosppy->pyhrv) (4.6.0.66)\n",
            "Requirement already satisfied: scikit-learn in /usr/local/lib/python3.9/dist-packages (from biosppy->pyhrv) (1.2.1)\n",
            "Requirement already satisfied: h5py in /usr/local/lib/python3.9/dist-packages (from biosppy->pyhrv) (3.1.0)\n",
            "Requirement already satisfied: pillow>=6.2.0 in /usr/local/lib/python3.9/dist-packages (from matplotlib->pyhrv) (8.4.0)\n",
            "Requirement already satisfied: python-dateutil>=2.7 in /usr/local/lib/python3.9/dist-packages (from matplotlib->pyhrv) (2.8.2)\n",
            "Requirement already satisfied: packaging>=20.0 in /usr/local/lib/python3.9/dist-packages (from matplotlib->pyhrv) (23.0)\n",
            "Requirement already satisfied: cycler>=0.10 in /usr/local/lib/python3.9/dist-packages (from matplotlib->pyhrv) (0.11.0)\n",
            "Requirement already satisfied: kiwisolver>=1.0.1 in /usr/local/lib/python3.9/dist-packages (from matplotlib->pyhrv) (1.4.4)\n",
            "Requirement already satisfied: pyparsing>=2.2.1 in /usr/local/lib/python3.9/dist-packages (from matplotlib->pyhrv) (3.0.9)\n",
            "Requirement already satisfied: fonttools>=4.22.0 in /usr/local/lib/python3.9/dist-packages (from matplotlib->pyhrv) (4.39.0)\n",
            "Requirement already satisfied: future in /usr/local/lib/python3.9/dist-packages (from nolds->pyhrv) (0.16.0)\n",
            "Requirement already satisfied: setuptools in /usr/local/lib/python3.9/dist-packages (from nolds->pyhrv) (57.4.0)\n",
            "Collecting easydev\n",
            "  Downloading easydev-0.12.1.tar.gz (55 kB)\n",
            "\u001b[2K     \u001b[90m━━━━━━━━━━━━━━━━━━━━━━━━━━━━━━━━━━━━━━━━\u001b[0m \u001b[32m55.7/55.7 KB\u001b[0m \u001b[31m3.9 MB/s\u001b[0m eta \u001b[36m0:00:00\u001b[0m\n",
            "\u001b[?25h  Preparing metadata (setup.py) ... \u001b[?25l\u001b[?25hdone\n",
            "Collecting colorama\n",
            "  Downloading colorama-0.4.6-py2.py3-none-any.whl (25 kB)\n",
            "Requirement already satisfied: pexpect in /usr/local/lib/python3.9/dist-packages (from easydev->spectrum->pyhrv) (4.8.0)\n",
            "Collecting colorlog\n",
            "  Downloading colorlog-6.7.0-py2.py3-none-any.whl (11 kB)\n",
            "Requirement already satisfied: threadpoolctl>=2.0.0 in /usr/local/lib/python3.9/dist-packages (from scikit-learn->biosppy->pyhrv) (3.1.0)\n",
            "Requirement already satisfied: ptyprocess>=0.5 in /usr/local/lib/python3.9/dist-packages (from pexpect->easydev->spectrum->pyhrv) (0.7.0)\n",
            "Building wheels for collected packages: spectrum, easydev\n",
            "  Building wheel for spectrum (setup.py) ... \u001b[?25l\u001b[?25hdone\n",
            "  Created wheel for spectrum: filename=spectrum-0.8.1-cp39-cp39-linux_x86_64.whl size=237791 sha256=2353b658c78ef3ebafea9abbe0fe47def7b87966769ff1e00c320d5bc6777875\n",
            "  Stored in directory: /root/.cache/pip/wheels/a0/03/05/e7ced8d2ae677d5c887dafb37619e6f0f978b2f5e60b5cd8e9\n",
            "  Building wheel for easydev (setup.py) ... \u001b[?25l\u001b[?25hdone\n",
            "  Created wheel for easydev: filename=easydev-0.12.1-py3-none-any.whl size=64216 sha256=2fc7e361bba56d550b56b6e77b346cd0d557cf5342076ff98cddac8363ab2173\n",
            "  Stored in directory: /root/.cache/pip/wheels/03/61/14/9e079fd8b2ae87fdff1df1c8757e33652854b4f3149e944ff6\n",
            "Successfully built spectrum easydev\n",
            "Installing collected packages: shortuuid, colorlog, colorama, bidict, easydev, spectrum, biosppy, pyhrv\n",
            "Successfully installed bidict-0.22.1 biosppy-1.0.0 colorama-0.4.6 colorlog-6.7.0 easydev-0.12.1 pyhrv-0.4.1 shortuuid-1.0.11 spectrum-0.8.1\n"
          ]
        }
      ]
    },
    {
      "cell_type": "markdown",
      "source": [
        "# Importing libraries and packages "
      ],
      "metadata": {
        "id": "DKGuFv3FtU17"
      }
    },
    {
      "cell_type": "code",
      "execution_count": 43,
      "metadata": {
        "id": "E0fzMWSks5q8"
      },
      "outputs": [],
      "source": [
        "from google.colab import drive\n",
        "\n",
        "import os\n",
        "import sys\n",
        "import cv2\n",
        "from glob import glob\n",
        "import glob\n",
        "from tqdm.notebook import tqdm_notebook\n",
        "import pandas as pd\n",
        "import numpy as np\n",
        "from joblib import dump\n",
        "from skimage import io\n",
        "\n",
        "import matplotlib.pyplot as plt\n",
        "import matplotlib.image as mpimg\n",
        "\n",
        "import seaborn as sns\n",
        "from IPython.display import Image\n",
        "\n",
        "import pyhrv.time_domain as td\n",
        "import hrvanalysis\n",
        "from hrvanalysis import get_time_domain_features\n",
        "from hrvanalysis import get_geometrical_features\n",
        "from hrvanalysis import get_frequency_domain_features\n",
        "from hrvanalysis import get_csi_cvi_features\n",
        "from hrvanalysis import get_poincare_plot_features\n",
        "from hrvanalysis import get_sampen\n",
        "\n",
        "from sklearn.preprocessing import StandardScaler, OneHotEncoder\n",
        "from sklearn.metrics import confusion_matrix, classification_report\n",
        "from sklearn.model_selection import train_test_split\n",
        "from sklearn.neural_network import MLPClassifier\n",
        "from sklearn.naive_bayes import GaussianNB\n",
        "from sklearn.svm import SVC\n",
        "from sklearn.tree import DecisionTreeClassifier\n",
        "from sklearn.model_selection import LeaveOneOut\n",
        "\n",
        "import warnings\n",
        "if not sys.warnoptions:\n",
        "    warnings.simplefilter(\"ignore\")\n",
        "warnings.filterwarnings(\"ignore\", category=DeprecationWarning) "
      ]
    },
    {
      "cell_type": "markdown",
      "source": [
        "# Definition of functions"
      ],
      "metadata": {
        "id": "vUV22i38njKs"
      }
    },
    {
      "cell_type": "code",
      "source": [
        "# Characteristics of an HRV signal\n",
        "\n",
        "def extract_features(vector):\n",
        "  all_features = np.array([])\n",
        "\n",
        "  # Time domain\n",
        "  time_domain = get_time_domain_features(vector)\n",
        "  all_features = np.append(all_features, np.array(list(time_domain.values())))\n",
        "  \n",
        "  # Signal complexity\n",
        "  cscv = get_csi_cvi_features(vector)\n",
        "  all_features = np.append(all_features, np.array(list(cscv.values())))\n",
        "\n",
        "  # Characteristics Poincaré graph: visualizes relationships between the time intervals between successive heartbeats\n",
        "  pp = get_poincare_plot_features(vector)\n",
        "  all_features = np.append(all_features, np.array(list(pp.values())))\n",
        "\n",
        "  # Calcular la Entropía Aproximada de la Señal HRV o el Entropía de Patrón de Amplitud\n",
        "  se = get_sampen(vector)\n",
        "  all_features = np.append(all_features, np.array(list(se.values())))\n",
        "\n",
        "  # Mean square deviation of the time intervals between consecutive beats\n",
        "  rmssd = td.rmssd(vector)\n",
        "  all_features = np.append(all_features, np.array(rmssd))\n",
        "\n",
        "  return all_features\n",
        "\n",
        "def statistics(vector):\n",
        "    max = np.max(vector)\n",
        "    min = np.min(vector)\n",
        "    st = np.std(vector)\n",
        "    mean = np.mean(vector)\n",
        "    vector = np.array([max, min, st, mean])\n",
        "\n",
        "    return vector"
      ],
      "metadata": {
        "id": "_cf5kJlbnj3b"
      },
      "execution_count": 3,
      "outputs": []
    },
    {
      "cell_type": "markdown",
      "source": [
        "# Loading training data "
      ],
      "metadata": {
        "id": "hDipjeYktfNu"
      }
    },
    {
      "cell_type": "code",
      "source": [
        "drive.mount('/content/drive')"
      ],
      "metadata": {
        "colab": {
          "base_uri": "https://localhost:8080/"
        },
        "id": "of-MEfSHtE1o",
        "outputId": "b2cc4c2f-1c9b-4bb7-b89c-6bfc5a3a82fa"
      },
      "execution_count": 104,
      "outputs": [
        {
          "output_type": "stream",
          "name": "stdout",
          "text": [
            "Drive already mounted at /content/drive; to attempt to forcibly remount, call drive.mount(\"/content/drive\", force_remount=True).\n"
          ]
        }
      ]
    },
    {
      "cell_type": "code",
      "source": [
        "# Loading CSV files \n",
        "csv_files = [os.path.abspath(x) for x in glob.glob('/content/drive/MyDrive/datos fisiologicos/*/[!Test]*.csv')]\n",
        "\n",
        "file_label = []\n",
        "file_path = []\n",
        "\n",
        "# Paths and labels to the files found\n",
        "for path in tqdm_notebook(csv_files):\n",
        "    part = os.path.basename(path)\n",
        "    part = part.split('.')[0]       \n",
        "    label = part.split('_')[2]\n",
        "    file_label.append(label)\n",
        "    file_path.append(path)  \n",
        "\n",
        "# Creating dataframe\n",
        "label_df = pd.DataFrame(file_label, columns=['Label'])\n",
        "path_df = pd.DataFrame(file_path, columns=['Path'])\n",
        "dataset_df = pd.concat([label_df, path_df], axis = 1) "
      ],
      "metadata": {
        "colab": {
          "base_uri": "https://localhost:8080/",
          "height": 49,
          "referenced_widgets": [
            "4473369d07d84e8c98b48813a886b2e1",
            "dab15ea878444337a8d438c65fb58419",
            "85b02b09458a442bb9327cb7b1505d8a",
            "db2c13edcab849eda0cac2a7a6955a28",
            "e219e2f53358415aa39e3b052b09533f",
            "bca3f47f6bb34204a1bbf41ba560463f",
            "06c4ad2cf9f64ad9bd9db757997acb88",
            "9b9a6a09d76249a99905407f6c6c9901",
            "96e0d028bc5041aaaac15e72f291e730",
            "1100b21a4c084d538bad7f81a326110e",
            "e8cc395e9e744204becae015cbac6745"
          ]
        },
        "id": "BpWkl6yg1q8m",
        "outputId": "54e37427-64bf-4cdf-e6ec-b29dd0810f27"
      },
      "execution_count": 105,
      "outputs": [
        {
          "output_type": "display_data",
          "data": {
            "text/plain": [
              "  0%|          | 0/41 [00:00<?, ?it/s]"
            ],
            "application/vnd.jupyter.widget-view+json": {
              "version_major": 2,
              "version_minor": 0,
              "model_id": "4473369d07d84e8c98b48813a886b2e1"
            }
          },
          "metadata": {}
        }
      ]
    },
    {
      "cell_type": "markdown",
      "source": [
        "# Data Exploration"
      ],
      "metadata": {
        "id": "4zPOa2Ie3xO3"
      }
    },
    {
      "cell_type": "code",
      "source": [
        "count_label = dataset_df.groupby('Label').count().reset_index()\n",
        "label = np.array(count_label['Label'])\n",
        "\n",
        "dataPath = pd.concat([dataset_df], axis = 0)\n",
        "plt.title('Count of Classes', size=16)\n",
        "sns.set_theme(palette=\"blend:#7AB,#EDA\")\n",
        "sns.countplot(x=dataPath[\"Label\"])\n",
        "plt.xlabel('Label', size=9)\n",
        "plt.ylabel('Count', size=9)\n",
        "sns.despine(top=True, right=True, left=True, bottom=False)\n",
        "plt.show()"
      ],
      "metadata": {
        "colab": {
          "base_uri": "https://localhost:8080/",
          "height": 299
        },
        "id": "aVYVau-b4aWq",
        "outputId": "139fa461-4188-49cc-c334-efa8c4d5edb4"
      },
      "execution_count": 106,
      "outputs": [
        {
          "output_type": "display_data",
          "data": {
            "text/plain": [
              "<Figure size 432x288 with 1 Axes>"
            ],
            "image/png": "[encoded data removed]"
          },
          "metadata": {}
        }
      ]
    },
    {
      "cell_type": "markdown",
      "source": [
        "# Data processing"
      ],
      "metadata": {
        "id": "gYmJPO_459Ap"
      }
    },
    {
      "cell_type": "code",
      "source": [
        "#Get feature vector\n",
        "\n",
        "df_features = pd.DataFrame()\n",
        "\n",
        "for path, label in zip(tqdm_notebook(dataset_df.Path), dataset_df.Label): \n",
        "         # Loading csv data\n",
        "         df = pd.read_csv(path, delimiter=',',skiprows=112, skipinitialspace=True)\n",
        "         v = np.array(df.iloc[:,2])\n",
        "         v = list(filter(lambda x: x != '', v))\n",
        "         v = np.array(v)\n",
        "         v = v[~np.isnan(v)]\n",
        "\n",
        "         # Obtaining characteristics\n",
        "         features = extract_features(v)\n",
        "\n",
        "         v2 = np.fft.fft(v)\n",
        "         v2 = np.real(v2)\n",
        "         features_statistics = statistics(v2)\n",
        "         vector_features = np.concatenate((features, features_statistics))\n",
        "\n",
        "         features_array = np.append(vector_features, label)\n",
        "         df_features = pd.concat([df_features, pd.DataFrame(features_array).T], axis=0)\n",
        "\n",
        "         # Characteristics that the value is to be made zero\n",
        "         df_features = df_features.drop([3, 4 ,5 ,6], axis=1)\n",
        "\n",
        "print(\"Number of instances:\", df_features.shape[0])\n",
        "print(\"Number of features:\", df_features.shape[1]-1)"
      ],
      "metadata": {
        "colab": {
          "base_uri": "https://localhost:8080/",
          "height": 85,
          "referenced_widgets": [
            "335855c503fe4b7398367e9da7c416a9",
            "88adff7bfb2d4fd9bd82cd06bdbe0248",
            "367e5ad94bf94b2cbaa63d41722132e5",
            "c2aa84cefc5c4d558d9b184a6e122a20",
            "f829c4cecdfc418c852fd9bbb1c52503",
            "edf39ad607a04af0a2d7e49ea60df59b",
            "73d7b63378964b91b80aad4de104315a",
            "ef3c5e2365f24201883f92ee6d56c646",
            "d7f1b5271fe844ef8a74676d85d56ee8",
            "45bdf39c462c4161a8ad16242b5bbc06",
            "91c072238135401abaeeb55a93d0d452"
          ]
        },
        "outputId": "30183e69-30ff-4add-c754-bc6deb3ad7f1",
        "id": "lYwsoVqr7njb"
      },
      "execution_count": null,
      "outputs": [
        {
          "output_type": "display_data",
          "data": {
            "text/plain": [
              "  0%|          | 0/41 [00:00<?, ?it/s]"
            ],
            "application/vnd.jupyter.widget-view+json": {
              "version_major": 2,
              "version_minor": 0,
              "model_id": "335855c503fe4b7398367e9da7c416a9"
            }
          },
          "metadata": {}
        },
        {
          "output_type": "stream",
          "name": "stdout",
          "text": [
            "Number of instances: 41\n",
            "Number of features: 24\n"
          ]
        }
      ]
    },
    {
      "cell_type": "markdown",
      "source": [
        "# Clasification Model"
      ],
      "metadata": {
        "id": "tQMkdg5WDv6l"
      }
    },
    {
      "cell_type": "markdown",
      "source": [
        "## Normalize data"
      ],
      "metadata": {
        "id": "TKkJHa_fD07l"
      }
    },
    {
      "cell_type": "code",
      "source": [
        "X = df_features.iloc[:, 0:df_features.shape[1]-2]\n",
        "Y = df_features.iloc[:, df_features.shape[1]-1]\n",
        "\n",
        "scaler = StandardScaler()\n",
        "X = scaler.fit_transform(X)"
      ],
      "metadata": {
        "id": "JT4ZE7bW1OQF"
      },
      "execution_count": 108,
      "outputs": []
    },
    {
      "cell_type": "markdown",
      "source": [
        "## Exporting normalized features to CSV file"
      ],
      "metadata": {
        "id": "QfSgSK-ND-0t"
      }
    },
    {
      "cell_type": "code",
      "source": [
        "Features = pd.DataFrame(X, Y)\n",
        "Features.to_csv('features.csv', index=False)\n",
        "Features.head()"
      ],
      "metadata": {
        "colab": {
          "base_uri": "https://localhost:8080/",
          "height": 331
        },
        "id": "6FeQBcDj1CJ2",
        "outputId": "23c7a9f5-cad2-423f-9745-2a1795f9ec8e"
      },
      "execution_count": 109,
      "outputs": [
        {
          "output_type": "execute_result",
          "data": {
            "text/plain": [
              "               0         1         2         3         4         5         6   \\\n",
              "28                                                                              \n",
              "mentira  0.765298  0.985807  0.486999  0.486406  0.843429  0.294840  0.149084   \n",
              "verdad   1.712786 -0.046857  0.512676  0.512084  1.809148  0.579470 -0.236556   \n",
              "verdad   1.551528 -0.345484  0.234034  0.234945  1.570157 -0.559052 -0.420186   \n",
              "mentira -0.115204  2.096485  0.669073  0.669242 -0.073517  1.701249  0.837137   \n",
              "mentira -1.258151  0.738132  0.310629  0.309984 -1.322125  1.801707  1.256097   \n",
              "\n",
              "               7         8         9   ...        13        14        15  \\\n",
              "28                                     ...                                 \n",
              "mentira  0.383727 -0.740389 -0.524920  ...  0.735371  0.482536  0.487017   \n",
              "verdad  -0.792572 -1.353281 -0.766613  ...  0.357530 -0.479238  0.515175   \n",
              "verdad  -0.955599 -1.265345 -1.353103  ...  0.117087 -0.591889  0.237049   \n",
              "mentira  1.916308  0.005733  0.884021  ...  1.129843  1.570207  0.665680   \n",
              "mentira  1.566151  1.249268  1.419865  ...  0.580686  0.357925  0.307434   \n",
              "\n",
              "               16        17        18        19        20        21        22  \n",
              "28                                                                             \n",
              "mentira  1.004142  0.013856  0.285111  0.486406  0.039367  0.358035  0.494764  \n",
              "verdad  -0.090527 -0.577397  1.099940  0.512084 -0.144240  0.500019  0.793130  \n",
              "verdad  -0.380407 -0.582849 -0.001699  0.234945 -0.370297 -0.063249  0.500315  \n",
              "mentira  2.149871  0.471480 -0.268993  0.669242  0.653324 -1.445318  0.551561  \n",
              "mentira  0.759113  0.008647 -1.623723  0.309984 -0.094639 -1.717357 -0.710926  \n",
              "\n",
              "[5 rows x 23 columns]"
            ],
            "text/html": [
              "\n",
              "  <div id=\"df-18c10367-9267-402b-9605-20b1321e9cd7\">\n",
              "    <div class=\"colab-df-container\">\n",
              "      <div>\n",
              "<style scoped>\n",
              "    .dataframe tbody tr th:only-of-type {\n",
              "        vertical-align: middle;\n",
              "    }\n",
              "\n",
              "    .dataframe tbody tr th {\n",
              "        vertical-align: top;\n",
              "    }\n",
              "\n",
              "    .dataframe thead th {\n",
              "        text-align: right;\n",
              "    }\n",
              "</style>\n",
              "<table border=\"1\" class=\"dataframe\">\n",
              "  <thead>\n",
              "    <tr style=\"text-align: right;\">\n",
              "      <th></th>\n",
              "      <th>0</th>\n",
              "      <th>1</th>\n",
              "      <th>2</th>\n",
              "      <th>3</th>\n",
              "      <th>4</th>\n",
              "      <th>5</th>\n",
              "      <th>6</th>\n",
              "      <th>7</th>\n",
              "      <th>8</th>\n",
              "      <th>9</th>\n",
              "      <th>...</th>\n",
              "      <th>13</th>\n",
              "      <th>14</th>\n",
              "      <th>15</th>\n",
              "      <th>16</th>\n",
              "      <th>17</th>\n",
              "      <th>18</th>\n",
              "      <th>19</th>\n",
              "      <th>20</th>\n",
              "      <th>21</th>\n",
              "      <th>22</th>\n",
              "    </tr>\n",
              "    <tr>\n",
              "      <th>28</th>\n",
              "      <th></th>\n",
              "      <th></th>\n",
              "      <th></th>\n",
              "      <th></th>\n",
              "      <th></th>\n",
              "      <th></th>\n",
              "      <th></th>\n",
              "      <th></th>\n",
              "      <th></th>\n",
              "      <th></th>\n",
              "      <th></th>\n",
              "      <th></th>\n",
              "      <th></th>\n",
              "      <th></th>\n",
              "      <th></th>\n",
              "      <th></th>\n",
              "      <th></th>\n",
              "      <th></th>\n",
              "      <th></th>\n",
              "      <th></th>\n",
              "      <th></th>\n",
              "    </tr>\n",
              "  </thead>\n",
              "  <tbody>\n",
              "    <tr>\n",
              "      <th>mentira</th>\n",
              "      <td>0.765298</td>\n",
              "      <td>0.985807</td>\n",
              "      <td>0.486999</td>\n",
              "      <td>0.486406</td>\n",
              "      <td>0.843429</td>\n",
              "      <td>0.294840</td>\n",
              "      <td>0.149084</td>\n",
              "      <td>0.383727</td>\n",
              "      <td>-0.740389</td>\n",
              "      <td>-0.524920</td>\n",
              "      <td>...</td>\n",
              "      <td>0.735371</td>\n",
              "      <td>0.482536</td>\n",
              "      <td>0.487017</td>\n",
              "      <td>1.004142</td>\n",
              "      <td>0.013856</td>\n",
              "      <td>0.285111</td>\n",
              "      <td>0.486406</td>\n",
              "      <td>0.039367</td>\n",
              "      <td>0.358035</td>\n",
              "      <td>0.494764</td>\n",
              "    </tr>\n",
              "    <tr>\n",
              "      <th>verdad</th>\n",
              "      <td>1.712786</td>\n",
              "      <td>-0.046857</td>\n",
              "      <td>0.512676</td>\n",
              "      <td>0.512084</td>\n",
              "      <td>1.809148</td>\n",
              "      <td>0.579470</td>\n",
              "      <td>-0.236556</td>\n",
              "      <td>-0.792572</td>\n",
              "      <td>-1.353281</td>\n",
              "      <td>-0.766613</td>\n",
              "      <td>...</td>\n",
              "      <td>0.357530</td>\n",
              "      <td>-0.479238</td>\n",
              "      <td>0.515175</td>\n",
              "      <td>-0.090527</td>\n",
              "      <td>-0.577397</td>\n",
              "      <td>1.099940</td>\n",
              "      <td>0.512084</td>\n",
              "      <td>-0.144240</td>\n",
              "      <td>0.500019</td>\n",
              "      <td>0.793130</td>\n",
              "    </tr>\n",
              "    <tr>\n",
              "      <th>verdad</th>\n",
              "      <td>1.551528</td>\n",
              "      <td>-0.345484</td>\n",
              "      <td>0.234034</td>\n",
              "      <td>0.234945</td>\n",
              "      <td>1.570157</td>\n",
              "      <td>-0.559052</td>\n",
              "      <td>-0.420186</td>\n",
              "      <td>-0.955599</td>\n",
              "      <td>-1.265345</td>\n",
              "      <td>-1.353103</td>\n",
              "      <td>...</td>\n",
              "      <td>0.117087</td>\n",
              "      <td>-0.591889</td>\n",
              "      <td>0.237049</td>\n",
              "      <td>-0.380407</td>\n",
              "      <td>-0.582849</td>\n",
              "      <td>-0.001699</td>\n",
              "      <td>0.234945</td>\n",
              "      <td>-0.370297</td>\n",
              "      <td>-0.063249</td>\n",
              "      <td>0.500315</td>\n",
              "    </tr>\n",
              "    <tr>\n",
              "      <th>mentira</th>\n",
              "      <td>-0.115204</td>\n",
              "      <td>2.096485</td>\n",
              "      <td>0.669073</td>\n",
              "      <td>0.669242</td>\n",
              "      <td>-0.073517</td>\n",
              "      <td>1.701249</td>\n",
              "      <td>0.837137</td>\n",
              "      <td>1.916308</td>\n",
              "      <td>0.005733</td>\n",
              "      <td>0.884021</td>\n",
              "      <td>...</td>\n",
              "      <td>1.129843</td>\n",
              "      <td>1.570207</td>\n",
              "      <td>0.665680</td>\n",
              "      <td>2.149871</td>\n",
              "      <td>0.471480</td>\n",
              "      <td>-0.268993</td>\n",
              "      <td>0.669242</td>\n",
              "      <td>0.653324</td>\n",
              "      <td>-1.445318</td>\n",
              "      <td>0.551561</td>\n",
              "    </tr>\n",
              "    <tr>\n",
              "      <th>mentira</th>\n",
              "      <td>-1.258151</td>\n",
              "      <td>0.738132</td>\n",
              "      <td>0.310629</td>\n",
              "      <td>0.309984</td>\n",
              "      <td>-1.322125</td>\n",
              "      <td>1.801707</td>\n",
              "      <td>1.256097</td>\n",
              "      <td>1.566151</td>\n",
              "      <td>1.249268</td>\n",
              "      <td>1.419865</td>\n",
              "      <td>...</td>\n",
              "      <td>0.580686</td>\n",
              "      <td>0.357925</td>\n",
              "      <td>0.307434</td>\n",
              "      <td>0.759113</td>\n",
              "      <td>0.008647</td>\n",
              "      <td>-1.623723</td>\n",
              "      <td>0.309984</td>\n",
              "      <td>-0.094639</td>\n",
              "      <td>-1.717357</td>\n",
              "      <td>-0.710926</td>\n",
              "    </tr>\n",
              "  </tbody>\n",
              "</table>\n",
              "<p>5 rows × 23 columns</p>\n",
              "</div>\n",
              "      <button class=\"colab-df-convert\" onclick=\"convertToInteractive('df-18c10367-9267-402b-9605-20b1321e9cd7')\"\n",
              "              title=\"Convert this dataframe to an interactive table.\"\n",
              "              style=\"display:none;\">\n",
              "        \n",
              "  <svg xmlns=\"http://www.w3.org/2000/svg\" height=\"24px\"viewBox=\"0 0 24 24\"\n",
              "       width=\"24px\">\n",
              "    <path d=\"M0 0h24v24H0V0z\" fill=\"none\"/>\n",
              "    <path d=\"M18.56 5.44l.94 2.06.94-2.06 2.06-.94-2.06-.94-.94-2.06-.94 2.06-2.06.94zm-11 1L8.5 8.5l.94-2.06 2.06-.94-2.06-.94L8.5 2.5l-.94 2.06-2.06.94zm10 10l.94 2.06.94-2.06 2.06-.94-2.06-.94-.94-2.06-.94 2.06-2.06.94z\"/><path d=\"M17.41 7.96l-1.37-1.37c-.4-.4-.92-.59-1.43-.59-.52 0-1.04.2-1.43.59L10.3 9.45l-7.72 7.72c-.78.78-.78 2.05 0 2.83L4 21.41c.39.39.9.59 1.41.59.51 0 1.02-.2 1.41-.59l7.78-7.78 2.81-2.81c.8-.78.8-2.07 0-2.86zM5.41 20L4 18.59l7.72-7.72 1.47 1.35L5.41 20z\"/>\n",
              "  </svg>\n",
              "      </button>\n",
              "      \n",
              "  <style>\n",
              "    .colab-df-container {\n",
              "      display:flex;\n",
              "      flex-wrap:wrap;\n",
              "      gap: 12px;\n",
              "    }\n",
              "\n",
              "    .colab-df-convert {\n",
              "      background-color: #E8F0FE;\n",
              "      border: none;\n",
              "      border-radius: 50%;\n",
              "      cursor: pointer;\n",
              "      display: none;\n",
              "      fill: #1967D2;\n",
              "      height: 32px;\n",
              "      padding: 0 0 0 0;\n",
              "      width: 32px;\n",
              "    }\n",
              "\n",
              "    .colab-df-convert:hover {\n",
              "      background-color: #E2EBFA;\n",
              "      box-shadow: 0px 1px 2px rgba(60, 64, 67, 0.3), 0px 1px 3px 1px rgba(60, 64, 67, 0.15);\n",
              "      fill: #174EA6;\n",
              "    }\n",
              "\n",
              "    [theme=dark] .colab-df-convert {\n",
              "      background-color: #3B4455;\n",
              "      fill: #D2E3FC;\n",
              "    }\n",
              "\n",
              "    [theme=dark] .colab-df-convert:hover {\n",
              "      background-color: #434B5C;\n",
              "      box-shadow: 0px 1px 3px 1px rgba(0, 0, 0, 0.15);\n",
              "      filter: drop-shadow(0px 1px 2px rgba(0, 0, 0, 0.3));\n",
              "      fill: #FFFFFF;\n",
              "    }\n",
              "  </style>\n",
              "\n",
              "      <script>\n",
              "        const buttonEl =\n",
              "          document.querySelector('#df-18c10367-9267-402b-9605-20b1321e9cd7 button.colab-df-convert');\n",
              "        buttonEl.style.display =\n",
              "          google.colab.kernel.accessAllowed ? 'block' : 'none';\n",
              "\n",
              "        async function convertToInteractive(key) {\n",
              "          const element = document.querySelector('#df-18c10367-9267-402b-9605-20b1321e9cd7');\n",
              "          const dataTable =\n",
              "            await google.colab.kernel.invokeFunction('convertToInteractive',\n",
              "                                                     [key], {});\n",
              "          if (!dataTable) return;\n",
              "\n",
              "          const docLinkHtml = 'Like what you see? Visit the ' +\n",
              "            '<a target=\"_blank\" href=https://colab.research.google.com/notebooks/data_table.ipynb>data table notebook</a>'\n",
              "            + ' to learn more about interactive tables.';\n",
              "          element.innerHTML = '';\n",
              "          dataTable['output_type'] = 'display_data';\n",
              "          await google.colab.output.renderOutput(dataTable, element);\n",
              "          const docLink = document.createElement('div');\n",
              "          docLink.innerHTML = docLinkHtml;\n",
              "          element.appendChild(docLink);\n",
              "        }\n",
              "      </script>\n",
              "    </div>\n",
              "  </div>\n",
              "  "
            ]
          },
          "metadata": {},
          "execution_count": 109
        }
      ]
    },
    {
      "cell_type": "markdown",
      "source": [
        "## Splitting data"
      ],
      "metadata": {
        "id": "8da8HBHWSpl0"
      }
    },
    {
      "cell_type": "code",
      "source": [
        "X_train, X_test, Y_train, Y_test = train_test_split(X, Y, random_state=0, shuffle=True)"
      ],
      "metadata": {
        "id": "0-D_rXCaSoFE"
      },
      "execution_count": 110,
      "outputs": []
    },
    {
      "cell_type": "markdown",
      "source": [
        "## Models"
      ],
      "metadata": {
        "id": "bBTXQOWxiSR0"
      }
    },
    {
      "cell_type": "markdown",
      "source": [
        "### Decision Tree Classifier"
      ],
      "metadata": {
        "id": "KKPAbJbMXAtC"
      }
    },
    {
      "cell_type": "markdown",
      "source": [
        "#### Initialize model, Training and Predicting"
      ],
      "metadata": {
        "id": "OC4ryv_uS0Z9"
      }
    },
    {
      "cell_type": "code",
      "source": [
        "# Initialize model\n",
        "model_dt = DecisionTreeClassifier()\n",
        "\n",
        "# Training model\n",
        "model_dt.fit(X_train, Y_train)\n",
        "\n",
        "# Predicting for the test set\n",
        "Y_pred_dt = model_dt.predict(X_test)"
      ],
      "metadata": {
        "id": "ygdc-u2ES3Wk"
      },
      "execution_count": 111,
      "outputs": []
    },
    {
      "cell_type": "markdown",
      "source": [
        "#### Confusion matrix and metrics"
      ],
      "metadata": {
        "id": "p-AbtBAJTQxE"
      }
    },
    {
      "cell_type": "code",
      "source": [
        "ax= plt.subplot()\n",
        "cm = confusion_matrix(Y_test, Y_pred_dt)\n",
        "sns.heatmap(cm, annot=True, fmt='g', cmap = 'Blues', ax=ax);  #annot=True to annotate cells, ftm='g' to disable scientific notation\n",
        "\n",
        "# labels, title and ticks\n",
        "ax.set_xlabel('Predicted labels')\n",
        "ax.set_ylabel('Actual labels')\n",
        "ax.set_title('Confusion Matrix')\n",
        "ax.xaxis.set_ticklabels(count_label.Label)\n",
        "ax.yaxis.set_ticklabels(count_label.Label);\n",
        "\n",
        "# metrics\n",
        "print(classification_report(Y_test, Y_pred_dt))"
      ],
      "metadata": {
        "colab": {
          "base_uri": "https://localhost:8080/",
          "height": 462
        },
        "id": "yzOeTplWTSW9",
        "outputId": "4a1c2183-5b41-4dd0-e123-9d86c560cae5"
      },
      "execution_count": 113,
      "outputs": [
        {
          "output_type": "stream",
          "name": "stdout",
          "text": [
            "              precision    recall  f1-score   support\n",
            "\n",
            "     mentira       0.43      0.75      0.55         4\n",
            "      verdad       0.75      0.43      0.55         7\n",
            "\n",
            "    accuracy                           0.55        11\n",
            "   macro avg       0.59      0.59      0.55        11\n",
            "weighted avg       0.63      0.55      0.55        11\n",
            "\n"
          ]
        },
        {
          "output_type": "display_data",
          "data": {
            "text/plain": [
              "<Figure size 432x288 with 2 Axes>"
            ],
            "image/png": "[encoded data removed]"
          },
          "metadata": {}
        }
      ]
    },
    {
      "cell_type": "markdown",
      "source": [
        "### Naive Bayes Classifier"
      ],
      "metadata": {
        "id": "RI4Nc9YqiyjV"
      }
    },
    {
      "cell_type": "markdown",
      "source": [
        "#### Initialize model, Training and Predicting"
      ],
      "metadata": {
        "id": "oG94zBjei4xt"
      }
    },
    {
      "cell_type": "code",
      "source": [
        "# Initialize model\n",
        "model_nb = GaussianNB()\n",
        "\n",
        "# Training model\n",
        "model_nb.fit(X_train, Y_train)\n",
        "\n",
        "# Predicting for the test set\n",
        "Y_pred_nv = model_nb.predict(X_test)"
      ],
      "metadata": {
        "id": "wKOSCy1vi7V3"
      },
      "execution_count": 116,
      "outputs": []
    },
    {
      "cell_type": "markdown",
      "source": [
        "#### Confusion matrix and metrics"
      ],
      "metadata": {
        "id": "qitTV653i41h"
      }
    },
    {
      "cell_type": "code",
      "source": [
        "ax= plt.subplot()\n",
        "cm = confusion_matrix(Y_test, Y_pred_nv)\n",
        "sns.heatmap(cm, annot=True, fmt='g', cmap = 'Blues', ax=ax);  #annot=True to annotate cells, ftm='g' to disable scientific notation\n",
        "\n",
        "# labels, title and ticks\n",
        "ax.set_xlabel('Predicted labels')\n",
        "ax.set_ylabel('Actual labels')\n",
        "ax.set_title('Confusion Matrix')\n",
        "ax.xaxis.set_ticklabels(count_label.Label)\n",
        "ax.yaxis.set_ticklabels(count_label.Label);\n",
        "\n",
        "# metrics\n",
        "print(classification_report(Y_test, Y_pred_nv))"
      ],
      "metadata": {
        "colab": {
          "base_uri": "https://localhost:8080/",
          "height": 462
        },
        "id": "mcfcM0JPigau",
        "outputId": "a4cac280-d68b-4e56-85c1-1b8d7ce6eafe"
      },
      "execution_count": 118,
      "outputs": [
        {
          "output_type": "stream",
          "name": "stdout",
          "text": [
            "              precision    recall  f1-score   support\n",
            "\n",
            "     mentira       0.75      0.75      0.75         4\n",
            "      verdad       0.86      0.86      0.86         7\n",
            "\n",
            "    accuracy                           0.82        11\n",
            "   macro avg       0.80      0.80      0.80        11\n",
            "weighted avg       0.82      0.82      0.82        11\n",
            "\n"
          ]
        },
        {
          "output_type": "display_data",
          "data": {
            "text/plain": [
              "<Figure size 432x288 with 2 Axes>"
            ],
            "image/png": "[encoded data removed]"
          },
          "metadata": {}
        }
      ]
    },
    {
      "cell_type": "markdown",
      "source": [
        "### Support Vector Machines (SVM)"
      ],
      "metadata": {
        "id": "AxkJhrV_p00m"
      }
    },
    {
      "cell_type": "markdown",
      "source": [
        "#### Initialize model, Training and Predicting"
      ],
      "metadata": {
        "id": "FiEUq9uEp__O"
      }
    },
    {
      "cell_type": "code",
      "source": [
        "# Initialize model\n",
        "model_svc = SVC(kernel='linear')\n",
        "\n",
        "# Training model\n",
        "model_svc.fit(X_train, Y_train)\n",
        "\n",
        "# Predicting for the test set\n",
        "Y_pred_svm = model_svc.predict(X_test)"
      ],
      "metadata": {
        "id": "xQ_qc2lpqCtM"
      },
      "execution_count": 119,
      "outputs": []
    },
    {
      "cell_type": "markdown",
      "source": [
        "#### Confusion matrix and metrics"
      ],
      "metadata": {
        "id": "gq9zkC1sqDB_"
      }
    },
    {
      "cell_type": "code",
      "source": [
        "ax= plt.subplot()\n",
        "cm = confusion_matrix(Y_test, Y_pred_svm)\n",
        "sns.heatmap(cm, annot=True, fmt='g', cmap = 'Blues', ax=ax);  #annot=True to annotate cells, ftm='g' to disable scientific notation\n",
        "\n",
        "# labels, title and ticks\n",
        "ax.set_xlabel('Predicted labels')\n",
        "ax.set_ylabel('Actual labels')\n",
        "ax.set_title('Confusion Matrix')\n",
        "ax.xaxis.set_ticklabels(count_label.Label)\n",
        "ax.yaxis.set_ticklabels(count_label.Label);\n",
        "\n",
        "# metrics\n",
        "print(classification_report(Y_test, Y_pred_svm))"
      ],
      "metadata": {
        "colab": {
          "base_uri": "https://localhost:8080/",
          "height": 462
        },
        "id": "VBzsdCjaqYCN",
        "outputId": "36a4ec5c-ec31-409b-83ce-986e9f1de1e5"
      },
      "execution_count": 120,
      "outputs": [
        {
          "output_type": "stream",
          "name": "stdout",
          "text": [
            "              precision    recall  f1-score   support\n",
            "\n",
            "     mentira       0.50      0.75      0.60         4\n",
            "      verdad       0.80      0.57      0.67         7\n",
            "\n",
            "    accuracy                           0.64        11\n",
            "   macro avg       0.65      0.66      0.63        11\n",
            "weighted avg       0.69      0.64      0.64        11\n",
            "\n"
          ]
        },
        {
          "output_type": "display_data",
          "data": {
            "text/plain": [
              "<Figure size 432x288 with 2 Axes>"
            ],
            "image/png": "[encoded data removed]"
          },
          "metadata": {}
        }
      ]
    },
    {
      "cell_type": "markdown",
      "source": [
        "## Leave-One-Out Cross-Validation"
      ],
      "metadata": {
        "id": "haBhcPY5tGF8"
      }
    },
    {
      "cell_type": "code",
      "source": [
        "Xx = np.array(X)\n",
        "Yy = np.array(Y)\n",
        "\n",
        "# Models to test\n",
        "models = [ SVC(), GaussianNB(), DecisionTreeClassifier()]\n",
        "\n",
        "# Initialize LOOCV\n",
        "loo = LeaveOneOut()\n",
        "\n",
        "# inicializamos una lista para almacenar los resultados de cada modelo\n",
        "results = []\n",
        "\n",
        "# realizamos la validación cruzada dejando uno fuera para cada modelo\n",
        "for model in models:\n",
        "    result = []\n",
        "    for train_index, test_index in loo.split(X,y):\n",
        "        # Split\n",
        "        Xx_train, Xx_test = Xx[train_index], Xx[test_index]\n",
        "        Yy_train, Yy_test = Yy[train_index], Yy[test_index]\n",
        "\n",
        "        # Training\n",
        "        model.fit(Xx_train, Yy_train)\n",
        "\n",
        "        # Evaluating model\n",
        "        score = model.score(Xx_test, Yy_test)\n",
        "\n",
        "        # Save result\n",
        "        result.append(score)\n",
        "\n",
        "    # Average prediction error\n",
        "    error = 1 - sum(result) / len(result)\n",
        "\n",
        "    # Save result\n",
        "    results.append(error)\n",
        "\n",
        "# Selection of the best model\n",
        "index = results.index(min(results))\n",
        "best_model = models[index]\n",
        "\n",
        "print('The best model is: ', best_model, ' with average prediction error: ', min(results))\n"
      ],
      "metadata": {
        "colab": {
          "base_uri": "https://localhost:8080/"
        },
        "id": "IgOGZTxqz8Un",
        "outputId": "623d2876-d136-4163-9ee2-b0f4e722ab0d"
      },
      "execution_count": 121,
      "outputs": [
        {
          "output_type": "stream",
          "name": "stdout",
          "text": [
            "The best model is:  GaussianNB()  with average prediction error:  0.3902439024390244\n"
          ]
        }
      ]
    },
    {
      "cell_type": "markdown",
      "source": [
        "## Re-training the model"
      ],
      "metadata": {
        "id": "FsMuFkFG4b0u"
      }
    },
    {
      "cell_type": "code",
      "source": [
        "# Initialize the Multilayer-Perceptron Classifier\n",
        "model_nb = GaussianNB()\n",
        "\n",
        "# Re-training the model\n",
        "X_nb = scaler.fit_transform(X)\n",
        "Y_nb = Y\n",
        "model_nb.fit(X,Y)"
      ],
      "metadata": {
        "colab": {
          "base_uri": "https://localhost:8080/",
          "height": 75
        },
        "id": "9WfC4gXd4d1-",
        "outputId": "7b35ffbe-00b4-406e-a3bf-ef93c399a635"
      },
      "execution_count": 122,
      "outputs": [
        {
          "output_type": "execute_result",
          "data": {
            "text/plain": [
              "GaussianNB()"
            ],
            "text/html": [
              "<style>#sk-container-id-1 {color: black;background-color: white;}#sk-container-id-1 pre{padding: 0;}#sk-container-id-1 div.sk-toggleable {background-color: white;}#sk-container-id-1 label.sk-toggleable__label {cursor: pointer;display: block;width: 100%;margin-bottom: 0;padding: 0.3em;box-sizing: border-box;text-align: center;}#sk-container-id-1 label.sk-toggleable__label-arrow:before {content: \"▸\";float: left;margin-right: 0.25em;color: #696969;}#sk-container-id-1 label.sk-toggleable__label-arrow:hover:before {color: black;}#sk-container-id-1 div.sk-estimator:hover label.sk-toggleable__label-arrow:before {color: black;}#sk-container-id-1 div.sk-toggleable__content {max-height: 0;max-width: 0;overflow: hidden;text-align: left;background-color: #f0f8ff;}#sk-container-id-1 div.sk-toggleable__content pre {margin: 0.2em;color: black;border-radius: 0.25em;background-color: #f0f8ff;}#sk-container-id-1 input.sk-toggleable__control:checked~div.sk-toggleable__content {max-height: 200px;max-width: 100%;overflow: auto;}#sk-container-id-1 input.sk-toggleable__control:checked~label.sk-toggleable__label-arrow:before {content: \"▾\";}#sk-container-id-1 div.sk-estimator input.sk-toggleable__control:checked~label.sk-toggleable__label {background-color: #d4ebff;}#sk-container-id-1 div.sk-label input.sk-toggleable__control:checked~label.sk-toggleable__label {background-color: #d4ebff;}#sk-container-id-1 input.sk-hidden--visually {border: 0;clip: rect(1px 1px 1px 1px);clip: rect(1px, 1px, 1px, 1px);height: 1px;margin: -1px;overflow: hidden;padding: 0;position: absolute;width: 1px;}#sk-container-id-1 div.sk-estimator {font-family: monospace;background-color: #f0f8ff;border: 1px dotted black;border-radius: 0.25em;box-sizing: border-box;margin-bottom: 0.5em;}#sk-container-id-1 div.sk-estimator:hover {background-color: #d4ebff;}#sk-container-id-1 div.sk-parallel-item::after {content: \"\";width: 100%;border-bottom: 1px solid gray;flex-grow: 1;}#sk-container-id-1 div.sk-label:hover label.sk-toggleable__label {background-color: #d4ebff;}#sk-container-id-1 div.sk-serial::before {content: \"\";position: absolute;border-left: 1px solid gray;box-sizing: border-box;top: 0;bottom: 0;left: 50%;z-index: 0;}#sk-container-id-1 div.sk-serial {display: flex;flex-direction: column;align-items: center;background-color: white;padding-right: 0.2em;padding-left: 0.2em;position: relative;}#sk-container-id-1 div.sk-item {position: relative;z-index: 1;}#sk-container-id-1 div.sk-parallel {display: flex;align-items: stretch;justify-content: center;background-color: white;position: relative;}#sk-container-id-1 div.sk-item::before, #sk-container-id-1 div.sk-parallel-item::before {content: \"\";position: absolute;border-left: 1px solid gray;box-sizing: border-box;top: 0;bottom: 0;left: 50%;z-index: -1;}#sk-container-id-1 div.sk-parallel-item {display: flex;flex-direction: column;z-index: 1;position: relative;background-color: white;}#sk-container-id-1 div.sk-parallel-item:first-child::after {align-self: flex-end;width: 50%;}#sk-container-id-1 div.sk-parallel-item:last-child::after {align-self: flex-start;width: 50%;}#sk-container-id-1 div.sk-parallel-item:only-child::after {width: 0;}#sk-container-id-1 div.sk-dashed-wrapped {border: 1px dashed gray;margin: 0 0.4em 0.5em 0.4em;box-sizing: border-box;padding-bottom: 0.4em;background-color: white;}#sk-container-id-1 div.sk-label label {font-family: monospace;font-weight: bold;display: inline-block;line-height: 1.2em;}#sk-container-id-1 div.sk-label-container {text-align: center;}#sk-container-id-1 div.sk-container {/* jupyter's `normalize.less` sets `[hidden] { display: none; }` but bootstrap.min.css set `[hidden] { display: none !important; }` so we also need the `!important` here to be able to override the default hidden behavior on the sphinx rendered scikit-learn.org. See: https://github.com/scikit-learn/scikit-learn/issues/21755 */display: inline-block !important;position: relative;}#sk-container-id-1 div.sk-text-repr-fallback {display: none;}</style><div id=\"sk-container-id-1\" class=\"sk-top-container\"><div class=\"sk-text-repr-fallback\"><pre>GaussianNB()</pre><b>In a Jupyter environment, please rerun this cell to show the HTML representation or trust the notebook. <br />On GitHub, the HTML representation is unable to render, please try loading this page with nbviewer.org.</b></div><div class=\"sk-container\" hidden><div class=\"sk-item\"><div class=\"sk-estimator sk-toggleable\"><input class=\"sk-toggleable__control sk-hidden--visually\" id=\"sk-estimator-id-1\" type=\"checkbox\" checked><label for=\"sk-estimator-id-1\" class=\"sk-toggleable__label sk-toggleable__label-arrow\">GaussianNB</label><div class=\"sk-toggleable__content\"><pre>GaussianNB()</pre></div></div></div></div></div>"
            ]
          },
          "metadata": {},
          "execution_count": 122
        }
      ]
    },
    {
      "cell_type": "code",
      "source": [
        "#Saving the model\n",
        "import pickle\n",
        "# Save the Modle to file in the current working directory\n",
        "#For any new testing data other than the data in dataset\n",
        "\n",
        "Pkl_Filename = \"model.pkl\"  \n",
        "\n",
        "with open(Pkl_Filename, 'wb') as file:  \n",
        "    pickle.dump(model_nb, file)\n",
        "\n",
        "# Load the Model back from file\n",
        "with open(Pkl_Filename, 'rb') as file:  \n",
        "    Naive_Bayes_Model = pickle.load(file)\n",
        "Naive_Bayes_Model"
      ],
      "metadata": {
        "colab": {
          "base_uri": "https://localhost:8080/",
          "height": 75
        },
        "id": "AwnHDFs36Hnh",
        "outputId": "2bc7eed8-3c4a-4d7f-88b3-e3507fb53feb"
      },
      "execution_count": 185,
      "outputs": [
        {
          "output_type": "execute_result",
          "data": {
            "text/plain": [
              "GaussianNB()"
            ],
            "text/html": [
              "<style>#sk-container-id-4 {color: black;background-color: white;}#sk-container-id-4 pre{padding: 0;}#sk-container-id-4 div.sk-toggleable {background-color: white;}#sk-container-id-4 label.sk-toggleable__label {cursor: pointer;display: block;width: 100%;margin-bottom: 0;padding: 0.3em;box-sizing: border-box;text-align: center;}#sk-container-id-4 label.sk-toggleable__label-arrow:before {content: \"▸\";float: left;margin-right: 0.25em;color: #696969;}#sk-container-id-4 label.sk-toggleable__label-arrow:hover:before {color: black;}#sk-container-id-4 div.sk-estimator:hover label.sk-toggleable__label-arrow:before {color: black;}#sk-container-id-4 div.sk-toggleable__content {max-height: 0;max-width: 0;overflow: hidden;text-align: left;background-color: #f0f8ff;}#sk-container-id-4 div.sk-toggleable__content pre {margin: 0.2em;color: black;border-radius: 0.25em;background-color: #f0f8ff;}#sk-container-id-4 input.sk-toggleable__control:checked~div.sk-toggleable__content {max-height: 200px;max-width: 100%;overflow: auto;}#sk-container-id-4 input.sk-toggleable__control:checked~label.sk-toggleable__label-arrow:before {content: \"▾\";}#sk-container-id-4 div.sk-estimator input.sk-toggleable__control:checked~label.sk-toggleable__label {background-color: #d4ebff;}#sk-container-id-4 div.sk-label input.sk-toggleable__control:checked~label.sk-toggleable__label {background-color: #d4ebff;}#sk-container-id-4 input.sk-hidden--visually {border: 0;clip: rect(1px 1px 1px 1px);clip: rect(1px, 1px, 1px, 1px);height: 1px;margin: -1px;overflow: hidden;padding: 0;position: absolute;width: 1px;}#sk-container-id-4 div.sk-estimator {font-family: monospace;background-color: #f0f8ff;border: 1px dotted black;border-radius: 0.25em;box-sizing: border-box;margin-bottom: 0.5em;}#sk-container-id-4 div.sk-estimator:hover {background-color: #d4ebff;}#sk-container-id-4 div.sk-parallel-item::after {content: \"\";width: 100%;border-bottom: 1px solid gray;flex-grow: 1;}#sk-container-id-4 div.sk-label:hover label.sk-toggleable__label {background-color: #d4ebff;}#sk-container-id-4 div.sk-serial::before {content: \"\";position: absolute;border-left: 1px solid gray;box-sizing: border-box;top: 0;bottom: 0;left: 50%;z-index: 0;}#sk-container-id-4 div.sk-serial {display: flex;flex-direction: column;align-items: center;background-color: white;padding-right: 0.2em;padding-left: 0.2em;position: relative;}#sk-container-id-4 div.sk-item {position: relative;z-index: 1;}#sk-container-id-4 div.sk-parallel {display: flex;align-items: stretch;justify-content: center;background-color: white;position: relative;}#sk-container-id-4 div.sk-item::before, #sk-container-id-4 div.sk-parallel-item::before {content: \"\";position: absolute;border-left: 1px solid gray;box-sizing: border-box;top: 0;bottom: 0;left: 50%;z-index: -1;}#sk-container-id-4 div.sk-parallel-item {display: flex;flex-direction: column;z-index: 1;position: relative;background-color: white;}#sk-container-id-4 div.sk-parallel-item:first-child::after {align-self: flex-end;width: 50%;}#sk-container-id-4 div.sk-parallel-item:last-child::after {align-self: flex-start;width: 50%;}#sk-container-id-4 div.sk-parallel-item:only-child::after {width: 0;}#sk-container-id-4 div.sk-dashed-wrapped {border: 1px dashed gray;margin: 0 0.4em 0.5em 0.4em;box-sizing: border-box;padding-bottom: 0.4em;background-color: white;}#sk-container-id-4 div.sk-label label {font-family: monospace;font-weight: bold;display: inline-block;line-height: 1.2em;}#sk-container-id-4 div.sk-label-container {text-align: center;}#sk-container-id-4 div.sk-container {/* jupyter's `normalize.less` sets `[hidden] { display: none; }` but bootstrap.min.css set `[hidden] { display: none !important; }` so we also need the `!important` here to be able to override the default hidden behavior on the sphinx rendered scikit-learn.org. See: https://github.com/scikit-learn/scikit-learn/issues/21755 */display: inline-block !important;position: relative;}#sk-container-id-4 div.sk-text-repr-fallback {display: none;}</style><div id=\"sk-container-id-4\" class=\"sk-top-container\"><div class=\"sk-text-repr-fallback\"><pre>GaussianNB()</pre><b>In a Jupyter environment, please rerun this cell to show the HTML representation or trust the notebook. <br />On GitHub, the HTML representation is unable to render, please try loading this page with nbviewer.org.</b></div><div class=\"sk-container\" hidden><div class=\"sk-item\"><div class=\"sk-estimator sk-toggleable\"><input class=\"sk-toggleable__control sk-hidden--visually\" id=\"sk-estimator-id-4\" type=\"checkbox\" checked><label for=\"sk-estimator-id-4\" class=\"sk-toggleable__label sk-toggleable__label-arrow\">GaussianNB</label><div class=\"sk-toggleable__content\"><pre>GaussianNB()</pre></div></div></div></div></div>"
            ]
          },
          "metadata": {},
          "execution_count": 185
        }
      ]
    },
    {
      "cell_type": "markdown",
      "source": [
        "# External validation"
      ],
      "metadata": {
        "id": "qaugh6Vc7CNt"
      }
    },
    {
      "cell_type": "markdown",
      "source": [
        "## Loading test data "
      ],
      "metadata": {
        "id": "nITvwVnw8rI1"
      }
    },
    {
      "cell_type": "code",
      "source": [
        "# Loading CSV files \n",
        "csv_files = [os.path.abspath(x) for x in glob.glob('/content/drive/MyDrive/datos fisiologicos/*/[Test]*.csv')]\n",
        "\n",
        "file_name = []\n",
        "file_path = []\n",
        "\n",
        "# Paths and labels to the files found\n",
        "for path in tqdm_notebook(csv_files):\n",
        "    part = os.path.basename(path)\n",
        "    name = part.split('.')[0]       \n",
        "    file_name.append(name)\n",
        "    file_path.append(path)  \n",
        "\n",
        "# Creating dataframe\n",
        "file_name_df = pd.DataFrame(file_name, columns=['File_Name'])\n",
        "path_df = pd.DataFrame(file_path, columns=['Path'])\n",
        "dataset_df = pd.concat([path_df], axis = 1) "
      ],
      "metadata": {
        "colab": {
          "base_uri": "https://localhost:8080/",
          "height": 49,
          "referenced_widgets": [
            "787b875616484584a5e872310f3db0dd",
            "0ed736f5587041a9aa1e5a113a74acb1",
            "d9caf6954c9f4c058d53f807d4e9b2f8",
            "87f6a6e14b9b47ada4945fb7433aa533",
            "3df83f6832e34dc3a9b2e892848c1e70",
            "9f43ca6fb6004396a05ced25a078dea1",
            "ea1d1af5a35a470080d923b00c1dc958",
            "5b36cb3d87124a3681edfaa8c525e7a8",
            "58de1b09b4284f438c0b70b8b0777c93",
            "3a39a108eb5c4addb7f9669677916dbf",
            "ea7c31d6e6664f2abe10295c3963fe13"
          ]
        },
        "id": "ykdjZm6G7GlV",
        "outputId": "fca61c28-3f14-4636-c464-bd00f863f44d"
      },
      "execution_count": 181,
      "outputs": [
        {
          "output_type": "display_data",
          "data": {
            "text/plain": [
              "  0%|          | 0/4 [00:00<?, ?it/s]"
            ],
            "application/vnd.jupyter.widget-view+json": {
              "version_major": 2,
              "version_minor": 0,
              "model_id": "787b875616484584a5e872310f3db0dd"
            }
          },
          "metadata": {}
        }
      ]
    },
    {
      "cell_type": "markdown",
      "source": [
        "## Get feature vector"
      ],
      "metadata": {
        "id": "K3BLQ-c38kNM"
      }
    },
    {
      "cell_type": "code",
      "source": [
        "df_features = pd.DataFrame()\n",
        "\n",
        "for path in tqdm_notebook(dataset_df.Path): \n",
        "  # Loading csv data\n",
        "  df = pd.read_csv(path, delimiter=',',skiprows=112, skipinitialspace=True)\n",
        "  v = np.array(df.iloc[:,2])\n",
        "  v = list(filter(lambda x: x != '', v))\n",
        "  v = np.array(v)\n",
        "  v = v[~np.isnan(v)]\n",
        "\n",
        "  # Obtaining characteristics\n",
        "  features = extract_features(v)\n",
        "\n",
        "  v2 = np.fft.fft(v)\n",
        "  v2 = np.real(v2)\n",
        "  features_statistics = statistics(v2)\n",
        "  vector_features = np.concatenate((features, features_statistics))\n",
        "\n",
        "  df_features = pd.concat([df_features, pd.DataFrame(vector_features).T], axis=0)\n",
        "\n",
        "  # Characteristics that the value is to be made zero\n",
        "  df_features = df_features.drop([3, 4 ,5 ,6], axis=1)\n",
        "\n",
        "print(\"Number of instances:\", df_features.shape[0])\n",
        "print(\"Number of features:\", df_features.shape[1]-1)"
      ],
      "metadata": {
        "colab": {
          "base_uri": "https://localhost:8080/",
          "height": 85,
          "referenced_widgets": [
            "20c209361f1c41a3ab33149d445cb6c4",
            "e22f4f7752bd4caaad80368bea4560d6",
            "b2effe06dbdd4039a6baaab7de6e4526",
            "e22537c2aba846d68312a2607614a496",
            "720f45f802214fb399b762419eef7d46",
            "dd991151eb9344f0af930ddd2de36de2",
            "d65e0b8f20ff47c49a599521934d12d1",
            "c5db30f0366541ec809eeb81c75b3e53",
            "fd0a2c20f280454d9b9fc4b0c173fbb8",
            "debc14ae3ebe4d3ca3ff799fbf9acf04",
            "aad5b758c1fe4522907f0615bcc0247f"
          ]
        },
        "id": "_PSwnA938ksi",
        "outputId": "e2410d78-8ec4-491c-effa-89cbd1d77ff4"
      },
      "execution_count": 182,
      "outputs": [
        {
          "output_type": "display_data",
          "data": {
            "text/plain": [
              "  0%|          | 0/4 [00:00<?, ?it/s]"
            ],
            "application/vnd.jupyter.widget-view+json": {
              "version_major": 2,
              "version_minor": 0,
              "model_id": "20c209361f1c41a3ab33149d445cb6c4"
            }
          },
          "metadata": {}
        },
        {
          "output_type": "stream",
          "name": "stdout",
          "text": [
            "Number of instances: 4\n",
            "Number of features: 23\n"
          ]
        }
      ]
    },
    {
      "cell_type": "markdown",
      "source": [
        "## Normalize data"
      ],
      "metadata": {
        "id": "wGS8xXo-86Pd"
      }
    },
    {
      "cell_type": "code",
      "source": [
        "X = df_features.iloc[:, 0:df_features.shape[1]-1]\n",
        "\n",
        "scaler = StandardScaler()\n",
        "X = scaler.fit_transform(X)"
      ],
      "metadata": {
        "id": "mG6yopU286gb"
      },
      "execution_count": 183,
      "outputs": []
    },
    {
      "cell_type": "markdown",
      "source": [
        "## Evaluating model "
      ],
      "metadata": {
        "id": "LusNmxMr9GmL"
      }
    },
    {
      "cell_type": "code",
      "source": [
        "prediction = Naive_Bayes_Model.predict(X)\n",
        "\n",
        "# Creating dataframe\n",
        "pred_df = pd.DataFrame(prediction, columns=['Prediction'])\n",
        "prediction_df = pd.concat([file_name_df, pred_df], axis = 1) \n",
        "\n",
        "print('Naive Bayes Model prediction:\\n\\n', prediction_df)"
      ],
      "metadata": {
        "colab": {
          "base_uri": "https://localhost:8080/"
        },
        "id": "nSGG9Nq59HDu",
        "outputId": "9f0fd276-deea-4e73-97a7-6bc1d7e70d5b"
      },
      "execution_count": 190,
      "outputs": [
        {
          "output_type": "stream",
          "name": "stdout",
          "text": [
            "Naive Bayes Model prediction:\n",
            "\n",
            "   File_Name Prediction\n",
            "0  Test_001    mentira\n",
            "1  Test_002     verdad\n",
            "2  Test_003    mentira\n",
            "3  Test_004     verdad\n"
          ]
        }
      ]
    }
  ]
}