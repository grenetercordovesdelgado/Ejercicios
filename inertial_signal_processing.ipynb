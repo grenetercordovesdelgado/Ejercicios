{
  "nbformat": 4,
  "nbformat_minor": 0,
  "metadata": {
    "colab": {
      "provenance": [],
      "collapsed_sections": [
        "FyT0tHjbtScD"
      ],
      "toc_visible": true,
      "authorship_tag": "ABX9TyN30GS6QwsW0er6bnVbng/7",
      "include_colab_link": true
    },
    "kernelspec": {
      "name": "python3",
      "display_name": "Python 3"
    },
    "language_info": {
      "name": "python"
    },
    "widgets": {
      "application/vnd.jupyter.widget-state+json": {
        "97f8f15aa3a949bf907b6081c46f2835": {
          "model_module": "@jupyter-widgets/controls",
          "model_name": "HBoxModel",
          "model_module_version": "1.5.0",
          "state": {
            "_dom_classes": [],
            "_model_module": "@jupyter-widgets/controls",
            "_model_module_version": "1.5.0",
            "_model_name": "HBoxModel",
            "_view_count": null,
            "_view_module": "@jupyter-widgets/controls",
            "_view_module_version": "1.5.0",
            "_view_name": "HBoxView",
            "box_style": "",
            "children": [
              "IPY_MODEL_2c85dbac3a4546dab645d93014f769fd",
              "IPY_MODEL_1ae80988acbf4cc5a0f37bb5a5b7e828",
              "IPY_MODEL_6c7e2125c8654f58b4e9848ea15d59f6"
            ],
            "layout": "IPY_MODEL_d03c80e0d1044f6391a81c5f7fdca265"
          }
        },
        "2c85dbac3a4546dab645d93014f769fd": {
          "model_module": "@jupyter-widgets/controls",
          "model_name": "HTMLModel",
          "model_module_version": "1.5.0",
          "state": {
            "_dom_classes": [],
            "_model_module": "@jupyter-widgets/controls",
            "_model_module_version": "1.5.0",
            "_model_name": "HTMLModel",
            "_view_count": null,
            "_view_module": "@jupyter-widgets/controls",
            "_view_module_version": "1.5.0",
            "_view_name": "HTMLView",
            "description": "",
            "description_tooltip": null,
            "layout": "IPY_MODEL_70031ae974b44037babbb0cc4523b725",
            "placeholder": "​",
            "style": "IPY_MODEL_627eb5ff1f544d6195c24c2c963a88c3",
            "value": "100%"
          }
        },
        "1ae80988acbf4cc5a0f37bb5a5b7e828": {
          "model_module": "@jupyter-widgets/controls",
          "model_name": "FloatProgressModel",
          "model_module_version": "1.5.0",
          "state": {
            "_dom_classes": [],
            "_model_module": "@jupyter-widgets/controls",
            "_model_module_version": "1.5.0",
            "_model_name": "FloatProgressModel",
            "_view_count": null,
            "_view_module": "@jupyter-widgets/controls",
            "_view_module_version": "1.5.0",
            "_view_name": "ProgressView",
            "bar_style": "success",
            "description": "",
            "description_tooltip": null,
            "layout": "IPY_MODEL_496643570f3e4d358398422d64bc9a2d",
            "max": 156,
            "min": 0,
            "orientation": "horizontal",
            "style": "IPY_MODEL_828f07f8857c4a2881b36597c8cd1b48",
            "value": 156
          }
        },
        "6c7e2125c8654f58b4e9848ea15d59f6": {
          "model_module": "@jupyter-widgets/controls",
          "model_name": "HTMLModel",
          "model_module_version": "1.5.0",
          "state": {
            "_dom_classes": [],
            "_model_module": "@jupyter-widgets/controls",
            "_model_module_version": "1.5.0",
            "_model_name": "HTMLModel",
            "_view_count": null,
            "_view_module": "@jupyter-widgets/controls",
            "_view_module_version": "1.5.0",
            "_view_name": "HTMLView",
            "description": "",
            "description_tooltip": null,
            "layout": "IPY_MODEL_8614a0b1cd44415fa9e4ec500bea53ea",
            "placeholder": "​",
            "style": "IPY_MODEL_a8118cb969cc45cabdd22866f78eb45c",
            "value": " 156/156 [00:00&lt;00:00, 4342.85it/s]"
          }
        },
        "d03c80e0d1044f6391a81c5f7fdca265": {
          "model_module": "@jupyter-widgets/base",
          "model_name": "LayoutModel",
          "model_module_version": "1.2.0",
          "state": {
            "_model_module": "@jupyter-widgets/base",
            "_model_module_version": "1.2.0",
            "_model_name": "LayoutModel",
            "_view_count": null,
            "_view_module": "@jupyter-widgets/base",
            "_view_module_version": "1.2.0",
            "_view_name": "LayoutView",
            "align_content": null,
            "align_items": null,
            "align_self": null,
            "border": null,
            "bottom": null,
            "display": null,
            "flex": null,
            "flex_flow": null,
            "grid_area": null,
            "grid_auto_columns": null,
            "grid_auto_flow": null,
            "grid_auto_rows": null,
            "grid_column": null,
            "grid_gap": null,
            "grid_row": null,
            "grid_template_areas": null,
            "grid_template_columns": null,
            "grid_template_rows": null,
            "height": null,
            "justify_content": null,
            "justify_items": null,
            "left": null,
            "margin": null,
            "max_height": null,
            "max_width": null,
            "min_height": null,
            "min_width": null,
            "object_fit": null,
            "object_position": null,
            "order": null,
            "overflow": null,
            "overflow_x": null,
            "overflow_y": null,
            "padding": null,
            "right": null,
            "top": null,
            "visibility": null,
            "width": null
          }
        },
        "70031ae974b44037babbb0cc4523b725": {
          "model_module": "@jupyter-widgets/base",
          "model_name": "LayoutModel",
          "model_module_version": "1.2.0",
          "state": {
            "_model_module": "@jupyter-widgets/base",
            "_model_module_version": "1.2.0",
            "_model_name": "LayoutModel",
            "_view_count": null,
            "_view_module": "@jupyter-widgets/base",
            "_view_module_version": "1.2.0",
            "_view_name": "LayoutView",
            "align_content": null,
            "align_items": null,
            "align_self": null,
            "border": null,
            "bottom": null,
            "display": null,
            "flex": null,
            "flex_flow": null,
            "grid_area": null,
            "grid_auto_columns": null,
            "grid_auto_flow": null,
            "grid_auto_rows": null,
            "grid_column": null,
            "grid_gap": null,
            "grid_row": null,
            "grid_template_areas": null,
            "grid_template_columns": null,
            "grid_template_rows": null,
            "height": null,
            "justify_content": null,
            "justify_items": null,
            "left": null,
            "margin": null,
            "max_height": null,
            "max_width": null,
            "min_height": null,
            "min_width": null,
            "object_fit": null,
            "object_position": null,
            "order": null,
            "overflow": null,
            "overflow_x": null,
            "overflow_y": null,
            "padding": null,
            "right": null,
            "top": null,
            "visibility": null,
            "width": null
          }
        },
        "627eb5ff1f544d6195c24c2c963a88c3": {
          "model_module": "@jupyter-widgets/controls",
          "model_name": "DescriptionStyleModel",
          "model_module_version": "1.5.0",
          "state": {
            "_model_module": "@jupyter-widgets/controls",
            "_model_module_version": "1.5.0",
            "_model_name": "DescriptionStyleModel",
            "_view_count": null,
            "_view_module": "@jupyter-widgets/base",
            "_view_module_version": "1.2.0",
            "_view_name": "StyleView",
            "description_width": ""
          }
        },
        "496643570f3e4d358398422d64bc9a2d": {
          "model_module": "@jupyter-widgets/base",
          "model_name": "LayoutModel",
          "model_module_version": "1.2.0",
          "state": {
            "_model_module": "@jupyter-widgets/base",
            "_model_module_version": "1.2.0",
            "_model_name": "LayoutModel",
            "_view_count": null,
            "_view_module": "@jupyter-widgets/base",
            "_view_module_version": "1.2.0",
            "_view_name": "LayoutView",
            "align_content": null,
            "align_items": null,
            "align_self": null,
            "border": null,
            "bottom": null,
            "display": null,
            "flex": null,
            "flex_flow": null,
            "grid_area": null,
            "grid_auto_columns": null,
            "grid_auto_flow": null,
            "grid_auto_rows": null,
            "grid_column": null,
            "grid_gap": null,
            "grid_row": null,
            "grid_template_areas": null,
            "grid_template_columns": null,
            "grid_template_rows": null,
            "height": null,
            "justify_content": null,
            "justify_items": null,
            "left": null,
            "margin": null,
            "max_height": null,
            "max_width": null,
            "min_height": null,
            "min_width": null,
            "object_fit": null,
            "object_position": null,
            "order": null,
            "overflow": null,
            "overflow_x": null,
            "overflow_y": null,
            "padding": null,
            "right": null,
            "top": null,
            "visibility": null,
            "width": null
          }
        },
        "828f07f8857c4a2881b36597c8cd1b48": {
          "model_module": "@jupyter-widgets/controls",
          "model_name": "ProgressStyleModel",
          "model_module_version": "1.5.0",
          "state": {
            "_model_module": "@jupyter-widgets/controls",
            "_model_module_version": "1.5.0",
            "_model_name": "ProgressStyleModel",
            "_view_count": null,
            "_view_module": "@jupyter-widgets/base",
            "_view_module_version": "1.2.0",
            "_view_name": "StyleView",
            "bar_color": null,
            "description_width": ""
          }
        },
        "8614a0b1cd44415fa9e4ec500bea53ea": {
          "model_module": "@jupyter-widgets/base",
          "model_name": "LayoutModel",
          "model_module_version": "1.2.0",
          "state": {
            "_model_module": "@jupyter-widgets/base",
            "_model_module_version": "1.2.0",
            "_model_name": "LayoutModel",
            "_view_count": null,
            "_view_module": "@jupyter-widgets/base",
            "_view_module_version": "1.2.0",
            "_view_name": "LayoutView",
            "align_content": null,
            "align_items": null,
            "align_self": null,
            "border": null,
            "bottom": null,
            "display": null,
            "flex": null,
            "flex_flow": null,
            "grid_area": null,
            "grid_auto_columns": null,
            "grid_auto_flow": null,
            "grid_auto_rows": null,
            "grid_column": null,
            "grid_gap": null,
            "grid_row": null,
            "grid_template_areas": null,
            "grid_template_columns": null,
            "grid_template_rows": null,
            "height": null,
            "justify_content": null,
            "justify_items": null,
            "left": null,
            "margin": null,
            "max_height": null,
            "max_width": null,
            "min_height": null,
            "min_width": null,
            "object_fit": null,
            "object_position": null,
            "order": null,
            "overflow": null,
            "overflow_x": null,
            "overflow_y": null,
            "padding": null,
            "right": null,
            "top": null,
            "visibility": null,
            "width": null
          }
        },
        "a8118cb969cc45cabdd22866f78eb45c": {
          "model_module": "@jupyter-widgets/controls",
          "model_name": "DescriptionStyleModel",
          "model_module_version": "1.5.0",
          "state": {
            "_model_module": "@jupyter-widgets/controls",
            "_model_module_version": "1.5.0",
            "_model_name": "DescriptionStyleModel",
            "_view_count": null,
            "_view_module": "@jupyter-widgets/base",
            "_view_module_version": "1.2.0",
            "_view_name": "StyleView",
            "description_width": ""
          }
        },
        "f329ac802c03401ea7567ec0d25a6359": {
          "model_module": "@jupyter-widgets/controls",
          "model_name": "HBoxModel",
          "model_module_version": "1.5.0",
          "state": {
            "_dom_classes": [],
            "_model_module": "@jupyter-widgets/controls",
            "_model_module_version": "1.5.0",
            "_model_name": "HBoxModel",
            "_view_count": null,
            "_view_module": "@jupyter-widgets/controls",
            "_view_module_version": "1.5.0",
            "_view_name": "HBoxView",
            "box_style": "",
            "children": [
              "IPY_MODEL_acbc0fc9dd9d481684005bdfb278c5ca",
              "IPY_MODEL_9d88863a5de54796be11bd1c36565beb",
              "IPY_MODEL_a595bc367f7b4effa2115a572671d28a"
            ],
            "layout": "IPY_MODEL_03b2d5d073ea4fa88c41258c4d2d8b3f"
          }
        },
        "acbc0fc9dd9d481684005bdfb278c5ca": {
          "model_module": "@jupyter-widgets/controls",
          "model_name": "HTMLModel",
          "model_module_version": "1.5.0",
          "state": {
            "_dom_classes": [],
            "_model_module": "@jupyter-widgets/controls",
            "_model_module_version": "1.5.0",
            "_model_name": "HTMLModel",
            "_view_count": null,
            "_view_module": "@jupyter-widgets/controls",
            "_view_module_version": "1.5.0",
            "_view_name": "HTMLView",
            "description": "",
            "description_tooltip": null,
            "layout": "IPY_MODEL_87fccc518bd542eea2597ace52cb74d1",
            "placeholder": "​",
            "style": "IPY_MODEL_f9b56b91064e4364b6ad4a7cd1b55d73",
            "value": "100%"
          }
        },
        "9d88863a5de54796be11bd1c36565beb": {
          "model_module": "@jupyter-widgets/controls",
          "model_name": "FloatProgressModel",
          "model_module_version": "1.5.0",
          "state": {
            "_dom_classes": [],
            "_model_module": "@jupyter-widgets/controls",
            "_model_module_version": "1.5.0",
            "_model_name": "FloatProgressModel",
            "_view_count": null,
            "_view_module": "@jupyter-widgets/controls",
            "_view_module_version": "1.5.0",
            "_view_name": "ProgressView",
            "bar_style": "success",
            "description": "",
            "description_tooltip": null,
            "layout": "IPY_MODEL_9635b6ca4f034094b12b67554dcda630",
            "max": 156,
            "min": 0,
            "orientation": "horizontal",
            "style": "IPY_MODEL_2b79ed9d09a046db84cb3cd8c499d747",
            "value": 156
          }
        },
        "a595bc367f7b4effa2115a572671d28a": {
          "model_module": "@jupyter-widgets/controls",
          "model_name": "HTMLModel",
          "model_module_version": "1.5.0",
          "state": {
            "_dom_classes": [],
            "_model_module": "@jupyter-widgets/controls",
            "_model_module_version": "1.5.0",
            "_model_name": "HTMLModel",
            "_view_count": null,
            "_view_module": "@jupyter-widgets/controls",
            "_view_module_version": "1.5.0",
            "_view_name": "HTMLView",
            "description": "",
            "description_tooltip": null,
            "layout": "IPY_MODEL_bd9197e81ae34e46875a6631557855ed",
            "placeholder": "​",
            "style": "IPY_MODEL_28e8dd00efe743e2b3361bb36d988be6",
            "value": " 156/156 [01:03&lt;00:00,  1.43it/s]"
          }
        },
        "03b2d5d073ea4fa88c41258c4d2d8b3f": {
          "model_module": "@jupyter-widgets/base",
          "model_name": "LayoutModel",
          "model_module_version": "1.2.0",
          "state": {
            "_model_module": "@jupyter-widgets/base",
            "_model_module_version": "1.2.0",
            "_model_name": "LayoutModel",
            "_view_count": null,
            "_view_module": "@jupyter-widgets/base",
            "_view_module_version": "1.2.0",
            "_view_name": "LayoutView",
            "align_content": null,
            "align_items": null,
            "align_self": null,
            "border": null,
            "bottom": null,
            "display": null,
            "flex": null,
            "flex_flow": null,
            "grid_area": null,
            "grid_auto_columns": null,
            "grid_auto_flow": null,
            "grid_auto_rows": null,
            "grid_column": null,
            "grid_gap": null,
            "grid_row": null,
            "grid_template_areas": null,
            "grid_template_columns": null,
            "grid_template_rows": null,
            "height": null,
            "justify_content": null,
            "justify_items": null,
            "left": null,
            "margin": null,
            "max_height": null,
            "max_width": null,
            "min_height": null,
            "min_width": null,
            "object_fit": null,
            "object_position": null,
            "order": null,
            "overflow": null,
            "overflow_x": null,
            "overflow_y": null,
            "padding": null,
            "right": null,
            "top": null,
            "visibility": null,
            "width": null
          }
        },
        "87fccc518bd542eea2597ace52cb74d1": {
          "model_module": "@jupyter-widgets/base",
          "model_name": "LayoutModel",
          "model_module_version": "1.2.0",
          "state": {
            "_model_module": "@jupyter-widgets/base",
            "_model_module_version": "1.2.0",
            "_model_name": "LayoutModel",
            "_view_count": null,
            "_view_module": "@jupyter-widgets/base",
            "_view_module_version": "1.2.0",
            "_view_name": "LayoutView",
            "align_content": null,
            "align_items": null,
            "align_self": null,
            "border": null,
            "bottom": null,
            "display": null,
            "flex": null,
            "flex_flow": null,
            "grid_area": null,
            "grid_auto_columns": null,
            "grid_auto_flow": null,
            "grid_auto_rows": null,
            "grid_column": null,
            "grid_gap": null,
            "grid_row": null,
            "grid_template_areas": null,
            "grid_template_columns": null,
            "grid_template_rows": null,
            "height": null,
            "justify_content": null,
            "justify_items": null,
            "left": null,
            "margin": null,
            "max_height": null,
            "max_width": null,
            "min_height": null,
            "min_width": null,
            "object_fit": null,
            "object_position": null,
            "order": null,
            "overflow": null,
            "overflow_x": null,
            "overflow_y": null,
            "padding": null,
            "right": null,
            "top": null,
            "visibility": null,
            "width": null
          }
        },
        "f9b56b91064e4364b6ad4a7cd1b55d73": {
          "model_module": "@jupyter-widgets/controls",
          "model_name": "DescriptionStyleModel",
          "model_module_version": "1.5.0",
          "state": {
            "_model_module": "@jupyter-widgets/controls",
            "_model_module_version": "1.5.0",
            "_model_name": "DescriptionStyleModel",
            "_view_count": null,
            "_view_module": "@jupyter-widgets/base",
            "_view_module_version": "1.2.0",
            "_view_name": "StyleView",
            "description_width": ""
          }
        },
        "9635b6ca4f034094b12b67554dcda630": {
          "model_module": "@jupyter-widgets/base",
          "model_name": "LayoutModel",
          "model_module_version": "1.2.0",
          "state": {
            "_model_module": "@jupyter-widgets/base",
            "_model_module_version": "1.2.0",
            "_model_name": "LayoutModel",
            "_view_count": null,
            "_view_module": "@jupyter-widgets/base",
            "_view_module_version": "1.2.0",
            "_view_name": "LayoutView",
            "align_content": null,
            "align_items": null,
            "align_self": null,
            "border": null,
            "bottom": null,
            "display": null,
            "flex": null,
            "flex_flow": null,
            "grid_area": null,
            "grid_auto_columns": null,
            "grid_auto_flow": null,
            "grid_auto_rows": null,
            "grid_column": null,
            "grid_gap": null,
            "grid_row": null,
            "grid_template_areas": null,
            "grid_template_columns": null,
            "grid_template_rows": null,
            "height": null,
            "justify_content": null,
            "justify_items": null,
            "left": null,
            "margin": null,
            "max_height": null,
            "max_width": null,
            "min_height": null,
            "min_width": null,
            "object_fit": null,
            "object_position": null,
            "order": null,
            "overflow": null,
            "overflow_x": null,
            "overflow_y": null,
            "padding": null,
            "right": null,
            "top": null,
            "visibility": null,
            "width": null
          }
        },
        "2b79ed9d09a046db84cb3cd8c499d747": {
          "model_module": "@jupyter-widgets/controls",
          "model_name": "ProgressStyleModel",
          "model_module_version": "1.5.0",
          "state": {
            "_model_module": "@jupyter-widgets/controls",
            "_model_module_version": "1.5.0",
            "_model_name": "ProgressStyleModel",
            "_view_count": null,
            "_view_module": "@jupyter-widgets/base",
            "_view_module_version": "1.2.0",
            "_view_name": "StyleView",
            "bar_color": null,
            "description_width": ""
          }
        },
        "bd9197e81ae34e46875a6631557855ed": {
          "model_module": "@jupyter-widgets/base",
          "model_name": "LayoutModel",
          "model_module_version": "1.2.0",
          "state": {
            "_model_module": "@jupyter-widgets/base",
            "_model_module_version": "1.2.0",
            "_model_name": "LayoutModel",
            "_view_count": null,
            "_view_module": "@jupyter-widgets/base",
            "_view_module_version": "1.2.0",
            "_view_name": "LayoutView",
            "align_content": null,
            "align_items": null,
            "align_self": null,
            "border": null,
            "bottom": null,
            "display": null,
            "flex": null,
            "flex_flow": null,
            "grid_area": null,
            "grid_auto_columns": null,
            "grid_auto_flow": null,
            "grid_auto_rows": null,
            "grid_column": null,
            "grid_gap": null,
            "grid_row": null,
            "grid_template_areas": null,
            "grid_template_columns": null,
            "grid_template_rows": null,
            "height": null,
            "justify_content": null,
            "justify_items": null,
            "left": null,
            "margin": null,
            "max_height": null,
            "max_width": null,
            "min_height": null,
            "min_width": null,
            "object_fit": null,
            "object_position": null,
            "order": null,
            "overflow": null,
            "overflow_x": null,
            "overflow_y": null,
            "padding": null,
            "right": null,
            "top": null,
            "visibility": null,
            "width": null
          }
        },
        "28e8dd00efe743e2b3361bb36d988be6": {
          "model_module": "@jupyter-widgets/controls",
          "model_name": "DescriptionStyleModel",
          "model_module_version": "1.5.0",
          "state": {
            "_model_module": "@jupyter-widgets/controls",
            "_model_module_version": "1.5.0",
            "_model_name": "DescriptionStyleModel",
            "_view_count": null,
            "_view_module": "@jupyter-widgets/base",
            "_view_module_version": "1.2.0",
            "_view_name": "StyleView",
            "description_width": ""
          }
        },
        "973c3f34c8704123932cb5447a4ead7f": {
          "model_module": "@jupyter-widgets/controls",
          "model_name": "HBoxModel",
          "model_module_version": "1.5.0",
          "state": {
            "_dom_classes": [],
            "_model_module": "@jupyter-widgets/controls",
            "_model_module_version": "1.5.0",
            "_model_name": "HBoxModel",
            "_view_count": null,
            "_view_module": "@jupyter-widgets/controls",
            "_view_module_version": "1.5.0",
            "_view_name": "HBoxView",
            "box_style": "",
            "children": [
              "IPY_MODEL_2d0d8ec4168a406faf1563379f4d8cde",
              "IPY_MODEL_5951576591044eb786dded8781822c98",
              "IPY_MODEL_b0d2e85c0cc64ea5bd65c725ea5467b3"
            ],
            "layout": "IPY_MODEL_b51425ba0d64471aad7b5ee05c543dde"
          }
        },
        "2d0d8ec4168a406faf1563379f4d8cde": {
          "model_module": "@jupyter-widgets/controls",
          "model_name": "HTMLModel",
          "model_module_version": "1.5.0",
          "state": {
            "_dom_classes": [],
            "_model_module": "@jupyter-widgets/controls",
            "_model_module_version": "1.5.0",
            "_model_name": "HTMLModel",
            "_view_count": null,
            "_view_module": "@jupyter-widgets/controls",
            "_view_module_version": "1.5.0",
            "_view_name": "HTMLView",
            "description": "",
            "description_tooltip": null,
            "layout": "IPY_MODEL_3dc1de1041e940a59c02d0979b245d1a",
            "placeholder": "​",
            "style": "IPY_MODEL_f28f45b824ca48c6ab1eda7dcde92d0b",
            "value": "100%"
          }
        },
        "5951576591044eb786dded8781822c98": {
          "model_module": "@jupyter-widgets/controls",
          "model_name": "FloatProgressModel",
          "model_module_version": "1.5.0",
          "state": {
            "_dom_classes": [],
            "_model_module": "@jupyter-widgets/controls",
            "_model_module_version": "1.5.0",
            "_model_name": "FloatProgressModel",
            "_view_count": null,
            "_view_module": "@jupyter-widgets/controls",
            "_view_module_version": "1.5.0",
            "_view_name": "ProgressView",
            "bar_style": "success",
            "description": "",
            "description_tooltip": null,
            "layout": "IPY_MODEL_e5d75fc261a74f48b5fbffde6b67beb4",
            "max": 35,
            "min": 0,
            "orientation": "horizontal",
            "style": "IPY_MODEL_18ef72fad54341488ee9a36cd1f9d750",
            "value": 35
          }
        },
        "b0d2e85c0cc64ea5bd65c725ea5467b3": {
          "model_module": "@jupyter-widgets/controls",
          "model_name": "HTMLModel",
          "model_module_version": "1.5.0",
          "state": {
            "_dom_classes": [],
            "_model_module": "@jupyter-widgets/controls",
            "_model_module_version": "1.5.0",
            "_model_name": "HTMLModel",
            "_view_count": null,
            "_view_module": "@jupyter-widgets/controls",
            "_view_module_version": "1.5.0",
            "_view_name": "HTMLView",
            "description": "",
            "description_tooltip": null,
            "layout": "IPY_MODEL_a1d21558d9434dd293182780dd9510b6",
            "placeholder": "​",
            "style": "IPY_MODEL_ec4fa460d3d74abdb129148ebda00824",
            "value": " 35/35 [00:00&lt;00:00, 1319.09it/s]"
          }
        },
        "b51425ba0d64471aad7b5ee05c543dde": {
          "model_module": "@jupyter-widgets/base",
          "model_name": "LayoutModel",
          "model_module_version": "1.2.0",
          "state": {
            "_model_module": "@jupyter-widgets/base",
            "_model_module_version": "1.2.0",
            "_model_name": "LayoutModel",
            "_view_count": null,
            "_view_module": "@jupyter-widgets/base",
            "_view_module_version": "1.2.0",
            "_view_name": "LayoutView",
            "align_content": null,
            "align_items": null,
            "align_self": null,
            "border": null,
            "bottom": null,
            "display": null,
            "flex": null,
            "flex_flow": null,
            "grid_area": null,
            "grid_auto_columns": null,
            "grid_auto_flow": null,
            "grid_auto_rows": null,
            "grid_column": null,
            "grid_gap": null,
            "grid_row": null,
            "grid_template_areas": null,
            "grid_template_columns": null,
            "grid_template_rows": null,
            "height": null,
            "justify_content": null,
            "justify_items": null,
            "left": null,
            "margin": null,
            "max_height": null,
            "max_width": null,
            "min_height": null,
            "min_width": null,
            "object_fit": null,
            "object_position": null,
            "order": null,
            "overflow": null,
            "overflow_x": null,
            "overflow_y": null,
            "padding": null,
            "right": null,
            "top": null,
            "visibility": null,
            "width": null
          }
        },
        "3dc1de1041e940a59c02d0979b245d1a": {
          "model_module": "@jupyter-widgets/base",
          "model_name": "LayoutModel",
          "model_module_version": "1.2.0",
          "state": {
            "_model_module": "@jupyter-widgets/base",
            "_model_module_version": "1.2.0",
            "_model_name": "LayoutModel",
            "_view_count": null,
            "_view_module": "@jupyter-widgets/base",
            "_view_module_version": "1.2.0",
            "_view_name": "LayoutView",
            "align_content": null,
            "align_items": null,
            "align_self": null,
            "border": null,
            "bottom": null,
            "display": null,
            "flex": null,
            "flex_flow": null,
            "grid_area": null,
            "grid_auto_columns": null,
            "grid_auto_flow": null,
            "grid_auto_rows": null,
            "grid_column": null,
            "grid_gap": null,
            "grid_row": null,
            "grid_template_areas": null,
            "grid_template_columns": null,
            "grid_template_rows": null,
            "height": null,
            "justify_content": null,
            "justify_items": null,
            "left": null,
            "margin": null,
            "max_height": null,
            "max_width": null,
            "min_height": null,
            "min_width": null,
            "object_fit": null,
            "object_position": null,
            "order": null,
            "overflow": null,
            "overflow_x": null,
            "overflow_y": null,
            "padding": null,
            "right": null,
            "top": null,
            "visibility": null,
            "width": null
          }
        },
        "f28f45b824ca48c6ab1eda7dcde92d0b": {
          "model_module": "@jupyter-widgets/controls",
          "model_name": "DescriptionStyleModel",
          "model_module_version": "1.5.0",
          "state": {
            "_model_module": "@jupyter-widgets/controls",
            "_model_module_version": "1.5.0",
            "_model_name": "DescriptionStyleModel",
            "_view_count": null,
            "_view_module": "@jupyter-widgets/base",
            "_view_module_version": "1.2.0",
            "_view_name": "StyleView",
            "description_width": ""
          }
        },
        "e5d75fc261a74f48b5fbffde6b67beb4": {
          "model_module": "@jupyter-widgets/base",
          "model_name": "LayoutModel",
          "model_module_version": "1.2.0",
          "state": {
            "_model_module": "@jupyter-widgets/base",
            "_model_module_version": "1.2.0",
            "_model_name": "LayoutModel",
            "_view_count": null,
            "_view_module": "@jupyter-widgets/base",
            "_view_module_version": "1.2.0",
            "_view_name": "LayoutView",
            "align_content": null,
            "align_items": null,
            "align_self": null,
            "border": null,
            "bottom": null,
            "display": null,
            "flex": null,
            "flex_flow": null,
            "grid_area": null,
            "grid_auto_columns": null,
            "grid_auto_flow": null,
            "grid_auto_rows": null,
            "grid_column": null,
            "grid_gap": null,
            "grid_row": null,
            "grid_template_areas": null,
            "grid_template_columns": null,
            "grid_template_rows": null,
            "height": null,
            "justify_content": null,
            "justify_items": null,
            "left": null,
            "margin": null,
            "max_height": null,
            "max_width": null,
            "min_height": null,
            "min_width": null,
            "object_fit": null,
            "object_position": null,
            "order": null,
            "overflow": null,
            "overflow_x": null,
            "overflow_y": null,
            "padding": null,
            "right": null,
            "top": null,
            "visibility": null,
            "width": null
          }
        },
        "18ef72fad54341488ee9a36cd1f9d750": {
          "model_module": "@jupyter-widgets/controls",
          "model_name": "ProgressStyleModel",
          "model_module_version": "1.5.0",
          "state": {
            "_model_module": "@jupyter-widgets/controls",
            "_model_module_version": "1.5.0",
            "_model_name": "ProgressStyleModel",
            "_view_count": null,
            "_view_module": "@jupyter-widgets/base",
            "_view_module_version": "1.2.0",
            "_view_name": "StyleView",
            "bar_color": null,
            "description_width": ""
          }
        },
        "a1d21558d9434dd293182780dd9510b6": {
          "model_module": "@jupyter-widgets/base",
          "model_name": "LayoutModel",
          "model_module_version": "1.2.0",
          "state": {
            "_model_module": "@jupyter-widgets/base",
            "_model_module_version": "1.2.0",
            "_model_name": "LayoutModel",
            "_view_count": null,
            "_view_module": "@jupyter-widgets/base",
            "_view_module_version": "1.2.0",
            "_view_name": "LayoutView",
            "align_content": null,
            "align_items": null,
            "align_self": null,
            "border": null,
            "bottom": null,
            "display": null,
            "flex": null,
            "flex_flow": null,
            "grid_area": null,
            "grid_auto_columns": null,
            "grid_auto_flow": null,
            "grid_auto_rows": null,
            "grid_column": null,
            "grid_gap": null,
            "grid_row": null,
            "grid_template_areas": null,
            "grid_template_columns": null,
            "grid_template_rows": null,
            "height": null,
            "justify_content": null,
            "justify_items": null,
            "left": null,
            "margin": null,
            "max_height": null,
            "max_width": null,
            "min_height": null,
            "min_width": null,
            "object_fit": null,
            "object_position": null,
            "order": null,
            "overflow": null,
            "overflow_x": null,
            "overflow_y": null,
            "padding": null,
            "right": null,
            "top": null,
            "visibility": null,
            "width": null
          }
        },
        "ec4fa460d3d74abdb129148ebda00824": {
          "model_module": "@jupyter-widgets/controls",
          "model_name": "DescriptionStyleModel",
          "model_module_version": "1.5.0",
          "state": {
            "_model_module": "@jupyter-widgets/controls",
            "_model_module_version": "1.5.0",
            "_model_name": "DescriptionStyleModel",
            "_view_count": null,
            "_view_module": "@jupyter-widgets/base",
            "_view_module_version": "1.2.0",
            "_view_name": "StyleView",
            "description_width": ""
          }
        },
        "51a092a4375447ab8b15d1a3dc612f55": {
          "model_module": "@jupyter-widgets/controls",
          "model_name": "HBoxModel",
          "model_module_version": "1.5.0",
          "state": {
            "_dom_classes": [],
            "_model_module": "@jupyter-widgets/controls",
            "_model_module_version": "1.5.0",
            "_model_name": "HBoxModel",
            "_view_count": null,
            "_view_module": "@jupyter-widgets/controls",
            "_view_module_version": "1.5.0",
            "_view_name": "HBoxView",
            "box_style": "",
            "children": [
              "IPY_MODEL_9da6f6e0b63b42d8947808dda4421a15",
              "IPY_MODEL_48f4b11589ff469daf84a11497c4aff5",
              "IPY_MODEL_87d59162a4304b93b07de4e5d8d1475a"
            ],
            "layout": "IPY_MODEL_e094f90f030a465998f62520c61ed350"
          }
        },
        "9da6f6e0b63b42d8947808dda4421a15": {
          "model_module": "@jupyter-widgets/controls",
          "model_name": "HTMLModel",
          "model_module_version": "1.5.0",
          "state": {
            "_dom_classes": [],
            "_model_module": "@jupyter-widgets/controls",
            "_model_module_version": "1.5.0",
            "_model_name": "HTMLModel",
            "_view_count": null,
            "_view_module": "@jupyter-widgets/controls",
            "_view_module_version": "1.5.0",
            "_view_name": "HTMLView",
            "description": "",
            "description_tooltip": null,
            "layout": "IPY_MODEL_0b28dbd1911f4232a74731b34236305c",
            "placeholder": "​",
            "style": "IPY_MODEL_dfe2ee2d1d10413c9144fe7891accc5d",
            "value": "100%"
          }
        },
        "48f4b11589ff469daf84a11497c4aff5": {
          "model_module": "@jupyter-widgets/controls",
          "model_name": "FloatProgressModel",
          "model_module_version": "1.5.0",
          "state": {
            "_dom_classes": [],
            "_model_module": "@jupyter-widgets/controls",
            "_model_module_version": "1.5.0",
            "_model_name": "FloatProgressModel",
            "_view_count": null,
            "_view_module": "@jupyter-widgets/controls",
            "_view_module_version": "1.5.0",
            "_view_name": "ProgressView",
            "bar_style": "success",
            "description": "",
            "description_tooltip": null,
            "layout": "IPY_MODEL_97593c59f9c3415b8b687e8d847bbba3",
            "max": 35,
            "min": 0,
            "orientation": "horizontal",
            "style": "IPY_MODEL_3f14e3ffa4c24010b69943a4aceffc86",
            "value": 35
          }
        },
        "87d59162a4304b93b07de4e5d8d1475a": {
          "model_module": "@jupyter-widgets/controls",
          "model_name": "HTMLModel",
          "model_module_version": "1.5.0",
          "state": {
            "_dom_classes": [],
            "_model_module": "@jupyter-widgets/controls",
            "_model_module_version": "1.5.0",
            "_model_name": "HTMLModel",
            "_view_count": null,
            "_view_module": "@jupyter-widgets/controls",
            "_view_module_version": "1.5.0",
            "_view_name": "HTMLView",
            "description": "",
            "description_tooltip": null,
            "layout": "IPY_MODEL_e252b5742ccb45ebb5f5674f89cfab5e",
            "placeholder": "​",
            "style": "IPY_MODEL_77c76c05c4a54c879200bb3ee23ed065",
            "value": " 35/35 [00:12&lt;00:00,  5.52it/s]"
          }
        },
        "e094f90f030a465998f62520c61ed350": {
          "model_module": "@jupyter-widgets/base",
          "model_name": "LayoutModel",
          "model_module_version": "1.2.0",
          "state": {
            "_model_module": "@jupyter-widgets/base",
            "_model_module_version": "1.2.0",
            "_model_name": "LayoutModel",
            "_view_count": null,
            "_view_module": "@jupyter-widgets/base",
            "_view_module_version": "1.2.0",
            "_view_name": "LayoutView",
            "align_content": null,
            "align_items": null,
            "align_self": null,
            "border": null,
            "bottom": null,
            "display": null,
            "flex": null,
            "flex_flow": null,
            "grid_area": null,
            "grid_auto_columns": null,
            "grid_auto_flow": null,
            "grid_auto_rows": null,
            "grid_column": null,
            "grid_gap": null,
            "grid_row": null,
            "grid_template_areas": null,
            "grid_template_columns": null,
            "grid_template_rows": null,
            "height": null,
            "justify_content": null,
            "justify_items": null,
            "left": null,
            "margin": null,
            "max_height": null,
            "max_width": null,
            "min_height": null,
            "min_width": null,
            "object_fit": null,
            "object_position": null,
            "order": null,
            "overflow": null,
            "overflow_x": null,
            "overflow_y": null,
            "padding": null,
            "right": null,
            "top": null,
            "visibility": null,
            "width": null
          }
        },
        "0b28dbd1911f4232a74731b34236305c": {
          "model_module": "@jupyter-widgets/base",
          "model_name": "LayoutModel",
          "model_module_version": "1.2.0",
          "state": {
            "_model_module": "@jupyter-widgets/base",
            "_model_module_version": "1.2.0",
            "_model_name": "LayoutModel",
            "_view_count": null,
            "_view_module": "@jupyter-widgets/base",
            "_view_module_version": "1.2.0",
            "_view_name": "LayoutView",
            "align_content": null,
            "align_items": null,
            "align_self": null,
            "border": null,
            "bottom": null,
            "display": null,
            "flex": null,
            "flex_flow": null,
            "grid_area": null,
            "grid_auto_columns": null,
            "grid_auto_flow": null,
            "grid_auto_rows": null,
            "grid_column": null,
            "grid_gap": null,
            "grid_row": null,
            "grid_template_areas": null,
            "grid_template_columns": null,
            "grid_template_rows": null,
            "height": null,
            "justify_content": null,
            "justify_items": null,
            "left": null,
            "margin": null,
            "max_height": null,
            "max_width": null,
            "min_height": null,
            "min_width": null,
            "object_fit": null,
            "object_position": null,
            "order": null,
            "overflow": null,
            "overflow_x": null,
            "overflow_y": null,
            "padding": null,
            "right": null,
            "top": null,
            "visibility": null,
            "width": null
          }
        },
        "dfe2ee2d1d10413c9144fe7891accc5d": {
          "model_module": "@jupyter-widgets/controls",
          "model_name": "DescriptionStyleModel",
          "model_module_version": "1.5.0",
          "state": {
            "_model_module": "@jupyter-widgets/controls",
            "_model_module_version": "1.5.0",
            "_model_name": "DescriptionStyleModel",
            "_view_count": null,
            "_view_module": "@jupyter-widgets/base",
            "_view_module_version": "1.2.0",
            "_view_name": "StyleView",
            "description_width": ""
          }
        },
        "97593c59f9c3415b8b687e8d847bbba3": {
          "model_module": "@jupyter-widgets/base",
          "model_name": "LayoutModel",
          "model_module_version": "1.2.0",
          "state": {
            "_model_module": "@jupyter-widgets/base",
            "_model_module_version": "1.2.0",
            "_model_name": "LayoutModel",
            "_view_count": null,
            "_view_module": "@jupyter-widgets/base",
            "_view_module_version": "1.2.0",
            "_view_name": "LayoutView",
            "align_content": null,
            "align_items": null,
            "align_self": null,
            "border": null,
            "bottom": null,
            "display": null,
            "flex": null,
            "flex_flow": null,
            "grid_area": null,
            "grid_auto_columns": null,
            "grid_auto_flow": null,
            "grid_auto_rows": null,
            "grid_column": null,
            "grid_gap": null,
            "grid_row": null,
            "grid_template_areas": null,
            "grid_template_columns": null,
            "grid_template_rows": null,
            "height": null,
            "justify_content": null,
            "justify_items": null,
            "left": null,
            "margin": null,
            "max_height": null,
            "max_width": null,
            "min_height": null,
            "min_width": null,
            "object_fit": null,
            "object_position": null,
            "order": null,
            "overflow": null,
            "overflow_x": null,
            "overflow_y": null,
            "padding": null,
            "right": null,
            "top": null,
            "visibility": null,
            "width": null
          }
        },
        "3f14e3ffa4c24010b69943a4aceffc86": {
          "model_module": "@jupyter-widgets/controls",
          "model_name": "ProgressStyleModel",
          "model_module_version": "1.5.0",
          "state": {
            "_model_module": "@jupyter-widgets/controls",
            "_model_module_version": "1.5.0",
            "_model_name": "ProgressStyleModel",
            "_view_count": null,
            "_view_module": "@jupyter-widgets/base",
            "_view_module_version": "1.2.0",
            "_view_name": "StyleView",
            "bar_color": null,
            "description_width": ""
          }
        },
        "e252b5742ccb45ebb5f5674f89cfab5e": {
          "model_module": "@jupyter-widgets/base",
          "model_name": "LayoutModel",
          "model_module_version": "1.2.0",
          "state": {
            "_model_module": "@jupyter-widgets/base",
            "_model_module_version": "1.2.0",
            "_model_name": "LayoutModel",
            "_view_count": null,
            "_view_module": "@jupyter-widgets/base",
            "_view_module_version": "1.2.0",
            "_view_name": "LayoutView",
            "align_content": null,
            "align_items": null,
            "align_self": null,
            "border": null,
            "bottom": null,
            "display": null,
            "flex": null,
            "flex_flow": null,
            "grid_area": null,
            "grid_auto_columns": null,
            "grid_auto_flow": null,
            "grid_auto_rows": null,
            "grid_column": null,
            "grid_gap": null,
            "grid_row": null,
            "grid_template_areas": null,
            "grid_template_columns": null,
            "grid_template_rows": null,
            "height": null,
            "justify_content": null,
            "justify_items": null,
            "left": null,
            "margin": null,
            "max_height": null,
            "max_width": null,
            "min_height": null,
            "min_width": null,
            "object_fit": null,
            "object_position": null,
            "order": null,
            "overflow": null,
            "overflow_x": null,
            "overflow_y": null,
            "padding": null,
            "right": null,
            "top": null,
            "visibility": null,
            "width": null
          }
        },
        "77c76c05c4a54c879200bb3ee23ed065": {
          "model_module": "@jupyter-widgets/controls",
          "model_name": "DescriptionStyleModel",
          "model_module_version": "1.5.0",
          "state": {
            "_model_module": "@jupyter-widgets/controls",
            "_model_module_version": "1.5.0",
            "_model_name": "DescriptionStyleModel",
            "_view_count": null,
            "_view_module": "@jupyter-widgets/base",
            "_view_module_version": "1.2.0",
            "_view_name": "StyleView",
            "description_width": ""
          }
        }
      }
    }
  },
  "cells": [
    {
      "cell_type": "markdown",
      "metadata": {
        "id": "view-in-github",
        "colab_type": "text"
      },
      "source": [
        "<a href=\"https://colab.research.google.com/github/grenetercordovesdelgado/Ejercicios/blob/main/inertial_signal_processing.ipynb\" target=\"_parent\"><img src=\"https://colab.research.google.com/assets/colab-badge.svg\" alt=\"Open In Colab\"/></a>"
      ]
    },
    {
      "cell_type": "markdown",
      "source": [
        "# Install libraries"
      ],
      "metadata": {
        "id": "FyT0tHjbtScD"
      }
    },
    {
      "cell_type": "code",
      "source": [
        "!pip install hrv-analysis\n",
        "!pip install pyhrv\n",
        "!pip install tsfel\n",
        "!pip or !apt"
      ],
      "metadata": {
        "colab": {
          "base_uri": "https://localhost:8080/"
        },
        "id": "FR0Z5eVktJI1",
        "outputId": "f6493f16-549c-4ff6-d289-b358764ff1ed"
      },
      "execution_count": 420,
      "outputs": [
        {
          "output_type": "stream",
          "name": "stdout",
          "text": [
            "Looking in indexes: https://pypi.org/simple, https://us-python.pkg.dev/colab-wheels/public/simple/\n",
            "Requirement already satisfied: hrv-analysis in /usr/local/lib/python3.9/dist-packages (1.0.4)\n",
            "Requirement already satisfied: astropy>=3.0.4 in /usr/local/lib/python3.9/dist-packages (from hrv-analysis) (4.3.1)\n",
            "Requirement already satisfied: pandas>=0.23.4 in /usr/local/lib/python3.9/dist-packages (from hrv-analysis) (1.5.3)\n",
            "Requirement already satisfied: nolds>=0.4.1 in /usr/local/lib/python3.9/dist-packages (from hrv-analysis) (0.5.2)\n",
            "Requirement already satisfied: numpy>=1.15.1 in /usr/local/lib/python3.9/dist-packages (from hrv-analysis) (1.22.4)\n",
            "Requirement already satisfied: scipy>=1.1.0 in /usr/local/lib/python3.9/dist-packages (from hrv-analysis) (1.10.1)\n",
            "Requirement already satisfied: matplotlib>=2.2.2 in /usr/local/lib/python3.9/dist-packages (from hrv-analysis) (3.5.3)\n",
            "Requirement already satisfied: pyerfa>=1.7.3 in /usr/local/lib/python3.9/dist-packages (from astropy>=3.0.4->hrv-analysis) (2.0.0.1)\n",
            "Requirement already satisfied: pyparsing>=2.2.1 in /usr/local/lib/python3.9/dist-packages (from matplotlib>=2.2.2->hrv-analysis) (3.0.9)\n",
            "Requirement already satisfied: kiwisolver>=1.0.1 in /usr/local/lib/python3.9/dist-packages (from matplotlib>=2.2.2->hrv-analysis) (1.4.4)\n",
            "Requirement already satisfied: pillow>=6.2.0 in /usr/local/lib/python3.9/dist-packages (from matplotlib>=2.2.2->hrv-analysis) (8.4.0)\n",
            "Requirement already satisfied: python-dateutil>=2.7 in /usr/local/lib/python3.9/dist-packages (from matplotlib>=2.2.2->hrv-analysis) (2.8.2)\n",
            "Requirement already satisfied: cycler>=0.10 in /usr/local/lib/python3.9/dist-packages (from matplotlib>=2.2.2->hrv-analysis) (0.11.0)\n",
            "Requirement already satisfied: packaging>=20.0 in /usr/local/lib/python3.9/dist-packages (from matplotlib>=2.2.2->hrv-analysis) (23.0)\n",
            "Requirement already satisfied: fonttools>=4.22.0 in /usr/local/lib/python3.9/dist-packages (from matplotlib>=2.2.2->hrv-analysis) (4.39.0)\n",
            "Requirement already satisfied: future in /usr/local/lib/python3.9/dist-packages (from nolds>=0.4.1->hrv-analysis) (0.16.0)\n",
            "Requirement already satisfied: setuptools in /usr/local/lib/python3.9/dist-packages (from nolds>=0.4.1->hrv-analysis) (57.4.0)\n",
            "Requirement already satisfied: pytz>=2020.1 in /usr/local/lib/python3.9/dist-packages (from pandas>=0.23.4->hrv-analysis) (2022.7.1)\n",
            "Requirement already satisfied: six>=1.5 in /usr/local/lib/python3.9/dist-packages (from python-dateutil>=2.7->matplotlib>=2.2.2->hrv-analysis) (1.15.0)\n",
            "Looking in indexes: https://pypi.org/simple, https://us-python.pkg.dev/colab-wheels/public/simple/\n",
            "Requirement already satisfied: pyhrv in /usr/local/lib/python3.9/dist-packages (0.4.1)\n",
            "Requirement already satisfied: spectrum in /usr/local/lib/python3.9/dist-packages (from pyhrv) (0.8.1)\n",
            "Requirement already satisfied: numpy in /usr/local/lib/python3.9/dist-packages (from pyhrv) (1.22.4)\n",
            "Requirement already satisfied: scipy in /usr/local/lib/python3.9/dist-packages (from pyhrv) (1.10.1)\n",
            "Requirement already satisfied: nolds in /usr/local/lib/python3.9/dist-packages (from pyhrv) (0.5.2)\n",
            "Requirement already satisfied: biosppy in /usr/local/lib/python3.9/dist-packages (from pyhrv) (1.0.0)\n",
            "Requirement already satisfied: matplotlib in /usr/local/lib/python3.9/dist-packages (from pyhrv) (3.5.3)\n",
            "Requirement already satisfied: six in /usr/local/lib/python3.9/dist-packages (from biosppy->pyhrv) (1.15.0)\n",
            "Requirement already satisfied: h5py in /usr/local/lib/python3.9/dist-packages (from biosppy->pyhrv) (3.1.0)\n",
            "Requirement already satisfied: joblib in /usr/local/lib/python3.9/dist-packages (from biosppy->pyhrv) (1.2.0)\n",
            "Requirement already satisfied: opencv-python in /usr/local/lib/python3.9/dist-packages (from biosppy->pyhrv) (4.6.0.66)\n",
            "Requirement already satisfied: scikit-learn in /usr/local/lib/python3.9/dist-packages (from biosppy->pyhrv) (1.2.1)\n",
            "Requirement already satisfied: bidict in /usr/local/lib/python3.9/dist-packages (from biosppy->pyhrv) (0.22.1)\n",
            "Requirement already satisfied: shortuuid in /usr/local/lib/python3.9/dist-packages (from biosppy->pyhrv) (1.0.11)\n",
            "Requirement already satisfied: python-dateutil>=2.7 in /usr/local/lib/python3.9/dist-packages (from matplotlib->pyhrv) (2.8.2)\n",
            "Requirement already satisfied: fonttools>=4.22.0 in /usr/local/lib/python3.9/dist-packages (from matplotlib->pyhrv) (4.39.0)\n",
            "Requirement already satisfied: packaging>=20.0 in /usr/local/lib/python3.9/dist-packages (from matplotlib->pyhrv) (23.0)\n",
            "Requirement already satisfied: pillow>=6.2.0 in /usr/local/lib/python3.9/dist-packages (from matplotlib->pyhrv) (8.4.0)\n",
            "Requirement already satisfied: pyparsing>=2.2.1 in /usr/local/lib/python3.9/dist-packages (from matplotlib->pyhrv) (3.0.9)\n",
            "Requirement already satisfied: kiwisolver>=1.0.1 in /usr/local/lib/python3.9/dist-packages (from matplotlib->pyhrv) (1.4.4)\n",
            "Requirement already satisfied: cycler>=0.10 in /usr/local/lib/python3.9/dist-packages (from matplotlib->pyhrv) (0.11.0)\n",
            "Requirement already satisfied: future in /usr/local/lib/python3.9/dist-packages (from nolds->pyhrv) (0.16.0)\n",
            "Requirement already satisfied: setuptools in /usr/local/lib/python3.9/dist-packages (from nolds->pyhrv) (57.4.0)\n",
            "Requirement already satisfied: easydev in /usr/local/lib/python3.9/dist-packages (from spectrum->pyhrv) (0.12.1)\n",
            "Requirement already satisfied: pexpect in /usr/local/lib/python3.9/dist-packages (from easydev->spectrum->pyhrv) (4.8.0)\n",
            "Requirement already satisfied: colorama in /usr/local/lib/python3.9/dist-packages (from easydev->spectrum->pyhrv) (0.4.6)\n",
            "Requirement already satisfied: colorlog in /usr/local/lib/python3.9/dist-packages (from easydev->spectrum->pyhrv) (6.7.0)\n",
            "Requirement already satisfied: threadpoolctl>=2.0.0 in /usr/local/lib/python3.9/dist-packages (from scikit-learn->biosppy->pyhrv) (3.1.0)\n",
            "Requirement already satisfied: ptyprocess>=0.5 in /usr/local/lib/python3.9/dist-packages (from pexpect->easydev->spectrum->pyhrv) (0.7.0)\n",
            "Looking in indexes: https://pypi.org/simple, https://us-python.pkg.dev/colab-wheels/public/simple/\n",
            "Requirement already satisfied: tsfel in /usr/local/lib/python3.9/dist-packages (0.1.5)\n",
            "Requirement already satisfied: oauth2client>=4.1.3 in /usr/local/lib/python3.9/dist-packages (from tsfel) (4.1.3)\n",
            "Requirement already satisfied: scipy>=1.7.3 in /usr/local/lib/python3.9/dist-packages (from tsfel) (1.10.1)\n",
            "Requirement already satisfied: ipython>=7.4.0 in /usr/local/lib/python3.9/dist-packages (from tsfel) (7.9.0)\n",
            "Requirement already satisfied: setuptools>=47.1.1 in /usr/local/lib/python3.9/dist-packages (from tsfel) (57.4.0)\n",
            "Requirement already satisfied: gspread>=3.1.0 in /usr/local/lib/python3.9/dist-packages (from tsfel) (3.4.2)\n",
            "Requirement already satisfied: pandas>=1.5.3 in /usr/local/lib/python3.9/dist-packages (from tsfel) (1.5.3)\n",
            "Requirement already satisfied: Sphinx>=1.8.5 in /usr/local/lib/python3.9/dist-packages (from tsfel) (3.5.4)\n",
            "Requirement already satisfied: numpy>=1.18.5 in /usr/local/lib/python3.9/dist-packages (from tsfel) (1.22.4)\n",
            "Requirement already satisfied: requests>=2.2.1 in /usr/local/lib/python3.9/dist-packages (from gspread>=3.1.0->tsfel) (2.25.1)\n",
            "Requirement already satisfied: google-auth in /usr/local/lib/python3.9/dist-packages (from gspread>=3.1.0->tsfel) (2.16.2)\n",
            "Requirement already satisfied: decorator in /usr/local/lib/python3.9/dist-packages (from ipython>=7.4.0->tsfel) (4.4.2)\n",
            "Requirement already satisfied: pickleshare in /usr/local/lib/python3.9/dist-packages (from ipython>=7.4.0->tsfel) (0.7.5)\n",
            "Requirement already satisfied: pexpect in /usr/local/lib/python3.9/dist-packages (from ipython>=7.4.0->tsfel) (4.8.0)\n",
            "Requirement already satisfied: prompt-toolkit<2.1.0,>=2.0.0 in /usr/local/lib/python3.9/dist-packages (from ipython>=7.4.0->tsfel) (2.0.10)\n",
            "Requirement already satisfied: backcall in /usr/local/lib/python3.9/dist-packages (from ipython>=7.4.0->tsfel) (0.2.0)\n",
            "Requirement already satisfied: pygments in /usr/local/lib/python3.9/dist-packages (from ipython>=7.4.0->tsfel) (2.6.1)\n",
            "Requirement already satisfied: traitlets>=4.2 in /usr/local/lib/python3.9/dist-packages (from ipython>=7.4.0->tsfel) (5.7.1)\n",
            "Requirement already satisfied: jedi>=0.10 in /usr/local/lib/python3.9/dist-packages (from ipython>=7.4.0->tsfel) (0.18.2)\n",
            "Requirement already satisfied: pyasn1>=0.1.7 in /usr/local/lib/python3.9/dist-packages (from oauth2client>=4.1.3->tsfel) (0.4.8)\n",
            "Requirement already satisfied: httplib2>=0.9.1 in /usr/local/lib/python3.9/dist-packages (from oauth2client>=4.1.3->tsfel) (0.17.4)\n",
            "Requirement already satisfied: pyasn1-modules>=0.0.5 in /usr/local/lib/python3.9/dist-packages (from oauth2client>=4.1.3->tsfel) (0.2.8)\n",
            "Requirement already satisfied: rsa>=3.1.4 in /usr/local/lib/python3.9/dist-packages (from oauth2client>=4.1.3->tsfel) (4.9)\n",
            "Requirement already satisfied: six>=1.6.1 in /usr/local/lib/python3.9/dist-packages (from oauth2client>=4.1.3->tsfel) (1.15.0)\n",
            "Requirement already satisfied: python-dateutil>=2.8.1 in /usr/local/lib/python3.9/dist-packages (from pandas>=1.5.3->tsfel) (2.8.2)\n",
            "Requirement already satisfied: pytz>=2020.1 in /usr/local/lib/python3.9/dist-packages (from pandas>=1.5.3->tsfel) (2022.7.1)\n",
            "Requirement already satisfied: sphinxcontrib-jsmath in /usr/local/lib/python3.9/dist-packages (from Sphinx>=1.8.5->tsfel) (1.0.1)\n",
            "Requirement already satisfied: docutils<0.17,>=0.12 in /usr/local/lib/python3.9/dist-packages (from Sphinx>=1.8.5->tsfel) (0.16)\n",
            "Requirement already satisfied: sphinxcontrib-applehelp in /usr/local/lib/python3.9/dist-packages (from Sphinx>=1.8.5->tsfel) (1.0.4)\n",
            "Requirement already satisfied: alabaster<0.8,>=0.7 in /usr/local/lib/python3.9/dist-packages (from Sphinx>=1.8.5->tsfel) (0.7.13)\n",
            "Requirement already satisfied: sphinxcontrib-htmlhelp in /usr/local/lib/python3.9/dist-packages (from Sphinx>=1.8.5->tsfel) (2.0.1)\n",
            "Requirement already satisfied: sphinxcontrib-serializinghtml in /usr/local/lib/python3.9/dist-packages (from Sphinx>=1.8.5->tsfel) (1.1.5)\n",
            "Requirement already satisfied: packaging in /usr/local/lib/python3.9/dist-packages (from Sphinx>=1.8.5->tsfel) (23.0)\n",
            "Requirement already satisfied: snowballstemmer>=1.1 in /usr/local/lib/python3.9/dist-packages (from Sphinx>=1.8.5->tsfel) (2.2.0)\n",
            "Requirement already satisfied: sphinxcontrib-qthelp in /usr/local/lib/python3.9/dist-packages (from Sphinx>=1.8.5->tsfel) (1.0.3)\n",
            "Requirement already satisfied: babel>=1.3 in /usr/local/lib/python3.9/dist-packages (from Sphinx>=1.8.5->tsfel) (2.12.1)\n",
            "Requirement already satisfied: Jinja2>=2.3 in /usr/local/lib/python3.9/dist-packages (from Sphinx>=1.8.5->tsfel) (3.1.2)\n",
            "Requirement already satisfied: sphinxcontrib-devhelp in /usr/local/lib/python3.9/dist-packages (from Sphinx>=1.8.5->tsfel) (1.0.2)\n",
            "Requirement already satisfied: imagesize in /usr/local/lib/python3.9/dist-packages (from Sphinx>=1.8.5->tsfel) (1.4.1)\n",
            "Requirement already satisfied: parso<0.9.0,>=0.8.0 in /usr/local/lib/python3.9/dist-packages (from jedi>=0.10->ipython>=7.4.0->tsfel) (0.8.3)\n",
            "Requirement already satisfied: MarkupSafe>=2.0 in /usr/local/lib/python3.9/dist-packages (from Jinja2>=2.3->Sphinx>=1.8.5->tsfel) (2.1.2)\n",
            "Requirement already satisfied: wcwidth in /usr/local/lib/python3.9/dist-packages (from prompt-toolkit<2.1.0,>=2.0.0->ipython>=7.4.0->tsfel) (0.2.6)\n",
            "Requirement already satisfied: idna<3,>=2.5 in /usr/local/lib/python3.9/dist-packages (from requests>=2.2.1->gspread>=3.1.0->tsfel) (2.10)\n",
            "Requirement already satisfied: certifi>=2017.4.17 in /usr/local/lib/python3.9/dist-packages (from requests>=2.2.1->gspread>=3.1.0->tsfel) (2022.12.7)\n",
            "Requirement already satisfied: chardet<5,>=3.0.2 in /usr/local/lib/python3.9/dist-packages (from requests>=2.2.1->gspread>=3.1.0->tsfel) (4.0.0)\n",
            "Requirement already satisfied: urllib3<1.27,>=1.21.1 in /usr/local/lib/python3.9/dist-packages (from requests>=2.2.1->gspread>=3.1.0->tsfel) (1.26.14)\n",
            "Requirement already satisfied: cachetools<6.0,>=2.0.0 in /usr/local/lib/python3.9/dist-packages (from google-auth->gspread>=3.1.0->tsfel) (5.3.0)\n",
            "Requirement already satisfied: ptyprocess>=0.5 in /usr/local/lib/python3.9/dist-packages (from pexpect->ipython>=7.4.0->tsfel) (0.7.0)\n",
            "ERROR: unknown command \"or\"\n"
          ]
        }
      ]
    },
    {
      "cell_type": "markdown",
      "source": [
        "# Importing libraries and packages "
      ],
      "metadata": {
        "id": "DKGuFv3FtU17"
      }
    },
    {
      "cell_type": "code",
      "execution_count": 414,
      "metadata": {
        "id": "E0fzMWSks5q8"
      },
      "outputs": [],
      "source": [
        "from google.colab import drive\n",
        "\n",
        "import os\n",
        "import sys\n",
        "import cv2\n",
        "from glob import glob\n",
        "import glob\n",
        "from tqdm.notebook import tqdm_notebook\n",
        "import pandas as pd\n",
        "import numpy as np\n",
        "from joblib import dump\n",
        "from skimage import io\n",
        "import tsfel\n",
        "\n",
        "import matplotlib.pyplot as plt\n",
        "import matplotlib.image as mpimg\n",
        "from matplotlib.patches import Patch\n",
        "\n",
        "import seaborn as sns\n",
        "from IPython.display import Image\n",
        "\n",
        "import pyhrv.time_domain as td\n",
        "import hrvanalysis\n",
        "from hrvanalysis import get_time_domain_features\n",
        "from hrvanalysis import get_geometrical_features\n",
        "from hrvanalysis import get_frequency_domain_features\n",
        "from hrvanalysis import get_csi_cvi_features\n",
        "from hrvanalysis import get_poincare_plot_features\n",
        "from hrvanalysis import get_sampen\n",
        "\n",
        "from sklearn.preprocessing import StandardScaler, OneHotEncoder\n",
        "from sklearn.metrics import confusion_matrix, classification_report\n",
        "from sklearn.model_selection import train_test_split\n",
        "from sklearn.naive_bayes import GaussianNB\n",
        "from sklearn.svm import SVC\n",
        "from sklearn.tree import DecisionTreeClassifier\n",
        "from sklearn.model_selection import LeaveOneOut\n",
        "from sklearn.feature_selection import VarianceThreshold\n",
        "\n",
        "import warnings\n",
        "if not sys.warnoptions:\n",
        "    warnings.simplefilter(\"ignore\")\n",
        "warnings.filterwarnings(\"ignore\", category=DeprecationWarning) "
      ]
    },
    {
      "cell_type": "markdown",
      "source": [
        "# Loading training data "
      ],
      "metadata": {
        "id": "hDipjeYktfNu"
      }
    },
    {
      "cell_type": "code",
      "source": [
        "drive.mount('/content/drive')"
      ],
      "metadata": {
        "colab": {
          "base_uri": "https://localhost:8080/"
        },
        "id": "of-MEfSHtE1o",
        "outputId": "0e2c6d72-4876-405b-9828-60f1dc184b32"
      },
      "execution_count": 389,
      "outputs": [
        {
          "output_type": "stream",
          "name": "stdout",
          "text": [
            "Drive already mounted at /content/drive; to attempt to forcibly remount, call drive.mount(\"/content/drive\", force_remount=True).\n"
          ]
        }
      ]
    },
    {
      "cell_type": "code",
      "source": [
        "# Loading train CSV files \n",
        "csv_files = [os.path.abspath(x) for x in glob.glob('/content/drive/MyDrive/datos inerciales/train/*.csv')]\n",
        "\n",
        "file_label = []\n",
        "file_path = []\n",
        "\n",
        "activities = {'MW': 'Walking', \n",
        "              'MR': 'Running', \n",
        "              'MJ': 'Jumping',\n",
        "              'WD': 'Walking down the stairs',\n",
        "              'WU': 'Walking up the stairs',\n",
        "              'FF': 'Forward fall',\n",
        "              'FS': 'Sideways fall',\n",
        "              'FB': 'Backward fall',\n",
        "              'LD': 'Lying down',\n",
        "              'OT': 'Other'}\n",
        "\n",
        "# Paths and labels to the files found\n",
        "for path in tqdm_notebook(csv_files):\n",
        "    part = os.path.basename(path)\n",
        "    part = part.split('.')[0]       \n",
        "    label = part.split('_')[2]\n",
        "    file_label.append(activities[label])\n",
        "    file_path.append(path)  \n",
        "\n",
        "# Creating dataframe\n",
        "label_df = pd.DataFrame(file_label, columns=['Label'])\n",
        "path_df = pd.DataFrame(file_path, columns=['Path'])\n",
        "dataset_df = pd.concat([label_df, path_df], axis = 1) "
      ],
      "metadata": {
        "colab": {
          "base_uri": "https://localhost:8080/",
          "height": 49,
          "referenced_widgets": [
            "97f8f15aa3a949bf907b6081c46f2835",
            "2c85dbac3a4546dab645d93014f769fd",
            "1ae80988acbf4cc5a0f37bb5a5b7e828",
            "6c7e2125c8654f58b4e9848ea15d59f6",
            "d03c80e0d1044f6391a81c5f7fdca265",
            "70031ae974b44037babbb0cc4523b725",
            "627eb5ff1f544d6195c24c2c963a88c3",
            "496643570f3e4d358398422d64bc9a2d",
            "828f07f8857c4a2881b36597c8cd1b48",
            "8614a0b1cd44415fa9e4ec500bea53ea",
            "a8118cb969cc45cabdd22866f78eb45c"
          ]
        },
        "id": "BpWkl6yg1q8m",
        "outputId": "fbe7f3ac-b492-4e43-8be0-f9b43d7c3754"
      },
      "execution_count": 390,
      "outputs": [
        {
          "output_type": "display_data",
          "data": {
            "text/plain": [
              "  0%|          | 0/156 [00:00<?, ?it/s]"
            ],
            "application/vnd.jupyter.widget-view+json": {
              "version_major": 2,
              "version_minor": 0,
              "model_id": "97f8f15aa3a949bf907b6081c46f2835"
            }
          },
          "metadata": {}
        }
      ]
    },
    {
      "cell_type": "markdown",
      "source": [
        "# Data Exploration"
      ],
      "metadata": {
        "id": "4zPOa2Ie3xO3"
      }
    },
    {
      "cell_type": "code",
      "source": [
        "count_label = dataset_df.groupby('Label').count().reset_index()\n",
        "label = np.array(count_label['Label'])\n",
        "\n",
        "dataPath = pd.concat([dataset_df], axis = 0)\n",
        "plt.title('Count of Classes', size=16)\n",
        "sns.set_theme(palette=\"blend:#7AB,#EDA\")\n",
        "sns.countplot(x=dataPath[\"Label\"])\n",
        "plt.xlabel('Activity', size=9)\n",
        "plt.ylabel('Count', size=9)\n",
        "sns.despine(top=True, right=True, left=True, bottom=False)\n",
        "plt.xticks(rotation=45, ha='right')\n",
        "\n",
        "plt.show()"
      ],
      "metadata": {
        "colab": {
          "base_uri": "https://localhost:8080/",
          "height": 390
        },
        "id": "aVYVau-b4aWq",
        "outputId": "168c05cc-36f9-453e-ebce-aa9a449cb740"
      },
      "execution_count": 391,
      "outputs": [
        {
          "output_type": "display_data",
          "data": {
            "text/plain": [
              "<Figure size 432x288 with 1 Axes>"
            ],
            "image/png": "[encoded data removed]"
          },
          "metadata": {}
        }
      ]
    },
    {
      "cell_type": "markdown",
      "source": [
        "# Data processing"
      ],
      "metadata": {
        "id": "gYmJPO_459Ap"
      }
    },
    {
      "cell_type": "markdown",
      "source": [
        "### Feature Extraction"
      ],
      "metadata": {
        "id": "KLO7SPN8s4B8"
      }
    },
    {
      "cell_type": "code",
      "source": [
        "#Get feature vector\n",
        "\n",
        "df_features = pd.DataFrame()\n",
        "\n",
        "for path, label in zip(tqdm_notebook(dataset_df.Path), dataset_df.Label): \n",
        "    # columns name\n",
        "    column_names = ['x', 'y', 'z', 'time']\n",
        "\n",
        "    # Loading csv data\n",
        "    df = pd.read_csv(path, names=column_names)\n",
        "\n",
        "    # xy signal\n",
        "    df['xy'] = df['x'] * df['y']\n",
        "\n",
        "    # xz signal\n",
        "    df['xz'] = df['x'] * df['z']\n",
        "\n",
        "    # yz signal\n",
        "    df['yz'] = df['y'] * df['z']\n",
        "\n",
        "    # Acc signal\n",
        "    df['total_acc'] = np.sqrt(df['x']**2 + df['y']**2 + df['z']**2)\n",
        "\n",
        "    gfd = tsfel.get_features_by_domain() \n",
        "            \n",
        "    df = np.array(df)\n",
        "    df = df[~np.isnan(df)] \n",
        "\n",
        "    feactures = tsfel.time_series_features_extractor(gfd, df, fs=2500, windows_size=500, overlap=0.2, verbose=False)\n",
        "\n",
        "    f_df = pd.DataFrame(feactures, columns=feactures.columns)\n",
        "    f_df['Label'] = label\n",
        "\n",
        "    df_features = pd.concat([df_features, f_df], axis=0)\n",
        "\n",
        "# Characteristics that the value is to be made zero\n",
        "df_features = df_features.drop(['0_Neighbourhood peaks'], axis=1)    \n",
        "\n",
        "print(\"Number of instances:\", df_features.shape[0])\n",
        "print(\"Number of features:\", df_features.shape[1]-1)"
      ],
      "metadata": {
        "colab": {
          "base_uri": "https://localhost:8080/",
          "height": 85,
          "referenced_widgets": [
            "f329ac802c03401ea7567ec0d25a6359",
            "acbc0fc9dd9d481684005bdfb278c5ca",
            "9d88863a5de54796be11bd1c36565beb",
            "a595bc367f7b4effa2115a572671d28a",
            "03b2d5d073ea4fa88c41258c4d2d8b3f",
            "87fccc518bd542eea2597ace52cb74d1",
            "f9b56b91064e4364b6ad4a7cd1b55d73",
            "9635b6ca4f034094b12b67554dcda630",
            "2b79ed9d09a046db84cb3cd8c499d747",
            "bd9197e81ae34e46875a6631557855ed",
            "28e8dd00efe743e2b3361bb36d988be6"
          ]
        },
        "outputId": "b5914580-65bc-4e46-a0c5-a7ed6e1b007e",
        "id": "lYwsoVqr7njb"
      },
      "execution_count": 392,
      "outputs": [
        {
          "output_type": "display_data",
          "data": {
            "text/plain": [
              "  0%|          | 0/156 [00:00<?, ?it/s]"
            ],
            "application/vnd.jupyter.widget-view+json": {
              "version_major": 2,
              "version_minor": 0,
              "model_id": "f329ac802c03401ea7567ec0d25a6359"
            }
          },
          "metadata": {}
        },
        {
          "output_type": "stream",
          "name": "stdout",
          "text": [
            "Number of instances: 156\n",
            "Number of features: 388\n"
          ]
        }
      ]
    },
    {
      "cell_type": "markdown",
      "source": [
        "### Feature Selection"
      ],
      "metadata": {
        "id": "jT54hyaftFIA"
      }
    },
    {
      "cell_type": "code",
      "source": [
        "X = df_features.iloc[:, :-1]\n",
        "X = X.apply(pd.to_numeric, errors='coerce')\n",
        "Y = df_features.iloc[:, df_features.shape[1]-1]\n",
        "\n",
        "# Highly correlated features are removed\n",
        "corr_features = tsfel.correlated_features(X)\n",
        "X.drop(corr_features, axis=1, inplace=True)\n",
        "\n",
        "# Remove low variance features\n",
        "\n",
        "#Create a feature selector object\n",
        "selector = VarianceThreshold()\n",
        "\n",
        "#Fit the selector to the data\n",
        "selector.fit(X)\n",
        "\n",
        "# Get a list of booleans indicating which columns have been selected\n",
        "mask = selector.get_support()\n",
        "\n",
        "# Select the columns of the original DataFrame that have been selected\n",
        "X = X.loc[:, mask]\n",
        "\n",
        "print(X.shape)"
      ],
      "metadata": {
        "colab": {
          "base_uri": "https://localhost:8080/"
        },
        "id": "Qo7FEPXTeXgY",
        "outputId": "dd87b6f0-29dc-4687-8c8b-3d472bcf4a75"
      },
      "execution_count": 393,
      "outputs": [
        {
          "output_type": "stream",
          "name": "stdout",
          "text": [
            "(156, 130)\n"
          ]
        }
      ]
    },
    {
      "cell_type": "markdown",
      "source": [
        "### Normalising Features"
      ],
      "metadata": {
        "id": "TALTP8zPvCDJ"
      }
    },
    {
      "cell_type": "code",
      "source": [
        "scaler = StandardScaler()\n",
        "X = scaler.fit_transform(X)"
      ],
      "metadata": {
        "id": "3uTNaV83sBI7"
      },
      "execution_count": 394,
      "outputs": []
    },
    {
      "cell_type": "markdown",
      "source": [
        "# Clasification Model"
      ],
      "metadata": {
        "id": "tQMkdg5WDv6l"
      }
    },
    {
      "cell_type": "markdown",
      "source": [
        "## Splitting data"
      ],
      "metadata": {
        "id": "8da8HBHWSpl0"
      }
    },
    {
      "cell_type": "code",
      "source": [
        "X_train, X_test, Y_train, Y_test = train_test_split(X, Y, test_size=0.3, random_state=42, stratify=Y)"
      ],
      "metadata": {
        "id": "0-D_rXCaSoFE"
      },
      "execution_count": 395,
      "outputs": []
    },
    {
      "cell_type": "markdown",
      "source": [
        "## Models"
      ],
      "metadata": {
        "id": "bBTXQOWxiSR0"
      }
    },
    {
      "cell_type": "markdown",
      "source": [
        "### Decision Tree Classifier"
      ],
      "metadata": {
        "id": "KKPAbJbMXAtC"
      }
    },
    {
      "cell_type": "markdown",
      "source": [
        "#### Initialize model, Training and Predicting"
      ],
      "metadata": {
        "id": "OC4ryv_uS0Z9"
      }
    },
    {
      "cell_type": "code",
      "source": [
        "# Initialize model\n",
        "model_dt = DecisionTreeClassifier()\n",
        "\n",
        "# Training model\n",
        "model_dt.fit(X_train, Y_train)\n",
        "\n",
        "# Predicting for the test set\n",
        "Y_pred_dt = model_dt.predict(X_test)"
      ],
      "metadata": {
        "id": "ygdc-u2ES3Wk"
      },
      "execution_count": 396,
      "outputs": []
    },
    {
      "cell_type": "markdown",
      "source": [
        "#### Confusion matrix and metrics"
      ],
      "metadata": {
        "id": "p-AbtBAJTQxE"
      }
    },
    {
      "cell_type": "code",
      "source": [
        "ax= plt.subplot()\n",
        "cm = confusion_matrix(Y_test, Y_pred_dt)\n",
        "sns.heatmap(cm, annot=True, fmt='g', cmap = 'Blues', ax=ax);  #annot=True to annotate cells, ftm='g' to disable scientific notation\n",
        "\n",
        "# labels, title and ticks\n",
        "ax.set_xlabel('Predicted labels')\n",
        "ax.set_ylabel('Actual labels')\n",
        "ax.set_title('Confusion Matrix')\n",
        "ax.xaxis.set_ticklabels(count_label.Label)\n",
        "ax.yaxis.set_ticklabels(count_label.Label, rotation=0, ha='right');\n",
        "plt.xticks(rotation=90, ha='right')\n",
        "\n",
        "# metrics\n",
        "print(classification_report(Y_test, Y_pred_dt))"
      ],
      "metadata": {
        "colab": {
          "base_uri": "https://localhost:8080/",
          "height": 727
        },
        "id": "yzOeTplWTSW9",
        "outputId": "cf5fd97d-02be-4e95-dc49-7ecc533b13cd"
      },
      "execution_count": 397,
      "outputs": [
        {
          "output_type": "stream",
          "name": "stdout",
          "text": [
            "                         precision    recall  f1-score   support\n",
            "\n",
            "          Backward fall       0.60      1.00      0.75         3\n",
            "           Forward fall       0.33      0.33      0.33         3\n",
            "                Jumping       0.60      0.50      0.55         6\n",
            "             Lying down       0.33      0.33      0.33         3\n",
            "                  Other       0.89      0.89      0.89         9\n",
            "                Running       0.67      1.00      0.80         6\n",
            "          Sideways fall       1.00      0.67      0.80         3\n",
            "                Walking       1.00      0.50      0.67         6\n",
            "Walking down the stairs       1.00      1.00      1.00         4\n",
            "  Walking up the stairs       1.00      1.00      1.00         4\n",
            "\n",
            "               accuracy                           0.74        47\n",
            "              macro avg       0.74      0.72      0.71        47\n",
            "           weighted avg       0.77      0.74      0.74        47\n",
            "\n"
          ]
        },
        {
          "output_type": "display_data",
          "data": {
            "text/plain": [
              "<Figure size 432x288 with 2 Axes>"
            ],
            "image/png": "[encoded data removed]"
          },
          "metadata": {}
        }
      ]
    },
    {
      "cell_type": "markdown",
      "source": [
        "### Naive Bayes Classifier"
      ],
      "metadata": {
        "id": "RI4Nc9YqiyjV"
      }
    },
    {
      "cell_type": "markdown",
      "source": [
        "#### Initialize model, Training and Predicting"
      ],
      "metadata": {
        "id": "oG94zBjei4xt"
      }
    },
    {
      "cell_type": "code",
      "source": [
        "# Initialize model\n",
        "model_nb = GaussianNB()\n",
        "\n",
        "# Training model\n",
        "model_nb.fit(X_train, Y_train)\n",
        "\n",
        "# Predicting for the test set\n",
        "Y_pred_nv = model_nb.predict(X_test)"
      ],
      "metadata": {
        "id": "wKOSCy1vi7V3"
      },
      "execution_count": 400,
      "outputs": []
    },
    {
      "cell_type": "markdown",
      "source": [
        "#### Confusion matrix and metrics"
      ],
      "metadata": {
        "id": "qitTV653i41h"
      }
    },
    {
      "cell_type": "code",
      "source": [
        "ax= plt.subplot()\n",
        "cm = confusion_matrix(Y_test, Y_pred_nv)\n",
        "sns.heatmap(cm, annot=True, fmt='g', cmap = 'Blues', ax=ax);  #annot=True to annotate cells, ftm='g' to disable scientific notation\n",
        "\n",
        "# labels, title and ticks\n",
        "ax.set_xlabel('Predicted labels')\n",
        "ax.set_ylabel('Actual labels')\n",
        "ax.set_title('Confusion Matrix')\n",
        "ax.xaxis.set_ticklabels(count_label.Label)\n",
        "ax.yaxis.set_ticklabels(count_label.Label, rotation=0, ha='right');\n",
        "plt.xticks(rotation=90, ha='right')\n",
        "\n",
        "# metrics\n",
        "print(classification_report(Y_test, Y_pred_nv))"
      ],
      "metadata": {
        "colab": {
          "base_uri": "https://localhost:8080/",
          "height": 727
        },
        "id": "mcfcM0JPigau",
        "outputId": "b8d02cdd-367e-4054-f242-eb4f6dd44d34"
      },
      "execution_count": 401,
      "outputs": [
        {
          "output_type": "stream",
          "name": "stdout",
          "text": [
            "                         precision    recall  f1-score   support\n",
            "\n",
            "          Backward fall       1.00      0.33      0.50         3\n",
            "           Forward fall       0.67      0.67      0.67         3\n",
            "                Jumping       1.00      0.67      0.80         6\n",
            "             Lying down       1.00      0.67      0.80         3\n",
            "                  Other       0.90      1.00      0.95         9\n",
            "                Running       0.60      1.00      0.75         6\n",
            "          Sideways fall       0.25      0.33      0.29         3\n",
            "                Walking       0.86      1.00      0.92         6\n",
            "Walking down the stairs       1.00      0.75      0.86         4\n",
            "  Walking up the stairs       1.00      0.75      0.86         4\n",
            "\n",
            "               accuracy                           0.79        47\n",
            "              macro avg       0.83      0.72      0.74        47\n",
            "           weighted avg       0.84      0.79      0.79        47\n",
            "\n"
          ]
        },
        {
          "output_type": "display_data",
          "data": {
            "text/plain": [
              "<Figure size 432x288 with 2 Axes>"
            ],
            "image/png": "[encoded data removed]"
          },
          "metadata": {}
        }
      ]
    },
    {
      "cell_type": "markdown",
      "source": [
        "### Support Vector Machines (SVM)"
      ],
      "metadata": {
        "id": "AxkJhrV_p00m"
      }
    },
    {
      "cell_type": "markdown",
      "source": [
        "#### Initialize model, Training and Predicting"
      ],
      "metadata": {
        "id": "FiEUq9uEp__O"
      }
    },
    {
      "cell_type": "code",
      "source": [
        "# Initialize model\n",
        "model_svc = SVC(kernel='linear')\n",
        "\n",
        "# Training model\n",
        "model_svc.fit(X_train, Y_train)\n",
        "\n",
        "# Predicting for the test set\n",
        "Y_pred_svm = model_svc.predict(X_test)"
      ],
      "metadata": {
        "id": "xQ_qc2lpqCtM"
      },
      "execution_count": 402,
      "outputs": []
    },
    {
      "cell_type": "markdown",
      "source": [
        "#### Confusion matrix and metrics"
      ],
      "metadata": {
        "id": "gq9zkC1sqDB_"
      }
    },
    {
      "cell_type": "code",
      "source": [
        "ax= plt.subplot()\n",
        "cm = confusion_matrix(Y_test, Y_pred_svm)\n",
        "sns.heatmap(cm, annot=True, fmt='g', cmap = 'Blues', ax=ax);  #annot=True to annotate cells, ftm='g' to disable scientific notation\n",
        "\n",
        "# labels, title and ticks\n",
        "ax.set_xlabel('Predicted labels')\n",
        "ax.set_ylabel('Actual labels')\n",
        "ax.set_title('Confusion Matrix')\n",
        "ax.xaxis.set_ticklabels(count_label.Label)\n",
        "ax.yaxis.set_ticklabels(count_label.Label, rotation=0, ha='right');\n",
        "plt.xticks(rotation=90, ha='right')\n",
        "\n",
        "# metrics\n",
        "print(classification_report(Y_test, Y_pred_svm))"
      ],
      "metadata": {
        "colab": {
          "base_uri": "https://localhost:8080/",
          "height": 727
        },
        "id": "VBzsdCjaqYCN",
        "outputId": "60231b35-9e10-404c-cb9e-3b253d41ca96"
      },
      "execution_count": 403,
      "outputs": [
        {
          "output_type": "stream",
          "name": "stdout",
          "text": [
            "                         precision    recall  f1-score   support\n",
            "\n",
            "          Backward fall       1.00      0.67      0.80         3\n",
            "           Forward fall       0.75      1.00      0.86         3\n",
            "                Jumping       1.00      1.00      1.00         6\n",
            "             Lying down       0.75      1.00      0.86         3\n",
            "                  Other       1.00      0.89      0.94         9\n",
            "                Running       1.00      1.00      1.00         6\n",
            "          Sideways fall       1.00      1.00      1.00         3\n",
            "                Walking       1.00      1.00      1.00         6\n",
            "Walking down the stairs       1.00      1.00      1.00         4\n",
            "  Walking up the stairs       1.00      1.00      1.00         4\n",
            "\n",
            "               accuracy                           0.96        47\n",
            "              macro avg       0.95      0.96      0.95        47\n",
            "           weighted avg       0.97      0.96      0.96        47\n",
            "\n"
          ]
        },
        {
          "output_type": "display_data",
          "data": {
            "text/plain": [
              "<Figure size 432x288 with 2 Axes>"
            ],
            "image/png": "[encoded data removed]"
          },
          "metadata": {}
        }
      ]
    },
    {
      "cell_type": "markdown",
      "source": [
        "## Re-training the model"
      ],
      "metadata": {
        "id": "FsMuFkFG4b0u"
      }
    },
    {
      "cell_type": "code",
      "source": [
        "# Initialize the model\n",
        "model_svc = SVC(kernel='linear')\n",
        "\n",
        "# Re-training the model\n",
        "X_svc = scaler.fit_transform(X)\n",
        "Y_svc = Y\n",
        "model_svc.fit(X_svc,Y_svc)"
      ],
      "metadata": {
        "colab": {
          "base_uri": "https://localhost:8080/",
          "height": 75
        },
        "id": "9WfC4gXd4d1-",
        "outputId": "b8f8a784-3831-4d15-849e-c2c0e04bee28"
      },
      "execution_count": 404,
      "outputs": [
        {
          "output_type": "execute_result",
          "data": {
            "text/plain": [
              "SVC(kernel='linear')"
            ],
            "text/html": [
              "<style>#sk-container-id-13 {color: black;background-color: white;}#sk-container-id-13 pre{padding: 0;}#sk-container-id-13 div.sk-toggleable {background-color: white;}#sk-container-id-13 label.sk-toggleable__label {cursor: pointer;display: block;width: 100%;margin-bottom: 0;padding: 0.3em;box-sizing: border-box;text-align: center;}#sk-container-id-13 label.sk-toggleable__label-arrow:before {content: \"▸\";float: left;margin-right: 0.25em;color: #696969;}#sk-container-id-13 label.sk-toggleable__label-arrow:hover:before {color: black;}#sk-container-id-13 div.sk-estimator:hover label.sk-toggleable__label-arrow:before {color: black;}#sk-container-id-13 div.sk-toggleable__content {max-height: 0;max-width: 0;overflow: hidden;text-align: left;background-color: #f0f8ff;}#sk-container-id-13 div.sk-toggleable__content pre {margin: 0.2em;color: black;border-radius: 0.25em;background-color: #f0f8ff;}#sk-container-id-13 input.sk-toggleable__control:checked~div.sk-toggleable__content {max-height: 200px;max-width: 100%;overflow: auto;}#sk-container-id-13 input.sk-toggleable__control:checked~label.sk-toggleable__label-arrow:before {content: \"▾\";}#sk-container-id-13 div.sk-estimator input.sk-toggleable__control:checked~label.sk-toggleable__label {background-color: #d4ebff;}#sk-container-id-13 div.sk-label input.sk-toggleable__control:checked~label.sk-toggleable__label {background-color: #d4ebff;}#sk-container-id-13 input.sk-hidden--visually {border: 0;clip: rect(1px 1px 1px 1px);clip: rect(1px, 1px, 1px, 1px);height: 1px;margin: -1px;overflow: hidden;padding: 0;position: absolute;width: 1px;}#sk-container-id-13 div.sk-estimator {font-family: monospace;background-color: #f0f8ff;border: 1px dotted black;border-radius: 0.25em;box-sizing: border-box;margin-bottom: 0.5em;}#sk-container-id-13 div.sk-estimator:hover {background-color: #d4ebff;}#sk-container-id-13 div.sk-parallel-item::after {content: \"\";width: 100%;border-bottom: 1px solid gray;flex-grow: 1;}#sk-container-id-13 div.sk-label:hover label.sk-toggleable__label {background-color: #d4ebff;}#sk-container-id-13 div.sk-serial::before {content: \"\";position: absolute;border-left: 1px solid gray;box-sizing: border-box;top: 0;bottom: 0;left: 50%;z-index: 0;}#sk-container-id-13 div.sk-serial {display: flex;flex-direction: column;align-items: center;background-color: white;padding-right: 0.2em;padding-left: 0.2em;position: relative;}#sk-container-id-13 div.sk-item {position: relative;z-index: 1;}#sk-container-id-13 div.sk-parallel {display: flex;align-items: stretch;justify-content: center;background-color: white;position: relative;}#sk-container-id-13 div.sk-item::before, #sk-container-id-13 div.sk-parallel-item::before {content: \"\";position: absolute;border-left: 1px solid gray;box-sizing: border-box;top: 0;bottom: 0;left: 50%;z-index: -1;}#sk-container-id-13 div.sk-parallel-item {display: flex;flex-direction: column;z-index: 1;position: relative;background-color: white;}#sk-container-id-13 div.sk-parallel-item:first-child::after {align-self: flex-end;width: 50%;}#sk-container-id-13 div.sk-parallel-item:last-child::after {align-self: flex-start;width: 50%;}#sk-container-id-13 div.sk-parallel-item:only-child::after {width: 0;}#sk-container-id-13 div.sk-dashed-wrapped {border: 1px dashed gray;margin: 0 0.4em 0.5em 0.4em;box-sizing: border-box;padding-bottom: 0.4em;background-color: white;}#sk-container-id-13 div.sk-label label {font-family: monospace;font-weight: bold;display: inline-block;line-height: 1.2em;}#sk-container-id-13 div.sk-label-container {text-align: center;}#sk-container-id-13 div.sk-container {/* jupyter's `normalize.less` sets `[hidden] { display: none; }` but bootstrap.min.css set `[hidden] { display: none !important; }` so we also need the `!important` here to be able to override the default hidden behavior on the sphinx rendered scikit-learn.org. See: https://github.com/scikit-learn/scikit-learn/issues/21755 */display: inline-block !important;position: relative;}#sk-container-id-13 div.sk-text-repr-fallback {display: none;}</style><div id=\"sk-container-id-13\" class=\"sk-top-container\"><div class=\"sk-text-repr-fallback\"><pre>SVC(kernel=&#x27;linear&#x27;)</pre><b>In a Jupyter environment, please rerun this cell to show the HTML representation or trust the notebook. <br />On GitHub, the HTML representation is unable to render, please try loading this page with nbviewer.org.</b></div><div class=\"sk-container\" hidden><div class=\"sk-item\"><div class=\"sk-estimator sk-toggleable\"><input class=\"sk-toggleable__control sk-hidden--visually\" id=\"sk-estimator-id-13\" type=\"checkbox\" checked><label for=\"sk-estimator-id-13\" class=\"sk-toggleable__label sk-toggleable__label-arrow\">SVC</label><div class=\"sk-toggleable__content\"><pre>SVC(kernel=&#x27;linear&#x27;)</pre></div></div></div></div></div>"
            ]
          },
          "metadata": {},
          "execution_count": 404
        }
      ]
    },
    {
      "cell_type": "code",
      "source": [
        "#Saving the model\n",
        "import pickle\n",
        "# Save the Modle to file in the current working directory\n",
        "#For any new testing data other than the data in dataset\n",
        "\n",
        "Pkl_Filename = \"/content/drive/MyDrive/datos inerciales/Human_Activities_Classifier.pkl\"  \n",
        "\n",
        "with open(Pkl_Filename, 'wb') as file:  \n",
        "    pickle.dump(model_svc, file)\n",
        "\n",
        "# Load the Model back from file\n",
        "with open(Pkl_Filename, 'rb') as file:  \n",
        "    Human_Activities_Classifier = pickle.load(file)\n",
        "Human_Activities_Classifier"
      ],
      "metadata": {
        "colab": {
          "base_uri": "https://localhost:8080/",
          "height": 75
        },
        "id": "AwnHDFs36Hnh",
        "outputId": "1f1b13c4-1d1e-4ad2-b4e0-f63343653251"
      },
      "execution_count": 405,
      "outputs": [
        {
          "output_type": "execute_result",
          "data": {
            "text/plain": [
              "SVC(kernel='linear')"
            ],
            "text/html": [
              "<style>#sk-container-id-14 {color: black;background-color: white;}#sk-container-id-14 pre{padding: 0;}#sk-container-id-14 div.sk-toggleable {background-color: white;}#sk-container-id-14 label.sk-toggleable__label {cursor: pointer;display: block;width: 100%;margin-bottom: 0;padding: 0.3em;box-sizing: border-box;text-align: center;}#sk-container-id-14 label.sk-toggleable__label-arrow:before {content: \"▸\";float: left;margin-right: 0.25em;color: #696969;}#sk-container-id-14 label.sk-toggleable__label-arrow:hover:before {color: black;}#sk-container-id-14 div.sk-estimator:hover label.sk-toggleable__label-arrow:before {color: black;}#sk-container-id-14 div.sk-toggleable__content {max-height: 0;max-width: 0;overflow: hidden;text-align: left;background-color: #f0f8ff;}#sk-container-id-14 div.sk-toggleable__content pre {margin: 0.2em;color: black;border-radius: 0.25em;background-color: #f0f8ff;}#sk-container-id-14 input.sk-toggleable__control:checked~div.sk-toggleable__content {max-height: 200px;max-width: 100%;overflow: auto;}#sk-container-id-14 input.sk-toggleable__control:checked~label.sk-toggleable__label-arrow:before {content: \"▾\";}#sk-container-id-14 div.sk-estimator input.sk-toggleable__control:checked~label.sk-toggleable__label {background-color: #d4ebff;}#sk-container-id-14 div.sk-label input.sk-toggleable__control:checked~label.sk-toggleable__label {background-color: #d4ebff;}#sk-container-id-14 input.sk-hidden--visually {border: 0;clip: rect(1px 1px 1px 1px);clip: rect(1px, 1px, 1px, 1px);height: 1px;margin: -1px;overflow: hidden;padding: 0;position: absolute;width: 1px;}#sk-container-id-14 div.sk-estimator {font-family: monospace;background-color: #f0f8ff;border: 1px dotted black;border-radius: 0.25em;box-sizing: border-box;margin-bottom: 0.5em;}#sk-container-id-14 div.sk-estimator:hover {background-color: #d4ebff;}#sk-container-id-14 div.sk-parallel-item::after {content: \"\";width: 100%;border-bottom: 1px solid gray;flex-grow: 1;}#sk-container-id-14 div.sk-label:hover label.sk-toggleable__label {background-color: #d4ebff;}#sk-container-id-14 div.sk-serial::before {content: \"\";position: absolute;border-left: 1px solid gray;box-sizing: border-box;top: 0;bottom: 0;left: 50%;z-index: 0;}#sk-container-id-14 div.sk-serial {display: flex;flex-direction: column;align-items: center;background-color: white;padding-right: 0.2em;padding-left: 0.2em;position: relative;}#sk-container-id-14 div.sk-item {position: relative;z-index: 1;}#sk-container-id-14 div.sk-parallel {display: flex;align-items: stretch;justify-content: center;background-color: white;position: relative;}#sk-container-id-14 div.sk-item::before, #sk-container-id-14 div.sk-parallel-item::before {content: \"\";position: absolute;border-left: 1px solid gray;box-sizing: border-box;top: 0;bottom: 0;left: 50%;z-index: -1;}#sk-container-id-14 div.sk-parallel-item {display: flex;flex-direction: column;z-index: 1;position: relative;background-color: white;}#sk-container-id-14 div.sk-parallel-item:first-child::after {align-self: flex-end;width: 50%;}#sk-container-id-14 div.sk-parallel-item:last-child::after {align-self: flex-start;width: 50%;}#sk-container-id-14 div.sk-parallel-item:only-child::after {width: 0;}#sk-container-id-14 div.sk-dashed-wrapped {border: 1px dashed gray;margin: 0 0.4em 0.5em 0.4em;box-sizing: border-box;padding-bottom: 0.4em;background-color: white;}#sk-container-id-14 div.sk-label label {font-family: monospace;font-weight: bold;display: inline-block;line-height: 1.2em;}#sk-container-id-14 div.sk-label-container {text-align: center;}#sk-container-id-14 div.sk-container {/* jupyter's `normalize.less` sets `[hidden] { display: none; }` but bootstrap.min.css set `[hidden] { display: none !important; }` so we also need the `!important` here to be able to override the default hidden behavior on the sphinx rendered scikit-learn.org. See: https://github.com/scikit-learn/scikit-learn/issues/21755 */display: inline-block !important;position: relative;}#sk-container-id-14 div.sk-text-repr-fallback {display: none;}</style><div id=\"sk-container-id-14\" class=\"sk-top-container\"><div class=\"sk-text-repr-fallback\"><pre>SVC(kernel=&#x27;linear&#x27;)</pre><b>In a Jupyter environment, please rerun this cell to show the HTML representation or trust the notebook. <br />On GitHub, the HTML representation is unable to render, please try loading this page with nbviewer.org.</b></div><div class=\"sk-container\" hidden><div class=\"sk-item\"><div class=\"sk-estimator sk-toggleable\"><input class=\"sk-toggleable__control sk-hidden--visually\" id=\"sk-estimator-id-14\" type=\"checkbox\" checked><label for=\"sk-estimator-id-14\" class=\"sk-toggleable__label sk-toggleable__label-arrow\">SVC</label><div class=\"sk-toggleable__content\"><pre>SVC(kernel=&#x27;linear&#x27;)</pre></div></div></div></div></div>"
            ]
          },
          "metadata": {},
          "execution_count": 405
        }
      ]
    },
    {
      "cell_type": "markdown",
      "source": [
        "# External validation"
      ],
      "metadata": {
        "id": "qaugh6Vc7CNt"
      }
    },
    {
      "cell_type": "markdown",
      "source": [
        "## Loading training data "
      ],
      "metadata": {
        "id": "nITvwVnw8rI1"
      }
    },
    {
      "cell_type": "code",
      "source": [
        "# Loading CSV files \n",
        "csv_files = [os.path.abspath(x) for x in glob.glob('/content/drive/MyDrive/datos inerciales/test/*.csv')]\n",
        "\n",
        "file_name = []\n",
        "file_path = []\n",
        "\n",
        "# Paths and labels to the files found\n",
        "for path in tqdm_notebook(csv_files):\n",
        "    part = os.path.basename(path)\n",
        "    name = part.split('.')[0]       \n",
        "    file_name.append(name)\n",
        "    file_path.append(path)  \n",
        "\n",
        "# Creating dataframe\n",
        "file_name_df = pd.DataFrame(file_name, columns=['File_Name'])\n",
        "path_df = pd.DataFrame(file_path, columns=['Path'])\n",
        "dataset_df = pd.concat([path_df], axis = 1) "
      ],
      "metadata": {
        "colab": {
          "base_uri": "https://localhost:8080/",
          "height": 49,
          "referenced_widgets": [
            "973c3f34c8704123932cb5447a4ead7f",
            "2d0d8ec4168a406faf1563379f4d8cde",
            "5951576591044eb786dded8781822c98",
            "b0d2e85c0cc64ea5bd65c725ea5467b3",
            "b51425ba0d64471aad7b5ee05c543dde",
            "3dc1de1041e940a59c02d0979b245d1a",
            "f28f45b824ca48c6ab1eda7dcde92d0b",
            "e5d75fc261a74f48b5fbffde6b67beb4",
            "18ef72fad54341488ee9a36cd1f9d750",
            "a1d21558d9434dd293182780dd9510b6",
            "ec4fa460d3d74abdb129148ebda00824"
          ]
        },
        "id": "ykdjZm6G7GlV",
        "outputId": "db2ab484-3b7a-4167-d077-013c4c59ebca"
      },
      "execution_count": 406,
      "outputs": [
        {
          "output_type": "display_data",
          "data": {
            "text/plain": [
              "  0%|          | 0/35 [00:00<?, ?it/s]"
            ],
            "application/vnd.jupyter.widget-view+json": {
              "version_major": 2,
              "version_minor": 0,
              "model_id": "973c3f34c8704123932cb5447a4ead7f"
            }
          },
          "metadata": {}
        }
      ]
    },
    {
      "cell_type": "code",
      "source": [
        "dataset_df.shape"
      ],
      "metadata": {
        "colab": {
          "base_uri": "https://localhost:8080/"
        },
        "id": "W89Weh6ab7cS",
        "outputId": "15a8cf9c-34c2-4e4b-8d8b-eed14baa2ed9"
      },
      "execution_count": 407,
      "outputs": [
        {
          "output_type": "execute_result",
          "data": {
            "text/plain": [
              "(35, 1)"
            ]
          },
          "metadata": {},
          "execution_count": 407
        }
      ]
    },
    {
      "cell_type": "markdown",
      "source": [
        "## Get feature vector"
      ],
      "metadata": {
        "id": "K3BLQ-c38kNM"
      }
    },
    {
      "cell_type": "code",
      "source": [
        "#Get feature vector\n",
        "\n",
        "df_features = pd.DataFrame()\n",
        "\n",
        "for path in tqdm_notebook(dataset_df.Path): \n",
        "    # columns name\n",
        "    column_names = ['x', 'y', 'z', 'time']\n",
        "\n",
        "    # Loading csv data\n",
        "    df = pd.read_csv(path, names=column_names, delimiter=',',skiprows=2, skipinitialspace=True)\n",
        "\n",
        "    # xy signal\n",
        "    df['xy'] = df['x'] * df['y']\n",
        "\n",
        "    # xz signal\n",
        "    df['xz'] = df['x'] * df['z']\n",
        "\n",
        "    # yz signal\n",
        "    df['yz'] = df['y'] * df['z']\n",
        "\n",
        "    # Acc signal\n",
        "    df['total_acc'] = np.sqrt(df['x']**2 + df['y']**2 + df['z']**2)\n",
        "\n",
        "    gfd = tsfel.get_features_by_domain()\n",
        "\n",
        "    df = np.array(df)\n",
        "    df = df[~np.isnan(df)] \n",
        "\n",
        "    features = tsfel.time_series_features_extractor(gfd, df, fs=2500, windows_size=500, overlap=0.2, verbose=False)\n",
        "\n",
        "    df_features = pd.concat([df_features, pd.DataFrame(features)], axis=0)\n",
        "\n",
        "print(\"Number of instances:\", df_features.shape[0])\n",
        "print(\"Number of features:\", df_features.shape[1]-1)"
      ],
      "metadata": {
        "colab": {
          "base_uri": "https://localhost:8080/",
          "height": 85,
          "referenced_widgets": [
            "51a092a4375447ab8b15d1a3dc612f55",
            "9da6f6e0b63b42d8947808dda4421a15",
            "48f4b11589ff469daf84a11497c4aff5",
            "87d59162a4304b93b07de4e5d8d1475a",
            "e094f90f030a465998f62520c61ed350",
            "0b28dbd1911f4232a74731b34236305c",
            "dfe2ee2d1d10413c9144fe7891accc5d",
            "97593c59f9c3415b8b687e8d847bbba3",
            "3f14e3ffa4c24010b69943a4aceffc86",
            "e252b5742ccb45ebb5f5674f89cfab5e",
            "77c76c05c4a54c879200bb3ee23ed065"
          ]
        },
        "id": "_PSwnA938ksi",
        "outputId": "73922e1e-711f-4467-8e4b-cb2d397d7d43"
      },
      "execution_count": 408,
      "outputs": [
        {
          "output_type": "display_data",
          "data": {
            "text/plain": [
              "  0%|          | 0/35 [00:00<?, ?it/s]"
            ],
            "application/vnd.jupyter.widget-view+json": {
              "version_major": 2,
              "version_minor": 0,
              "model_id": "51a092a4375447ab8b15d1a3dc612f55"
            }
          },
          "metadata": {}
        },
        {
          "output_type": "stream",
          "name": "stdout",
          "text": [
            "Number of instances: 35\n",
            "Number of features: 388\n"
          ]
        }
      ]
    },
    {
      "cell_type": "markdown",
      "source": [
        "## Normalize data"
      ],
      "metadata": {
        "id": "wGS8xXo-86Pd"
      }
    },
    {
      "cell_type": "code",
      "source": [
        "X = df_features.iloc[:, 0:df_features.shape[1]-1]\n",
        "X = X.apply(pd.to_numeric, errors='coerce')\n",
        "X.drop(corr_features, axis=1, inplace=True)\n",
        "\n",
        "# Select the columns of the original DataFrame that have been selected\n",
        "X = X.loc[:, mask]\n",
        "\n",
        "scaler = StandardScaler()\n",
        "X = scaler.fit_transform(X)"
      ],
      "metadata": {
        "id": "mG6yopU286gb"
      },
      "execution_count": 409,
      "outputs": []
    },
    {
      "cell_type": "markdown",
      "source": [
        "## Evaluating model "
      ],
      "metadata": {
        "id": "LusNmxMr9GmL"
      }
    },
    {
      "cell_type": "code",
      "source": [
        "activities = {'MW': 'Walking', \n",
        "              'MR': 'Running', \n",
        "              'MJ': 'Jumping',\n",
        "              'WD': 'Walking down the stairs',\n",
        "              'WU': 'Walking up the stairs',\n",
        "              'FF': 'Forward fall',\n",
        "              'FS': 'Sideways fall',\n",
        "              'FB': 'Backward fall',\n",
        "              'LD': 'Lying down',\n",
        "              'OT': 'Other'}\n",
        "\n",
        "prediction = Human_Activities_Classifier.predict(X)\n",
        "\n",
        "# Creating dataframe\n",
        "pred_df = pd.DataFrame(prediction, columns=['Prediction'])\n",
        "prediction_df = pd.concat([file_name_df, pred_df], axis = 1) \n",
        "\n",
        "# Exporting predictions\n",
        "\n",
        "print('Human Activities Classifier prediction:\\n\\n', prediction_df)"
      ],
      "metadata": {
        "colab": {
          "base_uri": "https://localhost:8080/"
        },
        "id": "nSGG9Nq59HDu",
        "outputId": "44c6a26d-8c95-4733-8eb5-f6088fa0dd22"
      },
      "execution_count": 422,
      "outputs": [
        {
          "output_type": "stream",
          "name": "stdout",
          "text": [
            "Human Activities Classifier prediction:\n",
            "\n",
            "    File_Name             Prediction\n",
            "0    file_28           Forward fall\n",
            "1    file_15                Jumping\n",
            "2    file_32                Jumping\n",
            "3     file_6                Jumping\n",
            "4    file_18                Running\n",
            "5    file_19                  Other\n",
            "6    file_34                Running\n",
            "7    file_10  Walking up the stairs\n",
            "8     file_8           Forward fall\n",
            "9    file_17                Jumping\n",
            "10   file_27                Jumping\n",
            "11    file_0  Walking up the stairs\n",
            "12    file_9                  Other\n",
            "13    file_1                  Other\n",
            "14    file_3  Walking up the stairs\n",
            "15   file_20                Jumping\n",
            "16   file_23                Jumping\n",
            "17   file_21                Jumping\n",
            "18   file_13                Jumping\n",
            "19   file_11                Jumping\n",
            "20   file_24             Lying down\n",
            "21   file_29                Walking\n",
            "22   file_30                Jumping\n",
            "23    file_5  Walking up the stairs\n",
            "24   file_16                Jumping\n",
            "25   file_25                Jumping\n",
            "26   file_31             Lying down\n",
            "27   file_26                Walking\n",
            "28    file_4                Jumping\n",
            "29   file_22                Walking\n",
            "30   file_33                Jumping\n",
            "31    file_2                Running\n",
            "32    file_7                  Other\n",
            "33   file_14                Jumping\n",
            "34   file_12                Walking\n"
          ]
        }
      ]
    }
  ]
}