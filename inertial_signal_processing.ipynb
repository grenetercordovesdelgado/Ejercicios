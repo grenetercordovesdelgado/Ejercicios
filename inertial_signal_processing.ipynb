{
  "nbformat": 4,
  "nbformat_minor": 0,
  "metadata": {
    "colab": {
      "provenance": [],
      "collapsed_sections": [
        "FyT0tHjbtScD",
        "DKGuFv3FtU17"
      ],
      "toc_visible": true,
      "authorship_tag": "ABX9TyNseVKKnTF6Et9ZGbaZIpde",
      "include_colab_link": true
    },
    "kernelspec": {
      "name": "python3",
      "display_name": "Python 3"
    },
    "language_info": {
      "name": "python"
    },
    "widgets": {
      "application/vnd.jupyter.widget-state+json": {
        "06642548a4e94eacb4b18571048d4609": {
          "model_module": "@jupyter-widgets/controls",
          "model_name": "HBoxModel",
          "model_module_version": "1.5.0",
          "state": {
            "_dom_classes": [],
            "_model_module": "@jupyter-widgets/controls",
            "_model_module_version": "1.5.0",
            "_model_name": "HBoxModel",
            "_view_count": null,
            "_view_module": "@jupyter-widgets/controls",
            "_view_module_version": "1.5.0",
            "_view_name": "HBoxView",
            "box_style": "",
            "children": [
              "IPY_MODEL_584417af009f4cada76ce235940da16d",
              "IPY_MODEL_2d5fba229879429cbdd7d9ccde891246",
              "IPY_MODEL_2f795f0073574153a1c8f6df0bfb2383"
            ],
            "layout": "IPY_MODEL_1b199ee123b348eeb9d088f7ac0612c4"
          }
        },
        "584417af009f4cada76ce235940da16d": {
          "model_module": "@jupyter-widgets/controls",
          "model_name": "HTMLModel",
          "model_module_version": "1.5.0",
          "state": {
            "_dom_classes": [],
            "_model_module": "@jupyter-widgets/controls",
            "_model_module_version": "1.5.0",
            "_model_name": "HTMLModel",
            "_view_count": null,
            "_view_module": "@jupyter-widgets/controls",
            "_view_module_version": "1.5.0",
            "_view_name": "HTMLView",
            "description": "",
            "description_tooltip": null,
            "layout": "IPY_MODEL_88f540eb451c45c58c6d643bac4a1429",
            "placeholder": "​",
            "style": "IPY_MODEL_165e189057234d558323bb6898beee75",
            "value": "100%"
          }
        },
        "2d5fba229879429cbdd7d9ccde891246": {
          "model_module": "@jupyter-widgets/controls",
          "model_name": "FloatProgressModel",
          "model_module_version": "1.5.0",
          "state": {
            "_dom_classes": [],
            "_model_module": "@jupyter-widgets/controls",
            "_model_module_version": "1.5.0",
            "_model_name": "FloatProgressModel",
            "_view_count": null,
            "_view_module": "@jupyter-widgets/controls",
            "_view_module_version": "1.5.0",
            "_view_name": "ProgressView",
            "bar_style": "success",
            "description": "",
            "description_tooltip": null,
            "layout": "IPY_MODEL_6717d850b8c043ce83bb1791195be5a0",
            "max": 156,
            "min": 0,
            "orientation": "horizontal",
            "style": "IPY_MODEL_9a039b63a37e4acf890108da61de004e",
            "value": 156
          }
        },
        "2f795f0073574153a1c8f6df0bfb2383": {
          "model_module": "@jupyter-widgets/controls",
          "model_name": "HTMLModel",
          "model_module_version": "1.5.0",
          "state": {
            "_dom_classes": [],
            "_model_module": "@jupyter-widgets/controls",
            "_model_module_version": "1.5.0",
            "_model_name": "HTMLModel",
            "_view_count": null,
            "_view_module": "@jupyter-widgets/controls",
            "_view_module_version": "1.5.0",
            "_view_name": "HTMLView",
            "description": "",
            "description_tooltip": null,
            "layout": "IPY_MODEL_d4b9e504a0dd4793b2dcdc3f3b3035a7",
            "placeholder": "​",
            "style": "IPY_MODEL_45627843ba89408c9618c6b308b971e9",
            "value": " 156/156 [00:00&lt;00:00, 3290.41it/s]"
          }
        },
        "1b199ee123b348eeb9d088f7ac0612c4": {
          "model_module": "@jupyter-widgets/base",
          "model_name": "LayoutModel",
          "model_module_version": "1.2.0",
          "state": {
            "_model_module": "@jupyter-widgets/base",
            "_model_module_version": "1.2.0",
            "_model_name": "LayoutModel",
            "_view_count": null,
            "_view_module": "@jupyter-widgets/base",
            "_view_module_version": "1.2.0",
            "_view_name": "LayoutView",
            "align_content": null,
            "align_items": null,
            "align_self": null,
            "border": null,
            "bottom": null,
            "display": null,
            "flex": null,
            "flex_flow": null,
            "grid_area": null,
            "grid_auto_columns": null,
            "grid_auto_flow": null,
            "grid_auto_rows": null,
            "grid_column": null,
            "grid_gap": null,
            "grid_row": null,
            "grid_template_areas": null,
            "grid_template_columns": null,
            "grid_template_rows": null,
            "height": null,
            "justify_content": null,
            "justify_items": null,
            "left": null,
            "margin": null,
            "max_height": null,
            "max_width": null,
            "min_height": null,
            "min_width": null,
            "object_fit": null,
            "object_position": null,
            "order": null,
            "overflow": null,
            "overflow_x": null,
            "overflow_y": null,
            "padding": null,
            "right": null,
            "top": null,
            "visibility": null,
            "width": null
          }
        },
        "88f540eb451c45c58c6d643bac4a1429": {
          "model_module": "@jupyter-widgets/base",
          "model_name": "LayoutModel",
          "model_module_version": "1.2.0",
          "state": {
            "_model_module": "@jupyter-widgets/base",
            "_model_module_version": "1.2.0",
            "_model_name": "LayoutModel",
            "_view_count": null,
            "_view_module": "@jupyter-widgets/base",
            "_view_module_version": "1.2.0",
            "_view_name": "LayoutView",
            "align_content": null,
            "align_items": null,
            "align_self": null,
            "border": null,
            "bottom": null,
            "display": null,
            "flex": null,
            "flex_flow": null,
            "grid_area": null,
            "grid_auto_columns": null,
            "grid_auto_flow": null,
            "grid_auto_rows": null,
            "grid_column": null,
            "grid_gap": null,
            "grid_row": null,
            "grid_template_areas": null,
            "grid_template_columns": null,
            "grid_template_rows": null,
            "height": null,
            "justify_content": null,
            "justify_items": null,
            "left": null,
            "margin": null,
            "max_height": null,
            "max_width": null,
            "min_height": null,
            "min_width": null,
            "object_fit": null,
            "object_position": null,
            "order": null,
            "overflow": null,
            "overflow_x": null,
            "overflow_y": null,
            "padding": null,
            "right": null,
            "top": null,
            "visibility": null,
            "width": null
          }
        },
        "165e189057234d558323bb6898beee75": {
          "model_module": "@jupyter-widgets/controls",
          "model_name": "DescriptionStyleModel",
          "model_module_version": "1.5.0",
          "state": {
            "_model_module": "@jupyter-widgets/controls",
            "_model_module_version": "1.5.0",
            "_model_name": "DescriptionStyleModel",
            "_view_count": null,
            "_view_module": "@jupyter-widgets/base",
            "_view_module_version": "1.2.0",
            "_view_name": "StyleView",
            "description_width": ""
          }
        },
        "6717d850b8c043ce83bb1791195be5a0": {
          "model_module": "@jupyter-widgets/base",
          "model_name": "LayoutModel",
          "model_module_version": "1.2.0",
          "state": {
            "_model_module": "@jupyter-widgets/base",
            "_model_module_version": "1.2.0",
            "_model_name": "LayoutModel",
            "_view_count": null,
            "_view_module": "@jupyter-widgets/base",
            "_view_module_version": "1.2.0",
            "_view_name": "LayoutView",
            "align_content": null,
            "align_items": null,
            "align_self": null,
            "border": null,
            "bottom": null,
            "display": null,
            "flex": null,
            "flex_flow": null,
            "grid_area": null,
            "grid_auto_columns": null,
            "grid_auto_flow": null,
            "grid_auto_rows": null,
            "grid_column": null,
            "grid_gap": null,
            "grid_row": null,
            "grid_template_areas": null,
            "grid_template_columns": null,
            "grid_template_rows": null,
            "height": null,
            "justify_content": null,
            "justify_items": null,
            "left": null,
            "margin": null,
            "max_height": null,
            "max_width": null,
            "min_height": null,
            "min_width": null,
            "object_fit": null,
            "object_position": null,
            "order": null,
            "overflow": null,
            "overflow_x": null,
            "overflow_y": null,
            "padding": null,
            "right": null,
            "top": null,
            "visibility": null,
            "width": null
          }
        },
        "9a039b63a37e4acf890108da61de004e": {
          "model_module": "@jupyter-widgets/controls",
          "model_name": "ProgressStyleModel",
          "model_module_version": "1.5.0",
          "state": {
            "_model_module": "@jupyter-widgets/controls",
            "_model_module_version": "1.5.0",
            "_model_name": "ProgressStyleModel",
            "_view_count": null,
            "_view_module": "@jupyter-widgets/base",
            "_view_module_version": "1.2.0",
            "_view_name": "StyleView",
            "bar_color": null,
            "description_width": ""
          }
        },
        "d4b9e504a0dd4793b2dcdc3f3b3035a7": {
          "model_module": "@jupyter-widgets/base",
          "model_name": "LayoutModel",
          "model_module_version": "1.2.0",
          "state": {
            "_model_module": "@jupyter-widgets/base",
            "_model_module_version": "1.2.0",
            "_model_name": "LayoutModel",
            "_view_count": null,
            "_view_module": "@jupyter-widgets/base",
            "_view_module_version": "1.2.0",
            "_view_name": "LayoutView",
            "align_content": null,
            "align_items": null,
            "align_self": null,
            "border": null,
            "bottom": null,
            "display": null,
            "flex": null,
            "flex_flow": null,
            "grid_area": null,
            "grid_auto_columns": null,
            "grid_auto_flow": null,
            "grid_auto_rows": null,
            "grid_column": null,
            "grid_gap": null,
            "grid_row": null,
            "grid_template_areas": null,
            "grid_template_columns": null,
            "grid_template_rows": null,
            "height": null,
            "justify_content": null,
            "justify_items": null,
            "left": null,
            "margin": null,
            "max_height": null,
            "max_width": null,
            "min_height": null,
            "min_width": null,
            "object_fit": null,
            "object_position": null,
            "order": null,
            "overflow": null,
            "overflow_x": null,
            "overflow_y": null,
            "padding": null,
            "right": null,
            "top": null,
            "visibility": null,
            "width": null
          }
        },
        "45627843ba89408c9618c6b308b971e9": {
          "model_module": "@jupyter-widgets/controls",
          "model_name": "DescriptionStyleModel",
          "model_module_version": "1.5.0",
          "state": {
            "_model_module": "@jupyter-widgets/controls",
            "_model_module_version": "1.5.0",
            "_model_name": "DescriptionStyleModel",
            "_view_count": null,
            "_view_module": "@jupyter-widgets/base",
            "_view_module_version": "1.2.0",
            "_view_name": "StyleView",
            "description_width": ""
          }
        },
        "8ff2f76ff985419d8212cd6ea540bcb6": {
          "model_module": "@jupyter-widgets/controls",
          "model_name": "HBoxModel",
          "model_module_version": "1.5.0",
          "state": {
            "_dom_classes": [],
            "_model_module": "@jupyter-widgets/controls",
            "_model_module_version": "1.5.0",
            "_model_name": "HBoxModel",
            "_view_count": null,
            "_view_module": "@jupyter-widgets/controls",
            "_view_module_version": "1.5.0",
            "_view_name": "HBoxView",
            "box_style": "",
            "children": [
              "IPY_MODEL_59d2fadf43b443edab45e63bf5ea3c5c",
              "IPY_MODEL_ea27f6f851114c7790762a925e31fdc8",
              "IPY_MODEL_6ec32c6b10bb42b0ab933db13bf46ce3"
            ],
            "layout": "IPY_MODEL_ab9250765f5e413b9193203f307e9ed3"
          }
        },
        "59d2fadf43b443edab45e63bf5ea3c5c": {
          "model_module": "@jupyter-widgets/controls",
          "model_name": "HTMLModel",
          "model_module_version": "1.5.0",
          "state": {
            "_dom_classes": [],
            "_model_module": "@jupyter-widgets/controls",
            "_model_module_version": "1.5.0",
            "_model_name": "HTMLModel",
            "_view_count": null,
            "_view_module": "@jupyter-widgets/controls",
            "_view_module_version": "1.5.0",
            "_view_name": "HTMLView",
            "description": "",
            "description_tooltip": null,
            "layout": "IPY_MODEL_cc4ae16cc67f40d9837467625c757a38",
            "placeholder": "​",
            "style": "IPY_MODEL_adc962a23a9c4e0b83a84e19014c289a",
            "value": "100%"
          }
        },
        "ea27f6f851114c7790762a925e31fdc8": {
          "model_module": "@jupyter-widgets/controls",
          "model_name": "FloatProgressModel",
          "model_module_version": "1.5.0",
          "state": {
            "_dom_classes": [],
            "_model_module": "@jupyter-widgets/controls",
            "_model_module_version": "1.5.0",
            "_model_name": "FloatProgressModel",
            "_view_count": null,
            "_view_module": "@jupyter-widgets/controls",
            "_view_module_version": "1.5.0",
            "_view_name": "ProgressView",
            "bar_style": "success",
            "description": "",
            "description_tooltip": null,
            "layout": "IPY_MODEL_e260f26c0ba44e00b16ea98420aa477b",
            "max": 156,
            "min": 0,
            "orientation": "horizontal",
            "style": "IPY_MODEL_4cf1eb53170d416089232b413c00d535",
            "value": 156
          }
        },
        "6ec32c6b10bb42b0ab933db13bf46ce3": {
          "model_module": "@jupyter-widgets/controls",
          "model_name": "HTMLModel",
          "model_module_version": "1.5.0",
          "state": {
            "_dom_classes": [],
            "_model_module": "@jupyter-widgets/controls",
            "_model_module_version": "1.5.0",
            "_model_name": "HTMLModel",
            "_view_count": null,
            "_view_module": "@jupyter-widgets/controls",
            "_view_module_version": "1.5.0",
            "_view_name": "HTMLView",
            "description": "",
            "description_tooltip": null,
            "layout": "IPY_MODEL_076f69067e75466ebfb006d8b7fbb3b9",
            "placeholder": "​",
            "style": "IPY_MODEL_b82a8610925b4de8ba8259ed33f7c3e7",
            "value": " 156/156 [01:02&lt;00:00,  1.02it/s]"
          }
        },
        "ab9250765f5e413b9193203f307e9ed3": {
          "model_module": "@jupyter-widgets/base",
          "model_name": "LayoutModel",
          "model_module_version": "1.2.0",
          "state": {
            "_model_module": "@jupyter-widgets/base",
            "_model_module_version": "1.2.0",
            "_model_name": "LayoutModel",
            "_view_count": null,
            "_view_module": "@jupyter-widgets/base",
            "_view_module_version": "1.2.0",
            "_view_name": "LayoutView",
            "align_content": null,
            "align_items": null,
            "align_self": null,
            "border": null,
            "bottom": null,
            "display": null,
            "flex": null,
            "flex_flow": null,
            "grid_area": null,
            "grid_auto_columns": null,
            "grid_auto_flow": null,
            "grid_auto_rows": null,
            "grid_column": null,
            "grid_gap": null,
            "grid_row": null,
            "grid_template_areas": null,
            "grid_template_columns": null,
            "grid_template_rows": null,
            "height": null,
            "justify_content": null,
            "justify_items": null,
            "left": null,
            "margin": null,
            "max_height": null,
            "max_width": null,
            "min_height": null,
            "min_width": null,
            "object_fit": null,
            "object_position": null,
            "order": null,
            "overflow": null,
            "overflow_x": null,
            "overflow_y": null,
            "padding": null,
            "right": null,
            "top": null,
            "visibility": null,
            "width": null
          }
        },
        "cc4ae16cc67f40d9837467625c757a38": {
          "model_module": "@jupyter-widgets/base",
          "model_name": "LayoutModel",
          "model_module_version": "1.2.0",
          "state": {
            "_model_module": "@jupyter-widgets/base",
            "_model_module_version": "1.2.0",
            "_model_name": "LayoutModel",
            "_view_count": null,
            "_view_module": "@jupyter-widgets/base",
            "_view_module_version": "1.2.0",
            "_view_name": "LayoutView",
            "align_content": null,
            "align_items": null,
            "align_self": null,
            "border": null,
            "bottom": null,
            "display": null,
            "flex": null,
            "flex_flow": null,
            "grid_area": null,
            "grid_auto_columns": null,
            "grid_auto_flow": null,
            "grid_auto_rows": null,
            "grid_column": null,
            "grid_gap": null,
            "grid_row": null,
            "grid_template_areas": null,
            "grid_template_columns": null,
            "grid_template_rows": null,
            "height": null,
            "justify_content": null,
            "justify_items": null,
            "left": null,
            "margin": null,
            "max_height": null,
            "max_width": null,
            "min_height": null,
            "min_width": null,
            "object_fit": null,
            "object_position": null,
            "order": null,
            "overflow": null,
            "overflow_x": null,
            "overflow_y": null,
            "padding": null,
            "right": null,
            "top": null,
            "visibility": null,
            "width": null
          }
        },
        "adc962a23a9c4e0b83a84e19014c289a": {
          "model_module": "@jupyter-widgets/controls",
          "model_name": "DescriptionStyleModel",
          "model_module_version": "1.5.0",
          "state": {
            "_model_module": "@jupyter-widgets/controls",
            "_model_module_version": "1.5.0",
            "_model_name": "DescriptionStyleModel",
            "_view_count": null,
            "_view_module": "@jupyter-widgets/base",
            "_view_module_version": "1.2.0",
            "_view_name": "StyleView",
            "description_width": ""
          }
        },
        "e260f26c0ba44e00b16ea98420aa477b": {
          "model_module": "@jupyter-widgets/base",
          "model_name": "LayoutModel",
          "model_module_version": "1.2.0",
          "state": {
            "_model_module": "@jupyter-widgets/base",
            "_model_module_version": "1.2.0",
            "_model_name": "LayoutModel",
            "_view_count": null,
            "_view_module": "@jupyter-widgets/base",
            "_view_module_version": "1.2.0",
            "_view_name": "LayoutView",
            "align_content": null,
            "align_items": null,
            "align_self": null,
            "border": null,
            "bottom": null,
            "display": null,
            "flex": null,
            "flex_flow": null,
            "grid_area": null,
            "grid_auto_columns": null,
            "grid_auto_flow": null,
            "grid_auto_rows": null,
            "grid_column": null,
            "grid_gap": null,
            "grid_row": null,
            "grid_template_areas": null,
            "grid_template_columns": null,
            "grid_template_rows": null,
            "height": null,
            "justify_content": null,
            "justify_items": null,
            "left": null,
            "margin": null,
            "max_height": null,
            "max_width": null,
            "min_height": null,
            "min_width": null,
            "object_fit": null,
            "object_position": null,
            "order": null,
            "overflow": null,
            "overflow_x": null,
            "overflow_y": null,
            "padding": null,
            "right": null,
            "top": null,
            "visibility": null,
            "width": null
          }
        },
        "4cf1eb53170d416089232b413c00d535": {
          "model_module": "@jupyter-widgets/controls",
          "model_name": "ProgressStyleModel",
          "model_module_version": "1.5.0",
          "state": {
            "_model_module": "@jupyter-widgets/controls",
            "_model_module_version": "1.5.0",
            "_model_name": "ProgressStyleModel",
            "_view_count": null,
            "_view_module": "@jupyter-widgets/base",
            "_view_module_version": "1.2.0",
            "_view_name": "StyleView",
            "bar_color": null,
            "description_width": ""
          }
        },
        "076f69067e75466ebfb006d8b7fbb3b9": {
          "model_module": "@jupyter-widgets/base",
          "model_name": "LayoutModel",
          "model_module_version": "1.2.0",
          "state": {
            "_model_module": "@jupyter-widgets/base",
            "_model_module_version": "1.2.0",
            "_model_name": "LayoutModel",
            "_view_count": null,
            "_view_module": "@jupyter-widgets/base",
            "_view_module_version": "1.2.0",
            "_view_name": "LayoutView",
            "align_content": null,
            "align_items": null,
            "align_self": null,
            "border": null,
            "bottom": null,
            "display": null,
            "flex": null,
            "flex_flow": null,
            "grid_area": null,
            "grid_auto_columns": null,
            "grid_auto_flow": null,
            "grid_auto_rows": null,
            "grid_column": null,
            "grid_gap": null,
            "grid_row": null,
            "grid_template_areas": null,
            "grid_template_columns": null,
            "grid_template_rows": null,
            "height": null,
            "justify_content": null,
            "justify_items": null,
            "left": null,
            "margin": null,
            "max_height": null,
            "max_width": null,
            "min_height": null,
            "min_width": null,
            "object_fit": null,
            "object_position": null,
            "order": null,
            "overflow": null,
            "overflow_x": null,
            "overflow_y": null,
            "padding": null,
            "right": null,
            "top": null,
            "visibility": null,
            "width": null
          }
        },
        "b82a8610925b4de8ba8259ed33f7c3e7": {
          "model_module": "@jupyter-widgets/controls",
          "model_name": "DescriptionStyleModel",
          "model_module_version": "1.5.0",
          "state": {
            "_model_module": "@jupyter-widgets/controls",
            "_model_module_version": "1.5.0",
            "_model_name": "DescriptionStyleModel",
            "_view_count": null,
            "_view_module": "@jupyter-widgets/base",
            "_view_module_version": "1.2.0",
            "_view_name": "StyleView",
            "description_width": ""
          }
        },
        "448f57c066d44d17b5acb8d844964429": {
          "model_module": "@jupyter-widgets/controls",
          "model_name": "HBoxModel",
          "model_module_version": "1.5.0",
          "state": {
            "_dom_classes": [],
            "_model_module": "@jupyter-widgets/controls",
            "_model_module_version": "1.5.0",
            "_model_name": "HBoxModel",
            "_view_count": null,
            "_view_module": "@jupyter-widgets/controls",
            "_view_module_version": "1.5.0",
            "_view_name": "HBoxView",
            "box_style": "",
            "children": [
              "IPY_MODEL_d1570c5e013e4559a7c8c836903d9b27",
              "IPY_MODEL_b95025a9879245d1a6a4f43cb50df3e9",
              "IPY_MODEL_af7f7555494242cb9d1578b0803803f3"
            ],
            "layout": "IPY_MODEL_c932caa1851b4b4bb3436940f7a5d65c"
          }
        },
        "d1570c5e013e4559a7c8c836903d9b27": {
          "model_module": "@jupyter-widgets/controls",
          "model_name": "HTMLModel",
          "model_module_version": "1.5.0",
          "state": {
            "_dom_classes": [],
            "_model_module": "@jupyter-widgets/controls",
            "_model_module_version": "1.5.0",
            "_model_name": "HTMLModel",
            "_view_count": null,
            "_view_module": "@jupyter-widgets/controls",
            "_view_module_version": "1.5.0",
            "_view_name": "HTMLView",
            "description": "",
            "description_tooltip": null,
            "layout": "IPY_MODEL_f0bdb8c8faf34d81bf9b438c38a4a323",
            "placeholder": "​",
            "style": "IPY_MODEL_df84d8abdabe45fc849a14cfa1750bec",
            "value": "100%"
          }
        },
        "b95025a9879245d1a6a4f43cb50df3e9": {
          "model_module": "@jupyter-widgets/controls",
          "model_name": "FloatProgressModel",
          "model_module_version": "1.5.0",
          "state": {
            "_dom_classes": [],
            "_model_module": "@jupyter-widgets/controls",
            "_model_module_version": "1.5.0",
            "_model_name": "FloatProgressModel",
            "_view_count": null,
            "_view_module": "@jupyter-widgets/controls",
            "_view_module_version": "1.5.0",
            "_view_name": "ProgressView",
            "bar_style": "success",
            "description": "",
            "description_tooltip": null,
            "layout": "IPY_MODEL_eede8446165448039ece6220960bfdb8",
            "max": 35,
            "min": 0,
            "orientation": "horizontal",
            "style": "IPY_MODEL_c9359ab94fe347a4a76a2e7124fd2bb4",
            "value": 35
          }
        },
        "af7f7555494242cb9d1578b0803803f3": {
          "model_module": "@jupyter-widgets/controls",
          "model_name": "HTMLModel",
          "model_module_version": "1.5.0",
          "state": {
            "_dom_classes": [],
            "_model_module": "@jupyter-widgets/controls",
            "_model_module_version": "1.5.0",
            "_model_name": "HTMLModel",
            "_view_count": null,
            "_view_module": "@jupyter-widgets/controls",
            "_view_module_version": "1.5.0",
            "_view_name": "HTMLView",
            "description": "",
            "description_tooltip": null,
            "layout": "IPY_MODEL_8dff80dc8ea14f0482d278cb3631b734",
            "placeholder": "​",
            "style": "IPY_MODEL_367e635ddc4b46449c5cbb00a077fe7a",
            "value": " 35/35 [00:00&lt;00:00, 830.16it/s]"
          }
        },
        "c932caa1851b4b4bb3436940f7a5d65c": {
          "model_module": "@jupyter-widgets/base",
          "model_name": "LayoutModel",
          "model_module_version": "1.2.0",
          "state": {
            "_model_module": "@jupyter-widgets/base",
            "_model_module_version": "1.2.0",
            "_model_name": "LayoutModel",
            "_view_count": null,
            "_view_module": "@jupyter-widgets/base",
            "_view_module_version": "1.2.0",
            "_view_name": "LayoutView",
            "align_content": null,
            "align_items": null,
            "align_self": null,
            "border": null,
            "bottom": null,
            "display": null,
            "flex": null,
            "flex_flow": null,
            "grid_area": null,
            "grid_auto_columns": null,
            "grid_auto_flow": null,
            "grid_auto_rows": null,
            "grid_column": null,
            "grid_gap": null,
            "grid_row": null,
            "grid_template_areas": null,
            "grid_template_columns": null,
            "grid_template_rows": null,
            "height": null,
            "justify_content": null,
            "justify_items": null,
            "left": null,
            "margin": null,
            "max_height": null,
            "max_width": null,
            "min_height": null,
            "min_width": null,
            "object_fit": null,
            "object_position": null,
            "order": null,
            "overflow": null,
            "overflow_x": null,
            "overflow_y": null,
            "padding": null,
            "right": null,
            "top": null,
            "visibility": null,
            "width": null
          }
        },
        "f0bdb8c8faf34d81bf9b438c38a4a323": {
          "model_module": "@jupyter-widgets/base",
          "model_name": "LayoutModel",
          "model_module_version": "1.2.0",
          "state": {
            "_model_module": "@jupyter-widgets/base",
            "_model_module_version": "1.2.0",
            "_model_name": "LayoutModel",
            "_view_count": null,
            "_view_module": "@jupyter-widgets/base",
            "_view_module_version": "1.2.0",
            "_view_name": "LayoutView",
            "align_content": null,
            "align_items": null,
            "align_self": null,
            "border": null,
            "bottom": null,
            "display": null,
            "flex": null,
            "flex_flow": null,
            "grid_area": null,
            "grid_auto_columns": null,
            "grid_auto_flow": null,
            "grid_auto_rows": null,
            "grid_column": null,
            "grid_gap": null,
            "grid_row": null,
            "grid_template_areas": null,
            "grid_template_columns": null,
            "grid_template_rows": null,
            "height": null,
            "justify_content": null,
            "justify_items": null,
            "left": null,
            "margin": null,
            "max_height": null,
            "max_width": null,
            "min_height": null,
            "min_width": null,
            "object_fit": null,
            "object_position": null,
            "order": null,
            "overflow": null,
            "overflow_x": null,
            "overflow_y": null,
            "padding": null,
            "right": null,
            "top": null,
            "visibility": null,
            "width": null
          }
        },
        "df84d8abdabe45fc849a14cfa1750bec": {
          "model_module": "@jupyter-widgets/controls",
          "model_name": "DescriptionStyleModel",
          "model_module_version": "1.5.0",
          "state": {
            "_model_module": "@jupyter-widgets/controls",
            "_model_module_version": "1.5.0",
            "_model_name": "DescriptionStyleModel",
            "_view_count": null,
            "_view_module": "@jupyter-widgets/base",
            "_view_module_version": "1.2.0",
            "_view_name": "StyleView",
            "description_width": ""
          }
        },
        "eede8446165448039ece6220960bfdb8": {
          "model_module": "@jupyter-widgets/base",
          "model_name": "LayoutModel",
          "model_module_version": "1.2.0",
          "state": {
            "_model_module": "@jupyter-widgets/base",
            "_model_module_version": "1.2.0",
            "_model_name": "LayoutModel",
            "_view_count": null,
            "_view_module": "@jupyter-widgets/base",
            "_view_module_version": "1.2.0",
            "_view_name": "LayoutView",
            "align_content": null,
            "align_items": null,
            "align_self": null,
            "border": null,
            "bottom": null,
            "display": null,
            "flex": null,
            "flex_flow": null,
            "grid_area": null,
            "grid_auto_columns": null,
            "grid_auto_flow": null,
            "grid_auto_rows": null,
            "grid_column": null,
            "grid_gap": null,
            "grid_row": null,
            "grid_template_areas": null,
            "grid_template_columns": null,
            "grid_template_rows": null,
            "height": null,
            "justify_content": null,
            "justify_items": null,
            "left": null,
            "margin": null,
            "max_height": null,
            "max_width": null,
            "min_height": null,
            "min_width": null,
            "object_fit": null,
            "object_position": null,
            "order": null,
            "overflow": null,
            "overflow_x": null,
            "overflow_y": null,
            "padding": null,
            "right": null,
            "top": null,
            "visibility": null,
            "width": null
          }
        },
        "c9359ab94fe347a4a76a2e7124fd2bb4": {
          "model_module": "@jupyter-widgets/controls",
          "model_name": "ProgressStyleModel",
          "model_module_version": "1.5.0",
          "state": {
            "_model_module": "@jupyter-widgets/controls",
            "_model_module_version": "1.5.0",
            "_model_name": "ProgressStyleModel",
            "_view_count": null,
            "_view_module": "@jupyter-widgets/base",
            "_view_module_version": "1.2.0",
            "_view_name": "StyleView",
            "bar_color": null,
            "description_width": ""
          }
        },
        "8dff80dc8ea14f0482d278cb3631b734": {
          "model_module": "@jupyter-widgets/base",
          "model_name": "LayoutModel",
          "model_module_version": "1.2.0",
          "state": {
            "_model_module": "@jupyter-widgets/base",
            "_model_module_version": "1.2.0",
            "_model_name": "LayoutModel",
            "_view_count": null,
            "_view_module": "@jupyter-widgets/base",
            "_view_module_version": "1.2.0",
            "_view_name": "LayoutView",
            "align_content": null,
            "align_items": null,
            "align_self": null,
            "border": null,
            "bottom": null,
            "display": null,
            "flex": null,
            "flex_flow": null,
            "grid_area": null,
            "grid_auto_columns": null,
            "grid_auto_flow": null,
            "grid_auto_rows": null,
            "grid_column": null,
            "grid_gap": null,
            "grid_row": null,
            "grid_template_areas": null,
            "grid_template_columns": null,
            "grid_template_rows": null,
            "height": null,
            "justify_content": null,
            "justify_items": null,
            "left": null,
            "margin": null,
            "max_height": null,
            "max_width": null,
            "min_height": null,
            "min_width": null,
            "object_fit": null,
            "object_position": null,
            "order": null,
            "overflow": null,
            "overflow_x": null,
            "overflow_y": null,
            "padding": null,
            "right": null,
            "top": null,
            "visibility": null,
            "width": null
          }
        },
        "367e635ddc4b46449c5cbb00a077fe7a": {
          "model_module": "@jupyter-widgets/controls",
          "model_name": "DescriptionStyleModel",
          "model_module_version": "1.5.0",
          "state": {
            "_model_module": "@jupyter-widgets/controls",
            "_model_module_version": "1.5.0",
            "_model_name": "DescriptionStyleModel",
            "_view_count": null,
            "_view_module": "@jupyter-widgets/base",
            "_view_module_version": "1.2.0",
            "_view_name": "StyleView",
            "description_width": ""
          }
        },
        "b812ec173427489eba09603473a9bc77": {
          "model_module": "@jupyter-widgets/controls",
          "model_name": "HBoxModel",
          "model_module_version": "1.5.0",
          "state": {
            "_dom_classes": [],
            "_model_module": "@jupyter-widgets/controls",
            "_model_module_version": "1.5.0",
            "_model_name": "HBoxModel",
            "_view_count": null,
            "_view_module": "@jupyter-widgets/controls",
            "_view_module_version": "1.5.0",
            "_view_name": "HBoxView",
            "box_style": "",
            "children": [
              "IPY_MODEL_517e36c713e343e0b8dc511a62b0a348",
              "IPY_MODEL_2e0717c213024bb190ff0847b3ade1b7",
              "IPY_MODEL_a619ed1d6e884966bf97b6d3cc385941"
            ],
            "layout": "IPY_MODEL_c2147e82364140cc9972a20964b18a50"
          }
        },
        "517e36c713e343e0b8dc511a62b0a348": {
          "model_module": "@jupyter-widgets/controls",
          "model_name": "HTMLModel",
          "model_module_version": "1.5.0",
          "state": {
            "_dom_classes": [],
            "_model_module": "@jupyter-widgets/controls",
            "_model_module_version": "1.5.0",
            "_model_name": "HTMLModel",
            "_view_count": null,
            "_view_module": "@jupyter-widgets/controls",
            "_view_module_version": "1.5.0",
            "_view_name": "HTMLView",
            "description": "",
            "description_tooltip": null,
            "layout": "IPY_MODEL_b3cc3dc4c7c94e5690fcd85dfef6172a",
            "placeholder": "​",
            "style": "IPY_MODEL_fda5f8c97e7f4594b81c3e3156149c84",
            "value": "100%"
          }
        },
        "2e0717c213024bb190ff0847b3ade1b7": {
          "model_module": "@jupyter-widgets/controls",
          "model_name": "FloatProgressModel",
          "model_module_version": "1.5.0",
          "state": {
            "_dom_classes": [],
            "_model_module": "@jupyter-widgets/controls",
            "_model_module_version": "1.5.0",
            "_model_name": "FloatProgressModel",
            "_view_count": null,
            "_view_module": "@jupyter-widgets/controls",
            "_view_module_version": "1.5.0",
            "_view_name": "ProgressView",
            "bar_style": "success",
            "description": "",
            "description_tooltip": null,
            "layout": "IPY_MODEL_723786b9cd1b4723833f9947b070265f",
            "max": 35,
            "min": 0,
            "orientation": "horizontal",
            "style": "IPY_MODEL_8ac144c74b124de69c2f712c7dd8d652",
            "value": 35
          }
        },
        "a619ed1d6e884966bf97b6d3cc385941": {
          "model_module": "@jupyter-widgets/controls",
          "model_name": "HTMLModel",
          "model_module_version": "1.5.0",
          "state": {
            "_dom_classes": [],
            "_model_module": "@jupyter-widgets/controls",
            "_model_module_version": "1.5.0",
            "_model_name": "HTMLModel",
            "_view_count": null,
            "_view_module": "@jupyter-widgets/controls",
            "_view_module_version": "1.5.0",
            "_view_name": "HTMLView",
            "description": "",
            "description_tooltip": null,
            "layout": "IPY_MODEL_d1e5acd088244d87bbd0809ada0d15c3",
            "placeholder": "​",
            "style": "IPY_MODEL_37e91585a783424aad388376df508cf0",
            "value": " 35/35 [00:09&lt;00:00,  3.32it/s]"
          }
        },
        "c2147e82364140cc9972a20964b18a50": {
          "model_module": "@jupyter-widgets/base",
          "model_name": "LayoutModel",
          "model_module_version": "1.2.0",
          "state": {
            "_model_module": "@jupyter-widgets/base",
            "_model_module_version": "1.2.0",
            "_model_name": "LayoutModel",
            "_view_count": null,
            "_view_module": "@jupyter-widgets/base",
            "_view_module_version": "1.2.0",
            "_view_name": "LayoutView",
            "align_content": null,
            "align_items": null,
            "align_self": null,
            "border": null,
            "bottom": null,
            "display": null,
            "flex": null,
            "flex_flow": null,
            "grid_area": null,
            "grid_auto_columns": null,
            "grid_auto_flow": null,
            "grid_auto_rows": null,
            "grid_column": null,
            "grid_gap": null,
            "grid_row": null,
            "grid_template_areas": null,
            "grid_template_columns": null,
            "grid_template_rows": null,
            "height": null,
            "justify_content": null,
            "justify_items": null,
            "left": null,
            "margin": null,
            "max_height": null,
            "max_width": null,
            "min_height": null,
            "min_width": null,
            "object_fit": null,
            "object_position": null,
            "order": null,
            "overflow": null,
            "overflow_x": null,
            "overflow_y": null,
            "padding": null,
            "right": null,
            "top": null,
            "visibility": null,
            "width": null
          }
        },
        "b3cc3dc4c7c94e5690fcd85dfef6172a": {
          "model_module": "@jupyter-widgets/base",
          "model_name": "LayoutModel",
          "model_module_version": "1.2.0",
          "state": {
            "_model_module": "@jupyter-widgets/base",
            "_model_module_version": "1.2.0",
            "_model_name": "LayoutModel",
            "_view_count": null,
            "_view_module": "@jupyter-widgets/base",
            "_view_module_version": "1.2.0",
            "_view_name": "LayoutView",
            "align_content": null,
            "align_items": null,
            "align_self": null,
            "border": null,
            "bottom": null,
            "display": null,
            "flex": null,
            "flex_flow": null,
            "grid_area": null,
            "grid_auto_columns": null,
            "grid_auto_flow": null,
            "grid_auto_rows": null,
            "grid_column": null,
            "grid_gap": null,
            "grid_row": null,
            "grid_template_areas": null,
            "grid_template_columns": null,
            "grid_template_rows": null,
            "height": null,
            "justify_content": null,
            "justify_items": null,
            "left": null,
            "margin": null,
            "max_height": null,
            "max_width": null,
            "min_height": null,
            "min_width": null,
            "object_fit": null,
            "object_position": null,
            "order": null,
            "overflow": null,
            "overflow_x": null,
            "overflow_y": null,
            "padding": null,
            "right": null,
            "top": null,
            "visibility": null,
            "width": null
          }
        },
        "fda5f8c97e7f4594b81c3e3156149c84": {
          "model_module": "@jupyter-widgets/controls",
          "model_name": "DescriptionStyleModel",
          "model_module_version": "1.5.0",
          "state": {
            "_model_module": "@jupyter-widgets/controls",
            "_model_module_version": "1.5.0",
            "_model_name": "DescriptionStyleModel",
            "_view_count": null,
            "_view_module": "@jupyter-widgets/base",
            "_view_module_version": "1.2.0",
            "_view_name": "StyleView",
            "description_width": ""
          }
        },
        "723786b9cd1b4723833f9947b070265f": {
          "model_module": "@jupyter-widgets/base",
          "model_name": "LayoutModel",
          "model_module_version": "1.2.0",
          "state": {
            "_model_module": "@jupyter-widgets/base",
            "_model_module_version": "1.2.0",
            "_model_name": "LayoutModel",
            "_view_count": null,
            "_view_module": "@jupyter-widgets/base",
            "_view_module_version": "1.2.0",
            "_view_name": "LayoutView",
            "align_content": null,
            "align_items": null,
            "align_self": null,
            "border": null,
            "bottom": null,
            "display": null,
            "flex": null,
            "flex_flow": null,
            "grid_area": null,
            "grid_auto_columns": null,
            "grid_auto_flow": null,
            "grid_auto_rows": null,
            "grid_column": null,
            "grid_gap": null,
            "grid_row": null,
            "grid_template_areas": null,
            "grid_template_columns": null,
            "grid_template_rows": null,
            "height": null,
            "justify_content": null,
            "justify_items": null,
            "left": null,
            "margin": null,
            "max_height": null,
            "max_width": null,
            "min_height": null,
            "min_width": null,
            "object_fit": null,
            "object_position": null,
            "order": null,
            "overflow": null,
            "overflow_x": null,
            "overflow_y": null,
            "padding": null,
            "right": null,
            "top": null,
            "visibility": null,
            "width": null
          }
        },
        "8ac144c74b124de69c2f712c7dd8d652": {
          "model_module": "@jupyter-widgets/controls",
          "model_name": "ProgressStyleModel",
          "model_module_version": "1.5.0",
          "state": {
            "_model_module": "@jupyter-widgets/controls",
            "_model_module_version": "1.5.0",
            "_model_name": "ProgressStyleModel",
            "_view_count": null,
            "_view_module": "@jupyter-widgets/base",
            "_view_module_version": "1.2.0",
            "_view_name": "StyleView",
            "bar_color": null,
            "description_width": ""
          }
        },
        "d1e5acd088244d87bbd0809ada0d15c3": {
          "model_module": "@jupyter-widgets/base",
          "model_name": "LayoutModel",
          "model_module_version": "1.2.0",
          "state": {
            "_model_module": "@jupyter-widgets/base",
            "_model_module_version": "1.2.0",
            "_model_name": "LayoutModel",
            "_view_count": null,
            "_view_module": "@jupyter-widgets/base",
            "_view_module_version": "1.2.0",
            "_view_name": "LayoutView",
            "align_content": null,
            "align_items": null,
            "align_self": null,
            "border": null,
            "bottom": null,
            "display": null,
            "flex": null,
            "flex_flow": null,
            "grid_area": null,
            "grid_auto_columns": null,
            "grid_auto_flow": null,
            "grid_auto_rows": null,
            "grid_column": null,
            "grid_gap": null,
            "grid_row": null,
            "grid_template_areas": null,
            "grid_template_columns": null,
            "grid_template_rows": null,
            "height": null,
            "justify_content": null,
            "justify_items": null,
            "left": null,
            "margin": null,
            "max_height": null,
            "max_width": null,
            "min_height": null,
            "min_width": null,
            "object_fit": null,
            "object_position": null,
            "order": null,
            "overflow": null,
            "overflow_x": null,
            "overflow_y": null,
            "padding": null,
            "right": null,
            "top": null,
            "visibility": null,
            "width": null
          }
        },
        "37e91585a783424aad388376df508cf0": {
          "model_module": "@jupyter-widgets/controls",
          "model_name": "DescriptionStyleModel",
          "model_module_version": "1.5.0",
          "state": {
            "_model_module": "@jupyter-widgets/controls",
            "_model_module_version": "1.5.0",
            "_model_name": "DescriptionStyleModel",
            "_view_count": null,
            "_view_module": "@jupyter-widgets/base",
            "_view_module_version": "1.2.0",
            "_view_name": "StyleView",
            "description_width": ""
          }
        }
      }
    }
  },
  "cells": [
    {
      "cell_type": "markdown",
      "metadata": {
        "id": "view-in-github",
        "colab_type": "text"
      },
      "source": [
        "<a href=\"https://colab.research.google.com/github/grenetercordovesdelgado/Ejercicios/blob/main/inertial_signal_processing.ipynb\" target=\"_parent\"><img src=\"https://colab.research.google.com/assets/colab-badge.svg\" alt=\"Open In Colab\"/></a>"
      ]
    },
    {
      "cell_type": "markdown",
      "source": [
        "# **Classification of Human Activities** \n",
        "[*Greneter Cordoves Delgado*](mailto:greneter@cicese.edu.com)"
      ],
      "metadata": {
        "id": "DraBZKoFt6xB"
      }
    },
    {
      "cell_type": "markdown",
      "source": [
        "# Install libraries"
      ],
      "metadata": {
        "id": "FyT0tHjbtScD"
      }
    },
    {
      "cell_type": "code",
      "source": [
        "!pip install hrv-analysis\n",
        "!pip install pyhrv\n",
        "!pip install tsfel\n",
        "!pip or !apt"
      ],
      "metadata": {
        "colab": {
          "base_uri": "https://localhost:8080/"
        },
        "id": "FR0Z5eVktJI1",
        "outputId": "8bd04828-3982-466a-89d9-8366ee343c58"
      },
      "execution_count": 64,
      "outputs": [
        {
          "output_type": "stream",
          "name": "stdout",
          "text": [
            "Looking in indexes: https://pypi.org/simple, https://us-python.pkg.dev/colab-wheels/public/simple/\n",
            "Requirement already satisfied: hrv-analysis in /usr/local/lib/python3.9/dist-packages (1.0.4)\n",
            "Requirement already satisfied: astropy>=3.0.4 in /usr/local/lib/python3.9/dist-packages (from hrv-analysis) (4.3.1)\n",
            "Requirement already satisfied: matplotlib>=2.2.2 in /usr/local/lib/python3.9/dist-packages (from hrv-analysis) (3.5.3)\n",
            "Requirement already satisfied: numpy>=1.15.1 in /usr/local/lib/python3.9/dist-packages (from hrv-analysis) (1.22.4)\n",
            "Requirement already satisfied: nolds>=0.4.1 in /usr/local/lib/python3.9/dist-packages (from hrv-analysis) (0.5.2)\n",
            "Requirement already satisfied: scipy>=1.1.0 in /usr/local/lib/python3.9/dist-packages (from hrv-analysis) (1.10.1)\n",
            "Requirement already satisfied: pandas>=0.23.4 in /usr/local/lib/python3.9/dist-packages (from hrv-analysis) (1.5.3)\n",
            "Requirement already satisfied: pyerfa>=1.7.3 in /usr/local/lib/python3.9/dist-packages (from astropy>=3.0.4->hrv-analysis) (2.0.0.1)\n",
            "Requirement already satisfied: fonttools>=4.22.0 in /usr/local/lib/python3.9/dist-packages (from matplotlib>=2.2.2->hrv-analysis) (4.39.0)\n",
            "Requirement already satisfied: pillow>=6.2.0 in /usr/local/lib/python3.9/dist-packages (from matplotlib>=2.2.2->hrv-analysis) (8.4.0)\n",
            "Requirement already satisfied: cycler>=0.10 in /usr/local/lib/python3.9/dist-packages (from matplotlib>=2.2.2->hrv-analysis) (0.11.0)\n",
            "Requirement already satisfied: packaging>=20.0 in /usr/local/lib/python3.9/dist-packages (from matplotlib>=2.2.2->hrv-analysis) (23.0)\n",
            "Requirement already satisfied: pyparsing>=2.2.1 in /usr/local/lib/python3.9/dist-packages (from matplotlib>=2.2.2->hrv-analysis) (3.0.9)\n",
            "Requirement already satisfied: kiwisolver>=1.0.1 in /usr/local/lib/python3.9/dist-packages (from matplotlib>=2.2.2->hrv-analysis) (1.4.4)\n",
            "Requirement already satisfied: python-dateutil>=2.7 in /usr/local/lib/python3.9/dist-packages (from matplotlib>=2.2.2->hrv-analysis) (2.8.2)\n",
            "Requirement already satisfied: future in /usr/local/lib/python3.9/dist-packages (from nolds>=0.4.1->hrv-analysis) (0.16.0)\n",
            "Requirement already satisfied: setuptools in /usr/local/lib/python3.9/dist-packages (from nolds>=0.4.1->hrv-analysis) (57.4.0)\n",
            "Requirement already satisfied: pytz>=2020.1 in /usr/local/lib/python3.9/dist-packages (from pandas>=0.23.4->hrv-analysis) (2022.7.1)\n",
            "Requirement already satisfied: six>=1.5 in /usr/local/lib/python3.9/dist-packages (from python-dateutil>=2.7->matplotlib>=2.2.2->hrv-analysis) (1.15.0)\n",
            "Looking in indexes: https://pypi.org/simple, https://us-python.pkg.dev/colab-wheels/public/simple/\n",
            "Requirement already satisfied: pyhrv in /usr/local/lib/python3.9/dist-packages (0.4.1)\n",
            "Requirement already satisfied: matplotlib in /usr/local/lib/python3.9/dist-packages (from pyhrv) (3.5.3)\n",
            "Requirement already satisfied: scipy in /usr/local/lib/python3.9/dist-packages (from pyhrv) (1.10.1)\n",
            "Requirement already satisfied: nolds in /usr/local/lib/python3.9/dist-packages (from pyhrv) (0.5.2)\n",
            "Requirement already satisfied: spectrum in /usr/local/lib/python3.9/dist-packages (from pyhrv) (0.8.1)\n",
            "Requirement already satisfied: numpy in /usr/local/lib/python3.9/dist-packages (from pyhrv) (1.22.4)\n",
            "Requirement already satisfied: biosppy in /usr/local/lib/python3.9/dist-packages (from pyhrv) (1.0.0)\n",
            "Requirement already satisfied: bidict in /usr/local/lib/python3.9/dist-packages (from biosppy->pyhrv) (0.22.1)\n",
            "Requirement already satisfied: h5py in /usr/local/lib/python3.9/dist-packages (from biosppy->pyhrv) (3.1.0)\n",
            "Requirement already satisfied: shortuuid in /usr/local/lib/python3.9/dist-packages (from biosppy->pyhrv) (1.0.11)\n",
            "Requirement already satisfied: six in /usr/local/lib/python3.9/dist-packages (from biosppy->pyhrv) (1.15.0)\n",
            "Requirement already satisfied: scikit-learn in /usr/local/lib/python3.9/dist-packages (from biosppy->pyhrv) (1.2.1)\n",
            "Requirement already satisfied: opencv-python in /usr/local/lib/python3.9/dist-packages (from biosppy->pyhrv) (4.6.0.66)\n",
            "Requirement already satisfied: joblib in /usr/local/lib/python3.9/dist-packages (from biosppy->pyhrv) (1.2.0)\n",
            "Requirement already satisfied: python-dateutil>=2.7 in /usr/local/lib/python3.9/dist-packages (from matplotlib->pyhrv) (2.8.2)\n",
            "Requirement already satisfied: kiwisolver>=1.0.1 in /usr/local/lib/python3.9/dist-packages (from matplotlib->pyhrv) (1.4.4)\n",
            "Requirement already satisfied: cycler>=0.10 in /usr/local/lib/python3.9/dist-packages (from matplotlib->pyhrv) (0.11.0)\n",
            "Requirement already satisfied: pillow>=6.2.0 in /usr/local/lib/python3.9/dist-packages (from matplotlib->pyhrv) (8.4.0)\n",
            "Requirement already satisfied: fonttools>=4.22.0 in /usr/local/lib/python3.9/dist-packages (from matplotlib->pyhrv) (4.39.0)\n",
            "Requirement already satisfied: packaging>=20.0 in /usr/local/lib/python3.9/dist-packages (from matplotlib->pyhrv) (23.0)\n",
            "Requirement already satisfied: pyparsing>=2.2.1 in /usr/local/lib/python3.9/dist-packages (from matplotlib->pyhrv) (3.0.9)\n",
            "Requirement already satisfied: future in /usr/local/lib/python3.9/dist-packages (from nolds->pyhrv) (0.16.0)\n",
            "Requirement already satisfied: setuptools in /usr/local/lib/python3.9/dist-packages (from nolds->pyhrv) (57.4.0)\n",
            "Requirement already satisfied: easydev in /usr/local/lib/python3.9/dist-packages (from spectrum->pyhrv) (0.12.1)\n",
            "Requirement already satisfied: pexpect in /usr/local/lib/python3.9/dist-packages (from easydev->spectrum->pyhrv) (4.8.0)\n",
            "Requirement already satisfied: colorlog in /usr/local/lib/python3.9/dist-packages (from easydev->spectrum->pyhrv) (6.7.0)\n",
            "Requirement already satisfied: colorama in /usr/local/lib/python3.9/dist-packages (from easydev->spectrum->pyhrv) (0.4.6)\n",
            "Requirement already satisfied: threadpoolctl>=2.0.0 in /usr/local/lib/python3.9/dist-packages (from scikit-learn->biosppy->pyhrv) (3.1.0)\n",
            "Requirement already satisfied: ptyprocess>=0.5 in /usr/local/lib/python3.9/dist-packages (from pexpect->easydev->spectrum->pyhrv) (0.7.0)\n",
            "Looking in indexes: https://pypi.org/simple, https://us-python.pkg.dev/colab-wheels/public/simple/\n",
            "Requirement already satisfied: tsfel in /usr/local/lib/python3.9/dist-packages (0.1.5)\n",
            "Requirement already satisfied: gspread>=3.1.0 in /usr/local/lib/python3.9/dist-packages (from tsfel) (3.4.2)\n",
            "Requirement already satisfied: numpy>=1.18.5 in /usr/local/lib/python3.9/dist-packages (from tsfel) (1.22.4)\n",
            "Requirement already satisfied: ipython>=7.4.0 in /usr/local/lib/python3.9/dist-packages (from tsfel) (7.9.0)\n",
            "Requirement already satisfied: setuptools>=47.1.1 in /usr/local/lib/python3.9/dist-packages (from tsfel) (57.4.0)\n",
            "Requirement already satisfied: pandas>=1.5.3 in /usr/local/lib/python3.9/dist-packages (from tsfel) (1.5.3)\n",
            "Requirement already satisfied: oauth2client>=4.1.3 in /usr/local/lib/python3.9/dist-packages (from tsfel) (4.1.3)\n",
            "Requirement already satisfied: Sphinx>=1.8.5 in /usr/local/lib/python3.9/dist-packages (from tsfel) (3.5.4)\n",
            "Requirement already satisfied: scipy>=1.7.3 in /usr/local/lib/python3.9/dist-packages (from tsfel) (1.10.1)\n",
            "Requirement already satisfied: google-auth in /usr/local/lib/python3.9/dist-packages (from gspread>=3.1.0->tsfel) (2.16.2)\n",
            "Requirement already satisfied: requests>=2.2.1 in /usr/local/lib/python3.9/dist-packages (from gspread>=3.1.0->tsfel) (2.25.1)\n",
            "Requirement already satisfied: pexpect in /usr/local/lib/python3.9/dist-packages (from ipython>=7.4.0->tsfel) (4.8.0)\n",
            "Requirement already satisfied: jedi>=0.10 in /usr/local/lib/python3.9/dist-packages (from ipython>=7.4.0->tsfel) (0.18.2)\n",
            "Requirement already satisfied: decorator in /usr/local/lib/python3.9/dist-packages (from ipython>=7.4.0->tsfel) (4.4.2)\n",
            "Requirement already satisfied: pygments in /usr/local/lib/python3.9/dist-packages (from ipython>=7.4.0->tsfel) (2.6.1)\n",
            "Requirement already satisfied: prompt-toolkit<2.1.0,>=2.0.0 in /usr/local/lib/python3.9/dist-packages (from ipython>=7.4.0->tsfel) (2.0.10)\n",
            "Requirement already satisfied: backcall in /usr/local/lib/python3.9/dist-packages (from ipython>=7.4.0->tsfel) (0.2.0)\n",
            "Requirement already satisfied: pickleshare in /usr/local/lib/python3.9/dist-packages (from ipython>=7.4.0->tsfel) (0.7.5)\n",
            "Requirement already satisfied: traitlets>=4.2 in /usr/local/lib/python3.9/dist-packages (from ipython>=7.4.0->tsfel) (5.7.1)\n",
            "Requirement already satisfied: rsa>=3.1.4 in /usr/local/lib/python3.9/dist-packages (from oauth2client>=4.1.3->tsfel) (4.9)\n",
            "Requirement already satisfied: six>=1.6.1 in /usr/local/lib/python3.9/dist-packages (from oauth2client>=4.1.3->tsfel) (1.15.0)\n",
            "Requirement already satisfied: httplib2>=0.9.1 in /usr/local/lib/python3.9/dist-packages (from oauth2client>=4.1.3->tsfel) (0.17.4)\n",
            "Requirement already satisfied: pyasn1>=0.1.7 in /usr/local/lib/python3.9/dist-packages (from oauth2client>=4.1.3->tsfel) (0.4.8)\n",
            "Requirement already satisfied: pyasn1-modules>=0.0.5 in /usr/local/lib/python3.9/dist-packages (from oauth2client>=4.1.3->tsfel) (0.2.8)\n",
            "Requirement already satisfied: python-dateutil>=2.8.1 in /usr/local/lib/python3.9/dist-packages (from pandas>=1.5.3->tsfel) (2.8.2)\n",
            "Requirement already satisfied: pytz>=2020.1 in /usr/local/lib/python3.9/dist-packages (from pandas>=1.5.3->tsfel) (2022.7.1)\n",
            "Requirement already satisfied: Jinja2>=2.3 in /usr/local/lib/python3.9/dist-packages (from Sphinx>=1.8.5->tsfel) (3.1.2)\n",
            "Requirement already satisfied: imagesize in /usr/local/lib/python3.9/dist-packages (from Sphinx>=1.8.5->tsfel) (1.4.1)\n",
            "Requirement already satisfied: alabaster<0.8,>=0.7 in /usr/local/lib/python3.9/dist-packages (from Sphinx>=1.8.5->tsfel) (0.7.13)\n",
            "Requirement already satisfied: packaging in /usr/local/lib/python3.9/dist-packages (from Sphinx>=1.8.5->tsfel) (23.0)\n",
            "Requirement already satisfied: docutils<0.17,>=0.12 in /usr/local/lib/python3.9/dist-packages (from Sphinx>=1.8.5->tsfel) (0.16)\n",
            "Requirement already satisfied: sphinxcontrib-qthelp in /usr/local/lib/python3.9/dist-packages (from Sphinx>=1.8.5->tsfel) (1.0.3)\n",
            "Requirement already satisfied: sphinxcontrib-devhelp in /usr/local/lib/python3.9/dist-packages (from Sphinx>=1.8.5->tsfel) (1.0.2)\n",
            "Requirement already satisfied: sphinxcontrib-applehelp in /usr/local/lib/python3.9/dist-packages (from Sphinx>=1.8.5->tsfel) (1.0.4)\n",
            "Requirement already satisfied: sphinxcontrib-serializinghtml in /usr/local/lib/python3.9/dist-packages (from Sphinx>=1.8.5->tsfel) (1.1.5)\n",
            "Requirement already satisfied: snowballstemmer>=1.1 in /usr/local/lib/python3.9/dist-packages (from Sphinx>=1.8.5->tsfel) (2.2.0)\n",
            "Requirement already satisfied: sphinxcontrib-htmlhelp in /usr/local/lib/python3.9/dist-packages (from Sphinx>=1.8.5->tsfel) (2.0.1)\n",
            "Requirement already satisfied: sphinxcontrib-jsmath in /usr/local/lib/python3.9/dist-packages (from Sphinx>=1.8.5->tsfel) (1.0.1)\n",
            "Requirement already satisfied: babel>=1.3 in /usr/local/lib/python3.9/dist-packages (from Sphinx>=1.8.5->tsfel) (2.12.1)\n",
            "Requirement already satisfied: parso<0.9.0,>=0.8.0 in /usr/local/lib/python3.9/dist-packages (from jedi>=0.10->ipython>=7.4.0->tsfel) (0.8.3)\n",
            "Requirement already satisfied: MarkupSafe>=2.0 in /usr/local/lib/python3.9/dist-packages (from Jinja2>=2.3->Sphinx>=1.8.5->tsfel) (2.1.2)\n",
            "Requirement already satisfied: wcwidth in /usr/local/lib/python3.9/dist-packages (from prompt-toolkit<2.1.0,>=2.0.0->ipython>=7.4.0->tsfel) (0.2.6)\n",
            "Requirement already satisfied: idna<3,>=2.5 in /usr/local/lib/python3.9/dist-packages (from requests>=2.2.1->gspread>=3.1.0->tsfel) (2.10)\n",
            "Requirement already satisfied: certifi>=2017.4.17 in /usr/local/lib/python3.9/dist-packages (from requests>=2.2.1->gspread>=3.1.0->tsfel) (2022.12.7)\n",
            "Requirement already satisfied: urllib3<1.27,>=1.21.1 in /usr/local/lib/python3.9/dist-packages (from requests>=2.2.1->gspread>=3.1.0->tsfel) (1.26.14)\n",
            "Requirement already satisfied: chardet<5,>=3.0.2 in /usr/local/lib/python3.9/dist-packages (from requests>=2.2.1->gspread>=3.1.0->tsfel) (4.0.0)\n",
            "Requirement already satisfied: cachetools<6.0,>=2.0.0 in /usr/local/lib/python3.9/dist-packages (from google-auth->gspread>=3.1.0->tsfel) (5.3.0)\n",
            "Requirement already satisfied: ptyprocess>=0.5 in /usr/local/lib/python3.9/dist-packages (from pexpect->ipython>=7.4.0->tsfel) (0.7.0)\n",
            "ERROR: unknown command \"or\"\n"
          ]
        }
      ]
    },
    {
      "cell_type": "markdown",
      "source": [
        "# Importing libraries and packages "
      ],
      "metadata": {
        "id": "DKGuFv3FtU17"
      }
    },
    {
      "cell_type": "code",
      "execution_count": 65,
      "metadata": {
        "id": "E0fzMWSks5q8"
      },
      "outputs": [],
      "source": [
        "from google.colab import drive\n",
        "\n",
        "import os\n",
        "import sys\n",
        "import cv2\n",
        "from glob import glob\n",
        "import glob\n",
        "from tqdm.notebook import tqdm_notebook\n",
        "import pandas as pd\n",
        "import numpy as np\n",
        "from joblib import dump\n",
        "from skimage import io\n",
        "import tsfel\n",
        "\n",
        "import matplotlib.pyplot as plt\n",
        "import matplotlib.image as mpimg\n",
        "from matplotlib.patches import Patch\n",
        "\n",
        "import seaborn as sns\n",
        "from IPython.display import Image\n",
        "\n",
        "import pyhrv.time_domain as td\n",
        "import hrvanalysis\n",
        "from hrvanalysis import get_time_domain_features\n",
        "from hrvanalysis import get_geometrical_features\n",
        "from hrvanalysis import get_frequency_domain_features\n",
        "from hrvanalysis import get_csi_cvi_features\n",
        "from hrvanalysis import get_poincare_plot_features\n",
        "from hrvanalysis import get_sampen\n",
        "\n",
        "from sklearn.preprocessing import StandardScaler, OneHotEncoder\n",
        "from sklearn.metrics import confusion_matrix, classification_report\n",
        "from sklearn.model_selection import train_test_split\n",
        "from sklearn.naive_bayes import GaussianNB\n",
        "from sklearn.svm import SVC\n",
        "from sklearn.tree import DecisionTreeClassifier\n",
        "from sklearn.model_selection import LeaveOneOut\n",
        "from sklearn.feature_selection import VarianceThreshold\n",
        "\n",
        "import warnings\n",
        "if not sys.warnoptions:\n",
        "    warnings.simplefilter(\"ignore\")\n",
        "warnings.filterwarnings(\"ignore\", category=DeprecationWarning) "
      ]
    },
    {
      "cell_type": "markdown",
      "source": [
        "# Loading training data "
      ],
      "metadata": {
        "id": "hDipjeYktfNu"
      }
    },
    {
      "cell_type": "code",
      "source": [
        "drive.mount('/content/drive')"
      ],
      "metadata": {
        "colab": {
          "base_uri": "https://localhost:8080/"
        },
        "id": "of-MEfSHtE1o",
        "outputId": "875bbf92-e2c1-4a51-b5db-bc222d778682"
      },
      "execution_count": 66,
      "outputs": [
        {
          "output_type": "stream",
          "name": "stdout",
          "text": [
            "Drive already mounted at /content/drive; to attempt to forcibly remount, call drive.mount(\"/content/drive\", force_remount=True).\n"
          ]
        }
      ]
    },
    {
      "cell_type": "code",
      "source": [
        "# Loading train CSV files \n",
        "csv_files = [os.path.abspath(x) for x in glob.glob('/content/drive/MyDrive/datos inerciales/train/*.csv')]\n",
        "\n",
        "file_label = []\n",
        "file_path = []\n",
        "\n",
        "activities = {'MW': 'Walking', \n",
        "              'MR': 'Running', \n",
        "              'MJ': 'Jumping',\n",
        "              'WD': 'Walking down the stairs',\n",
        "              'WU': 'Walking up the stairs',\n",
        "              'FF': 'Forward fall',\n",
        "              'FS': 'Sideways fall',\n",
        "              'FB': 'Backward fall',\n",
        "              'LD': 'Lying down',\n",
        "              'OT': 'Other'}\n",
        "\n",
        "# Paths and labels to the files found\n",
        "for path in tqdm_notebook(csv_files):\n",
        "    part = os.path.basename(path)\n",
        "    part = part.split('.')[0]       \n",
        "    label = part.split('_')[2]\n",
        "    file_label.append(activities[label])\n",
        "    file_path.append(path)  \n",
        "\n",
        "# Creating dataframe\n",
        "label_df = pd.DataFrame(file_label, columns=['Label'])\n",
        "path_df = pd.DataFrame(file_path, columns=['Path'])\n",
        "dataset_df = pd.concat([label_df, path_df], axis = 1) "
      ],
      "metadata": {
        "colab": {
          "base_uri": "https://localhost:8080/",
          "height": 49,
          "referenced_widgets": [
            "06642548a4e94eacb4b18571048d4609",
            "584417af009f4cada76ce235940da16d",
            "2d5fba229879429cbdd7d9ccde891246",
            "2f795f0073574153a1c8f6df0bfb2383",
            "1b199ee123b348eeb9d088f7ac0612c4",
            "88f540eb451c45c58c6d643bac4a1429",
            "165e189057234d558323bb6898beee75",
            "6717d850b8c043ce83bb1791195be5a0",
            "9a039b63a37e4acf890108da61de004e",
            "d4b9e504a0dd4793b2dcdc3f3b3035a7",
            "45627843ba89408c9618c6b308b971e9"
          ]
        },
        "id": "BpWkl6yg1q8m",
        "outputId": "50fb9086-2151-441f-bca9-c49857b1c132"
      },
      "execution_count": 80,
      "outputs": [
        {
          "output_type": "display_data",
          "data": {
            "text/plain": [
              "  0%|          | 0/156 [00:00<?, ?it/s]"
            ],
            "application/vnd.jupyter.widget-view+json": {
              "version_major": 2,
              "version_minor": 0,
              "model_id": "06642548a4e94eacb4b18571048d4609"
            }
          },
          "metadata": {}
        }
      ]
    },
    {
      "cell_type": "markdown",
      "source": [
        "# Data Exploration"
      ],
      "metadata": {
        "id": "4zPOa2Ie3xO3"
      }
    },
    {
      "cell_type": "code",
      "source": [
        "count_label = dataset_df.groupby('Label').count().reset_index()\n",
        "label = np.array(count_label['Label'])\n",
        "\n",
        "dataPath = pd.concat([dataset_df], axis = 0)\n",
        "plt.title('Count of Classes', size=16)\n",
        "sns.set_theme(palette=\"blend:#7AB,#EDA\")\n",
        "sns.countplot(x=dataPath[\"Label\"])\n",
        "plt.xlabel('Activity', size=9)\n",
        "plt.ylabel('Count', size=9)\n",
        "sns.despine(top=True, right=True, left=True, bottom=False)\n",
        "plt.xticks(rotation=45, ha='right')\n",
        "\n",
        "plt.show()"
      ],
      "metadata": {
        "colab": {
          "base_uri": "https://localhost:8080/",
          "height": 390
        },
        "id": "aVYVau-b4aWq",
        "outputId": "abe3e990-be3f-43f6-d201-75639ee45502"
      },
      "execution_count": 81,
      "outputs": [
        {
          "output_type": "display_data",
          "data": {
            "text/plain": [
              "<Figure size 432x288 with 1 Axes>"
            ],
            "image/png": "[encoded data removed]"
          },
          "metadata": {}
        }
      ]
    },
    {
      "cell_type": "markdown",
      "source": [
        "# Data processing"
      ],
      "metadata": {
        "id": "gYmJPO_459Ap"
      }
    },
    {
      "cell_type": "markdown",
      "source": [
        "### Feature Extraction"
      ],
      "metadata": {
        "id": "KLO7SPN8s4B8"
      }
    },
    {
      "cell_type": "code",
      "source": [
        "#Get feature vector\n",
        "\n",
        "df_features = pd.DataFrame()\n",
        "\n",
        "for path, label in zip(tqdm_notebook(dataset_df.Path), dataset_df.Label): \n",
        "    # columns name\n",
        "    column_names = ['x', 'y', 'z', 'time']\n",
        "\n",
        "    # Loading csv data\n",
        "    df = pd.read_csv(path, names=column_names)\n",
        "\n",
        "    # xy signal\n",
        "    df['xy'] = df['x'] * df['y']\n",
        "\n",
        "    # xz signal\n",
        "    df['xz'] = df['x'] * df['z']\n",
        "\n",
        "    # yz signal\n",
        "    df['yz'] = df['y'] * df['z']\n",
        "\n",
        "    # Acc signal\n",
        "    df['total_acc'] = np.sqrt(df['x']**2 + df['y']**2 + df['z']**2)\n",
        "\n",
        "    gfd = tsfel.get_features_by_domain() \n",
        "            \n",
        "    df = np.array(df)\n",
        "    df = df[~np.isnan(df)] \n",
        "\n",
        "    features = tsfel.time_series_features_extractor(gfd, df, fs=2500, windows_size=500, overlap=0.2, verbose=False)\n",
        "\n",
        "    f_df = pd.DataFrame(features, columns=features.columns)\n",
        "    f_df['Label'] = label\n",
        "\n",
        "    df_features = pd.concat([df_features, f_df], axis=0)\n",
        "\n",
        "print(\"Number of instances:\", df_features.shape[0])\n",
        "print(\"Number of features:\", df_features.shape[1]-1)"
      ],
      "metadata": {
        "colab": {
          "base_uri": "https://localhost:8080/",
          "height": 85,
          "referenced_widgets": [
            "8ff2f76ff985419d8212cd6ea540bcb6",
            "59d2fadf43b443edab45e63bf5ea3c5c",
            "ea27f6f851114c7790762a925e31fdc8",
            "6ec32c6b10bb42b0ab933db13bf46ce3",
            "ab9250765f5e413b9193203f307e9ed3",
            "cc4ae16cc67f40d9837467625c757a38",
            "adc962a23a9c4e0b83a84e19014c289a",
            "e260f26c0ba44e00b16ea98420aa477b",
            "4cf1eb53170d416089232b413c00d535",
            "076f69067e75466ebfb006d8b7fbb3b9",
            "b82a8610925b4de8ba8259ed33f7c3e7"
          ]
        },
        "outputId": "337fa579-3e08-4298-9a5a-7ca6c2263f3e",
        "id": "lYwsoVqr7njb"
      },
      "execution_count": 82,
      "outputs": [
        {
          "output_type": "display_data",
          "data": {
            "text/plain": [
              "  0%|          | 0/156 [00:00<?, ?it/s]"
            ],
            "application/vnd.jupyter.widget-view+json": {
              "version_major": 2,
              "version_minor": 0,
              "model_id": "8ff2f76ff985419d8212cd6ea540bcb6"
            }
          },
          "metadata": {}
        },
        {
          "output_type": "stream",
          "name": "stdout",
          "text": [
            "Number of instances: 156\n",
            "Number of features: 389\n"
          ]
        }
      ]
    },
    {
      "cell_type": "markdown",
      "source": [
        "### Feature Selection"
      ],
      "metadata": {
        "id": "jT54hyaftFIA"
      }
    },
    {
      "cell_type": "code",
      "source": [
        "X = df_features.iloc[:, :-1]\n",
        "X = X.apply(pd.to_numeric, errors='coerce')\n",
        "Y = df_features.iloc[:, df_features.shape[1]-1]\n",
        "\n",
        "# Highly correlated features are removed\n",
        "corr_features = tsfel.correlated_features(X)\n",
        "X.drop(corr_features, axis=1, inplace=True)\n",
        "\n",
        "# Remove low variance features\n",
        "\n",
        "#Create a feature selector object\n",
        "selector = VarianceThreshold()\n",
        "\n",
        "#Fit the selector to the data\n",
        "selector.fit(X)\n",
        "\n",
        "# Get a list of booleans indicating which columns have been selected\n",
        "mask = selector.get_support()\n",
        "\n",
        "# Select the columns of the original DataFrame that have been selected\n",
        "X = X.loc[:, mask]\n",
        "\n",
        "print(X.shape)"
      ],
      "metadata": {
        "colab": {
          "base_uri": "https://localhost:8080/"
        },
        "id": "Qo7FEPXTeXgY",
        "outputId": "65c209be-f623-4e9d-d8b9-091ff7934573"
      },
      "execution_count": 85,
      "outputs": [
        {
          "output_type": "stream",
          "name": "stdout",
          "text": [
            "(156, 131)\n"
          ]
        }
      ]
    },
    {
      "cell_type": "markdown",
      "source": [
        "### Normalising Features"
      ],
      "metadata": {
        "id": "TALTP8zPvCDJ"
      }
    },
    {
      "cell_type": "code",
      "source": [
        "scaler = StandardScaler()\n",
        "X = scaler.fit_transform(X)"
      ],
      "metadata": {
        "id": "3uTNaV83sBI7"
      },
      "execution_count": 86,
      "outputs": []
    },
    {
      "cell_type": "markdown",
      "source": [
        "# Clasification Model"
      ],
      "metadata": {
        "id": "tQMkdg5WDv6l"
      }
    },
    {
      "cell_type": "markdown",
      "source": [
        "## Splitting data"
      ],
      "metadata": {
        "id": "8da8HBHWSpl0"
      }
    },
    {
      "cell_type": "code",
      "source": [
        "X_train, X_test, Y_train, Y_test = train_test_split(X, Y, test_size=0.3, random_state=42, stratify=Y)"
      ],
      "metadata": {
        "id": "0-D_rXCaSoFE"
      },
      "execution_count": 88,
      "outputs": []
    },
    {
      "cell_type": "markdown",
      "source": [
        "## Models"
      ],
      "metadata": {
        "id": "bBTXQOWxiSR0"
      }
    },
    {
      "cell_type": "markdown",
      "source": [
        "### Decision Tree Classifier"
      ],
      "metadata": {
        "id": "KKPAbJbMXAtC"
      }
    },
    {
      "cell_type": "markdown",
      "source": [
        "#### Initialize model, Training and Predicting"
      ],
      "metadata": {
        "id": "OC4ryv_uS0Z9"
      }
    },
    {
      "cell_type": "code",
      "source": [
        "# Initialize model\n",
        "model_dt = DecisionTreeClassifier()\n",
        "\n",
        "# Training model\n",
        "model_dt.fit(X_train, Y_train)\n",
        "\n",
        "# Predicting for the test set\n",
        "Y_pred_dt = model_dt.predict(X_test)"
      ],
      "metadata": {
        "id": "ygdc-u2ES3Wk"
      },
      "execution_count": 89,
      "outputs": []
    },
    {
      "cell_type": "markdown",
      "source": [
        "#### Confusion matrix and metrics"
      ],
      "metadata": {
        "id": "p-AbtBAJTQxE"
      }
    },
    {
      "cell_type": "code",
      "source": [
        "ax= plt.subplot()\n",
        "cm = confusion_matrix(Y_test, Y_pred_dt)\n",
        "sns.heatmap(cm, annot=True, fmt='g', cmap = 'Blues', ax=ax);  #annot=True to annotate cells, ftm='g' to disable scientific notation\n",
        "\n",
        "# labels, title and ticks\n",
        "ax.set_xlabel('Predicted labels')\n",
        "ax.set_ylabel('Actual labels')\n",
        "ax.set_title('Confusion Matrix')\n",
        "ax.xaxis.set_ticklabels(count_label.Label)\n",
        "ax.yaxis.set_ticklabels(count_label.Label, rotation=0, ha='right');\n",
        "plt.xticks(rotation=90, ha='right')\n",
        "\n",
        "# metrics\n",
        "print(classification_report(Y_test, Y_pred_dt))"
      ],
      "metadata": {
        "colab": {
          "base_uri": "https://localhost:8080/",
          "height": 727
        },
        "id": "yzOeTplWTSW9",
        "outputId": "e594f9ea-5515-45ea-c7cd-c04c157eff20"
      },
      "execution_count": 90,
      "outputs": [
        {
          "output_type": "stream",
          "name": "stdout",
          "text": [
            "                         precision    recall  f1-score   support\n",
            "\n",
            "          Backward fall       0.00      0.00      0.00         3\n",
            "           Forward fall       0.33      0.33      0.33         3\n",
            "                Jumping       1.00      0.83      0.91         6\n",
            "             Lying down       0.43      1.00      0.60         3\n",
            "                  Other       1.00      0.78      0.88         9\n",
            "                Running       0.86      1.00      0.92         6\n",
            "          Sideways fall       0.33      0.33      0.33         3\n",
            "                Walking       0.80      0.67      0.73         6\n",
            "Walking down the stairs       1.00      0.75      0.86         4\n",
            "  Walking up the stairs       0.60      0.75      0.67         4\n",
            "\n",
            "               accuracy                           0.70        47\n",
            "              macro avg       0.64      0.64      0.62        47\n",
            "           weighted avg       0.74      0.70      0.70        47\n",
            "\n"
          ]
        },
        {
          "output_type": "display_data",
          "data": {
            "text/plain": [
              "<Figure size 432x288 with 2 Axes>"
            ],
            "image/png": "[encoded data removed]"
          },
          "metadata": {}
        }
      ]
    },
    {
      "cell_type": "markdown",
      "source": [
        "### Naive Bayes Classifier"
      ],
      "metadata": {
        "id": "RI4Nc9YqiyjV"
      }
    },
    {
      "cell_type": "markdown",
      "source": [
        "#### Initialize model, Training and Predicting"
      ],
      "metadata": {
        "id": "oG94zBjei4xt"
      }
    },
    {
      "cell_type": "code",
      "source": [
        "# Initialize model\n",
        "model_nb = GaussianNB()\n",
        "\n",
        "# Training model\n",
        "model_nb.fit(X_train, Y_train)\n",
        "\n",
        "# Predicting for the test set\n",
        "Y_pred_nv = model_nb.predict(X_test)"
      ],
      "metadata": {
        "id": "wKOSCy1vi7V3"
      },
      "execution_count": 91,
      "outputs": []
    },
    {
      "cell_type": "markdown",
      "source": [
        "#### Confusion matrix and metrics"
      ],
      "metadata": {
        "id": "qitTV653i41h"
      }
    },
    {
      "cell_type": "code",
      "source": [
        "ax= plt.subplot()\n",
        "cm = confusion_matrix(Y_test, Y_pred_nv)\n",
        "sns.heatmap(cm, annot=True, fmt='g', cmap = 'Blues', ax=ax);  #annot=True to annotate cells, ftm='g' to disable scientific notation\n",
        "\n",
        "# labels, title and ticks\n",
        "ax.set_xlabel('Predicted labels')\n",
        "ax.set_ylabel('Actual labels')\n",
        "ax.set_title('Confusion Matrix')\n",
        "ax.xaxis.set_ticklabels(count_label.Label)\n",
        "ax.yaxis.set_ticklabels(count_label.Label, rotation=0, ha='right');\n",
        "plt.xticks(rotation=90, ha='right')\n",
        "\n",
        "# metrics\n",
        "print(classification_report(Y_test, Y_pred_nv))"
      ],
      "metadata": {
        "colab": {
          "base_uri": "https://localhost:8080/",
          "height": 727
        },
        "id": "mcfcM0JPigau",
        "outputId": "b609b6ec-e6c7-4884-d267-696b849ea9ae"
      },
      "execution_count": 92,
      "outputs": [
        {
          "output_type": "stream",
          "name": "stdout",
          "text": [
            "                         precision    recall  f1-score   support\n",
            "\n",
            "          Backward fall       1.00      0.33      0.50         3\n",
            "           Forward fall       0.67      0.67      0.67         3\n",
            "                Jumping       1.00      0.67      0.80         6\n",
            "             Lying down       1.00      0.67      0.80         3\n",
            "                  Other       0.90      1.00      0.95         9\n",
            "                Running       0.60      1.00      0.75         6\n",
            "          Sideways fall       0.25      0.33      0.29         3\n",
            "                Walking       0.86      1.00      0.92         6\n",
            "Walking down the stairs       1.00      0.75      0.86         4\n",
            "  Walking up the stairs       1.00      0.75      0.86         4\n",
            "\n",
            "               accuracy                           0.79        47\n",
            "              macro avg       0.83      0.72      0.74        47\n",
            "           weighted avg       0.84      0.79      0.79        47\n",
            "\n"
          ]
        },
        {
          "output_type": "display_data",
          "data": {
            "text/plain": [
              "<Figure size 432x288 with 2 Axes>"
            ],
            "image/png": "[encoded data removed]"
          },
          "metadata": {}
        }
      ]
    },
    {
      "cell_type": "markdown",
      "source": [
        "### Support Vector Machines (SVM)"
      ],
      "metadata": {
        "id": "AxkJhrV_p00m"
      }
    },
    {
      "cell_type": "markdown",
      "source": [
        "#### Initialize model, Training and Predicting"
      ],
      "metadata": {
        "id": "FiEUq9uEp__O"
      }
    },
    {
      "cell_type": "code",
      "source": [
        "# Initialize model\n",
        "model_svc = SVC(kernel='linear')\n",
        "\n",
        "# Training model\n",
        "model_svc.fit(X_train, Y_train)\n",
        "\n",
        "# Predicting for the test set\n",
        "Y_pred_svm = model_svc.predict(X_test)"
      ],
      "metadata": {
        "id": "xQ_qc2lpqCtM"
      },
      "execution_count": 93,
      "outputs": []
    },
    {
      "cell_type": "markdown",
      "source": [
        "#### Confusion matrix and metrics"
      ],
      "metadata": {
        "id": "gq9zkC1sqDB_"
      }
    },
    {
      "cell_type": "code",
      "source": [
        "ax= plt.subplot()\n",
        "cm = confusion_matrix(Y_test, Y_pred_svm)\n",
        "sns.heatmap(cm, annot=True, fmt='g', cmap = 'Blues', ax=ax);  #annot=True to annotate cells, ftm='g' to disable scientific notation\n",
        "\n",
        "# labels, title and ticks\n",
        "ax.set_xlabel('Predicted labels')\n",
        "ax.set_ylabel('Actual labels')\n",
        "ax.set_title('Confusion Matrix')\n",
        "ax.xaxis.set_ticklabels(count_label.Label)\n",
        "ax.yaxis.set_ticklabels(count_label.Label, rotation=0, ha='right');\n",
        "plt.xticks(rotation=90, ha='right')\n",
        "\n",
        "# metrics\n",
        "print(classification_report(Y_test, Y_pred_svm))"
      ],
      "metadata": {
        "colab": {
          "base_uri": "https://localhost:8080/",
          "height": 727
        },
        "id": "VBzsdCjaqYCN",
        "outputId": "4ca1a326-d8b7-4f6e-bd50-6ea2fe2fef23"
      },
      "execution_count": 94,
      "outputs": [
        {
          "output_type": "stream",
          "name": "stdout",
          "text": [
            "                         precision    recall  f1-score   support\n",
            "\n",
            "          Backward fall       1.00      0.67      0.80         3\n",
            "           Forward fall       0.75      1.00      0.86         3\n",
            "                Jumping       1.00      1.00      1.00         6\n",
            "             Lying down       0.75      1.00      0.86         3\n",
            "                  Other       1.00      0.89      0.94         9\n",
            "                Running       1.00      1.00      1.00         6\n",
            "          Sideways fall       1.00      1.00      1.00         3\n",
            "                Walking       1.00      1.00      1.00         6\n",
            "Walking down the stairs       1.00      1.00      1.00         4\n",
            "  Walking up the stairs       1.00      1.00      1.00         4\n",
            "\n",
            "               accuracy                           0.96        47\n",
            "              macro avg       0.95      0.96      0.95        47\n",
            "           weighted avg       0.97      0.96      0.96        47\n",
            "\n"
          ]
        },
        {
          "output_type": "display_data",
          "data": {
            "text/plain": [
              "<Figure size 432x288 with 2 Axes>"
            ],
            "image/png": "[encoded data removed]"
          },
          "metadata": {}
        }
      ]
    },
    {
      "cell_type": "markdown",
      "source": [
        "## Re-training the model"
      ],
      "metadata": {
        "id": "FsMuFkFG4b0u"
      }
    },
    {
      "cell_type": "code",
      "source": [
        "# Initialize the model\n",
        "model_svc = SVC(kernel='linear')\n",
        "\n",
        "# Re-training the model\n",
        "X_svc = scaler.fit_transform(X)\n",
        "Y_svc = Y\n",
        "model_svc.fit(X_svc,Y_svc)"
      ],
      "metadata": {
        "colab": {
          "base_uri": "https://localhost:8080/",
          "height": 75
        },
        "id": "9WfC4gXd4d1-",
        "outputId": "880c3ad4-5586-4034-80d4-356a5cf7985a"
      },
      "execution_count": 95,
      "outputs": [
        {
          "output_type": "execute_result",
          "data": {
            "text/plain": [
              "SVC(kernel='linear')"
            ],
            "text/html": [
              "<style>#sk-container-id-3 {color: black;background-color: white;}#sk-container-id-3 pre{padding: 0;}#sk-container-id-3 div.sk-toggleable {background-color: white;}#sk-container-id-3 label.sk-toggleable__label {cursor: pointer;display: block;width: 100%;margin-bottom: 0;padding: 0.3em;box-sizing: border-box;text-align: center;}#sk-container-id-3 label.sk-toggleable__label-arrow:before {content: \"▸\";float: left;margin-right: 0.25em;color: #696969;}#sk-container-id-3 label.sk-toggleable__label-arrow:hover:before {color: black;}#sk-container-id-3 div.sk-estimator:hover label.sk-toggleable__label-arrow:before {color: black;}#sk-container-id-3 div.sk-toggleable__content {max-height: 0;max-width: 0;overflow: hidden;text-align: left;background-color: #f0f8ff;}#sk-container-id-3 div.sk-toggleable__content pre {margin: 0.2em;color: black;border-radius: 0.25em;background-color: #f0f8ff;}#sk-container-id-3 input.sk-toggleable__control:checked~div.sk-toggleable__content {max-height: 200px;max-width: 100%;overflow: auto;}#sk-container-id-3 input.sk-toggleable__control:checked~label.sk-toggleable__label-arrow:before {content: \"▾\";}#sk-container-id-3 div.sk-estimator input.sk-toggleable__control:checked~label.sk-toggleable__label {background-color: #d4ebff;}#sk-container-id-3 div.sk-label input.sk-toggleable__control:checked~label.sk-toggleable__label {background-color: #d4ebff;}#sk-container-id-3 input.sk-hidden--visually {border: 0;clip: rect(1px 1px 1px 1px);clip: rect(1px, 1px, 1px, 1px);height: 1px;margin: -1px;overflow: hidden;padding: 0;position: absolute;width: 1px;}#sk-container-id-3 div.sk-estimator {font-family: monospace;background-color: #f0f8ff;border: 1px dotted black;border-radius: 0.25em;box-sizing: border-box;margin-bottom: 0.5em;}#sk-container-id-3 div.sk-estimator:hover {background-color: #d4ebff;}#sk-container-id-3 div.sk-parallel-item::after {content: \"\";width: 100%;border-bottom: 1px solid gray;flex-grow: 1;}#sk-container-id-3 div.sk-label:hover label.sk-toggleable__label {background-color: #d4ebff;}#sk-container-id-3 div.sk-serial::before {content: \"\";position: absolute;border-left: 1px solid gray;box-sizing: border-box;top: 0;bottom: 0;left: 50%;z-index: 0;}#sk-container-id-3 div.sk-serial {display: flex;flex-direction: column;align-items: center;background-color: white;padding-right: 0.2em;padding-left: 0.2em;position: relative;}#sk-container-id-3 div.sk-item {position: relative;z-index: 1;}#sk-container-id-3 div.sk-parallel {display: flex;align-items: stretch;justify-content: center;background-color: white;position: relative;}#sk-container-id-3 div.sk-item::before, #sk-container-id-3 div.sk-parallel-item::before {content: \"\";position: absolute;border-left: 1px solid gray;box-sizing: border-box;top: 0;bottom: 0;left: 50%;z-index: -1;}#sk-container-id-3 div.sk-parallel-item {display: flex;flex-direction: column;z-index: 1;position: relative;background-color: white;}#sk-container-id-3 div.sk-parallel-item:first-child::after {align-self: flex-end;width: 50%;}#sk-container-id-3 div.sk-parallel-item:last-child::after {align-self: flex-start;width: 50%;}#sk-container-id-3 div.sk-parallel-item:only-child::after {width: 0;}#sk-container-id-3 div.sk-dashed-wrapped {border: 1px dashed gray;margin: 0 0.4em 0.5em 0.4em;box-sizing: border-box;padding-bottom: 0.4em;background-color: white;}#sk-container-id-3 div.sk-label label {font-family: monospace;font-weight: bold;display: inline-block;line-height: 1.2em;}#sk-container-id-3 div.sk-label-container {text-align: center;}#sk-container-id-3 div.sk-container {/* jupyter's `normalize.less` sets `[hidden] { display: none; }` but bootstrap.min.css set `[hidden] { display: none !important; }` so we also need the `!important` here to be able to override the default hidden behavior on the sphinx rendered scikit-learn.org. See: https://github.com/scikit-learn/scikit-learn/issues/21755 */display: inline-block !important;position: relative;}#sk-container-id-3 div.sk-text-repr-fallback {display: none;}</style><div id=\"sk-container-id-3\" class=\"sk-top-container\"><div class=\"sk-text-repr-fallback\"><pre>SVC(kernel=&#x27;linear&#x27;)</pre><b>In a Jupyter environment, please rerun this cell to show the HTML representation or trust the notebook. <br />On GitHub, the HTML representation is unable to render, please try loading this page with nbviewer.org.</b></div><div class=\"sk-container\" hidden><div class=\"sk-item\"><div class=\"sk-estimator sk-toggleable\"><input class=\"sk-toggleable__control sk-hidden--visually\" id=\"sk-estimator-id-3\" type=\"checkbox\" checked><label for=\"sk-estimator-id-3\" class=\"sk-toggleable__label sk-toggleable__label-arrow\">SVC</label><div class=\"sk-toggleable__content\"><pre>SVC(kernel=&#x27;linear&#x27;)</pre></div></div></div></div></div>"
            ]
          },
          "metadata": {},
          "execution_count": 95
        }
      ]
    },
    {
      "cell_type": "code",
      "source": [
        "#Saving the model\n",
        "import pickle\n",
        "# Save the Modle to file in the current working directory\n",
        "#For any new testing data other than the data in dataset\n",
        "\n",
        "Pkl_Filename = \"/content/drive/MyDrive/datos inerciales/Human_Activities_Classifier.pkl\"  \n",
        "\n",
        "with open(Pkl_Filename, 'wb') as file:  \n",
        "    pickle.dump(model_svc, file)\n",
        "\n",
        "# Load the Model back from file\n",
        "with open(Pkl_Filename, 'rb') as file:  \n",
        "    Human_Activities_Classifier = pickle.load(file)\n",
        "Human_Activities_Classifier"
      ],
      "metadata": {
        "colab": {
          "base_uri": "https://localhost:8080/",
          "height": 75
        },
        "id": "AwnHDFs36Hnh",
        "outputId": "e78838e1-a58c-464e-da2b-da46ee6c59fd"
      },
      "execution_count": 96,
      "outputs": [
        {
          "output_type": "execute_result",
          "data": {
            "text/plain": [
              "SVC(kernel='linear')"
            ],
            "text/html": [
              "<style>#sk-container-id-4 {color: black;background-color: white;}#sk-container-id-4 pre{padding: 0;}#sk-container-id-4 div.sk-toggleable {background-color: white;}#sk-container-id-4 label.sk-toggleable__label {cursor: pointer;display: block;width: 100%;margin-bottom: 0;padding: 0.3em;box-sizing: border-box;text-align: center;}#sk-container-id-4 label.sk-toggleable__label-arrow:before {content: \"▸\";float: left;margin-right: 0.25em;color: #696969;}#sk-container-id-4 label.sk-toggleable__label-arrow:hover:before {color: black;}#sk-container-id-4 div.sk-estimator:hover label.sk-toggleable__label-arrow:before {color: black;}#sk-container-id-4 div.sk-toggleable__content {max-height: 0;max-width: 0;overflow: hidden;text-align: left;background-color: #f0f8ff;}#sk-container-id-4 div.sk-toggleable__content pre {margin: 0.2em;color: black;border-radius: 0.25em;background-color: #f0f8ff;}#sk-container-id-4 input.sk-toggleable__control:checked~div.sk-toggleable__content {max-height: 200px;max-width: 100%;overflow: auto;}#sk-container-id-4 input.sk-toggleable__control:checked~label.sk-toggleable__label-arrow:before {content: \"▾\";}#sk-container-id-4 div.sk-estimator input.sk-toggleable__control:checked~label.sk-toggleable__label {background-color: #d4ebff;}#sk-container-id-4 div.sk-label input.sk-toggleable__control:checked~label.sk-toggleable__label {background-color: #d4ebff;}#sk-container-id-4 input.sk-hidden--visually {border: 0;clip: rect(1px 1px 1px 1px);clip: rect(1px, 1px, 1px, 1px);height: 1px;margin: -1px;overflow: hidden;padding: 0;position: absolute;width: 1px;}#sk-container-id-4 div.sk-estimator {font-family: monospace;background-color: #f0f8ff;border: 1px dotted black;border-radius: 0.25em;box-sizing: border-box;margin-bottom: 0.5em;}#sk-container-id-4 div.sk-estimator:hover {background-color: #d4ebff;}#sk-container-id-4 div.sk-parallel-item::after {content: \"\";width: 100%;border-bottom: 1px solid gray;flex-grow: 1;}#sk-container-id-4 div.sk-label:hover label.sk-toggleable__label {background-color: #d4ebff;}#sk-container-id-4 div.sk-serial::before {content: \"\";position: absolute;border-left: 1px solid gray;box-sizing: border-box;top: 0;bottom: 0;left: 50%;z-index: 0;}#sk-container-id-4 div.sk-serial {display: flex;flex-direction: column;align-items: center;background-color: white;padding-right: 0.2em;padding-left: 0.2em;position: relative;}#sk-container-id-4 div.sk-item {position: relative;z-index: 1;}#sk-container-id-4 div.sk-parallel {display: flex;align-items: stretch;justify-content: center;background-color: white;position: relative;}#sk-container-id-4 div.sk-item::before, #sk-container-id-4 div.sk-parallel-item::before {content: \"\";position: absolute;border-left: 1px solid gray;box-sizing: border-box;top: 0;bottom: 0;left: 50%;z-index: -1;}#sk-container-id-4 div.sk-parallel-item {display: flex;flex-direction: column;z-index: 1;position: relative;background-color: white;}#sk-container-id-4 div.sk-parallel-item:first-child::after {align-self: flex-end;width: 50%;}#sk-container-id-4 div.sk-parallel-item:last-child::after {align-self: flex-start;width: 50%;}#sk-container-id-4 div.sk-parallel-item:only-child::after {width: 0;}#sk-container-id-4 div.sk-dashed-wrapped {border: 1px dashed gray;margin: 0 0.4em 0.5em 0.4em;box-sizing: border-box;padding-bottom: 0.4em;background-color: white;}#sk-container-id-4 div.sk-label label {font-family: monospace;font-weight: bold;display: inline-block;line-height: 1.2em;}#sk-container-id-4 div.sk-label-container {text-align: center;}#sk-container-id-4 div.sk-container {/* jupyter's `normalize.less` sets `[hidden] { display: none; }` but bootstrap.min.css set `[hidden] { display: none !important; }` so we also need the `!important` here to be able to override the default hidden behavior on the sphinx rendered scikit-learn.org. See: https://github.com/scikit-learn/scikit-learn/issues/21755 */display: inline-block !important;position: relative;}#sk-container-id-4 div.sk-text-repr-fallback {display: none;}</style><div id=\"sk-container-id-4\" class=\"sk-top-container\"><div class=\"sk-text-repr-fallback\"><pre>SVC(kernel=&#x27;linear&#x27;)</pre><b>In a Jupyter environment, please rerun this cell to show the HTML representation or trust the notebook. <br />On GitHub, the HTML representation is unable to render, please try loading this page with nbviewer.org.</b></div><div class=\"sk-container\" hidden><div class=\"sk-item\"><div class=\"sk-estimator sk-toggleable\"><input class=\"sk-toggleable__control sk-hidden--visually\" id=\"sk-estimator-id-4\" type=\"checkbox\" checked><label for=\"sk-estimator-id-4\" class=\"sk-toggleable__label sk-toggleable__label-arrow\">SVC</label><div class=\"sk-toggleable__content\"><pre>SVC(kernel=&#x27;linear&#x27;)</pre></div></div></div></div></div>"
            ]
          },
          "metadata": {},
          "execution_count": 96
        }
      ]
    },
    {
      "cell_type": "markdown",
      "source": [
        "# External validation"
      ],
      "metadata": {
        "id": "qaugh6Vc7CNt"
      }
    },
    {
      "cell_type": "markdown",
      "source": [
        "## Loading training data "
      ],
      "metadata": {
        "id": "nITvwVnw8rI1"
      }
    },
    {
      "cell_type": "code",
      "source": [
        "# Loading CSV files \n",
        "csv_files = [os.path.abspath(x) for x in glob.glob('/content/drive/MyDrive/datos inerciales/test/*.csv')]\n",
        "csv_files = sorted(csv_files, key=lambda x: int(''.join(filter(str.isdigit, x))))\n",
        "\n",
        "file_name = []\n",
        "file_path = []\n",
        "\n",
        "# Paths and labels to the files found\n",
        "for path in tqdm_notebook(csv_files):\n",
        "    part = os.path.basename(path)\n",
        "    name = part.split('.')[0]       \n",
        "    file_name.append(name)\n",
        "    file_path.append(path)  \n",
        "\n",
        "# Creating dataframe\n",
        "file_name_df = pd.DataFrame(file_name, columns=['File_Name'])\n",
        "path_df = pd.DataFrame(file_path, columns=['Path'])\n",
        "dataset_df = pd.concat([path_df], axis = 1) "
      ],
      "metadata": {
        "colab": {
          "base_uri": "https://localhost:8080/",
          "height": 49,
          "referenced_widgets": [
            "448f57c066d44d17b5acb8d844964429",
            "d1570c5e013e4559a7c8c836903d9b27",
            "b95025a9879245d1a6a4f43cb50df3e9",
            "af7f7555494242cb9d1578b0803803f3",
            "c932caa1851b4b4bb3436940f7a5d65c",
            "f0bdb8c8faf34d81bf9b438c38a4a323",
            "df84d8abdabe45fc849a14cfa1750bec",
            "eede8446165448039ece6220960bfdb8",
            "c9359ab94fe347a4a76a2e7124fd2bb4",
            "8dff80dc8ea14f0482d278cb3631b734",
            "367e635ddc4b46449c5cbb00a077fe7a"
          ]
        },
        "id": "ykdjZm6G7GlV",
        "outputId": "1fed5ee5-f425-4737-e937-e02035b41e67"
      },
      "execution_count": 105,
      "outputs": [
        {
          "output_type": "display_data",
          "data": {
            "text/plain": [
              "  0%|          | 0/35 [00:00<?, ?it/s]"
            ],
            "application/vnd.jupyter.widget-view+json": {
              "version_major": 2,
              "version_minor": 0,
              "model_id": "448f57c066d44d17b5acb8d844964429"
            }
          },
          "metadata": {}
        }
      ]
    },
    {
      "cell_type": "code",
      "source": [
        "dataset_df.shape"
      ],
      "metadata": {
        "colab": {
          "base_uri": "https://localhost:8080/"
        },
        "id": "W89Weh6ab7cS",
        "outputId": "9aafe9e3-29a6-4188-c698-dfc12d24fc5a"
      },
      "execution_count": 99,
      "outputs": [
        {
          "output_type": "execute_result",
          "data": {
            "text/plain": [
              "(35, 1)"
            ]
          },
          "metadata": {},
          "execution_count": 99
        }
      ]
    },
    {
      "cell_type": "markdown",
      "source": [
        "## Get feature vector"
      ],
      "metadata": {
        "id": "K3BLQ-c38kNM"
      }
    },
    {
      "cell_type": "code",
      "source": [
        "#Get feature vector\n",
        "\n",
        "df_features = pd.DataFrame()\n",
        "\n",
        "for path in tqdm_notebook(dataset_df.Path): \n",
        "    # columns name\n",
        "    column_names = ['x', 'y', 'z', 'time']\n",
        "\n",
        "    # Loading csv data\n",
        "    df = pd.read_csv(path, names=column_names, delimiter=',',skiprows=2, skipinitialspace=True)\n",
        "\n",
        "    # xy signal\n",
        "    df['xy'] = df['x'] * df['y']\n",
        "\n",
        "    # xz signal\n",
        "    df['xz'] = df['x'] * df['z']\n",
        "\n",
        "    # yz signal\n",
        "    df['yz'] = df['y'] * df['z']\n",
        "\n",
        "    # Acc signal\n",
        "    df['total_acc'] = np.sqrt(df['x']**2 + df['y']**2 + df['z']**2)\n",
        "\n",
        "    gfd = tsfel.get_features_by_domain()\n",
        "\n",
        "    df = np.array(df)\n",
        "    df = df[~np.isnan(df)] \n",
        "\n",
        "    features = tsfel.time_series_features_extractor(gfd, df, fs=2500, windows_size=500, overlap=0.2, verbose=False)\n",
        "\n",
        "    df_features = pd.concat([df_features, pd.DataFrame(features)], axis=0)\n",
        "\n",
        "print(\"Number of instances:\", df_features.shape[0])\n",
        "print(\"Number of features:\", df_features.shape[1]-1)"
      ],
      "metadata": {
        "colab": {
          "base_uri": "https://localhost:8080/",
          "height": 85,
          "referenced_widgets": [
            "b812ec173427489eba09603473a9bc77",
            "517e36c713e343e0b8dc511a62b0a348",
            "2e0717c213024bb190ff0847b3ade1b7",
            "a619ed1d6e884966bf97b6d3cc385941",
            "c2147e82364140cc9972a20964b18a50",
            "b3cc3dc4c7c94e5690fcd85dfef6172a",
            "fda5f8c97e7f4594b81c3e3156149c84",
            "723786b9cd1b4723833f9947b070265f",
            "8ac144c74b124de69c2f712c7dd8d652",
            "d1e5acd088244d87bbd0809ada0d15c3",
            "37e91585a783424aad388376df508cf0"
          ]
        },
        "id": "_PSwnA938ksi",
        "outputId": "fda2bae8-feaf-4f4c-fefe-45d745bbb19f"
      },
      "execution_count": 106,
      "outputs": [
        {
          "output_type": "display_data",
          "data": {
            "text/plain": [
              "  0%|          | 0/35 [00:00<?, ?it/s]"
            ],
            "application/vnd.jupyter.widget-view+json": {
              "version_major": 2,
              "version_minor": 0,
              "model_id": "b812ec173427489eba09603473a9bc77"
            }
          },
          "metadata": {}
        },
        {
          "output_type": "stream",
          "name": "stdout",
          "text": [
            "Number of instances: 35\n",
            "Number of features: 388\n"
          ]
        }
      ]
    },
    {
      "cell_type": "markdown",
      "source": [
        "## Normalize data"
      ],
      "metadata": {
        "id": "wGS8xXo-86Pd"
      }
    },
    {
      "cell_type": "code",
      "source": [
        "X = df_features.iloc[:, :]\n",
        "X = X.apply(pd.to_numeric, errors='coerce')\n",
        "X.drop(corr_features, axis=1, inplace=True)\n",
        "\n",
        "# Select the columns of the original DataFrame that have been selected\n",
        "X = X.loc[:, mask]\n",
        "\n",
        "scaler = StandardScaler()\n",
        "X = scaler.fit_transform(X)"
      ],
      "metadata": {
        "id": "mG6yopU286gb"
      },
      "execution_count": 107,
      "outputs": []
    },
    {
      "cell_type": "markdown",
      "source": [
        "## Evaluating model "
      ],
      "metadata": {
        "id": "LusNmxMr9GmL"
      }
    },
    {
      "cell_type": "code",
      "source": [
        "activities = {'Walking': '1', \n",
        "              'Running': '2', \n",
        "              'Jumping': '3',\n",
        "              'Walking down the stairs': '4',\n",
        "              'Walking up the stairs': '5',\n",
        "              'Forward fall': '6',\n",
        "              'Sideways fall': '7',\n",
        "              'Backward fall': '8',\n",
        "              'Lying down': '9',\n",
        "              'Other': '10'}\n",
        "\n",
        "# Prediction\n",
        "prediction = Human_Activities_Classifier.predict(X)\n",
        "\n",
        "# Creating dataframe\n",
        "pred_df = pd.DataFrame(prediction, columns=['Prediction'])\n",
        "prediction_df = pd.concat([file_name_df, pred_df], axis = 1) \n",
        "print('Human Activities Classifier prediction:\\n\\n', prediction_df)\n",
        "\n",
        "# Exporting a to txt file\n",
        "# clean output_full.txt\n",
        "with open('/content/drive/MyDrive/datos inerciales/output_full.txt', 'w') as f:\n",
        "    pass\n",
        "\n",
        "# fill output.txt\n",
        "for index, row in prediction_df.iterrows():\n",
        "  File_Name = row['File_Name']\n",
        "  Prediction = row['Prediction']\n",
        "  with open('/content/drive/MyDrive/datos inerciales/output_full.txt', 'a') as f:\n",
        "    f.write(str(File_Name) + ' ' + str(Prediction))\n",
        "    f.write(\"\\n\")"
      ],
      "metadata": {
        "colab": {
          "base_uri": "https://localhost:8080/"
        },
        "id": "nSGG9Nq59HDu",
        "outputId": "28c1592f-d222-48a3-99ce-d2e80578d94d"
      },
      "execution_count": 111,
      "outputs": [
        {
          "output_type": "stream",
          "name": "stdout",
          "text": [
            "Human Activities Classifier prediction:\n",
            "\n",
            "    File_Name             Prediction\n",
            "0     file_0  Walking up the stairs\n",
            "1     file_1                Jumping\n",
            "2     file_2                Jumping\n",
            "3     file_3  Walking up the stairs\n",
            "4     file_4                Jumping\n",
            "5     file_5  Walking up the stairs\n",
            "6     file_6                Jumping\n",
            "7     file_7                  Other\n",
            "8     file_8           Forward fall\n",
            "9     file_9                  Other\n",
            "10   file_10  Walking up the stairs\n",
            "11   file_11                Jumping\n",
            "12   file_12                Walking\n",
            "13   file_13                Jumping\n",
            "14   file_14                Jumping\n",
            "15   file_15             Lying down\n",
            "16   file_16                Jumping\n",
            "17   file_17                Jumping\n",
            "18   file_18                Running\n",
            "19   file_19                  Other\n",
            "20   file_20                Jumping\n",
            "21   file_21                Jumping\n",
            "22   file_22                Walking\n",
            "23   file_23             Lying down\n",
            "24   file_24             Lying down\n",
            "25   file_25                Jumping\n",
            "26   file_26                Walking\n",
            "27   file_27                Jumping\n",
            "28   file_28          Sideways fall\n",
            "29   file_29                Jumping\n",
            "30   file_30                Jumping\n",
            "31   file_31                  Other\n",
            "32   file_32                Jumping\n",
            "33   file_33                Jumping\n",
            "34   file_34                Running\n"
          ]
        }
      ]
    },
    {
      "cell_type": "markdown",
      "source": [
        "#### Exporting predictions to txt file"
      ],
      "metadata": {
        "id": "LImaoJHxLFiM"
      }
    },
    {
      "cell_type": "code",
      "source": [
        "# Exporting predictions\n",
        "output = []\n",
        "for out in prediction:\n",
        "  output.append(activities[out])\n",
        "output\n",
        "\n",
        "# clean output.txt\n",
        "with open('/content/drive/MyDrive/datos inerciales/output.txt', 'w') as f:\n",
        "    pass\n",
        "\n",
        "# fill output.txt\n",
        "for out in output:\n",
        "  with open('/content/drive/MyDrive/datos inerciales/output.txt', 'a') as f:\n",
        "    f.write(str(out))\n",
        "    f.write(\"\\n\")   "
      ],
      "metadata": {
        "id": "3AAP5e7-IOLH"
      },
      "execution_count": 112,
      "outputs": []
    }
  ]
}