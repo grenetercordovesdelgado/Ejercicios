{
  "nbformat": 4,
  "nbformat_minor": 0,
  "metadata": {
    "colab": {
      "provenance": [],
      "collapsed_sections": [
        "FyT0tHjbtScD",
        "DKGuFv3FtU17"
      ],
      "toc_visible": true,
      "authorship_tag": "ABX9TyNG99y5uKtuYF9sW3w3J8Vc",
      "include_colab_link": true
    },
    "kernelspec": {
      "name": "python3",
      "display_name": "Python 3"
    },
    "language_info": {
      "name": "python"
    },
    "widgets": {
      "application/vnd.jupyter.widget-state+json": {
        "24ad8434dd81441c9add3ee7d207ebf3": {
          "model_module": "@jupyter-widgets/controls",
          "model_name": "HBoxModel",
          "model_module_version": "1.5.0",
          "state": {
            "_dom_classes": [],
            "_model_module": "@jupyter-widgets/controls",
            "_model_module_version": "1.5.0",
            "_model_name": "HBoxModel",
            "_view_count": null,
            "_view_module": "@jupyter-widgets/controls",
            "_view_module_version": "1.5.0",
            "_view_name": "HBoxView",
            "box_style": "",
            "children": [
              "IPY_MODEL_ece77c6aba294b1aaf514f808e5db28f",
              "IPY_MODEL_2c16b8ee1e294507b0f3a6b381c3f439",
              "IPY_MODEL_5cc0b3ef6cb7479cb134db126bf5f567"
            ],
            "layout": "IPY_MODEL_9c9ad419e8e7479f84d608aee4851cd5"
          }
        },
        "ece77c6aba294b1aaf514f808e5db28f": {
          "model_module": "@jupyter-widgets/controls",
          "model_name": "HTMLModel",
          "model_module_version": "1.5.0",
          "state": {
            "_dom_classes": [],
            "_model_module": "@jupyter-widgets/controls",
            "_model_module_version": "1.5.0",
            "_model_name": "HTMLModel",
            "_view_count": null,
            "_view_module": "@jupyter-widgets/controls",
            "_view_module_version": "1.5.0",
            "_view_name": "HTMLView",
            "description": "",
            "description_tooltip": null,
            "layout": "IPY_MODEL_09c0d78191fc4bce86d777c055dbdbe4",
            "placeholder": "​",
            "style": "IPY_MODEL_2443f42e313547f099cb86ca3b5f0647",
            "value": "100%"
          }
        },
        "2c16b8ee1e294507b0f3a6b381c3f439": {
          "model_module": "@jupyter-widgets/controls",
          "model_name": "FloatProgressModel",
          "model_module_version": "1.5.0",
          "state": {
            "_dom_classes": [],
            "_model_module": "@jupyter-widgets/controls",
            "_model_module_version": "1.5.0",
            "_model_name": "FloatProgressModel",
            "_view_count": null,
            "_view_module": "@jupyter-widgets/controls",
            "_view_module_version": "1.5.0",
            "_view_name": "ProgressView",
            "bar_style": "success",
            "description": "",
            "description_tooltip": null,
            "layout": "IPY_MODEL_d591f68e1f224876977f997f74177321",
            "max": 156,
            "min": 0,
            "orientation": "horizontal",
            "style": "IPY_MODEL_ffe8c0b8d6544004b08fbe60e8941ddb",
            "value": 156
          }
        },
        "5cc0b3ef6cb7479cb134db126bf5f567": {
          "model_module": "@jupyter-widgets/controls",
          "model_name": "HTMLModel",
          "model_module_version": "1.5.0",
          "state": {
            "_dom_classes": [],
            "_model_module": "@jupyter-widgets/controls",
            "_model_module_version": "1.5.0",
            "_model_name": "HTMLModel",
            "_view_count": null,
            "_view_module": "@jupyter-widgets/controls",
            "_view_module_version": "1.5.0",
            "_view_name": "HTMLView",
            "description": "",
            "description_tooltip": null,
            "layout": "IPY_MODEL_3573ba46abc9446ab3fd8b6f48c750cd",
            "placeholder": "​",
            "style": "IPY_MODEL_e361e9b084dc4f7f971c54f99f760f18",
            "value": " 156/156 [00:59&lt;00:00,  1.49it/s]"
          }
        },
        "9c9ad419e8e7479f84d608aee4851cd5": {
          "model_module": "@jupyter-widgets/base",
          "model_name": "LayoutModel",
          "model_module_version": "1.2.0",
          "state": {
            "_model_module": "@jupyter-widgets/base",
            "_model_module_version": "1.2.0",
            "_model_name": "LayoutModel",
            "_view_count": null,
            "_view_module": "@jupyter-widgets/base",
            "_view_module_version": "1.2.0",
            "_view_name": "LayoutView",
            "align_content": null,
            "align_items": null,
            "align_self": null,
            "border": null,
            "bottom": null,
            "display": null,
            "flex": null,
            "flex_flow": null,
            "grid_area": null,
            "grid_auto_columns": null,
            "grid_auto_flow": null,
            "grid_auto_rows": null,
            "grid_column": null,
            "grid_gap": null,
            "grid_row": null,
            "grid_template_areas": null,
            "grid_template_columns": null,
            "grid_template_rows": null,
            "height": null,
            "justify_content": null,
            "justify_items": null,
            "left": null,
            "margin": null,
            "max_height": null,
            "max_width": null,
            "min_height": null,
            "min_width": null,
            "object_fit": null,
            "object_position": null,
            "order": null,
            "overflow": null,
            "overflow_x": null,
            "overflow_y": null,
            "padding": null,
            "right": null,
            "top": null,
            "visibility": null,
            "width": null
          }
        },
        "09c0d78191fc4bce86d777c055dbdbe4": {
          "model_module": "@jupyter-widgets/base",
          "model_name": "LayoutModel",
          "model_module_version": "1.2.0",
          "state": {
            "_model_module": "@jupyter-widgets/base",
            "_model_module_version": "1.2.0",
            "_model_name": "LayoutModel",
            "_view_count": null,
            "_view_module": "@jupyter-widgets/base",
            "_view_module_version": "1.2.0",
            "_view_name": "LayoutView",
            "align_content": null,
            "align_items": null,
            "align_self": null,
            "border": null,
            "bottom": null,
            "display": null,
            "flex": null,
            "flex_flow": null,
            "grid_area": null,
            "grid_auto_columns": null,
            "grid_auto_flow": null,
            "grid_auto_rows": null,
            "grid_column": null,
            "grid_gap": null,
            "grid_row": null,
            "grid_template_areas": null,
            "grid_template_columns": null,
            "grid_template_rows": null,
            "height": null,
            "justify_content": null,
            "justify_items": null,
            "left": null,
            "margin": null,
            "max_height": null,
            "max_width": null,
            "min_height": null,
            "min_width": null,
            "object_fit": null,
            "object_position": null,
            "order": null,
            "overflow": null,
            "overflow_x": null,
            "overflow_y": null,
            "padding": null,
            "right": null,
            "top": null,
            "visibility": null,
            "width": null
          }
        },
        "2443f42e313547f099cb86ca3b5f0647": {
          "model_module": "@jupyter-widgets/controls",
          "model_name": "DescriptionStyleModel",
          "model_module_version": "1.5.0",
          "state": {
            "_model_module": "@jupyter-widgets/controls",
            "_model_module_version": "1.5.0",
            "_model_name": "DescriptionStyleModel",
            "_view_count": null,
            "_view_module": "@jupyter-widgets/base",
            "_view_module_version": "1.2.0",
            "_view_name": "StyleView",
            "description_width": ""
          }
        },
        "d591f68e1f224876977f997f74177321": {
          "model_module": "@jupyter-widgets/base",
          "model_name": "LayoutModel",
          "model_module_version": "1.2.0",
          "state": {
            "_model_module": "@jupyter-widgets/base",
            "_model_module_version": "1.2.0",
            "_model_name": "LayoutModel",
            "_view_count": null,
            "_view_module": "@jupyter-widgets/base",
            "_view_module_version": "1.2.0",
            "_view_name": "LayoutView",
            "align_content": null,
            "align_items": null,
            "align_self": null,
            "border": null,
            "bottom": null,
            "display": null,
            "flex": null,
            "flex_flow": null,
            "grid_area": null,
            "grid_auto_columns": null,
            "grid_auto_flow": null,
            "grid_auto_rows": null,
            "grid_column": null,
            "grid_gap": null,
            "grid_row": null,
            "grid_template_areas": null,
            "grid_template_columns": null,
            "grid_template_rows": null,
            "height": null,
            "justify_content": null,
            "justify_items": null,
            "left": null,
            "margin": null,
            "max_height": null,
            "max_width": null,
            "min_height": null,
            "min_width": null,
            "object_fit": null,
            "object_position": null,
            "order": null,
            "overflow": null,
            "overflow_x": null,
            "overflow_y": null,
            "padding": null,
            "right": null,
            "top": null,
            "visibility": null,
            "width": null
          }
        },
        "ffe8c0b8d6544004b08fbe60e8941ddb": {
          "model_module": "@jupyter-widgets/controls",
          "model_name": "ProgressStyleModel",
          "model_module_version": "1.5.0",
          "state": {
            "_model_module": "@jupyter-widgets/controls",
            "_model_module_version": "1.5.0",
            "_model_name": "ProgressStyleModel",
            "_view_count": null,
            "_view_module": "@jupyter-widgets/base",
            "_view_module_version": "1.2.0",
            "_view_name": "StyleView",
            "bar_color": null,
            "description_width": ""
          }
        },
        "3573ba46abc9446ab3fd8b6f48c750cd": {
          "model_module": "@jupyter-widgets/base",
          "model_name": "LayoutModel",
          "model_module_version": "1.2.0",
          "state": {
            "_model_module": "@jupyter-widgets/base",
            "_model_module_version": "1.2.0",
            "_model_name": "LayoutModel",
            "_view_count": null,
            "_view_module": "@jupyter-widgets/base",
            "_view_module_version": "1.2.0",
            "_view_name": "LayoutView",
            "align_content": null,
            "align_items": null,
            "align_self": null,
            "border": null,
            "bottom": null,
            "display": null,
            "flex": null,
            "flex_flow": null,
            "grid_area": null,
            "grid_auto_columns": null,
            "grid_auto_flow": null,
            "grid_auto_rows": null,
            "grid_column": null,
            "grid_gap": null,
            "grid_row": null,
            "grid_template_areas": null,
            "grid_template_columns": null,
            "grid_template_rows": null,
            "height": null,
            "justify_content": null,
            "justify_items": null,
            "left": null,
            "margin": null,
            "max_height": null,
            "max_width": null,
            "min_height": null,
            "min_width": null,
            "object_fit": null,
            "object_position": null,
            "order": null,
            "overflow": null,
            "overflow_x": null,
            "overflow_y": null,
            "padding": null,
            "right": null,
            "top": null,
            "visibility": null,
            "width": null
          }
        },
        "e361e9b084dc4f7f971c54f99f760f18": {
          "model_module": "@jupyter-widgets/controls",
          "model_name": "DescriptionStyleModel",
          "model_module_version": "1.5.0",
          "state": {
            "_model_module": "@jupyter-widgets/controls",
            "_model_module_version": "1.5.0",
            "_model_name": "DescriptionStyleModel",
            "_view_count": null,
            "_view_module": "@jupyter-widgets/base",
            "_view_module_version": "1.2.0",
            "_view_name": "StyleView",
            "description_width": ""
          }
        },
        "421ed52377854337b78a9dbcf3888630": {
          "model_module": "@jupyter-widgets/controls",
          "model_name": "HBoxModel",
          "model_module_version": "1.5.0",
          "state": {
            "_dom_classes": [],
            "_model_module": "@jupyter-widgets/controls",
            "_model_module_version": "1.5.0",
            "_model_name": "HBoxModel",
            "_view_count": null,
            "_view_module": "@jupyter-widgets/controls",
            "_view_module_version": "1.5.0",
            "_view_name": "HBoxView",
            "box_style": "",
            "children": [
              "IPY_MODEL_fc7b468e88b145ce897a7d377cc0cea6",
              "IPY_MODEL_ca222e50577e4b5e918f079d96241c75",
              "IPY_MODEL_8620289f94b14a57b508c2312ab02665"
            ],
            "layout": "IPY_MODEL_4eb0db6edd1f43819f98a665d03c795e"
          }
        },
        "fc7b468e88b145ce897a7d377cc0cea6": {
          "model_module": "@jupyter-widgets/controls",
          "model_name": "HTMLModel",
          "model_module_version": "1.5.0",
          "state": {
            "_dom_classes": [],
            "_model_module": "@jupyter-widgets/controls",
            "_model_module_version": "1.5.0",
            "_model_name": "HTMLModel",
            "_view_count": null,
            "_view_module": "@jupyter-widgets/controls",
            "_view_module_version": "1.5.0",
            "_view_name": "HTMLView",
            "description": "",
            "description_tooltip": null,
            "layout": "IPY_MODEL_21e2a98910d84075b4cf6eb412948088",
            "placeholder": "​",
            "style": "IPY_MODEL_c8d184eff65749319905e8db84fb8b65",
            "value": "100%"
          }
        },
        "ca222e50577e4b5e918f079d96241c75": {
          "model_module": "@jupyter-widgets/controls",
          "model_name": "FloatProgressModel",
          "model_module_version": "1.5.0",
          "state": {
            "_dom_classes": [],
            "_model_module": "@jupyter-widgets/controls",
            "_model_module_version": "1.5.0",
            "_model_name": "FloatProgressModel",
            "_view_count": null,
            "_view_module": "@jupyter-widgets/controls",
            "_view_module_version": "1.5.0",
            "_view_name": "ProgressView",
            "bar_style": "success",
            "description": "",
            "description_tooltip": null,
            "layout": "IPY_MODEL_28b4c8f8a9374afcbeda1425e75f1b67",
            "max": 35,
            "min": 0,
            "orientation": "horizontal",
            "style": "IPY_MODEL_f99f9cdb00a34a649879852781072745",
            "value": 35
          }
        },
        "8620289f94b14a57b508c2312ab02665": {
          "model_module": "@jupyter-widgets/controls",
          "model_name": "HTMLModel",
          "model_module_version": "1.5.0",
          "state": {
            "_dom_classes": [],
            "_model_module": "@jupyter-widgets/controls",
            "_model_module_version": "1.5.0",
            "_model_name": "HTMLModel",
            "_view_count": null,
            "_view_module": "@jupyter-widgets/controls",
            "_view_module_version": "1.5.0",
            "_view_name": "HTMLView",
            "description": "",
            "description_tooltip": null,
            "layout": "IPY_MODEL_d9a1a767f7b247ccbd3d7caed86c578d",
            "placeholder": "​",
            "style": "IPY_MODEL_9badbcd992eb4357ad03d9851c7f7771",
            "value": " 35/35 [00:00&lt;00:00, 1092.66it/s]"
          }
        },
        "4eb0db6edd1f43819f98a665d03c795e": {
          "model_module": "@jupyter-widgets/base",
          "model_name": "LayoutModel",
          "model_module_version": "1.2.0",
          "state": {
            "_model_module": "@jupyter-widgets/base",
            "_model_module_version": "1.2.0",
            "_model_name": "LayoutModel",
            "_view_count": null,
            "_view_module": "@jupyter-widgets/base",
            "_view_module_version": "1.2.0",
            "_view_name": "LayoutView",
            "align_content": null,
            "align_items": null,
            "align_self": null,
            "border": null,
            "bottom": null,
            "display": null,
            "flex": null,
            "flex_flow": null,
            "grid_area": null,
            "grid_auto_columns": null,
            "grid_auto_flow": null,
            "grid_auto_rows": null,
            "grid_column": null,
            "grid_gap": null,
            "grid_row": null,
            "grid_template_areas": null,
            "grid_template_columns": null,
            "grid_template_rows": null,
            "height": null,
            "justify_content": null,
            "justify_items": null,
            "left": null,
            "margin": null,
            "max_height": null,
            "max_width": null,
            "min_height": null,
            "min_width": null,
            "object_fit": null,
            "object_position": null,
            "order": null,
            "overflow": null,
            "overflow_x": null,
            "overflow_y": null,
            "padding": null,
            "right": null,
            "top": null,
            "visibility": null,
            "width": null
          }
        },
        "21e2a98910d84075b4cf6eb412948088": {
          "model_module": "@jupyter-widgets/base",
          "model_name": "LayoutModel",
          "model_module_version": "1.2.0",
          "state": {
            "_model_module": "@jupyter-widgets/base",
            "_model_module_version": "1.2.0",
            "_model_name": "LayoutModel",
            "_view_count": null,
            "_view_module": "@jupyter-widgets/base",
            "_view_module_version": "1.2.0",
            "_view_name": "LayoutView",
            "align_content": null,
            "align_items": null,
            "align_self": null,
            "border": null,
            "bottom": null,
            "display": null,
            "flex": null,
            "flex_flow": null,
            "grid_area": null,
            "grid_auto_columns": null,
            "grid_auto_flow": null,
            "grid_auto_rows": null,
            "grid_column": null,
            "grid_gap": null,
            "grid_row": null,
            "grid_template_areas": null,
            "grid_template_columns": null,
            "grid_template_rows": null,
            "height": null,
            "justify_content": null,
            "justify_items": null,
            "left": null,
            "margin": null,
            "max_height": null,
            "max_width": null,
            "min_height": null,
            "min_width": null,
            "object_fit": null,
            "object_position": null,
            "order": null,
            "overflow": null,
            "overflow_x": null,
            "overflow_y": null,
            "padding": null,
            "right": null,
            "top": null,
            "visibility": null,
            "width": null
          }
        },
        "c8d184eff65749319905e8db84fb8b65": {
          "model_module": "@jupyter-widgets/controls",
          "model_name": "DescriptionStyleModel",
          "model_module_version": "1.5.0",
          "state": {
            "_model_module": "@jupyter-widgets/controls",
            "_model_module_version": "1.5.0",
            "_model_name": "DescriptionStyleModel",
            "_view_count": null,
            "_view_module": "@jupyter-widgets/base",
            "_view_module_version": "1.2.0",
            "_view_name": "StyleView",
            "description_width": ""
          }
        },
        "28b4c8f8a9374afcbeda1425e75f1b67": {
          "model_module": "@jupyter-widgets/base",
          "model_name": "LayoutModel",
          "model_module_version": "1.2.0",
          "state": {
            "_model_module": "@jupyter-widgets/base",
            "_model_module_version": "1.2.0",
            "_model_name": "LayoutModel",
            "_view_count": null,
            "_view_module": "@jupyter-widgets/base",
            "_view_module_version": "1.2.0",
            "_view_name": "LayoutView",
            "align_content": null,
            "align_items": null,
            "align_self": null,
            "border": null,
            "bottom": null,
            "display": null,
            "flex": null,
            "flex_flow": null,
            "grid_area": null,
            "grid_auto_columns": null,
            "grid_auto_flow": null,
            "grid_auto_rows": null,
            "grid_column": null,
            "grid_gap": null,
            "grid_row": null,
            "grid_template_areas": null,
            "grid_template_columns": null,
            "grid_template_rows": null,
            "height": null,
            "justify_content": null,
            "justify_items": null,
            "left": null,
            "margin": null,
            "max_height": null,
            "max_width": null,
            "min_height": null,
            "min_width": null,
            "object_fit": null,
            "object_position": null,
            "order": null,
            "overflow": null,
            "overflow_x": null,
            "overflow_y": null,
            "padding": null,
            "right": null,
            "top": null,
            "visibility": null,
            "width": null
          }
        },
        "f99f9cdb00a34a649879852781072745": {
          "model_module": "@jupyter-widgets/controls",
          "model_name": "ProgressStyleModel",
          "model_module_version": "1.5.0",
          "state": {
            "_model_module": "@jupyter-widgets/controls",
            "_model_module_version": "1.5.0",
            "_model_name": "ProgressStyleModel",
            "_view_count": null,
            "_view_module": "@jupyter-widgets/base",
            "_view_module_version": "1.2.0",
            "_view_name": "StyleView",
            "bar_color": null,
            "description_width": ""
          }
        },
        "d9a1a767f7b247ccbd3d7caed86c578d": {
          "model_module": "@jupyter-widgets/base",
          "model_name": "LayoutModel",
          "model_module_version": "1.2.0",
          "state": {
            "_model_module": "@jupyter-widgets/base",
            "_model_module_version": "1.2.0",
            "_model_name": "LayoutModel",
            "_view_count": null,
            "_view_module": "@jupyter-widgets/base",
            "_view_module_version": "1.2.0",
            "_view_name": "LayoutView",
            "align_content": null,
            "align_items": null,
            "align_self": null,
            "border": null,
            "bottom": null,
            "display": null,
            "flex": null,
            "flex_flow": null,
            "grid_area": null,
            "grid_auto_columns": null,
            "grid_auto_flow": null,
            "grid_auto_rows": null,
            "grid_column": null,
            "grid_gap": null,
            "grid_row": null,
            "grid_template_areas": null,
            "grid_template_columns": null,
            "grid_template_rows": null,
            "height": null,
            "justify_content": null,
            "justify_items": null,
            "left": null,
            "margin": null,
            "max_height": null,
            "max_width": null,
            "min_height": null,
            "min_width": null,
            "object_fit": null,
            "object_position": null,
            "order": null,
            "overflow": null,
            "overflow_x": null,
            "overflow_y": null,
            "padding": null,
            "right": null,
            "top": null,
            "visibility": null,
            "width": null
          }
        },
        "9badbcd992eb4357ad03d9851c7f7771": {
          "model_module": "@jupyter-widgets/controls",
          "model_name": "DescriptionStyleModel",
          "model_module_version": "1.5.0",
          "state": {
            "_model_module": "@jupyter-widgets/controls",
            "_model_module_version": "1.5.0",
            "_model_name": "DescriptionStyleModel",
            "_view_count": null,
            "_view_module": "@jupyter-widgets/base",
            "_view_module_version": "1.2.0",
            "_view_name": "StyleView",
            "description_width": ""
          }
        },
        "b27eb26bc63a41d89a2857f468e27480": {
          "model_module": "@jupyter-widgets/controls",
          "model_name": "HBoxModel",
          "model_module_version": "1.5.0",
          "state": {
            "_dom_classes": [],
            "_model_module": "@jupyter-widgets/controls",
            "_model_module_version": "1.5.0",
            "_model_name": "HBoxModel",
            "_view_count": null,
            "_view_module": "@jupyter-widgets/controls",
            "_view_module_version": "1.5.0",
            "_view_name": "HBoxView",
            "box_style": "",
            "children": [
              "IPY_MODEL_ee153b8f872048ef9a32914b0ac9fafb",
              "IPY_MODEL_067924984dcf48bcabdfe834fc76c7b6",
              "IPY_MODEL_3a2bb54cc3e84f7a9c07ea3c0204b4bc"
            ],
            "layout": "IPY_MODEL_dd1dd0e2a14e40ac9aacdf638dda8381"
          }
        },
        "ee153b8f872048ef9a32914b0ac9fafb": {
          "model_module": "@jupyter-widgets/controls",
          "model_name": "HTMLModel",
          "model_module_version": "1.5.0",
          "state": {
            "_dom_classes": [],
            "_model_module": "@jupyter-widgets/controls",
            "_model_module_version": "1.5.0",
            "_model_name": "HTMLModel",
            "_view_count": null,
            "_view_module": "@jupyter-widgets/controls",
            "_view_module_version": "1.5.0",
            "_view_name": "HTMLView",
            "description": "",
            "description_tooltip": null,
            "layout": "IPY_MODEL_80df8f3c047443deafb4babab63997b5",
            "placeholder": "​",
            "style": "IPY_MODEL_de2a8a7429ef402c84550c4014a726fa",
            "value": "100%"
          }
        },
        "067924984dcf48bcabdfe834fc76c7b6": {
          "model_module": "@jupyter-widgets/controls",
          "model_name": "FloatProgressModel",
          "model_module_version": "1.5.0",
          "state": {
            "_dom_classes": [],
            "_model_module": "@jupyter-widgets/controls",
            "_model_module_version": "1.5.0",
            "_model_name": "FloatProgressModel",
            "_view_count": null,
            "_view_module": "@jupyter-widgets/controls",
            "_view_module_version": "1.5.0",
            "_view_name": "ProgressView",
            "bar_style": "success",
            "description": "",
            "description_tooltip": null,
            "layout": "IPY_MODEL_e0e9bb53c772499aa2be710f30bfe67f",
            "max": 35,
            "min": 0,
            "orientation": "horizontal",
            "style": "IPY_MODEL_48677d663f0b44acbf4ba4df4b4bfdda",
            "value": 35
          }
        },
        "3a2bb54cc3e84f7a9c07ea3c0204b4bc": {
          "model_module": "@jupyter-widgets/controls",
          "model_name": "HTMLModel",
          "model_module_version": "1.5.0",
          "state": {
            "_dom_classes": [],
            "_model_module": "@jupyter-widgets/controls",
            "_model_module_version": "1.5.0",
            "_model_name": "HTMLModel",
            "_view_count": null,
            "_view_module": "@jupyter-widgets/controls",
            "_view_module_version": "1.5.0",
            "_view_name": "HTMLView",
            "description": "",
            "description_tooltip": null,
            "layout": "IPY_MODEL_90a20428c8784e04b6a4c8d37189d5e8",
            "placeholder": "​",
            "style": "IPY_MODEL_9d19a7a013fb475995756b1874419ee0",
            "value": " 35/35 [00:09&lt;00:00,  5.61it/s]"
          }
        },
        "dd1dd0e2a14e40ac9aacdf638dda8381": {
          "model_module": "@jupyter-widgets/base",
          "model_name": "LayoutModel",
          "model_module_version": "1.2.0",
          "state": {
            "_model_module": "@jupyter-widgets/base",
            "_model_module_version": "1.2.0",
            "_model_name": "LayoutModel",
            "_view_count": null,
            "_view_module": "@jupyter-widgets/base",
            "_view_module_version": "1.2.0",
            "_view_name": "LayoutView",
            "align_content": null,
            "align_items": null,
            "align_self": null,
            "border": null,
            "bottom": null,
            "display": null,
            "flex": null,
            "flex_flow": null,
            "grid_area": null,
            "grid_auto_columns": null,
            "grid_auto_flow": null,
            "grid_auto_rows": null,
            "grid_column": null,
            "grid_gap": null,
            "grid_row": null,
            "grid_template_areas": null,
            "grid_template_columns": null,
            "grid_template_rows": null,
            "height": null,
            "justify_content": null,
            "justify_items": null,
            "left": null,
            "margin": null,
            "max_height": null,
            "max_width": null,
            "min_height": null,
            "min_width": null,
            "object_fit": null,
            "object_position": null,
            "order": null,
            "overflow": null,
            "overflow_x": null,
            "overflow_y": null,
            "padding": null,
            "right": null,
            "top": null,
            "visibility": null,
            "width": null
          }
        },
        "80df8f3c047443deafb4babab63997b5": {
          "model_module": "@jupyter-widgets/base",
          "model_name": "LayoutModel",
          "model_module_version": "1.2.0",
          "state": {
            "_model_module": "@jupyter-widgets/base",
            "_model_module_version": "1.2.0",
            "_model_name": "LayoutModel",
            "_view_count": null,
            "_view_module": "@jupyter-widgets/base",
            "_view_module_version": "1.2.0",
            "_view_name": "LayoutView",
            "align_content": null,
            "align_items": null,
            "align_self": null,
            "border": null,
            "bottom": null,
            "display": null,
            "flex": null,
            "flex_flow": null,
            "grid_area": null,
            "grid_auto_columns": null,
            "grid_auto_flow": null,
            "grid_auto_rows": null,
            "grid_column": null,
            "grid_gap": null,
            "grid_row": null,
            "grid_template_areas": null,
            "grid_template_columns": null,
            "grid_template_rows": null,
            "height": null,
            "justify_content": null,
            "justify_items": null,
            "left": null,
            "margin": null,
            "max_height": null,
            "max_width": null,
            "min_height": null,
            "min_width": null,
            "object_fit": null,
            "object_position": null,
            "order": null,
            "overflow": null,
            "overflow_x": null,
            "overflow_y": null,
            "padding": null,
            "right": null,
            "top": null,
            "visibility": null,
            "width": null
          }
        },
        "de2a8a7429ef402c84550c4014a726fa": {
          "model_module": "@jupyter-widgets/controls",
          "model_name": "DescriptionStyleModel",
          "model_module_version": "1.5.0",
          "state": {
            "_model_module": "@jupyter-widgets/controls",
            "_model_module_version": "1.5.0",
            "_model_name": "DescriptionStyleModel",
            "_view_count": null,
            "_view_module": "@jupyter-widgets/base",
            "_view_module_version": "1.2.0",
            "_view_name": "StyleView",
            "description_width": ""
          }
        },
        "e0e9bb53c772499aa2be710f30bfe67f": {
          "model_module": "@jupyter-widgets/base",
          "model_name": "LayoutModel",
          "model_module_version": "1.2.0",
          "state": {
            "_model_module": "@jupyter-widgets/base",
            "_model_module_version": "1.2.0",
            "_model_name": "LayoutModel",
            "_view_count": null,
            "_view_module": "@jupyter-widgets/base",
            "_view_module_version": "1.2.0",
            "_view_name": "LayoutView",
            "align_content": null,
            "align_items": null,
            "align_self": null,
            "border": null,
            "bottom": null,
            "display": null,
            "flex": null,
            "flex_flow": null,
            "grid_area": null,
            "grid_auto_columns": null,
            "grid_auto_flow": null,
            "grid_auto_rows": null,
            "grid_column": null,
            "grid_gap": null,
            "grid_row": null,
            "grid_template_areas": null,
            "grid_template_columns": null,
            "grid_template_rows": null,
            "height": null,
            "justify_content": null,
            "justify_items": null,
            "left": null,
            "margin": null,
            "max_height": null,
            "max_width": null,
            "min_height": null,
            "min_width": null,
            "object_fit": null,
            "object_position": null,
            "order": null,
            "overflow": null,
            "overflow_x": null,
            "overflow_y": null,
            "padding": null,
            "right": null,
            "top": null,
            "visibility": null,
            "width": null
          }
        },
        "48677d663f0b44acbf4ba4df4b4bfdda": {
          "model_module": "@jupyter-widgets/controls",
          "model_name": "ProgressStyleModel",
          "model_module_version": "1.5.0",
          "state": {
            "_model_module": "@jupyter-widgets/controls",
            "_model_module_version": "1.5.0",
            "_model_name": "ProgressStyleModel",
            "_view_count": null,
            "_view_module": "@jupyter-widgets/base",
            "_view_module_version": "1.2.0",
            "_view_name": "StyleView",
            "bar_color": null,
            "description_width": ""
          }
        },
        "90a20428c8784e04b6a4c8d37189d5e8": {
          "model_module": "@jupyter-widgets/base",
          "model_name": "LayoutModel",
          "model_module_version": "1.2.0",
          "state": {
            "_model_module": "@jupyter-widgets/base",
            "_model_module_version": "1.2.0",
            "_model_name": "LayoutModel",
            "_view_count": null,
            "_view_module": "@jupyter-widgets/base",
            "_view_module_version": "1.2.0",
            "_view_name": "LayoutView",
            "align_content": null,
            "align_items": null,
            "align_self": null,
            "border": null,
            "bottom": null,
            "display": null,
            "flex": null,
            "flex_flow": null,
            "grid_area": null,
            "grid_auto_columns": null,
            "grid_auto_flow": null,
            "grid_auto_rows": null,
            "grid_column": null,
            "grid_gap": null,
            "grid_row": null,
            "grid_template_areas": null,
            "grid_template_columns": null,
            "grid_template_rows": null,
            "height": null,
            "justify_content": null,
            "justify_items": null,
            "left": null,
            "margin": null,
            "max_height": null,
            "max_width": null,
            "min_height": null,
            "min_width": null,
            "object_fit": null,
            "object_position": null,
            "order": null,
            "overflow": null,
            "overflow_x": null,
            "overflow_y": null,
            "padding": null,
            "right": null,
            "top": null,
            "visibility": null,
            "width": null
          }
        },
        "9d19a7a013fb475995756b1874419ee0": {
          "model_module": "@jupyter-widgets/controls",
          "model_name": "DescriptionStyleModel",
          "model_module_version": "1.5.0",
          "state": {
            "_model_module": "@jupyter-widgets/controls",
            "_model_module_version": "1.5.0",
            "_model_name": "DescriptionStyleModel",
            "_view_count": null,
            "_view_module": "@jupyter-widgets/base",
            "_view_module_version": "1.2.0",
            "_view_name": "StyleView",
            "description_width": ""
          }
        },
        "7b561d245ed14cb7a003c7f25b91ab49": {
          "model_module": "@jupyter-widgets/controls",
          "model_name": "HBoxModel",
          "model_module_version": "1.5.0",
          "state": {
            "_dom_classes": [],
            "_model_module": "@jupyter-widgets/controls",
            "_model_module_version": "1.5.0",
            "_model_name": "HBoxModel",
            "_view_count": null,
            "_view_module": "@jupyter-widgets/controls",
            "_view_module_version": "1.5.0",
            "_view_name": "HBoxView",
            "box_style": "",
            "children": [
              "IPY_MODEL_9d41fa6ed993464fb214d9beb477e4cb",
              "IPY_MODEL_90f4bd3a8925431a8ba3f8241f7946c1",
              "IPY_MODEL_710c69d975e541fbbb6344440e30dc3b"
            ],
            "layout": "IPY_MODEL_98492ea331e049aa96e70fa4f625533b"
          }
        },
        "9d41fa6ed993464fb214d9beb477e4cb": {
          "model_module": "@jupyter-widgets/controls",
          "model_name": "HTMLModel",
          "model_module_version": "1.5.0",
          "state": {
            "_dom_classes": [],
            "_model_module": "@jupyter-widgets/controls",
            "_model_module_version": "1.5.0",
            "_model_name": "HTMLModel",
            "_view_count": null,
            "_view_module": "@jupyter-widgets/controls",
            "_view_module_version": "1.5.0",
            "_view_name": "HTMLView",
            "description": "",
            "description_tooltip": null,
            "layout": "IPY_MODEL_b71cae80545e438ab73cb2efc9c686d0",
            "placeholder": "​",
            "style": "IPY_MODEL_748a58d8073d45c49b28014bdb6612a3",
            "value": "100%"
          }
        },
        "90f4bd3a8925431a8ba3f8241f7946c1": {
          "model_module": "@jupyter-widgets/controls",
          "model_name": "FloatProgressModel",
          "model_module_version": "1.5.0",
          "state": {
            "_dom_classes": [],
            "_model_module": "@jupyter-widgets/controls",
            "_model_module_version": "1.5.0",
            "_model_name": "FloatProgressModel",
            "_view_count": null,
            "_view_module": "@jupyter-widgets/controls",
            "_view_module_version": "1.5.0",
            "_view_name": "ProgressView",
            "bar_style": "success",
            "description": "",
            "description_tooltip": null,
            "layout": "IPY_MODEL_610c60639759497aadedefba32dbb1d8",
            "max": 156,
            "min": 0,
            "orientation": "horizontal",
            "style": "IPY_MODEL_9e080184935a4cf0af591fc1caddf180",
            "value": 156
          }
        },
        "710c69d975e541fbbb6344440e30dc3b": {
          "model_module": "@jupyter-widgets/controls",
          "model_name": "HTMLModel",
          "model_module_version": "1.5.0",
          "state": {
            "_dom_classes": [],
            "_model_module": "@jupyter-widgets/controls",
            "_model_module_version": "1.5.0",
            "_model_name": "HTMLModel",
            "_view_count": null,
            "_view_module": "@jupyter-widgets/controls",
            "_view_module_version": "1.5.0",
            "_view_name": "HTMLView",
            "description": "",
            "description_tooltip": null,
            "layout": "IPY_MODEL_4106964eec264b17bbae721611f7fd3f",
            "placeholder": "​",
            "style": "IPY_MODEL_49d1db28a10147c6aae4c20714363b78",
            "value": " 156/156 [00:00&lt;00:00, 5594.60it/s]"
          }
        },
        "98492ea331e049aa96e70fa4f625533b": {
          "model_module": "@jupyter-widgets/base",
          "model_name": "LayoutModel",
          "model_module_version": "1.2.0",
          "state": {
            "_model_module": "@jupyter-widgets/base",
            "_model_module_version": "1.2.0",
            "_model_name": "LayoutModel",
            "_view_count": null,
            "_view_module": "@jupyter-widgets/base",
            "_view_module_version": "1.2.0",
            "_view_name": "LayoutView",
            "align_content": null,
            "align_items": null,
            "align_self": null,
            "border": null,
            "bottom": null,
            "display": null,
            "flex": null,
            "flex_flow": null,
            "grid_area": null,
            "grid_auto_columns": null,
            "grid_auto_flow": null,
            "grid_auto_rows": null,
            "grid_column": null,
            "grid_gap": null,
            "grid_row": null,
            "grid_template_areas": null,
            "grid_template_columns": null,
            "grid_template_rows": null,
            "height": null,
            "justify_content": null,
            "justify_items": null,
            "left": null,
            "margin": null,
            "max_height": null,
            "max_width": null,
            "min_height": null,
            "min_width": null,
            "object_fit": null,
            "object_position": null,
            "order": null,
            "overflow": null,
            "overflow_x": null,
            "overflow_y": null,
            "padding": null,
            "right": null,
            "top": null,
            "visibility": null,
            "width": null
          }
        },
        "b71cae80545e438ab73cb2efc9c686d0": {
          "model_module": "@jupyter-widgets/base",
          "model_name": "LayoutModel",
          "model_module_version": "1.2.0",
          "state": {
            "_model_module": "@jupyter-widgets/base",
            "_model_module_version": "1.2.0",
            "_model_name": "LayoutModel",
            "_view_count": null,
            "_view_module": "@jupyter-widgets/base",
            "_view_module_version": "1.2.0",
            "_view_name": "LayoutView",
            "align_content": null,
            "align_items": null,
            "align_self": null,
            "border": null,
            "bottom": null,
            "display": null,
            "flex": null,
            "flex_flow": null,
            "grid_area": null,
            "grid_auto_columns": null,
            "grid_auto_flow": null,
            "grid_auto_rows": null,
            "grid_column": null,
            "grid_gap": null,
            "grid_row": null,
            "grid_template_areas": null,
            "grid_template_columns": null,
            "grid_template_rows": null,
            "height": null,
            "justify_content": null,
            "justify_items": null,
            "left": null,
            "margin": null,
            "max_height": null,
            "max_width": null,
            "min_height": null,
            "min_width": null,
            "object_fit": null,
            "object_position": null,
            "order": null,
            "overflow": null,
            "overflow_x": null,
            "overflow_y": null,
            "padding": null,
            "right": null,
            "top": null,
            "visibility": null,
            "width": null
          }
        },
        "748a58d8073d45c49b28014bdb6612a3": {
          "model_module": "@jupyter-widgets/controls",
          "model_name": "DescriptionStyleModel",
          "model_module_version": "1.5.0",
          "state": {
            "_model_module": "@jupyter-widgets/controls",
            "_model_module_version": "1.5.0",
            "_model_name": "DescriptionStyleModel",
            "_view_count": null,
            "_view_module": "@jupyter-widgets/base",
            "_view_module_version": "1.2.0",
            "_view_name": "StyleView",
            "description_width": ""
          }
        },
        "610c60639759497aadedefba32dbb1d8": {
          "model_module": "@jupyter-widgets/base",
          "model_name": "LayoutModel",
          "model_module_version": "1.2.0",
          "state": {
            "_model_module": "@jupyter-widgets/base",
            "_model_module_version": "1.2.0",
            "_model_name": "LayoutModel",
            "_view_count": null,
            "_view_module": "@jupyter-widgets/base",
            "_view_module_version": "1.2.0",
            "_view_name": "LayoutView",
            "align_content": null,
            "align_items": null,
            "align_self": null,
            "border": null,
            "bottom": null,
            "display": null,
            "flex": null,
            "flex_flow": null,
            "grid_area": null,
            "grid_auto_columns": null,
            "grid_auto_flow": null,
            "grid_auto_rows": null,
            "grid_column": null,
            "grid_gap": null,
            "grid_row": null,
            "grid_template_areas": null,
            "grid_template_columns": null,
            "grid_template_rows": null,
            "height": null,
            "justify_content": null,
            "justify_items": null,
            "left": null,
            "margin": null,
            "max_height": null,
            "max_width": null,
            "min_height": null,
            "min_width": null,
            "object_fit": null,
            "object_position": null,
            "order": null,
            "overflow": null,
            "overflow_x": null,
            "overflow_y": null,
            "padding": null,
            "right": null,
            "top": null,
            "visibility": null,
            "width": null
          }
        },
        "9e080184935a4cf0af591fc1caddf180": {
          "model_module": "@jupyter-widgets/controls",
          "model_name": "ProgressStyleModel",
          "model_module_version": "1.5.0",
          "state": {
            "_model_module": "@jupyter-widgets/controls",
            "_model_module_version": "1.5.0",
            "_model_name": "ProgressStyleModel",
            "_view_count": null,
            "_view_module": "@jupyter-widgets/base",
            "_view_module_version": "1.2.0",
            "_view_name": "StyleView",
            "bar_color": null,
            "description_width": ""
          }
        },
        "4106964eec264b17bbae721611f7fd3f": {
          "model_module": "@jupyter-widgets/base",
          "model_name": "LayoutModel",
          "model_module_version": "1.2.0",
          "state": {
            "_model_module": "@jupyter-widgets/base",
            "_model_module_version": "1.2.0",
            "_model_name": "LayoutModel",
            "_view_count": null,
            "_view_module": "@jupyter-widgets/base",
            "_view_module_version": "1.2.0",
            "_view_name": "LayoutView",
            "align_content": null,
            "align_items": null,
            "align_self": null,
            "border": null,
            "bottom": null,
            "display": null,
            "flex": null,
            "flex_flow": null,
            "grid_area": null,
            "grid_auto_columns": null,
            "grid_auto_flow": null,
            "grid_auto_rows": null,
            "grid_column": null,
            "grid_gap": null,
            "grid_row": null,
            "grid_template_areas": null,
            "grid_template_columns": null,
            "grid_template_rows": null,
            "height": null,
            "justify_content": null,
            "justify_items": null,
            "left": null,
            "margin": null,
            "max_height": null,
            "max_width": null,
            "min_height": null,
            "min_width": null,
            "object_fit": null,
            "object_position": null,
            "order": null,
            "overflow": null,
            "overflow_x": null,
            "overflow_y": null,
            "padding": null,
            "right": null,
            "top": null,
            "visibility": null,
            "width": null
          }
        },
        "49d1db28a10147c6aae4c20714363b78": {
          "model_module": "@jupyter-widgets/controls",
          "model_name": "DescriptionStyleModel",
          "model_module_version": "1.5.0",
          "state": {
            "_model_module": "@jupyter-widgets/controls",
            "_model_module_version": "1.5.0",
            "_model_name": "DescriptionStyleModel",
            "_view_count": null,
            "_view_module": "@jupyter-widgets/base",
            "_view_module_version": "1.2.0",
            "_view_name": "StyleView",
            "description_width": ""
          }
        }
      }
    }
  },
  "cells": [
    {
      "cell_type": "markdown",
      "metadata": {
        "id": "view-in-github",
        "colab_type": "text"
      },
      "source": [
        "<a href=\"https://colab.research.google.com/github/grenetercordovesdelgado/Ejercicios/blob/main/inertial_signal_processing.ipynb\" target=\"_parent\"><img src=\"https://colab.research.google.com/assets/colab-badge.svg\" alt=\"Open In Colab\"/></a>"
      ]
    },
    {
      "cell_type": "markdown",
      "source": [
        "# Install libraries"
      ],
      "metadata": {
        "id": "FyT0tHjbtScD"
      }
    },
    {
      "cell_type": "code",
      "source": [
        "!pip install hrv-analysis\n",
        "!pip install pyhrv\n",
        "!pip install tsfel\n",
        "!pip or !apt"
      ],
      "metadata": {
        "colab": {
          "base_uri": "https://localhost:8080/"
        },
        "id": "FR0Z5eVktJI1",
        "outputId": "8bd04828-3982-466a-89d9-8366ee343c58"
      },
      "execution_count": 64,
      "outputs": [
        {
          "output_type": "stream",
          "name": "stdout",
          "text": [
            "Looking in indexes: https://pypi.org/simple, https://us-python.pkg.dev/colab-wheels/public/simple/\n",
            "Requirement already satisfied: hrv-analysis in /usr/local/lib/python3.9/dist-packages (1.0.4)\n",
            "Requirement already satisfied: astropy>=3.0.4 in /usr/local/lib/python3.9/dist-packages (from hrv-analysis) (4.3.1)\n",
            "Requirement already satisfied: matplotlib>=2.2.2 in /usr/local/lib/python3.9/dist-packages (from hrv-analysis) (3.5.3)\n",
            "Requirement already satisfied: numpy>=1.15.1 in /usr/local/lib/python3.9/dist-packages (from hrv-analysis) (1.22.4)\n",
            "Requirement already satisfied: nolds>=0.4.1 in /usr/local/lib/python3.9/dist-packages (from hrv-analysis) (0.5.2)\n",
            "Requirement already satisfied: scipy>=1.1.0 in /usr/local/lib/python3.9/dist-packages (from hrv-analysis) (1.10.1)\n",
            "Requirement already satisfied: pandas>=0.23.4 in /usr/local/lib/python3.9/dist-packages (from hrv-analysis) (1.5.3)\n",
            "Requirement already satisfied: pyerfa>=1.7.3 in /usr/local/lib/python3.9/dist-packages (from astropy>=3.0.4->hrv-analysis) (2.0.0.1)\n",
            "Requirement already satisfied: fonttools>=4.22.0 in /usr/local/lib/python3.9/dist-packages (from matplotlib>=2.2.2->hrv-analysis) (4.39.0)\n",
            "Requirement already satisfied: pillow>=6.2.0 in /usr/local/lib/python3.9/dist-packages (from matplotlib>=2.2.2->hrv-analysis) (8.4.0)\n",
            "Requirement already satisfied: cycler>=0.10 in /usr/local/lib/python3.9/dist-packages (from matplotlib>=2.2.2->hrv-analysis) (0.11.0)\n",
            "Requirement already satisfied: packaging>=20.0 in /usr/local/lib/python3.9/dist-packages (from matplotlib>=2.2.2->hrv-analysis) (23.0)\n",
            "Requirement already satisfied: pyparsing>=2.2.1 in /usr/local/lib/python3.9/dist-packages (from matplotlib>=2.2.2->hrv-analysis) (3.0.9)\n",
            "Requirement already satisfied: kiwisolver>=1.0.1 in /usr/local/lib/python3.9/dist-packages (from matplotlib>=2.2.2->hrv-analysis) (1.4.4)\n",
            "Requirement already satisfied: python-dateutil>=2.7 in /usr/local/lib/python3.9/dist-packages (from matplotlib>=2.2.2->hrv-analysis) (2.8.2)\n",
            "Requirement already satisfied: future in /usr/local/lib/python3.9/dist-packages (from nolds>=0.4.1->hrv-analysis) (0.16.0)\n",
            "Requirement already satisfied: setuptools in /usr/local/lib/python3.9/dist-packages (from nolds>=0.4.1->hrv-analysis) (57.4.0)\n",
            "Requirement already satisfied: pytz>=2020.1 in /usr/local/lib/python3.9/dist-packages (from pandas>=0.23.4->hrv-analysis) (2022.7.1)\n",
            "Requirement already satisfied: six>=1.5 in /usr/local/lib/python3.9/dist-packages (from python-dateutil>=2.7->matplotlib>=2.2.2->hrv-analysis) (1.15.0)\n",
            "Looking in indexes: https://pypi.org/simple, https://us-python.pkg.dev/colab-wheels/public/simple/\n",
            "Requirement already satisfied: pyhrv in /usr/local/lib/python3.9/dist-packages (0.4.1)\n",
            "Requirement already satisfied: matplotlib in /usr/local/lib/python3.9/dist-packages (from pyhrv) (3.5.3)\n",
            "Requirement already satisfied: scipy in /usr/local/lib/python3.9/dist-packages (from pyhrv) (1.10.1)\n",
            "Requirement already satisfied: nolds in /usr/local/lib/python3.9/dist-packages (from pyhrv) (0.5.2)\n",
            "Requirement already satisfied: spectrum in /usr/local/lib/python3.9/dist-packages (from pyhrv) (0.8.1)\n",
            "Requirement already satisfied: numpy in /usr/local/lib/python3.9/dist-packages (from pyhrv) (1.22.4)\n",
            "Requirement already satisfied: biosppy in /usr/local/lib/python3.9/dist-packages (from pyhrv) (1.0.0)\n",
            "Requirement already satisfied: bidict in /usr/local/lib/python3.9/dist-packages (from biosppy->pyhrv) (0.22.1)\n",
            "Requirement already satisfied: h5py in /usr/local/lib/python3.9/dist-packages (from biosppy->pyhrv) (3.1.0)\n",
            "Requirement already satisfied: shortuuid in /usr/local/lib/python3.9/dist-packages (from biosppy->pyhrv) (1.0.11)\n",
            "Requirement already satisfied: six in /usr/local/lib/python3.9/dist-packages (from biosppy->pyhrv) (1.15.0)\n",
            "Requirement already satisfied: scikit-learn in /usr/local/lib/python3.9/dist-packages (from biosppy->pyhrv) (1.2.1)\n",
            "Requirement already satisfied: opencv-python in /usr/local/lib/python3.9/dist-packages (from biosppy->pyhrv) (4.6.0.66)\n",
            "Requirement already satisfied: joblib in /usr/local/lib/python3.9/dist-packages (from biosppy->pyhrv) (1.2.0)\n",
            "Requirement already satisfied: python-dateutil>=2.7 in /usr/local/lib/python3.9/dist-packages (from matplotlib->pyhrv) (2.8.2)\n",
            "Requirement already satisfied: kiwisolver>=1.0.1 in /usr/local/lib/python3.9/dist-packages (from matplotlib->pyhrv) (1.4.4)\n",
            "Requirement already satisfied: cycler>=0.10 in /usr/local/lib/python3.9/dist-packages (from matplotlib->pyhrv) (0.11.0)\n",
            "Requirement already satisfied: pillow>=6.2.0 in /usr/local/lib/python3.9/dist-packages (from matplotlib->pyhrv) (8.4.0)\n",
            "Requirement already satisfied: fonttools>=4.22.0 in /usr/local/lib/python3.9/dist-packages (from matplotlib->pyhrv) (4.39.0)\n",
            "Requirement already satisfied: packaging>=20.0 in /usr/local/lib/python3.9/dist-packages (from matplotlib->pyhrv) (23.0)\n",
            "Requirement already satisfied: pyparsing>=2.2.1 in /usr/local/lib/python3.9/dist-packages (from matplotlib->pyhrv) (3.0.9)\n",
            "Requirement already satisfied: future in /usr/local/lib/python3.9/dist-packages (from nolds->pyhrv) (0.16.0)\n",
            "Requirement already satisfied: setuptools in /usr/local/lib/python3.9/dist-packages (from nolds->pyhrv) (57.4.0)\n",
            "Requirement already satisfied: easydev in /usr/local/lib/python3.9/dist-packages (from spectrum->pyhrv) (0.12.1)\n",
            "Requirement already satisfied: pexpect in /usr/local/lib/python3.9/dist-packages (from easydev->spectrum->pyhrv) (4.8.0)\n",
            "Requirement already satisfied: colorlog in /usr/local/lib/python3.9/dist-packages (from easydev->spectrum->pyhrv) (6.7.0)\n",
            "Requirement already satisfied: colorama in /usr/local/lib/python3.9/dist-packages (from easydev->spectrum->pyhrv) (0.4.6)\n",
            "Requirement already satisfied: threadpoolctl>=2.0.0 in /usr/local/lib/python3.9/dist-packages (from scikit-learn->biosppy->pyhrv) (3.1.0)\n",
            "Requirement already satisfied: ptyprocess>=0.5 in /usr/local/lib/python3.9/dist-packages (from pexpect->easydev->spectrum->pyhrv) (0.7.0)\n",
            "Looking in indexes: https://pypi.org/simple, https://us-python.pkg.dev/colab-wheels/public/simple/\n",
            "Requirement already satisfied: tsfel in /usr/local/lib/python3.9/dist-packages (0.1.5)\n",
            "Requirement already satisfied: gspread>=3.1.0 in /usr/local/lib/python3.9/dist-packages (from tsfel) (3.4.2)\n",
            "Requirement already satisfied: numpy>=1.18.5 in /usr/local/lib/python3.9/dist-packages (from tsfel) (1.22.4)\n",
            "Requirement already satisfied: ipython>=7.4.0 in /usr/local/lib/python3.9/dist-packages (from tsfel) (7.9.0)\n",
            "Requirement already satisfied: setuptools>=47.1.1 in /usr/local/lib/python3.9/dist-packages (from tsfel) (57.4.0)\n",
            "Requirement already satisfied: pandas>=1.5.3 in /usr/local/lib/python3.9/dist-packages (from tsfel) (1.5.3)\n",
            "Requirement already satisfied: oauth2client>=4.1.3 in /usr/local/lib/python3.9/dist-packages (from tsfel) (4.1.3)\n",
            "Requirement already satisfied: Sphinx>=1.8.5 in /usr/local/lib/python3.9/dist-packages (from tsfel) (3.5.4)\n",
            "Requirement already satisfied: scipy>=1.7.3 in /usr/local/lib/python3.9/dist-packages (from tsfel) (1.10.1)\n",
            "Requirement already satisfied: google-auth in /usr/local/lib/python3.9/dist-packages (from gspread>=3.1.0->tsfel) (2.16.2)\n",
            "Requirement already satisfied: requests>=2.2.1 in /usr/local/lib/python3.9/dist-packages (from gspread>=3.1.0->tsfel) (2.25.1)\n",
            "Requirement already satisfied: pexpect in /usr/local/lib/python3.9/dist-packages (from ipython>=7.4.0->tsfel) (4.8.0)\n",
            "Requirement already satisfied: jedi>=0.10 in /usr/local/lib/python3.9/dist-packages (from ipython>=7.4.0->tsfel) (0.18.2)\n",
            "Requirement already satisfied: decorator in /usr/local/lib/python3.9/dist-packages (from ipython>=7.4.0->tsfel) (4.4.2)\n",
            "Requirement already satisfied: pygments in /usr/local/lib/python3.9/dist-packages (from ipython>=7.4.0->tsfel) (2.6.1)\n",
            "Requirement already satisfied: prompt-toolkit<2.1.0,>=2.0.0 in /usr/local/lib/python3.9/dist-packages (from ipython>=7.4.0->tsfel) (2.0.10)\n",
            "Requirement already satisfied: backcall in /usr/local/lib/python3.9/dist-packages (from ipython>=7.4.0->tsfel) (0.2.0)\n",
            "Requirement already satisfied: pickleshare in /usr/local/lib/python3.9/dist-packages (from ipython>=7.4.0->tsfel) (0.7.5)\n",
            "Requirement already satisfied: traitlets>=4.2 in /usr/local/lib/python3.9/dist-packages (from ipython>=7.4.0->tsfel) (5.7.1)\n",
            "Requirement already satisfied: rsa>=3.1.4 in /usr/local/lib/python3.9/dist-packages (from oauth2client>=4.1.3->tsfel) (4.9)\n",
            "Requirement already satisfied: six>=1.6.1 in /usr/local/lib/python3.9/dist-packages (from oauth2client>=4.1.3->tsfel) (1.15.0)\n",
            "Requirement already satisfied: httplib2>=0.9.1 in /usr/local/lib/python3.9/dist-packages (from oauth2client>=4.1.3->tsfel) (0.17.4)\n",
            "Requirement already satisfied: pyasn1>=0.1.7 in /usr/local/lib/python3.9/dist-packages (from oauth2client>=4.1.3->tsfel) (0.4.8)\n",
            "Requirement already satisfied: pyasn1-modules>=0.0.5 in /usr/local/lib/python3.9/dist-packages (from oauth2client>=4.1.3->tsfel) (0.2.8)\n",
            "Requirement already satisfied: python-dateutil>=2.8.1 in /usr/local/lib/python3.9/dist-packages (from pandas>=1.5.3->tsfel) (2.8.2)\n",
            "Requirement already satisfied: pytz>=2020.1 in /usr/local/lib/python3.9/dist-packages (from pandas>=1.5.3->tsfel) (2022.7.1)\n",
            "Requirement already satisfied: Jinja2>=2.3 in /usr/local/lib/python3.9/dist-packages (from Sphinx>=1.8.5->tsfel) (3.1.2)\n",
            "Requirement already satisfied: imagesize in /usr/local/lib/python3.9/dist-packages (from Sphinx>=1.8.5->tsfel) (1.4.1)\n",
            "Requirement already satisfied: alabaster<0.8,>=0.7 in /usr/local/lib/python3.9/dist-packages (from Sphinx>=1.8.5->tsfel) (0.7.13)\n",
            "Requirement already satisfied: packaging in /usr/local/lib/python3.9/dist-packages (from Sphinx>=1.8.5->tsfel) (23.0)\n",
            "Requirement already satisfied: docutils<0.17,>=0.12 in /usr/local/lib/python3.9/dist-packages (from Sphinx>=1.8.5->tsfel) (0.16)\n",
            "Requirement already satisfied: sphinxcontrib-qthelp in /usr/local/lib/python3.9/dist-packages (from Sphinx>=1.8.5->tsfel) (1.0.3)\n",
            "Requirement already satisfied: sphinxcontrib-devhelp in /usr/local/lib/python3.9/dist-packages (from Sphinx>=1.8.5->tsfel) (1.0.2)\n",
            "Requirement already satisfied: sphinxcontrib-applehelp in /usr/local/lib/python3.9/dist-packages (from Sphinx>=1.8.5->tsfel) (1.0.4)\n",
            "Requirement already satisfied: sphinxcontrib-serializinghtml in /usr/local/lib/python3.9/dist-packages (from Sphinx>=1.8.5->tsfel) (1.1.5)\n",
            "Requirement already satisfied: snowballstemmer>=1.1 in /usr/local/lib/python3.9/dist-packages (from Sphinx>=1.8.5->tsfel) (2.2.0)\n",
            "Requirement already satisfied: sphinxcontrib-htmlhelp in /usr/local/lib/python3.9/dist-packages (from Sphinx>=1.8.5->tsfel) (2.0.1)\n",
            "Requirement already satisfied: sphinxcontrib-jsmath in /usr/local/lib/python3.9/dist-packages (from Sphinx>=1.8.5->tsfel) (1.0.1)\n",
            "Requirement already satisfied: babel>=1.3 in /usr/local/lib/python3.9/dist-packages (from Sphinx>=1.8.5->tsfel) (2.12.1)\n",
            "Requirement already satisfied: parso<0.9.0,>=0.8.0 in /usr/local/lib/python3.9/dist-packages (from jedi>=0.10->ipython>=7.4.0->tsfel) (0.8.3)\n",
            "Requirement already satisfied: MarkupSafe>=2.0 in /usr/local/lib/python3.9/dist-packages (from Jinja2>=2.3->Sphinx>=1.8.5->tsfel) (2.1.2)\n",
            "Requirement already satisfied: wcwidth in /usr/local/lib/python3.9/dist-packages (from prompt-toolkit<2.1.0,>=2.0.0->ipython>=7.4.0->tsfel) (0.2.6)\n",
            "Requirement already satisfied: idna<3,>=2.5 in /usr/local/lib/python3.9/dist-packages (from requests>=2.2.1->gspread>=3.1.0->tsfel) (2.10)\n",
            "Requirement already satisfied: certifi>=2017.4.17 in /usr/local/lib/python3.9/dist-packages (from requests>=2.2.1->gspread>=3.1.0->tsfel) (2022.12.7)\n",
            "Requirement already satisfied: urllib3<1.27,>=1.21.1 in /usr/local/lib/python3.9/dist-packages (from requests>=2.2.1->gspread>=3.1.0->tsfel) (1.26.14)\n",
            "Requirement already satisfied: chardet<5,>=3.0.2 in /usr/local/lib/python3.9/dist-packages (from requests>=2.2.1->gspread>=3.1.0->tsfel) (4.0.0)\n",
            "Requirement already satisfied: cachetools<6.0,>=2.0.0 in /usr/local/lib/python3.9/dist-packages (from google-auth->gspread>=3.1.0->tsfel) (5.3.0)\n",
            "Requirement already satisfied: ptyprocess>=0.5 in /usr/local/lib/python3.9/dist-packages (from pexpect->ipython>=7.4.0->tsfel) (0.7.0)\n",
            "ERROR: unknown command \"or\"\n"
          ]
        }
      ]
    },
    {
      "cell_type": "markdown",
      "source": [
        "# Importing libraries and packages "
      ],
      "metadata": {
        "id": "DKGuFv3FtU17"
      }
    },
    {
      "cell_type": "code",
      "execution_count": 65,
      "metadata": {
        "id": "E0fzMWSks5q8"
      },
      "outputs": [],
      "source": [
        "from google.colab import drive\n",
        "\n",
        "import os\n",
        "import sys\n",
        "import cv2\n",
        "from glob import glob\n",
        "import glob\n",
        "from tqdm.notebook import tqdm_notebook\n",
        "import pandas as pd\n",
        "import numpy as np\n",
        "from joblib import dump\n",
        "from skimage import io\n",
        "import tsfel\n",
        "\n",
        "import matplotlib.pyplot as plt\n",
        "import matplotlib.image as mpimg\n",
        "from matplotlib.patches import Patch\n",
        "\n",
        "import seaborn as sns\n",
        "from IPython.display import Image\n",
        "\n",
        "import pyhrv.time_domain as td\n",
        "import hrvanalysis\n",
        "from hrvanalysis import get_time_domain_features\n",
        "from hrvanalysis import get_geometrical_features\n",
        "from hrvanalysis import get_frequency_domain_features\n",
        "from hrvanalysis import get_csi_cvi_features\n",
        "from hrvanalysis import get_poincare_plot_features\n",
        "from hrvanalysis import get_sampen\n",
        "\n",
        "from sklearn.preprocessing import StandardScaler, OneHotEncoder\n",
        "from sklearn.metrics import confusion_matrix, classification_report\n",
        "from sklearn.model_selection import train_test_split\n",
        "from sklearn.naive_bayes import GaussianNB\n",
        "from sklearn.svm import SVC\n",
        "from sklearn.tree import DecisionTreeClassifier\n",
        "from sklearn.model_selection import LeaveOneOut\n",
        "from sklearn.feature_selection import VarianceThreshold\n",
        "\n",
        "import warnings\n",
        "if not sys.warnoptions:\n",
        "    warnings.simplefilter(\"ignore\")\n",
        "warnings.filterwarnings(\"ignore\", category=DeprecationWarning) "
      ]
    },
    {
      "cell_type": "markdown",
      "source": [
        "# Loading training data "
      ],
      "metadata": {
        "id": "hDipjeYktfNu"
      }
    },
    {
      "cell_type": "code",
      "source": [
        "drive.mount('/content/drive')"
      ],
      "metadata": {
        "colab": {
          "base_uri": "https://localhost:8080/"
        },
        "id": "of-MEfSHtE1o",
        "outputId": "875bbf92-e2c1-4a51-b5db-bc222d778682"
      },
      "execution_count": 66,
      "outputs": [
        {
          "output_type": "stream",
          "name": "stdout",
          "text": [
            "Drive already mounted at /content/drive; to attempt to forcibly remount, call drive.mount(\"/content/drive\", force_remount=True).\n"
          ]
        }
      ]
    },
    {
      "cell_type": "code",
      "source": [
        "# Loading train CSV files \n",
        "csv_files = [os.path.abspath(x) for x in glob.glob('/content/drive/MyDrive/datos inerciales/train/*.csv')]\n",
        "\n",
        "file_label = []\n",
        "file_path = []\n",
        "\n",
        "activities = {'MW': 'Walking', \n",
        "              'MR': 'Running', \n",
        "              'MJ': 'Jumping',\n",
        "              'WD': 'Walking down the stairs',\n",
        "              'WU': 'Walking up the stairs',\n",
        "              'FF': 'Forward fall',\n",
        "              'FS': 'Sideways fall',\n",
        "              'FB': 'Backward fall',\n",
        "              'LD': 'Lying down',\n",
        "              'OT': 'Other'}\n",
        "\n",
        "# Paths and labels to the files found\n",
        "for path in tqdm_notebook(csv_files):\n",
        "    part = os.path.basename(path)\n",
        "    part = part.split('.')[0]       \n",
        "    label = part.split('_')[2]\n",
        "    file_label.append(activities[label])\n",
        "    file_path.append(path)  \n",
        "\n",
        "# Creating dataframe\n",
        "label_df = pd.DataFrame(file_label, columns=['Label'])\n",
        "path_df = pd.DataFrame(file_path, columns=['Path'])\n",
        "dataset_df = pd.concat([label_df, path_df], axis = 1) "
      ],
      "metadata": {
        "colab": {
          "base_uri": "https://localhost:8080/",
          "height": 49,
          "referenced_widgets": [
            "7b561d245ed14cb7a003c7f25b91ab49",
            "9d41fa6ed993464fb214d9beb477e4cb",
            "90f4bd3a8925431a8ba3f8241f7946c1",
            "710c69d975e541fbbb6344440e30dc3b",
            "98492ea331e049aa96e70fa4f625533b",
            "b71cae80545e438ab73cb2efc9c686d0",
            "748a58d8073d45c49b28014bdb6612a3",
            "610c60639759497aadedefba32dbb1d8",
            "9e080184935a4cf0af591fc1caddf180",
            "4106964eec264b17bbae721611f7fd3f",
            "49d1db28a10147c6aae4c20714363b78"
          ]
        },
        "id": "BpWkl6yg1q8m",
        "outputId": "85423388-5f9a-40d4-dae2-4ae7d5273497"
      },
      "execution_count": 67,
      "outputs": [
        {
          "output_type": "display_data",
          "data": {
            "text/plain": [
              "  0%|          | 0/156 [00:00<?, ?it/s]"
            ],
            "application/vnd.jupyter.widget-view+json": {
              "version_major": 2,
              "version_minor": 0,
              "model_id": "7b561d245ed14cb7a003c7f25b91ab49"
            }
          },
          "metadata": {}
        }
      ]
    },
    {
      "cell_type": "markdown",
      "source": [
        "# Data Exploration"
      ],
      "metadata": {
        "id": "4zPOa2Ie3xO3"
      }
    },
    {
      "cell_type": "code",
      "source": [
        "count_label = dataset_df.groupby('Label').count().reset_index()\n",
        "label = np.array(count_label['Label'])\n",
        "\n",
        "dataPath = pd.concat([dataset_df], axis = 0)\n",
        "plt.title('Count of Classes', size=16)\n",
        "sns.set_theme(palette=\"blend:#7AB,#EDA\")\n",
        "sns.countplot(x=dataPath[\"Label\"])\n",
        "plt.xlabel('Activity', size=9)\n",
        "plt.ylabel('Count', size=9)\n",
        "sns.despine(top=True, right=True, left=True, bottom=False)\n",
        "plt.xticks(rotation=45, ha='right')\n",
        "\n",
        "plt.show()"
      ],
      "metadata": {
        "colab": {
          "base_uri": "https://localhost:8080/",
          "height": 390
        },
        "id": "aVYVau-b4aWq",
        "outputId": "1742aaed-ee43-4e76-f435-df61fafa4b88"
      },
      "execution_count": 68,
      "outputs": [
        {
          "output_type": "display_data",
          "data": {
            "text/plain": [
              "<Figure size 432x288 with 1 Axes>"
            ],
            "image/png": "[encoded data removed]"
          },
          "metadata": {}
        }
      ]
    },
    {
      "cell_type": "markdown",
      "source": [
        "# Data processing"
      ],
      "metadata": {
        "id": "gYmJPO_459Ap"
      }
    },
    {
      "cell_type": "markdown",
      "source": [
        "### Feature Extraction"
      ],
      "metadata": {
        "id": "KLO7SPN8s4B8"
      }
    },
    {
      "cell_type": "code",
      "source": [
        "#Get feature vector\n",
        "\n",
        "df_features = pd.DataFrame()\n",
        "\n",
        "for path, label in zip(tqdm_notebook(dataset_df.Path), dataset_df.Label): \n",
        "    # columns name\n",
        "    column_names = ['x', 'y', 'z', 'time']\n",
        "\n",
        "    # Loading csv data\n",
        "    df = pd.read_csv(path, names=column_names)\n",
        "\n",
        "    # xy signal\n",
        "    df['xy'] = df['x'] * df['y']\n",
        "\n",
        "    # xz signal\n",
        "    df['xz'] = df['x'] * df['z']\n",
        "\n",
        "    # yz signal\n",
        "    df['yz'] = df['y'] * df['z']\n",
        "\n",
        "    # Acc signal\n",
        "    df['total_acc'] = np.sqrt(df['x']**2 + df['y']**2 + df['z']**2)\n",
        "\n",
        "    gfd = tsfel.get_features_by_domain() \n",
        "            \n",
        "    df = np.array(df)\n",
        "    df = df[~np.isnan(df)] \n",
        "\n",
        "    features = tsfel.time_series_features_extractor(gfd, df, fs=2500, windows_size=500, overlap=0.2, verbose=False)\n",
        "\n",
        "    f_df = pd.DataFrame(features, columns=features.columns)\n",
        "    f_df['Label'] = label\n",
        "\n",
        "    df_features = pd.concat([df_features, f_df], axis=0)\n",
        "\n",
        "print(\"Number of instances:\", df_features.shape[0])\n",
        "print(\"Number of features:\", df_features.shape[1]-1)"
      ],
      "metadata": {
        "colab": {
          "base_uri": "https://localhost:8080/",
          "height": 85,
          "referenced_widgets": [
            "24ad8434dd81441c9add3ee7d207ebf3",
            "ece77c6aba294b1aaf514f808e5db28f",
            "2c16b8ee1e294507b0f3a6b381c3f439",
            "5cc0b3ef6cb7479cb134db126bf5f567",
            "9c9ad419e8e7479f84d608aee4851cd5",
            "09c0d78191fc4bce86d777c055dbdbe4",
            "2443f42e313547f099cb86ca3b5f0647",
            "d591f68e1f224876977f997f74177321",
            "ffe8c0b8d6544004b08fbe60e8941ddb",
            "3573ba46abc9446ab3fd8b6f48c750cd",
            "e361e9b084dc4f7f971c54f99f760f18"
          ]
        },
        "outputId": "192a0964-e6fd-488a-b345-e0478e857c55",
        "id": "lYwsoVqr7njb"
      },
      "execution_count": null,
      "outputs": [
        {
          "output_type": "display_data",
          "data": {
            "text/plain": [
              "  0%|          | 0/156 [00:00<?, ?it/s]"
            ],
            "application/vnd.jupyter.widget-view+json": {
              "version_major": 2,
              "version_minor": 0,
              "model_id": "24ad8434dd81441c9add3ee7d207ebf3"
            }
          },
          "metadata": {}
        },
        {
          "output_type": "stream",
          "name": "stdout",
          "text": [
            "Number of instances: 156\n",
            "Number of features: 388\n"
          ]
        }
      ]
    },
    {
      "cell_type": "markdown",
      "source": [
        "### Feature Selection"
      ],
      "metadata": {
        "id": "jT54hyaftFIA"
      }
    },
    {
      "cell_type": "code",
      "source": [
        "X = df_features.iloc[:, :-1]\n",
        "X = X.apply(pd.to_numeric, errors='coerce')\n",
        "Y = df_features.iloc[:, df_features.shape[1]-1]\n",
        "\n",
        "# Highly correlated features are removed\n",
        "corr_features = tsfel.correlated_features(X)\n",
        "X.drop(corr_features, axis=1, inplace=True)\n",
        "\n",
        "# Remove low variance features\n",
        "\n",
        "#Create a feature selector object\n",
        "selector = VarianceThreshold()\n",
        "\n",
        "#Fit the selector to the data\n",
        "selector.fit(X)\n",
        "\n",
        "# Get a list of booleans indicating which columns have been selected\n",
        "mask = selector.get_support()\n",
        "\n",
        "# Select the columns of the original DataFrame that have been selected\n",
        "X = X.loc[:, mask]\n",
        "\n",
        "print(X.shape)"
      ],
      "metadata": {
        "colab": {
          "base_uri": "https://localhost:8080/"
        },
        "id": "Qo7FEPXTeXgY",
        "outputId": "041fd7d7-84c5-4902-b4e5-6530e3c87a7c"
      },
      "execution_count": null,
      "outputs": [
        {
          "output_type": "stream",
          "name": "stdout",
          "text": [
            "(156, 130)\n"
          ]
        }
      ]
    },
    {
      "cell_type": "markdown",
      "source": [
        "### Normalising Features"
      ],
      "metadata": {
        "id": "TALTP8zPvCDJ"
      }
    },
    {
      "cell_type": "code",
      "source": [
        "scaler = StandardScaler()\n",
        "X = scaler.fit_transform(X)"
      ],
      "metadata": {
        "id": "3uTNaV83sBI7"
      },
      "execution_count": null,
      "outputs": []
    },
    {
      "cell_type": "markdown",
      "source": [
        "# Clasification Model"
      ],
      "metadata": {
        "id": "tQMkdg5WDv6l"
      }
    },
    {
      "cell_type": "markdown",
      "source": [
        "## Splitting data"
      ],
      "metadata": {
        "id": "8da8HBHWSpl0"
      }
    },
    {
      "cell_type": "code",
      "source": [
        "X_train, X_test, Y_train, Y_test = train_test_split(X, Y, test_size=0.3, random_state=42, stratify=Y)"
      ],
      "metadata": {
        "id": "0-D_rXCaSoFE"
      },
      "execution_count": null,
      "outputs": []
    },
    {
      "cell_type": "markdown",
      "source": [
        "## Models"
      ],
      "metadata": {
        "id": "bBTXQOWxiSR0"
      }
    },
    {
      "cell_type": "markdown",
      "source": [
        "### Decision Tree Classifier"
      ],
      "metadata": {
        "id": "KKPAbJbMXAtC"
      }
    },
    {
      "cell_type": "markdown",
      "source": [
        "#### Initialize model, Training and Predicting"
      ],
      "metadata": {
        "id": "OC4ryv_uS0Z9"
      }
    },
    {
      "cell_type": "code",
      "source": [
        "# Initialize model\n",
        "model_dt = DecisionTreeClassifier()\n",
        "\n",
        "# Training model\n",
        "model_dt.fit(X_train, Y_train)\n",
        "\n",
        "# Predicting for the test set\n",
        "Y_pred_dt = model_dt.predict(X_test)"
      ],
      "metadata": {
        "id": "ygdc-u2ES3Wk"
      },
      "execution_count": null,
      "outputs": []
    },
    {
      "cell_type": "markdown",
      "source": [
        "#### Confusion matrix and metrics"
      ],
      "metadata": {
        "id": "p-AbtBAJTQxE"
      }
    },
    {
      "cell_type": "code",
      "source": [
        "ax= plt.subplot()\n",
        "cm = confusion_matrix(Y_test, Y_pred_dt)\n",
        "sns.heatmap(cm, annot=True, fmt='g', cmap = 'Blues', ax=ax);  #annot=True to annotate cells, ftm='g' to disable scientific notation\n",
        "\n",
        "# labels, title and ticks\n",
        "ax.set_xlabel('Predicted labels')\n",
        "ax.set_ylabel('Actual labels')\n",
        "ax.set_title('Confusion Matrix')\n",
        "ax.xaxis.set_ticklabels(count_label.Label)\n",
        "ax.yaxis.set_ticklabels(count_label.Label, rotation=0, ha='right');\n",
        "plt.xticks(rotation=90, ha='right')\n",
        "\n",
        "# metrics\n",
        "print(classification_report(Y_test, Y_pred_dt))"
      ],
      "metadata": {
        "colab": {
          "base_uri": "https://localhost:8080/",
          "height": 727
        },
        "id": "yzOeTplWTSW9",
        "outputId": "64655fad-7687-4250-af6f-97ad0c314742"
      },
      "execution_count": null,
      "outputs": [
        {
          "output_type": "stream",
          "name": "stdout",
          "text": [
            "                         precision    recall  f1-score   support\n",
            "\n",
            "          Backward fall       0.33      0.33      0.33         3\n",
            "           Forward fall       0.33      0.33      0.33         3\n",
            "                Jumping       0.60      0.50      0.55         6\n",
            "             Lying down       0.25      0.33      0.29         3\n",
            "                  Other       0.89      0.89      0.89         9\n",
            "                Running       0.86      1.00      0.92         6\n",
            "          Sideways fall       0.33      0.33      0.33         3\n",
            "                Walking       0.80      0.67      0.73         6\n",
            "Walking down the stairs       1.00      0.75      0.86         4\n",
            "  Walking up the stairs       0.60      0.75      0.67         4\n",
            "\n",
            "               accuracy                           0.66        47\n",
            "              macro avg       0.60      0.59      0.59        47\n",
            "           weighted avg       0.67      0.66      0.66        47\n",
            "\n"
          ]
        },
        {
          "output_type": "display_data",
          "data": {
            "text/plain": [
              "<Figure size 432x288 with 2 Axes>"
            ],
            "image/png": "[encoded data removed]"
          },
          "metadata": {}
        }
      ]
    },
    {
      "cell_type": "markdown",
      "source": [
        "### Naive Bayes Classifier"
      ],
      "metadata": {
        "id": "RI4Nc9YqiyjV"
      }
    },
    {
      "cell_type": "markdown",
      "source": [
        "#### Initialize model, Training and Predicting"
      ],
      "metadata": {
        "id": "oG94zBjei4xt"
      }
    },
    {
      "cell_type": "code",
      "source": [
        "# Initialize model\n",
        "model_nb = GaussianNB()\n",
        "\n",
        "# Training model\n",
        "model_nb.fit(X_train, Y_train)\n",
        "\n",
        "# Predicting for the test set\n",
        "Y_pred_nv = model_nb.predict(X_test)"
      ],
      "metadata": {
        "id": "wKOSCy1vi7V3"
      },
      "execution_count": null,
      "outputs": []
    },
    {
      "cell_type": "markdown",
      "source": [
        "#### Confusion matrix and metrics"
      ],
      "metadata": {
        "id": "qitTV653i41h"
      }
    },
    {
      "cell_type": "code",
      "source": [
        "ax= plt.subplot()\n",
        "cm = confusion_matrix(Y_test, Y_pred_nv)\n",
        "sns.heatmap(cm, annot=True, fmt='g', cmap = 'Blues', ax=ax);  #annot=True to annotate cells, ftm='g' to disable scientific notation\n",
        "\n",
        "# labels, title and ticks\n",
        "ax.set_xlabel('Predicted labels')\n",
        "ax.set_ylabel('Actual labels')\n",
        "ax.set_title('Confusion Matrix')\n",
        "ax.xaxis.set_ticklabels(count_label.Label)\n",
        "ax.yaxis.set_ticklabels(count_label.Label, rotation=0, ha='right');\n",
        "plt.xticks(rotation=90, ha='right')\n",
        "\n",
        "# metrics\n",
        "print(classification_report(Y_test, Y_pred_nv))"
      ],
      "metadata": {
        "colab": {
          "base_uri": "https://localhost:8080/",
          "height": 727
        },
        "id": "mcfcM0JPigau",
        "outputId": "7cf66ccf-a70d-420e-e1fd-3f89a6bbc88b"
      },
      "execution_count": null,
      "outputs": [
        {
          "output_type": "stream",
          "name": "stdout",
          "text": [
            "                         precision    recall  f1-score   support\n",
            "\n",
            "          Backward fall       1.00      0.33      0.50         3\n",
            "           Forward fall       0.67      0.67      0.67         3\n",
            "                Jumping       1.00      0.67      0.80         6\n",
            "             Lying down       1.00      0.67      0.80         3\n",
            "                  Other       0.90      1.00      0.95         9\n",
            "                Running       0.60      1.00      0.75         6\n",
            "          Sideways fall       0.25      0.33      0.29         3\n",
            "                Walking       0.86      1.00      0.92         6\n",
            "Walking down the stairs       1.00      0.75      0.86         4\n",
            "  Walking up the stairs       1.00      0.75      0.86         4\n",
            "\n",
            "               accuracy                           0.79        47\n",
            "              macro avg       0.83      0.72      0.74        47\n",
            "           weighted avg       0.84      0.79      0.79        47\n",
            "\n"
          ]
        },
        {
          "output_type": "display_data",
          "data": {
            "text/plain": [
              "<Figure size 432x288 with 2 Axes>"
            ],
            "image/png": "[encoded data removed]"
          },
          "metadata": {}
        }
      ]
    },
    {
      "cell_type": "markdown",
      "source": [
        "### Support Vector Machines (SVM)"
      ],
      "metadata": {
        "id": "AxkJhrV_p00m"
      }
    },
    {
      "cell_type": "markdown",
      "source": [
        "#### Initialize model, Training and Predicting"
      ],
      "metadata": {
        "id": "FiEUq9uEp__O"
      }
    },
    {
      "cell_type": "code",
      "source": [
        "# Initialize model\n",
        "model_svc = SVC(kernel='linear')\n",
        "\n",
        "# Training model\n",
        "model_svc.fit(X_train, Y_train)\n",
        "\n",
        "# Predicting for the test set\n",
        "Y_pred_svm = model_svc.predict(X_test)"
      ],
      "metadata": {
        "id": "xQ_qc2lpqCtM"
      },
      "execution_count": null,
      "outputs": []
    },
    {
      "cell_type": "markdown",
      "source": [
        "#### Confusion matrix and metrics"
      ],
      "metadata": {
        "id": "gq9zkC1sqDB_"
      }
    },
    {
      "cell_type": "code",
      "source": [
        "ax= plt.subplot()\n",
        "cm = confusion_matrix(Y_test, Y_pred_svm)\n",
        "sns.heatmap(cm, annot=True, fmt='g', cmap = 'Blues', ax=ax);  #annot=True to annotate cells, ftm='g' to disable scientific notation\n",
        "\n",
        "# labels, title and ticks\n",
        "ax.set_xlabel('Predicted labels')\n",
        "ax.set_ylabel('Actual labels')\n",
        "ax.set_title('Confusion Matrix')\n",
        "ax.xaxis.set_ticklabels(count_label.Label)\n",
        "ax.yaxis.set_ticklabels(count_label.Label, rotation=0, ha='right');\n",
        "plt.xticks(rotation=90, ha='right')\n",
        "\n",
        "# metrics\n",
        "print(classification_report(Y_test, Y_pred_svm))"
      ],
      "metadata": {
        "colab": {
          "base_uri": "https://localhost:8080/",
          "height": 727
        },
        "id": "VBzsdCjaqYCN",
        "outputId": "92c5d399-054c-4890-e99b-3591cfe4847a"
      },
      "execution_count": null,
      "outputs": [
        {
          "output_type": "stream",
          "name": "stdout",
          "text": [
            "                         precision    recall  f1-score   support\n",
            "\n",
            "          Backward fall       1.00      0.67      0.80         3\n",
            "           Forward fall       0.75      1.00      0.86         3\n",
            "                Jumping       1.00      1.00      1.00         6\n",
            "             Lying down       0.75      1.00      0.86         3\n",
            "                  Other       1.00      0.89      0.94         9\n",
            "                Running       1.00      1.00      1.00         6\n",
            "          Sideways fall       1.00      1.00      1.00         3\n",
            "                Walking       1.00      1.00      1.00         6\n",
            "Walking down the stairs       1.00      1.00      1.00         4\n",
            "  Walking up the stairs       1.00      1.00      1.00         4\n",
            "\n",
            "               accuracy                           0.96        47\n",
            "              macro avg       0.95      0.96      0.95        47\n",
            "           weighted avg       0.97      0.96      0.96        47\n",
            "\n"
          ]
        },
        {
          "output_type": "display_data",
          "data": {
            "text/plain": [
              "<Figure size 432x288 with 2 Axes>"
            ],
            "image/png": "[encoded data removed]"
          },
          "metadata": {}
        }
      ]
    },
    {
      "cell_type": "markdown",
      "source": [
        "## Re-training the model"
      ],
      "metadata": {
        "id": "FsMuFkFG4b0u"
      }
    },
    {
      "cell_type": "code",
      "source": [
        "# Initialize the model\n",
        "model_svc = SVC(kernel='linear')\n",
        "\n",
        "# Re-training the model\n",
        "X_svc = scaler.fit_transform(X)\n",
        "Y_svc = Y\n",
        "model_svc.fit(X_svc,Y_svc)"
      ],
      "metadata": {
        "colab": {
          "base_uri": "https://localhost:8080/",
          "height": 75
        },
        "id": "9WfC4gXd4d1-",
        "outputId": "f4bf3f62-3ca7-4d04-f975-d1f5fc83c92b"
      },
      "execution_count": null,
      "outputs": [
        {
          "output_type": "execute_result",
          "data": {
            "text/plain": [
              "SVC(kernel='linear')"
            ],
            "text/html": [
              "<style>#sk-container-id-1 {color: black;background-color: white;}#sk-container-id-1 pre{padding: 0;}#sk-container-id-1 div.sk-toggleable {background-color: white;}#sk-container-id-1 label.sk-toggleable__label {cursor: pointer;display: block;width: 100%;margin-bottom: 0;padding: 0.3em;box-sizing: border-box;text-align: center;}#sk-container-id-1 label.sk-toggleable__label-arrow:before {content: \"▸\";float: left;margin-right: 0.25em;color: #696969;}#sk-container-id-1 label.sk-toggleable__label-arrow:hover:before {color: black;}#sk-container-id-1 div.sk-estimator:hover label.sk-toggleable__label-arrow:before {color: black;}#sk-container-id-1 div.sk-toggleable__content {max-height: 0;max-width: 0;overflow: hidden;text-align: left;background-color: #f0f8ff;}#sk-container-id-1 div.sk-toggleable__content pre {margin: 0.2em;color: black;border-radius: 0.25em;background-color: #f0f8ff;}#sk-container-id-1 input.sk-toggleable__control:checked~div.sk-toggleable__content {max-height: 200px;max-width: 100%;overflow: auto;}#sk-container-id-1 input.sk-toggleable__control:checked~label.sk-toggleable__label-arrow:before {content: \"▾\";}#sk-container-id-1 div.sk-estimator input.sk-toggleable__control:checked~label.sk-toggleable__label {background-color: #d4ebff;}#sk-container-id-1 div.sk-label input.sk-toggleable__control:checked~label.sk-toggleable__label {background-color: #d4ebff;}#sk-container-id-1 input.sk-hidden--visually {border: 0;clip: rect(1px 1px 1px 1px);clip: rect(1px, 1px, 1px, 1px);height: 1px;margin: -1px;overflow: hidden;padding: 0;position: absolute;width: 1px;}#sk-container-id-1 div.sk-estimator {font-family: monospace;background-color: #f0f8ff;border: 1px dotted black;border-radius: 0.25em;box-sizing: border-box;margin-bottom: 0.5em;}#sk-container-id-1 div.sk-estimator:hover {background-color: #d4ebff;}#sk-container-id-1 div.sk-parallel-item::after {content: \"\";width: 100%;border-bottom: 1px solid gray;flex-grow: 1;}#sk-container-id-1 div.sk-label:hover label.sk-toggleable__label {background-color: #d4ebff;}#sk-container-id-1 div.sk-serial::before {content: \"\";position: absolute;border-left: 1px solid gray;box-sizing: border-box;top: 0;bottom: 0;left: 50%;z-index: 0;}#sk-container-id-1 div.sk-serial {display: flex;flex-direction: column;align-items: center;background-color: white;padding-right: 0.2em;padding-left: 0.2em;position: relative;}#sk-container-id-1 div.sk-item {position: relative;z-index: 1;}#sk-container-id-1 div.sk-parallel {display: flex;align-items: stretch;justify-content: center;background-color: white;position: relative;}#sk-container-id-1 div.sk-item::before, #sk-container-id-1 div.sk-parallel-item::before {content: \"\";position: absolute;border-left: 1px solid gray;box-sizing: border-box;top: 0;bottom: 0;left: 50%;z-index: -1;}#sk-container-id-1 div.sk-parallel-item {display: flex;flex-direction: column;z-index: 1;position: relative;background-color: white;}#sk-container-id-1 div.sk-parallel-item:first-child::after {align-self: flex-end;width: 50%;}#sk-container-id-1 div.sk-parallel-item:last-child::after {align-self: flex-start;width: 50%;}#sk-container-id-1 div.sk-parallel-item:only-child::after {width: 0;}#sk-container-id-1 div.sk-dashed-wrapped {border: 1px dashed gray;margin: 0 0.4em 0.5em 0.4em;box-sizing: border-box;padding-bottom: 0.4em;background-color: white;}#sk-container-id-1 div.sk-label label {font-family: monospace;font-weight: bold;display: inline-block;line-height: 1.2em;}#sk-container-id-1 div.sk-label-container {text-align: center;}#sk-container-id-1 div.sk-container {/* jupyter's `normalize.less` sets `[hidden] { display: none; }` but bootstrap.min.css set `[hidden] { display: none !important; }` so we also need the `!important` here to be able to override the default hidden behavior on the sphinx rendered scikit-learn.org. See: https://github.com/scikit-learn/scikit-learn/issues/21755 */display: inline-block !important;position: relative;}#sk-container-id-1 div.sk-text-repr-fallback {display: none;}</style><div id=\"sk-container-id-1\" class=\"sk-top-container\"><div class=\"sk-text-repr-fallback\"><pre>SVC(kernel=&#x27;linear&#x27;)</pre><b>In a Jupyter environment, please rerun this cell to show the HTML representation or trust the notebook. <br />On GitHub, the HTML representation is unable to render, please try loading this page with nbviewer.org.</b></div><div class=\"sk-container\" hidden><div class=\"sk-item\"><div class=\"sk-estimator sk-toggleable\"><input class=\"sk-toggleable__control sk-hidden--visually\" id=\"sk-estimator-id-1\" type=\"checkbox\" checked><label for=\"sk-estimator-id-1\" class=\"sk-toggleable__label sk-toggleable__label-arrow\">SVC</label><div class=\"sk-toggleable__content\"><pre>SVC(kernel=&#x27;linear&#x27;)</pre></div></div></div></div></div>"
            ]
          },
          "metadata": {},
          "execution_count": 21
        }
      ]
    },
    {
      "cell_type": "code",
      "source": [
        "#Saving the model\n",
        "import pickle\n",
        "# Save the Modle to file in the current working directory\n",
        "#For any new testing data other than the data in dataset\n",
        "\n",
        "Pkl_Filename = \"/content/drive/MyDrive/datos inerciales/Human_Activities_Classifier.pkl\"  \n",
        "\n",
        "with open(Pkl_Filename, 'wb') as file:  \n",
        "    pickle.dump(model_svc, file)\n",
        "\n",
        "# Load the Model back from file\n",
        "with open(Pkl_Filename, 'rb') as file:  \n",
        "    Human_Activities_Classifier = pickle.load(file)\n",
        "Human_Activities_Classifier"
      ],
      "metadata": {
        "colab": {
          "base_uri": "https://localhost:8080/",
          "height": 75
        },
        "id": "AwnHDFs36Hnh",
        "outputId": "0e9bfdcf-d69b-42e5-c60e-85864f65d847"
      },
      "execution_count": null,
      "outputs": [
        {
          "output_type": "execute_result",
          "data": {
            "text/plain": [
              "SVC(kernel='linear')"
            ],
            "text/html": [
              "<style>#sk-container-id-2 {color: black;background-color: white;}#sk-container-id-2 pre{padding: 0;}#sk-container-id-2 div.sk-toggleable {background-color: white;}#sk-container-id-2 label.sk-toggleable__label {cursor: pointer;display: block;width: 100%;margin-bottom: 0;padding: 0.3em;box-sizing: border-box;text-align: center;}#sk-container-id-2 label.sk-toggleable__label-arrow:before {content: \"▸\";float: left;margin-right: 0.25em;color: #696969;}#sk-container-id-2 label.sk-toggleable__label-arrow:hover:before {color: black;}#sk-container-id-2 div.sk-estimator:hover label.sk-toggleable__label-arrow:before {color: black;}#sk-container-id-2 div.sk-toggleable__content {max-height: 0;max-width: 0;overflow: hidden;text-align: left;background-color: #f0f8ff;}#sk-container-id-2 div.sk-toggleable__content pre {margin: 0.2em;color: black;border-radius: 0.25em;background-color: #f0f8ff;}#sk-container-id-2 input.sk-toggleable__control:checked~div.sk-toggleable__content {max-height: 200px;max-width: 100%;overflow: auto;}#sk-container-id-2 input.sk-toggleable__control:checked~label.sk-toggleable__label-arrow:before {content: \"▾\";}#sk-container-id-2 div.sk-estimator input.sk-toggleable__control:checked~label.sk-toggleable__label {background-color: #d4ebff;}#sk-container-id-2 div.sk-label input.sk-toggleable__control:checked~label.sk-toggleable__label {background-color: #d4ebff;}#sk-container-id-2 input.sk-hidden--visually {border: 0;clip: rect(1px 1px 1px 1px);clip: rect(1px, 1px, 1px, 1px);height: 1px;margin: -1px;overflow: hidden;padding: 0;position: absolute;width: 1px;}#sk-container-id-2 div.sk-estimator {font-family: monospace;background-color: #f0f8ff;border: 1px dotted black;border-radius: 0.25em;box-sizing: border-box;margin-bottom: 0.5em;}#sk-container-id-2 div.sk-estimator:hover {background-color: #d4ebff;}#sk-container-id-2 div.sk-parallel-item::after {content: \"\";width: 100%;border-bottom: 1px solid gray;flex-grow: 1;}#sk-container-id-2 div.sk-label:hover label.sk-toggleable__label {background-color: #d4ebff;}#sk-container-id-2 div.sk-serial::before {content: \"\";position: absolute;border-left: 1px solid gray;box-sizing: border-box;top: 0;bottom: 0;left: 50%;z-index: 0;}#sk-container-id-2 div.sk-serial {display: flex;flex-direction: column;align-items: center;background-color: white;padding-right: 0.2em;padding-left: 0.2em;position: relative;}#sk-container-id-2 div.sk-item {position: relative;z-index: 1;}#sk-container-id-2 div.sk-parallel {display: flex;align-items: stretch;justify-content: center;background-color: white;position: relative;}#sk-container-id-2 div.sk-item::before, #sk-container-id-2 div.sk-parallel-item::before {content: \"\";position: absolute;border-left: 1px solid gray;box-sizing: border-box;top: 0;bottom: 0;left: 50%;z-index: -1;}#sk-container-id-2 div.sk-parallel-item {display: flex;flex-direction: column;z-index: 1;position: relative;background-color: white;}#sk-container-id-2 div.sk-parallel-item:first-child::after {align-self: flex-end;width: 50%;}#sk-container-id-2 div.sk-parallel-item:last-child::after {align-self: flex-start;width: 50%;}#sk-container-id-2 div.sk-parallel-item:only-child::after {width: 0;}#sk-container-id-2 div.sk-dashed-wrapped {border: 1px dashed gray;margin: 0 0.4em 0.5em 0.4em;box-sizing: border-box;padding-bottom: 0.4em;background-color: white;}#sk-container-id-2 div.sk-label label {font-family: monospace;font-weight: bold;display: inline-block;line-height: 1.2em;}#sk-container-id-2 div.sk-label-container {text-align: center;}#sk-container-id-2 div.sk-container {/* jupyter's `normalize.less` sets `[hidden] { display: none; }` but bootstrap.min.css set `[hidden] { display: none !important; }` so we also need the `!important` here to be able to override the default hidden behavior on the sphinx rendered scikit-learn.org. See: https://github.com/scikit-learn/scikit-learn/issues/21755 */display: inline-block !important;position: relative;}#sk-container-id-2 div.sk-text-repr-fallback {display: none;}</style><div id=\"sk-container-id-2\" class=\"sk-top-container\"><div class=\"sk-text-repr-fallback\"><pre>SVC(kernel=&#x27;linear&#x27;)</pre><b>In a Jupyter environment, please rerun this cell to show the HTML representation or trust the notebook. <br />On GitHub, the HTML representation is unable to render, please try loading this page with nbviewer.org.</b></div><div class=\"sk-container\" hidden><div class=\"sk-item\"><div class=\"sk-estimator sk-toggleable\"><input class=\"sk-toggleable__control sk-hidden--visually\" id=\"sk-estimator-id-2\" type=\"checkbox\" checked><label for=\"sk-estimator-id-2\" class=\"sk-toggleable__label sk-toggleable__label-arrow\">SVC</label><div class=\"sk-toggleable__content\"><pre>SVC(kernel=&#x27;linear&#x27;)</pre></div></div></div></div></div>"
            ]
          },
          "metadata": {},
          "execution_count": 22
        }
      ]
    },
    {
      "cell_type": "markdown",
      "source": [
        "# External validation"
      ],
      "metadata": {
        "id": "qaugh6Vc7CNt"
      }
    },
    {
      "cell_type": "markdown",
      "source": [
        "## Loading training data "
      ],
      "metadata": {
        "id": "nITvwVnw8rI1"
      }
    },
    {
      "cell_type": "code",
      "source": [
        "# Loading CSV files \n",
        "csv_files = [os.path.abspath(x) for x in glob.glob('/content/drive/MyDrive/datos inerciales/test/*.csv')]\n",
        "csv_files = sorted(csv_files, key=lambda x: int(''.join(filter(str.isdigit, x))))\n",
        "\n",
        "file_name = []\n",
        "file_path = []\n",
        "\n",
        "# Paths and labels to the files found\n",
        "for path in tqdm_notebook(csv_files):\n",
        "    part = os.path.basename(path)\n",
        "    name = part.split('.')[0]       \n",
        "    file_name.append(name)\n",
        "    file_path.append(path)  \n",
        "\n",
        "# Creating dataframe\n",
        "file_name_df = pd.DataFrame(file_name, columns=['File_Name'])\n",
        "path_df = pd.DataFrame(file_path, columns=['Path'])\n",
        "dataset_df = pd.concat([path_df], axis = 1) "
      ],
      "metadata": {
        "colab": {
          "base_uri": "https://localhost:8080/",
          "height": 49,
          "referenced_widgets": [
            "421ed52377854337b78a9dbcf3888630",
            "fc7b468e88b145ce897a7d377cc0cea6",
            "ca222e50577e4b5e918f079d96241c75",
            "8620289f94b14a57b508c2312ab02665",
            "4eb0db6edd1f43819f98a665d03c795e",
            "21e2a98910d84075b4cf6eb412948088",
            "c8d184eff65749319905e8db84fb8b65",
            "28b4c8f8a9374afcbeda1425e75f1b67",
            "f99f9cdb00a34a649879852781072745",
            "d9a1a767f7b247ccbd3d7caed86c578d",
            "9badbcd992eb4357ad03d9851c7f7771"
          ]
        },
        "id": "ykdjZm6G7GlV",
        "outputId": "fc9857bf-c73a-4f87-c702-93e8872ac240"
      },
      "execution_count": null,
      "outputs": [
        {
          "output_type": "display_data",
          "data": {
            "text/plain": [
              "  0%|          | 0/35 [00:00<?, ?it/s]"
            ],
            "application/vnd.jupyter.widget-view+json": {
              "version_major": 2,
              "version_minor": 0,
              "model_id": "421ed52377854337b78a9dbcf3888630"
            }
          },
          "metadata": {}
        }
      ]
    },
    {
      "cell_type": "code",
      "source": [
        "dataset_df.shape"
      ],
      "metadata": {
        "colab": {
          "base_uri": "https://localhost:8080/"
        },
        "id": "W89Weh6ab7cS",
        "outputId": "1e01a1c0-c9c1-4883-8247-47ed91bc0aad"
      },
      "execution_count": null,
      "outputs": [
        {
          "output_type": "execute_result",
          "data": {
            "text/plain": [
              "(35, 1)"
            ]
          },
          "metadata": {},
          "execution_count": 32
        }
      ]
    },
    {
      "cell_type": "markdown",
      "source": [
        "## Get feature vector"
      ],
      "metadata": {
        "id": "K3BLQ-c38kNM"
      }
    },
    {
      "cell_type": "code",
      "source": [
        "#Get feature vector\n",
        "\n",
        "df_features = pd.DataFrame()\n",
        "\n",
        "for path in tqdm_notebook(dataset_df.Path): \n",
        "    # columns name\n",
        "    column_names = ['x', 'y', 'z', 'time']\n",
        "\n",
        "    # Loading csv data\n",
        "    df = pd.read_csv(path, names=column_names, delimiter=',',skiprows=2, skipinitialspace=True)\n",
        "\n",
        "    # xy signal\n",
        "    df['xy'] = df['x'] * df['y']\n",
        "\n",
        "    # xz signal\n",
        "    df['xz'] = df['x'] * df['z']\n",
        "\n",
        "    # yz signal\n",
        "    df['yz'] = df['y'] * df['z']\n",
        "\n",
        "    # Acc signal\n",
        "    df['total_acc'] = np.sqrt(df['x']**2 + df['y']**2 + df['z']**2)\n",
        "\n",
        "    gfd = tsfel.get_features_by_domain()\n",
        "\n",
        "    df = np.array(df)\n",
        "    df = df[~np.isnan(df)] \n",
        "\n",
        "    features = tsfel.time_series_features_extractor(gfd, df, fs=2500, windows_size=500, overlap=0.2, verbose=False)\n",
        "\n",
        "    df_features = pd.concat([df_features, pd.DataFrame(features)], axis=0)\n",
        "\n",
        "print(\"Number of instances:\", df_features.shape[0])\n",
        "print(\"Number of features:\", df_features.shape[1]-1)"
      ],
      "metadata": {
        "colab": {
          "base_uri": "https://localhost:8080/",
          "height": 85,
          "referenced_widgets": [
            "b27eb26bc63a41d89a2857f468e27480",
            "ee153b8f872048ef9a32914b0ac9fafb",
            "067924984dcf48bcabdfe834fc76c7b6",
            "3a2bb54cc3e84f7a9c07ea3c0204b4bc",
            "dd1dd0e2a14e40ac9aacdf638dda8381",
            "80df8f3c047443deafb4babab63997b5",
            "de2a8a7429ef402c84550c4014a726fa",
            "e0e9bb53c772499aa2be710f30bfe67f",
            "48677d663f0b44acbf4ba4df4b4bfdda",
            "90a20428c8784e04b6a4c8d37189d5e8",
            "9d19a7a013fb475995756b1874419ee0"
          ]
        },
        "id": "_PSwnA938ksi",
        "outputId": "9956c687-6b09-4b28-c0f2-d1469e0c242c"
      },
      "execution_count": null,
      "outputs": [
        {
          "output_type": "display_data",
          "data": {
            "text/plain": [
              "  0%|          | 0/35 [00:00<?, ?it/s]"
            ],
            "application/vnd.jupyter.widget-view+json": {
              "version_major": 2,
              "version_minor": 0,
              "model_id": "b27eb26bc63a41d89a2857f468e27480"
            }
          },
          "metadata": {}
        },
        {
          "output_type": "stream",
          "name": "stdout",
          "text": [
            "Number of instances: 35\n",
            "Number of features: 388\n"
          ]
        }
      ]
    },
    {
      "cell_type": "markdown",
      "source": [
        "## Normalize data"
      ],
      "metadata": {
        "id": "wGS8xXo-86Pd"
      }
    },
    {
      "cell_type": "code",
      "source": [
        "X = df_features.iloc[:, 0:df_features.shape[1]-1]\n",
        "X = X.apply(pd.to_numeric, errors='coerce')\n",
        "X.drop(corr_features, axis=1, inplace=True)\n",
        "\n",
        "# Select the columns of the original DataFrame that have been selected\n",
        "X = X.loc[:, mask]\n",
        "\n",
        "scaler = StandardScaler()\n",
        "X = scaler.fit_transform(X)"
      ],
      "metadata": {
        "id": "mG6yopU286gb"
      },
      "execution_count": null,
      "outputs": []
    },
    {
      "cell_type": "markdown",
      "source": [
        "## Evaluating model "
      ],
      "metadata": {
        "id": "LusNmxMr9GmL"
      }
    },
    {
      "cell_type": "code",
      "source": [
        "activities = {'Walking': '1', \n",
        "              'Running': '2', \n",
        "              'Jumping': '3',\n",
        "              'Walking down the stairs': '4',\n",
        "              'Walking up the stairs': '5',\n",
        "              'Forward fall': '6',\n",
        "              'Sideways fall': '7',\n",
        "              'Backward fall': '8',\n",
        "              'Lying down': '9',\n",
        "              'Other': '10'}\n",
        "\n",
        "# Prediction\n",
        "prediction = Human_Activities_Classifier.predict(X)\n",
        "\n",
        "# Creating dataframe\n",
        "pred_df = pd.DataFrame(prediction, columns=['Prediction'])\n",
        "prediction_df = pd.concat([file_name_df, pred_df], axis = 1) \n",
        "print('Human Activities Classifier prediction:\\n\\n', prediction_df)\n",
        "\n",
        "# clean output_full.txt\n",
        "with open('/content/drive/MyDrive/datos inerciales/output_full.txt', 'w') as f:\n",
        "    pass\n",
        "\n",
        "# fill output.txt\n",
        "for index, row in prediction_df.iterrows():\n",
        "  File_Name = row['File_Name']\n",
        "  Prediction = row['Prediction']\n",
        "  with open('/content/drive/MyDrive/datos inerciales/output_full.txt', 'a') as f:\n",
        "    f.write(str(File_Name) + ' ' + str(Prediction))\n",
        "    f.write(\"\\n\")"
      ],
      "metadata": {
        "colab": {
          "base_uri": "https://localhost:8080/"
        },
        "id": "nSGG9Nq59HDu",
        "outputId": "d4481c54-a06f-4a1b-97ad-105618535b54"
      },
      "execution_count": null,
      "outputs": [
        {
          "output_type": "stream",
          "name": "stdout",
          "text": [
            "Human Activities Classifier prediction:\n",
            "\n",
            "    File_Name             Prediction\n",
            "0     file_0  Walking up the stairs\n",
            "1     file_1                  Other\n",
            "2     file_2                Running\n",
            "3     file_3  Walking up the stairs\n",
            "4     file_4                Jumping\n",
            "5     file_5  Walking up the stairs\n",
            "6     file_6                Jumping\n",
            "7     file_7                  Other\n",
            "8     file_8           Forward fall\n",
            "9     file_9                  Other\n",
            "10   file_10  Walking up the stairs\n",
            "11   file_11                Jumping\n",
            "12   file_12                Walking\n",
            "13   file_13                Jumping\n",
            "14   file_14                Jumping\n",
            "15   file_15                Jumping\n",
            "16   file_16                Jumping\n",
            "17   file_17                Jumping\n",
            "18   file_18                Running\n",
            "19   file_19                  Other\n",
            "20   file_20                Jumping\n",
            "21   file_21                Jumping\n",
            "22   file_22                Walking\n",
            "23   file_23                Jumping\n",
            "24   file_24             Lying down\n",
            "25   file_25                Jumping\n",
            "26   file_26                Walking\n",
            "27   file_27                Jumping\n",
            "28   file_28           Forward fall\n",
            "29   file_29                Walking\n",
            "30   file_30                Jumping\n",
            "31   file_31             Lying down\n",
            "32   file_32                Jumping\n",
            "33   file_33                Jumping\n",
            "34   file_34                Running\n"
          ]
        }
      ]
    },
    {
      "cell_type": "markdown",
      "source": [
        "#### Exporting predictions to txt file"
      ],
      "metadata": {
        "id": "LImaoJHxLFiM"
      }
    },
    {
      "cell_type": "code",
      "source": [
        "# Exporting predictions\n",
        "output = []\n",
        "for out in prediction:\n",
        "  output.append(activities[out])\n",
        "output\n",
        "\n",
        "# clean output.txt\n",
        "with open('/content/drive/MyDrive/datos inerciales/output.txt', 'w') as f:\n",
        "    pass\n",
        "\n",
        "# fill output.txt\n",
        "for out in output:\n",
        "  with open('/content/drive/MyDrive/datos inerciales/output.txt', 'a') as f:\n",
        "    f.write(str(out))\n",
        "    f.write(\"\\n\")   "
      ],
      "metadata": {
        "id": "3AAP5e7-IOLH"
      },
      "execution_count": null,
      "outputs": []
    }
  ]
}